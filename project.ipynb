{
 "cells": [
  {
   "cell_type": "markdown",
   "metadata": {},
   "source": [
    "# ADS 509 Team 1 Project - Tesla vs Toyota News Articles\n",
    "### By: Jesse Gutierrez, Roger Qiu, Shailja Somani\n",
    "\n",
    "link: https://newsapi.org/\n",
    "\n",
    "newsapi key: d6995599193044b0a5f954c098da84d6"
   ]
  },
  {
   "cell_type": "markdown",
   "metadata": {},
   "source": [
    "## Part 1. API retrival, pre-processing and EDA"
   ]
  },
  {
   "cell_type": "markdown",
   "metadata": {},
   "source": [
    "### Install and add imports"
   ]
  },
  {
   "cell_type": "code",
   "execution_count": 1,
   "metadata": {},
   "outputs": [
    {
     "name": "stdout",
     "output_type": "stream",
     "text": [
      "Requirement already satisfied: newsapi-python in /Users/roger.qiu/opt/anaconda3/lib/python3.9/site-packages (0.2.7)\n",
      "Requirement already satisfied: requests<3.0.0 in /Users/roger.qiu/opt/anaconda3/lib/python3.9/site-packages (from newsapi-python) (2.28.1)\n",
      "Requirement already satisfied: charset-normalizer<3,>=2 in /Users/roger.qiu/opt/anaconda3/lib/python3.9/site-packages (from requests<3.0.0->newsapi-python) (2.0.4)\n",
      "Requirement already satisfied: certifi>=2017.4.17 in /Users/roger.qiu/opt/anaconda3/lib/python3.9/site-packages (from requests<3.0.0->newsapi-python) (2022.9.24)\n",
      "Requirement already satisfied: idna<4,>=2.5 in /Users/roger.qiu/opt/anaconda3/lib/python3.9/site-packages (from requests<3.0.0->newsapi-python) (3.3)\n",
      "Requirement already satisfied: urllib3<1.27,>=1.21.1 in /Users/roger.qiu/opt/anaconda3/lib/python3.9/site-packages (from requests<3.0.0->newsapi-python) (1.26.11)\n",
      "Note: you may need to restart the kernel to use updated packages.\n"
     ]
    }
   ],
   "source": [
    "pip install newsapi-python"
   ]
  },
  {
   "cell_type": "code",
   "execution_count": 2,
   "metadata": {},
   "outputs": [
    {
     "name": "stderr",
     "output_type": "stream",
     "text": [
      "[nltk_data] Downloading package stopwords to\n",
      "[nltk_data]     /Users/roger.qiu/nltk_data...\n",
      "[nltk_data]   Package stopwords is already up-to-date!\n"
     ]
    }
   ],
   "source": [
    "from newsapi import NewsApiClient\n",
    "import pandas as pd\n",
    "import os\n",
    "import requests\n",
    "import matplotlib.pyplot as plt\n",
    "import regex as re\n",
    "\n",
    "import nltk\n",
    "nltk.download('stopwords')\n",
    "\n",
    "from collections import Counter"
   ]
  },
  {
   "cell_type": "markdown",
   "metadata": {},
   "source": [
    "### Check the newsAPI data source"
   ]
  },
  {
   "cell_type": "code",
   "execution_count": 3,
   "metadata": {},
   "outputs": [
    {
     "data": {
      "text/plain": [
       "<newsapi.newsapi_client.NewsApiClient at 0x7f8657bcc670>"
      ]
     },
     "execution_count": 3,
     "metadata": {},
     "output_type": "execute_result"
    }
   ],
   "source": [
    "# use API key to initialize newsapi client\n",
    "newsapi = NewsApiClient(api_key='d6995599193044b0a5f954c098da84d6')\n",
    "newsapi"
   ]
  },
  {
   "cell_type": "code",
   "execution_count": 5,
   "metadata": {},
   "outputs": [
    {
     "data": {
      "text/plain": [
       "{'status': 'ok',\n",
       " 'totalResults': 2,\n",
       " 'articles': [{'source': {'id': None, 'name': 'BleepingComputer'},\n",
       "   'author': 'Sergiu Gatlan',\n",
       "   'title': 'Rockwell Automation warns admins to take ICS devices offline - BleepingComputer',\n",
       "   'description': 'Rockwell Automation warned customers to disconnect all industrial control systems (ICSs) not designed for online exposure from the Internet due to increasing malicious activity worldwide.',\n",
       "   'url': 'https://www.bleepingcomputer.com/news/security/rockwell-automation-warns-admins-to-take-ics-devices-offline/',\n",
       "   'urlToImage': 'https://www.bleepstatic.com/content/hl-images/2024/05/21/Rockwell.jpg',\n",
       "   'publishedAt': '2024-05-21T17:48:44Z',\n",
       "   'content': 'Rockwell Automation warned customers to disconnect all industrial control systems (ICSs) not designed for online exposure from the Internet due to increasing malicious activity worldwide.\\r\\nNetwork de… [+2415 chars]'},\n",
       "  {'source': {'id': None, 'name': '8News'},\n",
       "   'author': 'Addy Bink',\n",
       "   'title': 'U.S. News and World Report names Virginia city 8th best place to live in U.S. - WRIC ABC 8News',\n",
       "   'description': 'The U.S. is an expansive country, full of widely different cities — from the coastal towns to mountainous neighborhoods, small towns and sprawling metros, your options are nearly overwhelming if you’re looking to relocate.',\n",
       "   'url': 'https://www.wric.com/news/virginia-news/u-s-news-and-world-report-names-virginia-city-8th-best-place-to-live-in-u-s/',\n",
       "   'urlToImage': 'https://www.wric.com/wp-content/uploads/sites/74/2024/05/GettyImages-1160010276-e1716307457723.jpg?w=1280',\n",
       "   'publishedAt': '2024-05-21T16:24:46Z',\n",
       "   'content': '(NEXSTAR) The U.S. is an expansive country, full of widely different cities from the coastal towns to mountainous neighborhoods, small towns and sprawling metros, your options are nearly overwhelming… [+1712 chars]'}]}"
      ]
     },
     "execution_count": 5,
     "metadata": {},
     "output_type": "execute_result"
    }
   ],
   "source": [
    "# check what the top headlines data looks like\n",
    "top_headlines = newsapi.get_top_headlines(q='world',\n",
    "                                          category='business',\n",
    "                                          language='en',\n",
    "                                          country='us')\n",
    "\n",
    "top_headlines                                    "
   ]
  },
  {
   "cell_type": "code",
   "execution_count": 7,
   "metadata": {},
   "outputs": [
    {
     "data": {
      "text/plain": [
       "[{'id': 'abc-news',\n",
       "  'name': 'ABC News',\n",
       "  'description': 'Your trusted source for breaking news, analysis, exclusive interviews, headlines, and videos at ABCNews.com.',\n",
       "  'url': 'https://abcnews.go.com',\n",
       "  'category': 'general',\n",
       "  'language': 'en',\n",
       "  'country': 'us'},\n",
       " {'id': 'abc-news-au',\n",
       "  'name': 'ABC News (AU)',\n",
       "  'description': \"Australia's most trusted source of local, national and world news. Comprehensive, independent, in-depth analysis, the latest business, sport, weather and more.\",\n",
       "  'url': 'https://www.abc.net.au/news',\n",
       "  'category': 'general',\n",
       "  'language': 'en',\n",
       "  'country': 'au'},\n",
       " {'id': 'aftenposten',\n",
       "  'name': 'Aftenposten',\n",
       "  'description': 'Norges ledende nettavis med alltid oppdaterte nyheter innenfor innenriks, utenriks, sport og kultur.',\n",
       "  'url': 'https://www.aftenposten.no',\n",
       "  'category': 'general',\n",
       "  'language': 'no',\n",
       "  'country': 'no'}]"
      ]
     },
     "execution_count": 7,
     "metadata": {},
     "output_type": "execute_result"
    }
   ],
   "source": [
    "# check all the available news sources\n",
    "sources = newsapi.get_sources()\n",
    "\n",
    "# check first 3\n",
    "sources['sources'][:3]"
   ]
  },
  {
   "cell_type": "markdown",
   "metadata": {},
   "source": [
    "### Retrieve and download Toyota and Tesla related articles"
   ]
  },
  {
   "cell_type": "code",
   "execution_count": 9,
   "metadata": {},
   "outputs": [
    {
     "data": {
      "text/plain": [
       "[{'source': {'id': None, 'name': 'The Daily Dot'},\n",
       "  'author': 'Braden Bjella',\n",
       "  'title': '’24 hours later, the thing broke down’: GM worker forced to get a Silverado after being told she would get fired if she bought Toyota 4Runner',\n",
       "  'description': 'A user on TikTok is calling out General Motors after claiming the company sold her a “lemon”—which then proceeded to cause issues in her life for months.\\n\\n\\nGeneral Motors vehicles are already not very popular on the TikTok platform. One TikTok user claimed th…',\n",
       "  'url': 'https://www.dailydot.com/news/gm-worker-forced-to-buy-silverado/',\n",
       "  'urlToImage': 'https://uploads.dailydot.com/2024/04/general-motors-repo.jpg?auto=compress&fm=pjpg',\n",
       "  'publishedAt': '2024-04-26T14:00:00Z',\n",
       "  'content': 'A user on TikTok is calling out General Motors after claiming the company sold her a lemonwhich then proceeded to cause issues in her life for months.\\r\\nGeneral Motors vehicles are already not very po… [+3148 chars]'},\n",
       " {'source': {'id': None, 'name': 'CBS Sports'},\n",
       "  'author': 'Steven Taranto',\n",
       "  'title': 'NASCAR at Darlington qualifying results, starting lineup: Tyler Reddick wins the pole for the Goodyear 400',\n",
       "  'description': 'Reddick wins his first pole of 2024 and the seventh of his Cup career',\n",
       "  'url': 'https://www.cbssports.com/nascar/news/nascar-at-darlington-qualifying-results-starting-lineup-tyler-reddick-wins-the-pole-for-the-goodyear-400/',\n",
       "  'urlToImage': 'https://sportshub.cbsistatic.com/i/r/2024/05/11/c03921db-0767-4cee-8ebf-7ee7f756d0d0/thumbnail/1200x675/36f5f9df6bbf235d07d5096d79d213b9/gettyimages-2152481527.jpg',\n",
       "  'publishedAt': '2024-05-11T17:25:17Z',\n",
       "  'content': 'Tyler Reddick won the pole for the Goodyear 400 at Darlington Raceway in qualifying on Saturday, posting a lap of 28.906 (170.124 MPH) in the final round to earn his first pole of the 2024 season and… [+1639 chars]'},\n",
       " {'source': {'id': None, 'name': 'Bangkok Post'},\n",
       "  'author': None,\n",
       "  'title': \"Supanida in final, Kunlavut's repeat dream ends\",\n",
       "  'description': \"Supanida Katethong will take on Han Yue in the women's singles final of the US$420,000 (approximately 17.4 million baht) BWF Toyota Thailand 2024 at Nimibutr Stadium on Sunday.\",\n",
       "  'url': 'https://www.bangkokpost.com/sports/2795317/supanida-in-final-kunlavuts-repeat-dream-ends',\n",
       "  'urlToImage': 'https://static.bangkokpost.com/media/content/dcx/2024/05/19/5148452_700.jpg',\n",
       "  'publishedAt': '2024-05-18T22:31:00Z',\n",
       "  'content': \"Supanida Katethong will take on Han Yue in the women's singles final of the US$420,000 (approximately 17.4 million baht) BWF Toyota Thailand 2024 at Nimibutr Stadium on Sunday.\\r\\nSixth seed Supanida b… [+1577 chars]\"}]"
      ]
     },
     "execution_count": 9,
     "metadata": {},
     "output_type": "execute_result"
    }
   ],
   "source": [
    "# get toyota news text data\n",
    "toyota_raw = newsapi.get_everything(q='toyota',\n",
    "                                      from_param='2024-04-25',\n",
    "                                      to='2024-05-25',\n",
    "                                      language='en',\n",
    "                                      sort_by='relevancy',\n",
    "                                      page=5)\n",
    "\n",
    "toyota_raw['articles'][:3]"
   ]
  },
  {
   "cell_type": "code",
   "execution_count": null,
   "metadata": {},
   "outputs": [
    {
     "data": {
      "text/html": [
       "<div>\n",
       "<style scoped>\n",
       "    .dataframe tbody tr th:only-of-type {\n",
       "        vertical-align: middle;\n",
       "    }\n",
       "\n",
       "    .dataframe tbody tr th {\n",
       "        vertical-align: top;\n",
       "    }\n",
       "\n",
       "    .dataframe thead th {\n",
       "        text-align: right;\n",
       "    }\n",
       "</style>\n",
       "<table border=\"1\" class=\"dataframe\">\n",
       "  <thead>\n",
       "    <tr style=\"text-align: right;\">\n",
       "      <th></th>\n",
       "      <th>source</th>\n",
       "      <th>author</th>\n",
       "      <th>title</th>\n",
       "      <th>description</th>\n",
       "      <th>url</th>\n",
       "      <th>urlToImage</th>\n",
       "      <th>publishedAt</th>\n",
       "      <th>content</th>\n",
       "    </tr>\n",
       "  </thead>\n",
       "  <tbody>\n",
       "    <tr>\n",
       "      <th>0</th>\n",
       "      <td>{'id': None, 'name': 'The Daily Dot'}</td>\n",
       "      <td>Melody Heald</td>\n",
       "      <td>‘But they want to sell us Nissan’: Nissan work...</td>\n",
       "      <td>Charlotte-based Nissan saleswoman Martina (@ma...</td>\n",
       "      <td>https://www.dailydot.com/news/nissan-workers-d...</td>\n",
       "      <td>https://uploads.dailydot.com/2024/04/nissan-ca...</td>\n",
       "      <td>2024-04-24T14:00:00Z</td>\n",
       "      <td>Charlotte-based Nissan saleswoman Martina (@ma...</td>\n",
       "    </tr>\n",
       "    <tr>\n",
       "      <th>1</th>\n",
       "      <td>{'id': None, 'name': 'The Daily Dot'}</td>\n",
       "      <td>Rachel Kiley</td>\n",
       "      <td>‘Feel sad for Nissan’: Mechanic shares his pic...</td>\n",
       "      <td>Buying a car is a long-term commitment—and an ...</td>\n",
       "      <td>https://www.dailydot.com/news/nissan-money-pit/</td>\n",
       "      <td>https://uploads.dailydot.com/2024/04/nissan-ca...</td>\n",
       "      <td>2024-05-02T04:00:00Z</td>\n",
       "      <td>Buying a car is a long-term commitmentand an i...</td>\n",
       "    </tr>\n",
       "    <tr>\n",
       "      <th>2</th>\n",
       "      <td>{'id': None, 'name': 'Independent.ie'}</td>\n",
       "      <td>Ralph Riegel</td>\n",
       "      <td>‘It's baffling’ – Gardaí appeal for help to so...</td>\n",
       "      <td>Gardaí are to launch a special appeal for info...</td>\n",
       "      <td>https://www.independent.ie/irish-news/its-baff...</td>\n",
       "      <td>https://focus.independent.ie/thumbor/UQaguxNIx...</td>\n",
       "      <td>2024-04-29T01:30:00Z</td>\n",
       "      <td>Gardaí are to launch a special appeal for info...</td>\n",
       "    </tr>\n",
       "    <tr>\n",
       "      <th>3</th>\n",
       "      <td>{'id': None, 'name': 'Bangkok Post'}</td>\n",
       "      <td>Reuters</td>\n",
       "      <td>Car production down 23.1% y/y in March</td>\n",
       "      <td>Car production in Thailand dropped 23.08% in M...</td>\n",
       "      <td>https://www.bangkokpost.com/business/general/2...</td>\n",
       "      <td>https://static.bangkokpost.com/media/content/2...</td>\n",
       "      <td>2024-04-25T04:11:00Z</td>\n",
       "      <td>Car production in Thailand dropped 23.08% in M...</td>\n",
       "    </tr>\n",
       "    <tr>\n",
       "      <th>4</th>\n",
       "      <td>{'id': None, 'name': 'Bangkok Post'}</td>\n",
       "      <td>Online Reporters</td>\n",
       "      <td>500,000 speed pills found hidden under car</td>\n",
       "      <td>A drug courier was arrested after about 500,00...</td>\n",
       "      <td>https://www.bangkokpost.com/thailand/general/2...</td>\n",
       "      <td>https://static.bangkokpost.com/media/content/2...</td>\n",
       "      <td>2024-04-30T13:14:00Z</td>\n",
       "      <td>A drug courier was arrested after about 500,00...</td>\n",
       "    </tr>\n",
       "  </tbody>\n",
       "</table>\n",
       "</div>"
      ],
      "text/plain": [
       "                                   source            author  \\\n",
       "0   {'id': None, 'name': 'The Daily Dot'}      Melody Heald   \n",
       "1   {'id': None, 'name': 'The Daily Dot'}      Rachel Kiley   \n",
       "2  {'id': None, 'name': 'Independent.ie'}      Ralph Riegel   \n",
       "3    {'id': None, 'name': 'Bangkok Post'}           Reuters   \n",
       "4    {'id': None, 'name': 'Bangkok Post'}  Online Reporters   \n",
       "\n",
       "                                               title  \\\n",
       "0  ‘But they want to sell us Nissan’: Nissan work...   \n",
       "1  ‘Feel sad for Nissan’: Mechanic shares his pic...   \n",
       "2  ‘It's baffling’ – Gardaí appeal for help to so...   \n",
       "3             Car production down 23.1% y/y in March   \n",
       "4         500,000 speed pills found hidden under car   \n",
       "\n",
       "                                         description  \\\n",
       "0  Charlotte-based Nissan saleswoman Martina (@ma...   \n",
       "1  Buying a car is a long-term commitment—and an ...   \n",
       "2  Gardaí are to launch a special appeal for info...   \n",
       "3  Car production in Thailand dropped 23.08% in M...   \n",
       "4  A drug courier was arrested after about 500,00...   \n",
       "\n",
       "                                                 url  \\\n",
       "0  https://www.dailydot.com/news/nissan-workers-d...   \n",
       "1    https://www.dailydot.com/news/nissan-money-pit/   \n",
       "2  https://www.independent.ie/irish-news/its-baff...   \n",
       "3  https://www.bangkokpost.com/business/general/2...   \n",
       "4  https://www.bangkokpost.com/thailand/general/2...   \n",
       "\n",
       "                                          urlToImage           publishedAt  \\\n",
       "0  https://uploads.dailydot.com/2024/04/nissan-ca...  2024-04-24T14:00:00Z   \n",
       "1  https://uploads.dailydot.com/2024/04/nissan-ca...  2024-05-02T04:00:00Z   \n",
       "2  https://focus.independent.ie/thumbor/UQaguxNIx...  2024-04-29T01:30:00Z   \n",
       "3  https://static.bangkokpost.com/media/content/2...  2024-04-25T04:11:00Z   \n",
       "4  https://static.bangkokpost.com/media/content/2...  2024-04-30T13:14:00Z   \n",
       "\n",
       "                                             content  \n",
       "0  Charlotte-based Nissan saleswoman Martina (@ma...  \n",
       "1  Buying a car is a long-term commitmentand an i...  \n",
       "2  Gardaí are to launch a special appeal for info...  \n",
       "3  Car production in Thailand dropped 23.08% in M...  \n",
       "4  A drug courier was arrested after about 500,00...  "
      ]
     },
     "metadata": {},
     "output_type": "display_data"
    }
   ],
   "source": [
    "# convert the json into a df\n",
    "df = pd.DataFrame(toyota_raw['articles'])\n",
    "df.head()"
   ]
  },
  {
   "cell_type": "code",
   "execution_count": null,
   "metadata": {},
   "outputs": [],
   "source": [
    "# create a data folder to store the csv data\n",
    "if not os.path.exists('data/toyota'):\n",
    "    os.makedirs('data/toyota')"
   ]
  },
  {
   "cell_type": "code",
   "execution_count": null,
   "metadata": {},
   "outputs": [],
   "source": [
    "# download the toyota text data to data folder\n",
    "df.to_csv('data/toyota/data.csv', index=False)"
   ]
  },
  {
   "cell_type": "code",
   "execution_count": null,
   "metadata": {},
   "outputs": [],
   "source": [
    "# now do the same for tesla articles and text data\n",
    "tesla_raw = newsapi.get_everything(q='tesla',\n",
    "                                      from_param='2024-04-20',\n",
    "                                      to='2024-05-05',\n",
    "                                      language='en',\n",
    "                                      sort_by='relevancy',\n",
    "                                      page=5)\n",
    "\n",
    "df = pd.DataFrame(tesla_raw['articles'])\n",
    "\n",
    "if not os.path.exists('data/tesla'):\n",
    "    os.makedirs('data/tesla')\n",
    "\n",
    "df.to_csv('data/tesla/data.csv', index=False)"
   ]
  },
  {
   "cell_type": "markdown",
   "metadata": {},
   "source": [
    "### read in and intial transformations"
   ]
  },
  {
   "cell_type": "code",
   "execution_count": 9,
   "metadata": {},
   "outputs": [
    {
     "data": {
      "text/html": [
       "<div>\n",
       "<style scoped>\n",
       "    .dataframe tbody tr th:only-of-type {\n",
       "        vertical-align: middle;\n",
       "    }\n",
       "\n",
       "    .dataframe tbody tr th {\n",
       "        vertical-align: top;\n",
       "    }\n",
       "\n",
       "    .dataframe thead th {\n",
       "        text-align: right;\n",
       "    }\n",
       "</style>\n",
       "<table border=\"1\" class=\"dataframe\">\n",
       "  <thead>\n",
       "    <tr style=\"text-align: right;\">\n",
       "      <th></th>\n",
       "      <th>source</th>\n",
       "      <th>author</th>\n",
       "      <th>title</th>\n",
       "      <th>description</th>\n",
       "      <th>url</th>\n",
       "      <th>urlToImage</th>\n",
       "      <th>publishedAt</th>\n",
       "      <th>content</th>\n",
       "    </tr>\n",
       "  </thead>\n",
       "  <tbody>\n",
       "    <tr>\n",
       "      <th>0</th>\n",
       "      <td>{'id': None, 'name': 'CleanTechnica'}</td>\n",
       "      <td>Zachary Shahan</td>\n",
       "      <td>Tesla “Full Self Driving” Could Come To Other ...</td>\n",
       "      <td>Ever since Tesla started rolling out Full Self...</td>\n",
       "      <td>https://cleantechnica.com/2024/04/23/tesla-ful...</td>\n",
       "      <td>https://cleantechnica.com/wp-content/uploads/2...</td>\n",
       "      <td>2024-04-24T03:55:41Z</td>\n",
       "      <td>Sign up for daily news updates from CleanTechn...</td>\n",
       "    </tr>\n",
       "    <tr>\n",
       "      <th>1</th>\n",
       "      <td>{'id': None, 'name': 'CleanTechnica'}</td>\n",
       "      <td>Zachary Shahan</td>\n",
       "      <td>More Than 3× As Many Tesla Model Y Sales As Te...</td>\n",
       "      <td>Tesla’s just had a tough quarter, including in...</td>\n",
       "      <td>https://cleantechnica.com/2024/04/19/more-than...</td>\n",
       "      <td>https://cleantechnica.com/wp-content/uploads/2...</td>\n",
       "      <td>2024-04-20T03:57:24Z</td>\n",
       "      <td>Sign up for daily news updates from CleanTechn...</td>\n",
       "    </tr>\n",
       "    <tr>\n",
       "      <th>2</th>\n",
       "      <td>{'id': None, 'name': 'CleanTechnica'}</td>\n",
       "      <td>Paul Fosse</td>\n",
       "      <td>Tesla Surprises Investors With A Tiny Y &amp; A Ti...</td>\n",
       "      <td>A lot has been written about the Tesla’s next-...</td>\n",
       "      <td>https://cleantechnica.com/2024/04/23/tesla-sur...</td>\n",
       "      <td>https://cleantechnica.com/wp-content/uploads/2...</td>\n",
       "      <td>2024-04-24T01:56:23Z</td>\n",
       "      <td>Sign up for daily news updates from CleanTechn...</td>\n",
       "    </tr>\n",
       "    <tr>\n",
       "      <th>3</th>\n",
       "      <td>{'id': None, 'name': 'CleanTechnica'}</td>\n",
       "      <td>Carolyn Fortuna</td>\n",
       "      <td>The Revisionist Language That Tesla Used In Th...</td>\n",
       "      <td>The Tesla, Inc. Q1 2024 earnings call was fasc...</td>\n",
       "      <td>https://cleantechnica.com/2024/04/26/the-revis...</td>\n",
       "      <td>https://cleantechnica.com/wp-content/uploads/2...</td>\n",
       "      <td>2024-04-26T19:24:10Z</td>\n",
       "      <td>Sign up for daily news updates from CleanTechn...</td>\n",
       "    </tr>\n",
       "    <tr>\n",
       "      <th>4</th>\n",
       "      <td>{'id': 'techcrunch', 'name': 'TechCrunch'}</td>\n",
       "      <td>Paul Sawers</td>\n",
       "      <td>French startup FlexAI exits stealth with $30M ...</td>\n",
       "      <td>A French startup has raised a hefty seed inves...</td>\n",
       "      <td>https://techcrunch.com/2024/04/23/french-start...</td>\n",
       "      <td>https://s.yimg.com/ny/api/res/1.2/V7FcJP2rJb.Y...</td>\n",
       "      <td>2024-04-24T05:37:28Z</td>\n",
       "      <td>A French startup has raised a hefty seed inves...</td>\n",
       "    </tr>\n",
       "  </tbody>\n",
       "</table>\n",
       "</div>"
      ],
      "text/plain": [
       "                                       source           author  \\\n",
       "0       {'id': None, 'name': 'CleanTechnica'}   Zachary Shahan   \n",
       "1       {'id': None, 'name': 'CleanTechnica'}   Zachary Shahan   \n",
       "2       {'id': None, 'name': 'CleanTechnica'}       Paul Fosse   \n",
       "3       {'id': None, 'name': 'CleanTechnica'}  Carolyn Fortuna   \n",
       "4  {'id': 'techcrunch', 'name': 'TechCrunch'}      Paul Sawers   \n",
       "\n",
       "                                               title  \\\n",
       "0  Tesla “Full Self Driving” Could Come To Other ...   \n",
       "1  More Than 3× As Many Tesla Model Y Sales As Te...   \n",
       "2  Tesla Surprises Investors With A Tiny Y & A Ti...   \n",
       "3  The Revisionist Language That Tesla Used In Th...   \n",
       "4  French startup FlexAI exits stealth with $30M ...   \n",
       "\n",
       "                                         description  \\\n",
       "0  Ever since Tesla started rolling out Full Self...   \n",
       "1  Tesla’s just had a tough quarter, including in...   \n",
       "2  A lot has been written about the Tesla’s next-...   \n",
       "3  The Tesla, Inc. Q1 2024 earnings call was fasc...   \n",
       "4  A French startup has raised a hefty seed inves...   \n",
       "\n",
       "                                                 url  \\\n",
       "0  https://cleantechnica.com/2024/04/23/tesla-ful...   \n",
       "1  https://cleantechnica.com/2024/04/19/more-than...   \n",
       "2  https://cleantechnica.com/2024/04/23/tesla-sur...   \n",
       "3  https://cleantechnica.com/2024/04/26/the-revis...   \n",
       "4  https://techcrunch.com/2024/04/23/french-start...   \n",
       "\n",
       "                                          urlToImage           publishedAt  \\\n",
       "0  https://cleantechnica.com/wp-content/uploads/2...  2024-04-24T03:55:41Z   \n",
       "1  https://cleantechnica.com/wp-content/uploads/2...  2024-04-20T03:57:24Z   \n",
       "2  https://cleantechnica.com/wp-content/uploads/2...  2024-04-24T01:56:23Z   \n",
       "3  https://cleantechnica.com/wp-content/uploads/2...  2024-04-26T19:24:10Z   \n",
       "4  https://s.yimg.com/ny/api/res/1.2/V7FcJP2rJb.Y...  2024-04-24T05:37:28Z   \n",
       "\n",
       "                                             content  \n",
       "0  Sign up for daily news updates from CleanTechn...  \n",
       "1  Sign up for daily news updates from CleanTechn...  \n",
       "2  Sign up for daily news updates from CleanTechn...  \n",
       "3  Sign up for daily news updates from CleanTechn...  \n",
       "4  A French startup has raised a hefty seed inves...  "
      ]
     },
     "execution_count": 9,
     "metadata": {},
     "output_type": "execute_result"
    }
   ],
   "source": [
    "# read in the data\n",
    "raw_tesla = pd.read_csv('data/tesla/data.csv')\n",
    "raw_tesla.head()"
   ]
  },
  {
   "cell_type": "code",
   "execution_count": 12,
   "metadata": {},
   "outputs": [
    {
     "data": {
      "text/plain": [
       "(100, 8)"
      ]
     },
     "execution_count": 12,
     "metadata": {},
     "output_type": "execute_result"
    }
   ],
   "source": [
    "# 100 records with 8 fields\n",
    "raw_tesla.shape"
   ]
  },
  {
   "cell_type": "code",
   "execution_count": 19,
   "metadata": {},
   "outputs": [
    {
     "data": {
      "text/html": [
       "<div>\n",
       "<style scoped>\n",
       "    .dataframe tbody tr th:only-of-type {\n",
       "        vertical-align: middle;\n",
       "    }\n",
       "\n",
       "    .dataframe tbody tr th {\n",
       "        vertical-align: top;\n",
       "    }\n",
       "\n",
       "    .dataframe thead th {\n",
       "        text-align: right;\n",
       "    }\n",
       "</style>\n",
       "<table border=\"1\" class=\"dataframe\">\n",
       "  <thead>\n",
       "    <tr style=\"text-align: right;\">\n",
       "      <th></th>\n",
       "      <th>source</th>\n",
       "      <th>author</th>\n",
       "      <th>title</th>\n",
       "      <th>description</th>\n",
       "      <th>url</th>\n",
       "      <th>urlToImage</th>\n",
       "      <th>publishedAt</th>\n",
       "      <th>content</th>\n",
       "    </tr>\n",
       "  </thead>\n",
       "  <tbody>\n",
       "    <tr>\n",
       "      <th>0</th>\n",
       "      <td>{'id': None, 'name': 'The Daily Dot'}</td>\n",
       "      <td>Melody Heald</td>\n",
       "      <td>‘But they want to sell us Nissan’: Nissan work...</td>\n",
       "      <td>Charlotte-based Nissan saleswoman Martina (@ma...</td>\n",
       "      <td>https://www.dailydot.com/news/nissan-workers-d...</td>\n",
       "      <td>https://uploads.dailydot.com/2024/04/nissan-ca...</td>\n",
       "      <td>2024-04-24T14:00:00Z</td>\n",
       "      <td>Charlotte-based Nissan saleswoman Martina (@ma...</td>\n",
       "    </tr>\n",
       "    <tr>\n",
       "      <th>1</th>\n",
       "      <td>{'id': None, 'name': 'The Daily Dot'}</td>\n",
       "      <td>Rachel Kiley</td>\n",
       "      <td>‘Feel sad for Nissan’: Mechanic shares his pic...</td>\n",
       "      <td>Buying a car is a long-term commitment—and an ...</td>\n",
       "      <td>https://www.dailydot.com/news/nissan-money-pit/</td>\n",
       "      <td>https://uploads.dailydot.com/2024/04/nissan-ca...</td>\n",
       "      <td>2024-05-02T04:00:00Z</td>\n",
       "      <td>Buying a car is a long-term commitmentand an i...</td>\n",
       "    </tr>\n",
       "    <tr>\n",
       "      <th>2</th>\n",
       "      <td>{'id': None, 'name': 'Independent.ie'}</td>\n",
       "      <td>Ralph Riegel</td>\n",
       "      <td>‘It's baffling’ – Gardaí appeal for help to so...</td>\n",
       "      <td>Gardaí are to launch a special appeal for info...</td>\n",
       "      <td>https://www.independent.ie/irish-news/its-baff...</td>\n",
       "      <td>https://focus.independent.ie/thumbor/UQaguxNIx...</td>\n",
       "      <td>2024-04-29T01:30:00Z</td>\n",
       "      <td>Gardaí are to launch a special appeal for info...</td>\n",
       "    </tr>\n",
       "    <tr>\n",
       "      <th>3</th>\n",
       "      <td>{'id': None, 'name': 'Bangkok Post'}</td>\n",
       "      <td>Reuters</td>\n",
       "      <td>Car production down 23.1% y/y in March</td>\n",
       "      <td>Car production in Thailand dropped 23.08% in M...</td>\n",
       "      <td>https://www.bangkokpost.com/business/general/2...</td>\n",
       "      <td>https://static.bangkokpost.com/media/content/2...</td>\n",
       "      <td>2024-04-25T04:11:00Z</td>\n",
       "      <td>Car production in Thailand dropped 23.08% in M...</td>\n",
       "    </tr>\n",
       "    <tr>\n",
       "      <th>4</th>\n",
       "      <td>{'id': None, 'name': 'Bangkok Post'}</td>\n",
       "      <td>Online Reporters</td>\n",
       "      <td>500,000 speed pills found hidden under car</td>\n",
       "      <td>A drug courier was arrested after about 500,00...</td>\n",
       "      <td>https://www.bangkokpost.com/thailand/general/2...</td>\n",
       "      <td>https://static.bangkokpost.com/media/content/2...</td>\n",
       "      <td>2024-04-30T13:14:00Z</td>\n",
       "      <td>A drug courier was arrested after about 500,00...</td>\n",
       "    </tr>\n",
       "  </tbody>\n",
       "</table>\n",
       "</div>"
      ],
      "text/plain": [
       "                                   source            author  \\\n",
       "0   {'id': None, 'name': 'The Daily Dot'}      Melody Heald   \n",
       "1   {'id': None, 'name': 'The Daily Dot'}      Rachel Kiley   \n",
       "2  {'id': None, 'name': 'Independent.ie'}      Ralph Riegel   \n",
       "3    {'id': None, 'name': 'Bangkok Post'}           Reuters   \n",
       "4    {'id': None, 'name': 'Bangkok Post'}  Online Reporters   \n",
       "\n",
       "                                               title  \\\n",
       "0  ‘But they want to sell us Nissan’: Nissan work...   \n",
       "1  ‘Feel sad for Nissan’: Mechanic shares his pic...   \n",
       "2  ‘It's baffling’ – Gardaí appeal for help to so...   \n",
       "3             Car production down 23.1% y/y in March   \n",
       "4         500,000 speed pills found hidden under car   \n",
       "\n",
       "                                         description  \\\n",
       "0  Charlotte-based Nissan saleswoman Martina (@ma...   \n",
       "1  Buying a car is a long-term commitment—and an ...   \n",
       "2  Gardaí are to launch a special appeal for info...   \n",
       "3  Car production in Thailand dropped 23.08% in M...   \n",
       "4  A drug courier was arrested after about 500,00...   \n",
       "\n",
       "                                                 url  \\\n",
       "0  https://www.dailydot.com/news/nissan-workers-d...   \n",
       "1    https://www.dailydot.com/news/nissan-money-pit/   \n",
       "2  https://www.independent.ie/irish-news/its-baff...   \n",
       "3  https://www.bangkokpost.com/business/general/2...   \n",
       "4  https://www.bangkokpost.com/thailand/general/2...   \n",
       "\n",
       "                                          urlToImage           publishedAt  \\\n",
       "0  https://uploads.dailydot.com/2024/04/nissan-ca...  2024-04-24T14:00:00Z   \n",
       "1  https://uploads.dailydot.com/2024/04/nissan-ca...  2024-05-02T04:00:00Z   \n",
       "2  https://focus.independent.ie/thumbor/UQaguxNIx...  2024-04-29T01:30:00Z   \n",
       "3  https://static.bangkokpost.com/media/content/2...  2024-04-25T04:11:00Z   \n",
       "4  https://static.bangkokpost.com/media/content/2...  2024-04-30T13:14:00Z   \n",
       "\n",
       "                                             content  \n",
       "0  Charlotte-based Nissan saleswoman Martina (@ma...  \n",
       "1  Buying a car is a long-term commitmentand an i...  \n",
       "2  Gardaí are to launch a special appeal for info...  \n",
       "3  Car production in Thailand dropped 23.08% in M...  \n",
       "4  A drug courier was arrested after about 500,00...  "
      ]
     },
     "execution_count": 19,
     "metadata": {},
     "output_type": "execute_result"
    }
   ],
   "source": [
    "# read the CSV file again\n",
    "raw_toyota = pd.read_csv('data/toyota/data.csv')\n",
    "raw_toyota.head()"
   ]
  },
  {
   "cell_type": "code",
   "execution_count": 20,
   "metadata": {},
   "outputs": [
    {
     "data": {
      "text/plain": [
       "(100, 8)"
      ]
     },
     "execution_count": 20,
     "metadata": {},
     "output_type": "execute_result"
    }
   ],
   "source": [
    "# also 100 records and 8 fields\n",
    "raw_toyota.shape"
   ]
  },
  {
   "cell_type": "code",
   "execution_count": 24,
   "metadata": {},
   "outputs": [
    {
     "data": {
      "text/plain": [
       "'Tesla “Full Self Driving” Could Come To Other Countries Before Long'"
      ]
     },
     "execution_count": 24,
     "metadata": {},
     "output_type": "execute_result"
    }
   ],
   "source": [
    "# check how the title looks\n",
    "raw_tesla['title'][0]"
   ]
  },
  {
   "cell_type": "code",
   "execution_count": 25,
   "metadata": {},
   "outputs": [
    {
     "data": {
      "text/plain": [
       "'Sign up for daily news updates from CleanTechnica on email. Or follow us on Google News!\\r\\nEver since Tesla started rolling out Full Self Driving (FSD) to non-employee Tesla owners in the US, people i… [+3965 chars]'"
      ]
     },
     "execution_count": 25,
     "metadata": {},
     "output_type": "execute_result"
    }
   ],
   "source": [
    "# check how content looks\n",
    "raw_tesla['content'][0]"
   ]
  },
  {
   "cell_type": "code",
   "execution_count": 26,
   "metadata": {},
   "outputs": [
    {
     "data": {
      "text/plain": [
       "'Ever since Tesla started rolling out Full Self Driving (FSD) to non-employee Tesla owners in the US, people in other countries have been asking when they’ll be able to install and use FSD. As far as I remember, it’s always been a vague “someday…” kind of resp…'"
      ]
     },
     "execution_count": 26,
     "metadata": {},
     "output_type": "execute_result"
    }
   ],
   "source": [
    "# check how the description looks\n",
    "raw_tesla['description'][0]\n",
    "\n",
    "# descriptions gives more information than content field.\n",
    "# so title and description are the 2 fields we can use to combine into a new \"text\" field."
   ]
  },
  {
   "cell_type": "code",
   "execution_count": 28,
   "metadata": {},
   "outputs": [
    {
     "data": {
      "text/html": [
       "<div>\n",
       "<style scoped>\n",
       "    .dataframe tbody tr th:only-of-type {\n",
       "        vertical-align: middle;\n",
       "    }\n",
       "\n",
       "    .dataframe tbody tr th {\n",
       "        vertical-align: top;\n",
       "    }\n",
       "\n",
       "    .dataframe thead th {\n",
       "        text-align: right;\n",
       "    }\n",
       "</style>\n",
       "<table border=\"1\" class=\"dataframe\">\n",
       "  <thead>\n",
       "    <tr style=\"text-align: right;\">\n",
       "      <th></th>\n",
       "      <th>source</th>\n",
       "      <th>author</th>\n",
       "      <th>title</th>\n",
       "      <th>description</th>\n",
       "      <th>url</th>\n",
       "      <th>urlToImage</th>\n",
       "      <th>publishedAt</th>\n",
       "      <th>content</th>\n",
       "      <th>label</th>\n",
       "    </tr>\n",
       "  </thead>\n",
       "  <tbody>\n",
       "    <tr>\n",
       "      <th>0</th>\n",
       "      <td>{'id': None, 'name': 'CleanTechnica'}</td>\n",
       "      <td>Zachary Shahan</td>\n",
       "      <td>Tesla “Full Self Driving” Could Come To Other ...</td>\n",
       "      <td>Ever since Tesla started rolling out Full Self...</td>\n",
       "      <td>https://cleantechnica.com/2024/04/23/tesla-ful...</td>\n",
       "      <td>https://cleantechnica.com/wp-content/uploads/2...</td>\n",
       "      <td>2024-04-24T03:55:41Z</td>\n",
       "      <td>Sign up for daily news updates from CleanTechn...</td>\n",
       "      <td>tesla</td>\n",
       "    </tr>\n",
       "    <tr>\n",
       "      <th>1</th>\n",
       "      <td>{'id': None, 'name': 'CleanTechnica'}</td>\n",
       "      <td>Zachary Shahan</td>\n",
       "      <td>More Than 3× As Many Tesla Model Y Sales As Te...</td>\n",
       "      <td>Tesla’s just had a tough quarter, including in...</td>\n",
       "      <td>https://cleantechnica.com/2024/04/19/more-than...</td>\n",
       "      <td>https://cleantechnica.com/wp-content/uploads/2...</td>\n",
       "      <td>2024-04-20T03:57:24Z</td>\n",
       "      <td>Sign up for daily news updates from CleanTechn...</td>\n",
       "      <td>tesla</td>\n",
       "    </tr>\n",
       "    <tr>\n",
       "      <th>2</th>\n",
       "      <td>{'id': None, 'name': 'CleanTechnica'}</td>\n",
       "      <td>Paul Fosse</td>\n",
       "      <td>Tesla Surprises Investors With A Tiny Y &amp; A Ti...</td>\n",
       "      <td>A lot has been written about the Tesla’s next-...</td>\n",
       "      <td>https://cleantechnica.com/2024/04/23/tesla-sur...</td>\n",
       "      <td>https://cleantechnica.com/wp-content/uploads/2...</td>\n",
       "      <td>2024-04-24T01:56:23Z</td>\n",
       "      <td>Sign up for daily news updates from CleanTechn...</td>\n",
       "      <td>tesla</td>\n",
       "    </tr>\n",
       "    <tr>\n",
       "      <th>3</th>\n",
       "      <td>{'id': None, 'name': 'CleanTechnica'}</td>\n",
       "      <td>Carolyn Fortuna</td>\n",
       "      <td>The Revisionist Language That Tesla Used In Th...</td>\n",
       "      <td>The Tesla, Inc. Q1 2024 earnings call was fasc...</td>\n",
       "      <td>https://cleantechnica.com/2024/04/26/the-revis...</td>\n",
       "      <td>https://cleantechnica.com/wp-content/uploads/2...</td>\n",
       "      <td>2024-04-26T19:24:10Z</td>\n",
       "      <td>Sign up for daily news updates from CleanTechn...</td>\n",
       "      <td>tesla</td>\n",
       "    </tr>\n",
       "    <tr>\n",
       "      <th>4</th>\n",
       "      <td>{'id': 'techcrunch', 'name': 'TechCrunch'}</td>\n",
       "      <td>Paul Sawers</td>\n",
       "      <td>French startup FlexAI exits stealth with $30M ...</td>\n",
       "      <td>A French startup has raised a hefty seed inves...</td>\n",
       "      <td>https://techcrunch.com/2024/04/23/french-start...</td>\n",
       "      <td>https://s.yimg.com/ny/api/res/1.2/V7FcJP2rJb.Y...</td>\n",
       "      <td>2024-04-24T05:37:28Z</td>\n",
       "      <td>A French startup has raised a hefty seed inves...</td>\n",
       "      <td>tesla</td>\n",
       "    </tr>\n",
       "  </tbody>\n",
       "</table>\n",
       "</div>"
      ],
      "text/plain": [
       "                                       source           author  \\\n",
       "0       {'id': None, 'name': 'CleanTechnica'}   Zachary Shahan   \n",
       "1       {'id': None, 'name': 'CleanTechnica'}   Zachary Shahan   \n",
       "2       {'id': None, 'name': 'CleanTechnica'}       Paul Fosse   \n",
       "3       {'id': None, 'name': 'CleanTechnica'}  Carolyn Fortuna   \n",
       "4  {'id': 'techcrunch', 'name': 'TechCrunch'}      Paul Sawers   \n",
       "\n",
       "                                               title  \\\n",
       "0  Tesla “Full Self Driving” Could Come To Other ...   \n",
       "1  More Than 3× As Many Tesla Model Y Sales As Te...   \n",
       "2  Tesla Surprises Investors With A Tiny Y & A Ti...   \n",
       "3  The Revisionist Language That Tesla Used In Th...   \n",
       "4  French startup FlexAI exits stealth with $30M ...   \n",
       "\n",
       "                                         description  \\\n",
       "0  Ever since Tesla started rolling out Full Self...   \n",
       "1  Tesla’s just had a tough quarter, including in...   \n",
       "2  A lot has been written about the Tesla’s next-...   \n",
       "3  The Tesla, Inc. Q1 2024 earnings call was fasc...   \n",
       "4  A French startup has raised a hefty seed inves...   \n",
       "\n",
       "                                                 url  \\\n",
       "0  https://cleantechnica.com/2024/04/23/tesla-ful...   \n",
       "1  https://cleantechnica.com/2024/04/19/more-than...   \n",
       "2  https://cleantechnica.com/2024/04/23/tesla-sur...   \n",
       "3  https://cleantechnica.com/2024/04/26/the-revis...   \n",
       "4  https://techcrunch.com/2024/04/23/french-start...   \n",
       "\n",
       "                                          urlToImage           publishedAt  \\\n",
       "0  https://cleantechnica.com/wp-content/uploads/2...  2024-04-24T03:55:41Z   \n",
       "1  https://cleantechnica.com/wp-content/uploads/2...  2024-04-20T03:57:24Z   \n",
       "2  https://cleantechnica.com/wp-content/uploads/2...  2024-04-24T01:56:23Z   \n",
       "3  https://cleantechnica.com/wp-content/uploads/2...  2024-04-26T19:24:10Z   \n",
       "4  https://s.yimg.com/ny/api/res/1.2/V7FcJP2rJb.Y...  2024-04-24T05:37:28Z   \n",
       "\n",
       "                                             content  label  \n",
       "0  Sign up for daily news updates from CleanTechn...  tesla  \n",
       "1  Sign up for daily news updates from CleanTechn...  tesla  \n",
       "2  Sign up for daily news updates from CleanTechn...  tesla  \n",
       "3  Sign up for daily news updates from CleanTechn...  tesla  \n",
       "4  A French startup has raised a hefty seed inves...  tesla  "
      ]
     },
     "execution_count": 28,
     "metadata": {},
     "output_type": "execute_result"
    }
   ],
   "source": [
    "# label both df's and then union into 1 df with 200 records\n",
    "raw_tesla['label'] = 'tesla'\n",
    "raw_toyota['label'] = 'toyota'\n",
    "\n",
    "raw_tesla.head()"
   ]
  },
  {
   "cell_type": "code",
   "execution_count": 60,
   "metadata": {},
   "outputs": [
    {
     "data": {
      "text/plain": [
       "(200, 9)"
      ]
     },
     "execution_count": 60,
     "metadata": {},
     "output_type": "execute_result"
    }
   ],
   "source": [
    "# union\n",
    "combined = pd.concat([raw_tesla, raw_toyota], axis=0, ignore_index=True)\n",
    "combined.shape"
   ]
  },
  {
   "cell_type": "code",
   "execution_count": 61,
   "metadata": {},
   "outputs": [
    {
     "data": {
      "text/plain": [
       "'Tesla “Full Self Driving” Could Come To Other Countries Before Long Ever since Tesla started rolling out Full Self Driving (FSD) to non-employee Tesla owners in the US, people in other countries have been asking when they’ll be able to install and use FSD. As far as I remember, it’s always been a vague “someday…” kind of resp…'"
      ]
     },
     "execution_count": 61,
     "metadata": {},
     "output_type": "execute_result"
    }
   ],
   "source": [
    "# concat title with description to create text field\n",
    "combined['text'] = combined['title'] + ' ' + combined['description']\n",
    "combined['text'][0]"
   ]
  },
  {
   "cell_type": "code",
   "execution_count": 62,
   "metadata": {},
   "outputs": [
    {
     "data": {
      "text/plain": [
       "'Hyundai Motor India reports marginal growth in its April sales; Toyota grows 32%; MG Motor declines Hyundai Motor India achieves fourth consecutive month of 50,000-plus units in domestic sales during calendar year 2024'"
      ]
     },
     "execution_count": 62,
     "metadata": {},
     "output_type": "execute_result"
    }
   ],
   "source": [
    "# check another example\n",
    "combined['text'][105]"
   ]
  },
  {
   "cell_type": "code",
   "execution_count": 63,
   "metadata": {},
   "outputs": [
    {
     "data": {
      "text/html": [
       "<div>\n",
       "<style scoped>\n",
       "    .dataframe tbody tr th:only-of-type {\n",
       "        vertical-align: middle;\n",
       "    }\n",
       "\n",
       "    .dataframe tbody tr th {\n",
       "        vertical-align: top;\n",
       "    }\n",
       "\n",
       "    .dataframe thead th {\n",
       "        text-align: right;\n",
       "    }\n",
       "</style>\n",
       "<table border=\"1\" class=\"dataframe\">\n",
       "  <thead>\n",
       "    <tr style=\"text-align: right;\">\n",
       "      <th></th>\n",
       "      <th>source</th>\n",
       "      <th>author</th>\n",
       "      <th>title</th>\n",
       "      <th>description</th>\n",
       "      <th>url</th>\n",
       "      <th>urlToImage</th>\n",
       "      <th>publishedAt</th>\n",
       "      <th>content</th>\n",
       "      <th>label</th>\n",
       "      <th>text</th>\n",
       "      <th>length</th>\n",
       "    </tr>\n",
       "  </thead>\n",
       "  <tbody>\n",
       "    <tr>\n",
       "      <th>0</th>\n",
       "      <td>{'id': None, 'name': 'CleanTechnica'}</td>\n",
       "      <td>Zachary Shahan</td>\n",
       "      <td>Tesla “Full Self Driving” Could Come To Other ...</td>\n",
       "      <td>Ever since Tesla started rolling out Full Self...</td>\n",
       "      <td>https://cleantechnica.com/2024/04/23/tesla-ful...</td>\n",
       "      <td>https://cleantechnica.com/wp-content/uploads/2...</td>\n",
       "      <td>2024-04-24T03:55:41Z</td>\n",
       "      <td>Sign up for daily news updates from CleanTechn...</td>\n",
       "      <td>tesla</td>\n",
       "      <td>Tesla “Full Self Driving” Could Come To Other ...</td>\n",
       "      <td>328.0</td>\n",
       "    </tr>\n",
       "    <tr>\n",
       "      <th>1</th>\n",
       "      <td>{'id': None, 'name': 'CleanTechnica'}</td>\n",
       "      <td>Zachary Shahan</td>\n",
       "      <td>More Than 3× As Many Tesla Model Y Sales As Te...</td>\n",
       "      <td>Tesla’s just had a tough quarter, including in...</td>\n",
       "      <td>https://cleantechnica.com/2024/04/19/more-than...</td>\n",
       "      <td>https://cleantechnica.com/wp-content/uploads/2...</td>\n",
       "      <td>2024-04-20T03:57:24Z</td>\n",
       "      <td>Sign up for daily news updates from CleanTechn...</td>\n",
       "      <td>tesla</td>\n",
       "      <td>More Than 3× As Many Tesla Model Y Sales As Te...</td>\n",
       "      <td>346.0</td>\n",
       "    </tr>\n",
       "    <tr>\n",
       "      <th>2</th>\n",
       "      <td>{'id': None, 'name': 'CleanTechnica'}</td>\n",
       "      <td>Paul Fosse</td>\n",
       "      <td>Tesla Surprises Investors With A Tiny Y &amp; A Ti...</td>\n",
       "      <td>A lot has been written about the Tesla’s next-...</td>\n",
       "      <td>https://cleantechnica.com/2024/04/23/tesla-sur...</td>\n",
       "      <td>https://cleantechnica.com/wp-content/uploads/2...</td>\n",
       "      <td>2024-04-24T01:56:23Z</td>\n",
       "      <td>Sign up for daily news updates from CleanTechn...</td>\n",
       "      <td>tesla</td>\n",
       "      <td>Tesla Surprises Investors With A Tiny Y &amp; A Ti...</td>\n",
       "      <td>333.0</td>\n",
       "    </tr>\n",
       "    <tr>\n",
       "      <th>3</th>\n",
       "      <td>{'id': None, 'name': 'CleanTechnica'}</td>\n",
       "      <td>Carolyn Fortuna</td>\n",
       "      <td>The Revisionist Language That Tesla Used In Th...</td>\n",
       "      <td>The Tesla, Inc. Q1 2024 earnings call was fasc...</td>\n",
       "      <td>https://cleantechnica.com/2024/04/26/the-revis...</td>\n",
       "      <td>https://cleantechnica.com/wp-content/uploads/2...</td>\n",
       "      <td>2024-04-26T19:24:10Z</td>\n",
       "      <td>Sign up for daily news updates from CleanTechn...</td>\n",
       "      <td>tesla</td>\n",
       "      <td>The Revisionist Language That Tesla Used In Th...</td>\n",
       "      <td>330.0</td>\n",
       "    </tr>\n",
       "    <tr>\n",
       "      <th>4</th>\n",
       "      <td>{'id': 'techcrunch', 'name': 'TechCrunch'}</td>\n",
       "      <td>Paul Sawers</td>\n",
       "      <td>French startup FlexAI exits stealth with $30M ...</td>\n",
       "      <td>A French startup has raised a hefty seed inves...</td>\n",
       "      <td>https://techcrunch.com/2024/04/23/french-start...</td>\n",
       "      <td>https://s.yimg.com/ny/api/res/1.2/V7FcJP2rJb.Y...</td>\n",
       "      <td>2024-04-24T05:37:28Z</td>\n",
       "      <td>A French startup has raised a hefty seed inves...</td>\n",
       "      <td>tesla</td>\n",
       "      <td>French startup FlexAI exits stealth with $30M ...</td>\n",
       "      <td>232.0</td>\n",
       "    </tr>\n",
       "  </tbody>\n",
       "</table>\n",
       "</div>"
      ],
      "text/plain": [
       "                                       source           author  \\\n",
       "0       {'id': None, 'name': 'CleanTechnica'}   Zachary Shahan   \n",
       "1       {'id': None, 'name': 'CleanTechnica'}   Zachary Shahan   \n",
       "2       {'id': None, 'name': 'CleanTechnica'}       Paul Fosse   \n",
       "3       {'id': None, 'name': 'CleanTechnica'}  Carolyn Fortuna   \n",
       "4  {'id': 'techcrunch', 'name': 'TechCrunch'}      Paul Sawers   \n",
       "\n",
       "                                               title  \\\n",
       "0  Tesla “Full Self Driving” Could Come To Other ...   \n",
       "1  More Than 3× As Many Tesla Model Y Sales As Te...   \n",
       "2  Tesla Surprises Investors With A Tiny Y & A Ti...   \n",
       "3  The Revisionist Language That Tesla Used In Th...   \n",
       "4  French startup FlexAI exits stealth with $30M ...   \n",
       "\n",
       "                                         description  \\\n",
       "0  Ever since Tesla started rolling out Full Self...   \n",
       "1  Tesla’s just had a tough quarter, including in...   \n",
       "2  A lot has been written about the Tesla’s next-...   \n",
       "3  The Tesla, Inc. Q1 2024 earnings call was fasc...   \n",
       "4  A French startup has raised a hefty seed inves...   \n",
       "\n",
       "                                                 url  \\\n",
       "0  https://cleantechnica.com/2024/04/23/tesla-ful...   \n",
       "1  https://cleantechnica.com/2024/04/19/more-than...   \n",
       "2  https://cleantechnica.com/2024/04/23/tesla-sur...   \n",
       "3  https://cleantechnica.com/2024/04/26/the-revis...   \n",
       "4  https://techcrunch.com/2024/04/23/french-start...   \n",
       "\n",
       "                                          urlToImage           publishedAt  \\\n",
       "0  https://cleantechnica.com/wp-content/uploads/2...  2024-04-24T03:55:41Z   \n",
       "1  https://cleantechnica.com/wp-content/uploads/2...  2024-04-20T03:57:24Z   \n",
       "2  https://cleantechnica.com/wp-content/uploads/2...  2024-04-24T01:56:23Z   \n",
       "3  https://cleantechnica.com/wp-content/uploads/2...  2024-04-26T19:24:10Z   \n",
       "4  https://s.yimg.com/ny/api/res/1.2/V7FcJP2rJb.Y...  2024-04-24T05:37:28Z   \n",
       "\n",
       "                                             content  label  \\\n",
       "0  Sign up for daily news updates from CleanTechn...  tesla   \n",
       "1  Sign up for daily news updates from CleanTechn...  tesla   \n",
       "2  Sign up for daily news updates from CleanTechn...  tesla   \n",
       "3  Sign up for daily news updates from CleanTechn...  tesla   \n",
       "4  A French startup has raised a hefty seed inves...  tesla   \n",
       "\n",
       "                                                text  length  \n",
       "0  Tesla “Full Self Driving” Could Come To Other ...   328.0  \n",
       "1  More Than 3× As Many Tesla Model Y Sales As Te...   346.0  \n",
       "2  Tesla Surprises Investors With A Tiny Y & A Ti...   333.0  \n",
       "3  The Revisionist Language That Tesla Used In Th...   330.0  \n",
       "4  French startup FlexAI exits stealth with $30M ...   232.0  "
      ]
     },
     "execution_count": 63,
     "metadata": {},
     "output_type": "execute_result"
    }
   ],
   "source": [
    "# add a length field to check text lengths\n",
    "combined['length'] = combined['text'].str.len()\n",
    "combined.head()"
   ]
  },
  {
   "cell_type": "markdown",
   "metadata": {},
   "source": [
    "### "
   ]
  },
  {
   "cell_type": "code",
   "execution_count": 64,
   "metadata": {},
   "outputs": [
    {
     "data": {
      "text/plain": [
       "<Figure size 800x600 with 0 Axes>"
      ]
     },
     "metadata": {},
     "output_type": "display_data"
    },
    {
     "data": {
      "image/png": "[encoded data removed]",
      "text/plain": [
       "<Figure size 640x480 with 1 Axes>"
      ]
     },
     "metadata": {},
     "output_type": "display_data"
    }
   ],
   "source": [
    "# crete boxplot to see distribution of counts by label\n",
    "plt.figure(figsize=(8, 6))\n",
    "combined.boxplot(column='length', by='label', vert=False)\n",
    "plt.xlabel('Character count')\n",
    "plt.ylabel('Label')\n",
    "plt.tight_layout()\n",
    "plt.show()"
   ]
  },
  {
   "cell_type": "markdown",
   "metadata": {},
   "source": [
    "### clean and process text"
   ]
  },
  {
   "cell_type": "code",
   "execution_count": 65,
   "metadata": {},
   "outputs": [],
   "source": [
    "# define function to tokenize text\n",
    "def tokenize(text):\n",
    "  return re.findall(r'[\\w-]*\\p{L}[\\w-]*', text)"
   ]
  },
  {
   "cell_type": "code",
   "execution_count": 66,
   "metadata": {},
   "outputs": [
    {
     "data": {
      "text/plain": [
       "[\"should've\", 'mightn', \"needn't\", 'doing', 'through']"
      ]
     },
     "execution_count": 66,
     "metadata": {},
     "output_type": "execute_result"
    }
   ],
   "source": [
    "# check stopwords\n",
    "stopwords = set(nltk.corpus.stopwords.words('english'))\n",
    "list(stopwords)[:5]"
   ]
  },
  {
   "cell_type": "code",
   "execution_count": 67,
   "metadata": {},
   "outputs": [],
   "source": [
    "# add tesla and toyota as stopwords, we do not want to see these words in the features\n",
    "include_stopwords = {'tesla', 'toyota'}\n",
    "stopwords |= include_stopwords"
   ]
  },
  {
   "cell_type": "code",
   "execution_count": 68,
   "metadata": {},
   "outputs": [],
   "source": [
    "# define function to remove stopwords\n",
    "def remove_stop(tokens):\n",
    "  return [t for t in tokens if t.lower() not in stopwords]"
   ]
  },
  {
   "cell_type": "code",
   "execution_count": 69,
   "metadata": {},
   "outputs": [],
   "source": [
    "# create pipeline to lowercase, tokenize and remove stop words\n",
    "pipeline = [str.lower, tokenize, remove_stop]\n",
    "\n",
    "# define function to feed text data through the pipeline and return cleaned tokens\n",
    "def prepare(text, pipeline):\n",
    "\n",
    "  # convert text to string if it's not already a string (for float types)\n",
    "  text = str(text)\n",
    "\n",
    "  tokens = text\n",
    "  for transform in pipeline:\n",
    "    tokens = transform(tokens)\n",
    "  return tokens"
   ]
  },
  {
   "cell_type": "code",
   "execution_count": 70,
   "metadata": {},
   "outputs": [
    {
     "data": {
      "text/html": [
       "<div>\n",
       "<style scoped>\n",
       "    .dataframe tbody tr th:only-of-type {\n",
       "        vertical-align: middle;\n",
       "    }\n",
       "\n",
       "    .dataframe tbody tr th {\n",
       "        vertical-align: top;\n",
       "    }\n",
       "\n",
       "    .dataframe thead th {\n",
       "        text-align: right;\n",
       "    }\n",
       "</style>\n",
       "<table border=\"1\" class=\"dataframe\">\n",
       "  <thead>\n",
       "    <tr style=\"text-align: right;\">\n",
       "      <th></th>\n",
       "      <th>source</th>\n",
       "      <th>author</th>\n",
       "      <th>title</th>\n",
       "      <th>description</th>\n",
       "      <th>url</th>\n",
       "      <th>urlToImage</th>\n",
       "      <th>publishedAt</th>\n",
       "      <th>content</th>\n",
       "      <th>label</th>\n",
       "      <th>text</th>\n",
       "      <th>length</th>\n",
       "      <th>tokens</th>\n",
       "    </tr>\n",
       "  </thead>\n",
       "  <tbody>\n",
       "    <tr>\n",
       "      <th>0</th>\n",
       "      <td>{'id': None, 'name': 'CleanTechnica'}</td>\n",
       "      <td>Zachary Shahan</td>\n",
       "      <td>Tesla “Full Self Driving” Could Come To Other ...</td>\n",
       "      <td>Ever since Tesla started rolling out Full Self...</td>\n",
       "      <td>https://cleantechnica.com/2024/04/23/tesla-ful...</td>\n",
       "      <td>https://cleantechnica.com/wp-content/uploads/2...</td>\n",
       "      <td>2024-04-24T03:55:41Z</td>\n",
       "      <td>Sign up for daily news updates from CleanTechn...</td>\n",
       "      <td>tesla</td>\n",
       "      <td>Tesla “Full Self Driving” Could Come To Other ...</td>\n",
       "      <td>328.0</td>\n",
       "      <td>[full, self, driving, could, come, countries, ...</td>\n",
       "    </tr>\n",
       "    <tr>\n",
       "      <th>1</th>\n",
       "      <td>{'id': None, 'name': 'CleanTechnica'}</td>\n",
       "      <td>Zachary Shahan</td>\n",
       "      <td>More Than 3× As Many Tesla Model Y Sales As Te...</td>\n",
       "      <td>Tesla’s just had a tough quarter, including in...</td>\n",
       "      <td>https://cleantechnica.com/2024/04/19/more-than...</td>\n",
       "      <td>https://cleantechnica.com/wp-content/uploads/2...</td>\n",
       "      <td>2024-04-20T03:57:24Z</td>\n",
       "      <td>Sign up for daily news updates from CleanTechn...</td>\n",
       "      <td>tesla</td>\n",
       "      <td>More Than 3× As Many Tesla Model Y Sales As Te...</td>\n",
       "      <td>346.0</td>\n",
       "      <td>[many, model, sales, model, sales, usa, 1st, q...</td>\n",
       "    </tr>\n",
       "    <tr>\n",
       "      <th>2</th>\n",
       "      <td>{'id': None, 'name': 'CleanTechnica'}</td>\n",
       "      <td>Paul Fosse</td>\n",
       "      <td>Tesla Surprises Investors With A Tiny Y &amp; A Ti...</td>\n",
       "      <td>A lot has been written about the Tesla’s next-...</td>\n",
       "      <td>https://cleantechnica.com/2024/04/23/tesla-sur...</td>\n",
       "      <td>https://cleantechnica.com/wp-content/uploads/2...</td>\n",
       "      <td>2024-04-24T01:56:23Z</td>\n",
       "      <td>Sign up for daily news updates from CleanTechn...</td>\n",
       "      <td>tesla</td>\n",
       "      <td>Tesla Surprises Investors With A Tiny Y &amp; A Ti...</td>\n",
       "      <td>333.0</td>\n",
       "      <td>[surprises, investors, tiny, tiny, soon, year,...</td>\n",
       "    </tr>\n",
       "    <tr>\n",
       "      <th>3</th>\n",
       "      <td>{'id': None, 'name': 'CleanTechnica'}</td>\n",
       "      <td>Carolyn Fortuna</td>\n",
       "      <td>The Revisionist Language That Tesla Used In Th...</td>\n",
       "      <td>The Tesla, Inc. Q1 2024 earnings call was fasc...</td>\n",
       "      <td>https://cleantechnica.com/2024/04/26/the-revis...</td>\n",
       "      <td>https://cleantechnica.com/wp-content/uploads/2...</td>\n",
       "      <td>2024-04-26T19:24:10Z</td>\n",
       "      <td>Sign up for daily news updates from CleanTechn...</td>\n",
       "      <td>tesla</td>\n",
       "      <td>The Revisionist Language That Tesla Used In Th...</td>\n",
       "      <td>330.0</td>\n",
       "      <td>[revisionist, language, used, q1, earnings, ca...</td>\n",
       "    </tr>\n",
       "    <tr>\n",
       "      <th>4</th>\n",
       "      <td>{'id': 'techcrunch', 'name': 'TechCrunch'}</td>\n",
       "      <td>Paul Sawers</td>\n",
       "      <td>French startup FlexAI exits stealth with $30M ...</td>\n",
       "      <td>A French startup has raised a hefty seed inves...</td>\n",
       "      <td>https://techcrunch.com/2024/04/23/french-start...</td>\n",
       "      <td>https://s.yimg.com/ny/api/res/1.2/V7FcJP2rJb.Y...</td>\n",
       "      <td>2024-04-24T05:37:28Z</td>\n",
       "      <td>A French startup has raised a hefty seed inves...</td>\n",
       "      <td>tesla</td>\n",
       "      <td>French startup FlexAI exits stealth with $30M ...</td>\n",
       "      <td>232.0</td>\n",
       "      <td>[french, startup, flexai, exits, stealth, 30m,...</td>\n",
       "    </tr>\n",
       "  </tbody>\n",
       "</table>\n",
       "</div>"
      ],
      "text/plain": [
       "                                       source           author  \\\n",
       "0       {'id': None, 'name': 'CleanTechnica'}   Zachary Shahan   \n",
       "1       {'id': None, 'name': 'CleanTechnica'}   Zachary Shahan   \n",
       "2       {'id': None, 'name': 'CleanTechnica'}       Paul Fosse   \n",
       "3       {'id': None, 'name': 'CleanTechnica'}  Carolyn Fortuna   \n",
       "4  {'id': 'techcrunch', 'name': 'TechCrunch'}      Paul Sawers   \n",
       "\n",
       "                                               title  \\\n",
       "0  Tesla “Full Self Driving” Could Come To Other ...   \n",
       "1  More Than 3× As Many Tesla Model Y Sales As Te...   \n",
       "2  Tesla Surprises Investors With A Tiny Y & A Ti...   \n",
       "3  The Revisionist Language That Tesla Used In Th...   \n",
       "4  French startup FlexAI exits stealth with $30M ...   \n",
       "\n",
       "                                         description  \\\n",
       "0  Ever since Tesla started rolling out Full Self...   \n",
       "1  Tesla’s just had a tough quarter, including in...   \n",
       "2  A lot has been written about the Tesla’s next-...   \n",
       "3  The Tesla, Inc. Q1 2024 earnings call was fasc...   \n",
       "4  A French startup has raised a hefty seed inves...   \n",
       "\n",
       "                                                 url  \\\n",
       "0  https://cleantechnica.com/2024/04/23/tesla-ful...   \n",
       "1  https://cleantechnica.com/2024/04/19/more-than...   \n",
       "2  https://cleantechnica.com/2024/04/23/tesla-sur...   \n",
       "3  https://cleantechnica.com/2024/04/26/the-revis...   \n",
       "4  https://techcrunch.com/2024/04/23/french-start...   \n",
       "\n",
       "                                          urlToImage           publishedAt  \\\n",
       "0  https://cleantechnica.com/wp-content/uploads/2...  2024-04-24T03:55:41Z   \n",
       "1  https://cleantechnica.com/wp-content/uploads/2...  2024-04-20T03:57:24Z   \n",
       "2  https://cleantechnica.com/wp-content/uploads/2...  2024-04-24T01:56:23Z   \n",
       "3  https://cleantechnica.com/wp-content/uploads/2...  2024-04-26T19:24:10Z   \n",
       "4  https://s.yimg.com/ny/api/res/1.2/V7FcJP2rJb.Y...  2024-04-24T05:37:28Z   \n",
       "\n",
       "                                             content  label  \\\n",
       "0  Sign up for daily news updates from CleanTechn...  tesla   \n",
       "1  Sign up for daily news updates from CleanTechn...  tesla   \n",
       "2  Sign up for daily news updates from CleanTechn...  tesla   \n",
       "3  Sign up for daily news updates from CleanTechn...  tesla   \n",
       "4  A French startup has raised a hefty seed inves...  tesla   \n",
       "\n",
       "                                                text  length  \\\n",
       "0  Tesla “Full Self Driving” Could Come To Other ...   328.0   \n",
       "1  More Than 3× As Many Tesla Model Y Sales As Te...   346.0   \n",
       "2  Tesla Surprises Investors With A Tiny Y & A Ti...   333.0   \n",
       "3  The Revisionist Language That Tesla Used In Th...   330.0   \n",
       "4  French startup FlexAI exits stealth with $30M ...   232.0   \n",
       "\n",
       "                                              tokens  \n",
       "0  [full, self, driving, could, come, countries, ...  \n",
       "1  [many, model, sales, model, sales, usa, 1st, q...  \n",
       "2  [surprises, investors, tiny, tiny, soon, year,...  \n",
       "3  [revisionist, language, used, q1, earnings, ca...  \n",
       "4  [french, startup, flexai, exits, stealth, 30m,...  "
      ]
     },
     "execution_count": 70,
     "metadata": {},
     "output_type": "execute_result"
    }
   ],
   "source": [
    "combined['tokens'] = combined['text'].apply(prepare, pipeline=pipeline)\n",
    "combined.head()"
   ]
  },
  {
   "cell_type": "code",
   "execution_count": 71,
   "metadata": {},
   "outputs": [
    {
     "data": {
      "text/html": [
       "<div>\n",
       "<style scoped>\n",
       "    .dataframe tbody tr th:only-of-type {\n",
       "        vertical-align: middle;\n",
       "    }\n",
       "\n",
       "    .dataframe tbody tr th {\n",
       "        vertical-align: top;\n",
       "    }\n",
       "\n",
       "    .dataframe thead th {\n",
       "        text-align: right;\n",
       "    }\n",
       "</style>\n",
       "<table border=\"1\" class=\"dataframe\">\n",
       "  <thead>\n",
       "    <tr style=\"text-align: right;\">\n",
       "      <th></th>\n",
       "      <th>source</th>\n",
       "      <th>author</th>\n",
       "      <th>title</th>\n",
       "      <th>description</th>\n",
       "      <th>url</th>\n",
       "      <th>urlToImage</th>\n",
       "      <th>publishedAt</th>\n",
       "      <th>content</th>\n",
       "      <th>label</th>\n",
       "      <th>text</th>\n",
       "      <th>length</th>\n",
       "      <th>tokens</th>\n",
       "    </tr>\n",
       "  </thead>\n",
       "  <tbody>\n",
       "    <tr>\n",
       "      <th>0</th>\n",
       "      <td>{'id': None, 'name': 'CleanTechnica'}</td>\n",
       "      <td>Zachary Shahan</td>\n",
       "      <td>Tesla “Full Self Driving” Could Come To Other ...</td>\n",
       "      <td>Ever since Tesla started rolling out Full Self...</td>\n",
       "      <td>https://cleantechnica.com/2024/04/23/tesla-ful...</td>\n",
       "      <td>https://cleantechnica.com/wp-content/uploads/2...</td>\n",
       "      <td>2024-04-24T03:55:41Z</td>\n",
       "      <td>Sign up for daily news updates from CleanTechn...</td>\n",
       "      <td>tesla</td>\n",
       "      <td>Tesla “Full Self Driving” Could Come To Other ...</td>\n",
       "      <td>328.0</td>\n",
       "      <td>[full, self, driving, could, come, countries, ...</td>\n",
       "    </tr>\n",
       "  </tbody>\n",
       "</table>\n",
       "</div>"
      ],
      "text/plain": [
       "                                  source          author  \\\n",
       "0  {'id': None, 'name': 'CleanTechnica'}  Zachary Shahan   \n",
       "\n",
       "                                               title  \\\n",
       "0  Tesla “Full Self Driving” Could Come To Other ...   \n",
       "\n",
       "                                         description  \\\n",
       "0  Ever since Tesla started rolling out Full Self...   \n",
       "\n",
       "                                                 url  \\\n",
       "0  https://cleantechnica.com/2024/04/23/tesla-ful...   \n",
       "\n",
       "                                          urlToImage           publishedAt  \\\n",
       "0  https://cleantechnica.com/wp-content/uploads/2...  2024-04-24T03:55:41Z   \n",
       "\n",
       "                                             content  label  \\\n",
       "0  Sign up for daily news updates from CleanTechn...  tesla   \n",
       "\n",
       "                                                text  length  \\\n",
       "0  Tesla “Full Self Driving” Could Come To Other ...   328.0   \n",
       "\n",
       "                                              tokens  \n",
       "0  [full, self, driving, could, come, countries, ...  "
      ]
     },
     "execution_count": 71,
     "metadata": {},
     "output_type": "execute_result"
    }
   ],
   "source": [
    "combined[:1]"
   ]
  },
  {
   "cell_type": "code",
   "execution_count": 72,
   "metadata": {},
   "outputs": [
    {
     "data": {
      "text/html": [
       "<div>\n",
       "<style scoped>\n",
       "    .dataframe tbody tr th:only-of-type {\n",
       "        vertical-align: middle;\n",
       "    }\n",
       "\n",
       "    .dataframe tbody tr th {\n",
       "        vertical-align: top;\n",
       "    }\n",
       "\n",
       "    .dataframe thead th {\n",
       "        text-align: right;\n",
       "    }\n",
       "</style>\n",
       "<table border=\"1\" class=\"dataframe\">\n",
       "  <thead>\n",
       "    <tr style=\"text-align: right;\">\n",
       "      <th></th>\n",
       "      <th>source</th>\n",
       "      <th>author</th>\n",
       "      <th>title</th>\n",
       "      <th>description</th>\n",
       "      <th>url</th>\n",
       "      <th>urlToImage</th>\n",
       "      <th>publishedAt</th>\n",
       "      <th>content</th>\n",
       "      <th>label</th>\n",
       "      <th>text</th>\n",
       "      <th>length</th>\n",
       "      <th>tokens</th>\n",
       "      <th>num_tokens</th>\n",
       "    </tr>\n",
       "  </thead>\n",
       "  <tbody>\n",
       "    <tr>\n",
       "      <th>0</th>\n",
       "      <td>{'id': None, 'name': 'CleanTechnica'}</td>\n",
       "      <td>Zachary Shahan</td>\n",
       "      <td>Tesla “Full Self Driving” Could Come To Other ...</td>\n",
       "      <td>Ever since Tesla started rolling out Full Self...</td>\n",
       "      <td>https://cleantechnica.com/2024/04/23/tesla-ful...</td>\n",
       "      <td>https://cleantechnica.com/wp-content/uploads/2...</td>\n",
       "      <td>2024-04-24T03:55:41Z</td>\n",
       "      <td>Sign up for daily news updates from CleanTechn...</td>\n",
       "      <td>tesla</td>\n",
       "      <td>Tesla “Full Self Driving” Could Come To Other ...</td>\n",
       "      <td>328.0</td>\n",
       "      <td>[full, self, driving, could, come, countries, ...</td>\n",
       "      <td>32</td>\n",
       "    </tr>\n",
       "  </tbody>\n",
       "</table>\n",
       "</div>"
      ],
      "text/plain": [
       "                                  source          author  \\\n",
       "0  {'id': None, 'name': 'CleanTechnica'}  Zachary Shahan   \n",
       "\n",
       "                                               title  \\\n",
       "0  Tesla “Full Self Driving” Could Come To Other ...   \n",
       "\n",
       "                                         description  \\\n",
       "0  Ever since Tesla started rolling out Full Self...   \n",
       "\n",
       "                                                 url  \\\n",
       "0  https://cleantechnica.com/2024/04/23/tesla-ful...   \n",
       "\n",
       "                                          urlToImage           publishedAt  \\\n",
       "0  https://cleantechnica.com/wp-content/uploads/2...  2024-04-24T03:55:41Z   \n",
       "\n",
       "                                             content  label  \\\n",
       "0  Sign up for daily news updates from CleanTechn...  tesla   \n",
       "\n",
       "                                                text  length  \\\n",
       "0  Tesla “Full Self Driving” Could Come To Other ...   328.0   \n",
       "\n",
       "                                              tokens  num_tokens  \n",
       "0  [full, self, driving, could, come, countries, ...          32  "
      ]
     },
     "execution_count": 72,
     "metadata": {},
     "output_type": "execute_result"
    }
   ],
   "source": [
    "# get the number of tokens as a field\n",
    "combined['num_tokens'] = combined['tokens'].map(len)\n",
    "combined[:1]"
   ]
  },
  {
   "cell_type": "markdown",
   "metadata": {},
   "source": [
    "### EDA and visualizations"
   ]
  },
  {
   "cell_type": "code",
   "execution_count": 82,
   "metadata": {},
   "outputs": [
    {
     "data": {
      "text/plain": [
       "0    [full, self, driving, could, come, countries, ...\n",
       "1    [many, model, sales, model, sales, usa, 1st, q...\n",
       "2    [surprises, investors, tiny, tiny, soon, year,...\n",
       "3    [revisionist, language, used, q1, earnings, ca...\n",
       "4    [french, startup, flexai, exits, stealth, 30m,...\n",
       "Name: tokens, dtype: object"
      ]
     },
     "execution_count": 82,
     "metadata": {},
     "output_type": "execute_result"
    }
   ],
   "source": [
    "# seperate records based on labels in 2 different series\n",
    "tesla_tokens = combined.loc[combined['label'] == 'tesla', 'tokens']\n",
    "toyota_tokens = combined.loc[combined['label'] == 'toyota', 'tokens']\n",
    "\n",
    "tesla_tokens[:5]"
   ]
  },
  {
   "cell_type": "code",
   "execution_count": 81,
   "metadata": {},
   "outputs": [
    {
     "data": {
      "text/plain": [
       "['full', 'self', 'driving', 'could', 'come']"
      ]
     },
     "execution_count": 81,
     "metadata": {},
     "output_type": "execute_result"
    }
   ],
   "source": [
    "# flatten each so we can get all tokens in each df into a single list\n",
    "tesla_flat_tokens = [word for sublist in tesla_tokens for word in sublist]\n",
    "toyota_flat_tokens = [word for sublist in toyota_tokens for word in sublist]\n",
    "\n",
    "tesla_flat_tokens[:5]"
   ]
  },
  {
   "cell_type": "code",
   "execution_count": 83,
   "metadata": {},
   "outputs": [
    {
     "data": {
      "text/plain": [
       "2828"
      ]
     },
     "execution_count": 83,
     "metadata": {},
     "output_type": "execute_result"
    }
   ],
   "source": [
    "# 2828 tokens\n",
    "len(tesla_flat_tokens)"
   ]
  },
  {
   "cell_type": "code",
   "execution_count": 87,
   "metadata": {},
   "outputs": [
    {
     "data": {
      "text/plain": [
       "{'full': 10, 'self': 3, 'driving': 3, 'could': 7, 'come': 3}"
      ]
     },
     "execution_count": 87,
     "metadata": {},
     "output_type": "execute_result"
    }
   ],
   "source": [
    "# get count of each word \n",
    "tesla_word_counts = Counter(tesla_flat_tokens)\n",
    "toyota_word_counts = Counter(toyota_flat_tokens)\n",
    "\n",
    "# check the first 5 records\n",
    "dict(list(tesla_word_counts.items())[:5])"
   ]
  },
  {
   "cell_type": "code",
   "execution_count": 92,
   "metadata": {},
   "outputs": [
    {
     "name": "stdout",
     "output_type": "stream",
     "text": [
      "[('musk', 34), ('elon', 29), ('ev', 24), ('model', 22), ('earnings', 21), ('company', 20), ('china', 19), ('electric', 18), ('cybertruck', 18), ('fsd', 16)]\n"
     ]
    }
   ],
   "source": [
    "# get the 10 most common words for both each\n",
    "print(tesla_word_counts.most_common(10))"
   ]
  },
  {
   "cell_type": "code",
   "execution_count": 93,
   "metadata": {},
   "outputs": [
    {
     "name": "stdout",
     "output_type": "stream",
     "text": [
      "[('motor', 45), ('electric', 28), ('ev', 25), ('new', 22), ('sales', 21), ('com', 21), ('billion', 21), ('year', 19), ('america', 18), ('marketscreener', 18)]\n"
     ]
    }
   ],
   "source": [
    "print(toyota_word_counts.most_common(10))"
   ]
  },
  {
   "cell_type": "code",
   "execution_count": 107,
   "metadata": {},
   "outputs": [],
   "source": [
    "# convert counter type to list so we can plot\n",
    "top_tesla_words = list(tesla_word_counts.most_common(10))\n",
    "top_toyota_words = list(toyota_word_counts.most_common(10))"
   ]
  },
  {
   "cell_type": "code",
   "execution_count": 109,
   "metadata": {},
   "outputs": [
    {
     "name": "stdout",
     "output_type": "stream",
     "text": [
      "('musk', 'elon', 'ev', 'model', 'earnings', 'company', 'china', 'electric', 'cybertruck', 'fsd')\n",
      "(34, 29, 24, 22, 21, 20, 19, 18, 18, 16)\n"
     ]
    }
   ],
   "source": [
    "# get words and their count from the list\n",
    "tesla_words, tesla_counts = zip(*top_tesla_words)\n",
    "toyota_words, toyota_counts = zip(*top_toyota_words)\n",
    "\n",
    "print(tesla_words)\n",
    "print(tesla_counts)"
   ]
  },
  {
   "cell_type": "code",
   "execution_count": 111,
   "metadata": {},
   "outputs": [
    {
     "data": {
      "image/png": "[encoded data removed]",
      "text/plain": [
       "<Figure size 1400x600 with 2 Axes>"
      ]
     },
     "metadata": {},
     "output_type": "display_data"
    }
   ],
   "source": [
    "# create 2 subplots, next to eachother\n",
    "fig, ax = plt.subplots(1, 2, figsize=(14, 6))\n",
    "\n",
    "# plot tesla words, highest counts at the top\n",
    "ax[0].barh(tesla_words, tesla_counts, color='red')\n",
    "ax[0].invert_yaxis()\n",
    "ax[0].set_title('Top Tesla words')\n",
    "\n",
    "# do the same for toyota\n",
    "ax[1].barh(toyota_words, toyota_counts, color='blue')\n",
    "ax[1].invert_yaxis()  # Highest counts at the top\n",
    "ax[1].set_title('Top Toyota words')\n",
    "\n",
    "# show the plot, tight layout so fit is better\n",
    "plt.tight_layout()\n",
    "plt.show()"
   ]
  },
  {
   "cell_type": "code",
   "execution_count": 113,
   "metadata": {},
   "outputs": [],
   "source": [
    "# now to get the descriptive statistics, define the function created in earlier assignments\n",
    "def descriptive_stats(tokens, verbose=True) :\n",
    "    \"\"\"\n",
    "        Given a list of tokens, print number of tokens, number of unique tokens, \n",
    "        number of characters, lexical diversity (https://en.wikipedia.org/wiki/Lexical_diversity), \n",
    "        and num_tokens most common tokens. Return a list with the number of tokens, number\n",
    "        of unique tokens, lexical diversity, and number of characters. \n",
    "    \n",
    "    \"\"\"\n",
    "\n",
    "    # length of num tokens list\n",
    "    num_tokens = len(tokens)\n",
    "\n",
    "    # length of unique tokens in list\n",
    "    num_unique_tokens = len(set(tokens))\n",
    "\n",
    "    # unique tokens divided by total tokens to see diversity\n",
    "    lexical_diversity = num_unique_tokens / num_tokens\n",
    "\n",
    "    # get sum of characters\n",
    "    sum = 0\n",
    "    for word in tokens:\n",
    "        for char in word:\n",
    "            sum += 1\n",
    "\n",
    "    num_characters = sum\n",
    "    \n",
    "    if verbose :        \n",
    "        print(f\"There are {num_tokens} tokens in the data.\")\n",
    "        print(f\"There are {num_unique_tokens} unique tokens in the data.\")\n",
    "        print(f\"There are {num_characters} characters in the data.\")\n",
    "        print(f\"The lexical diversity is {lexical_diversity:.3f} in the data.\")\n",
    "        \n",
    "    return([num_tokens, num_unique_tokens,\n",
    "            lexical_diversity,\n",
    "            num_characters])"
   ]
  },
  {
   "cell_type": "code",
   "execution_count": 116,
   "metadata": {},
   "outputs": [],
   "source": [
    "# Split the DataFrame based on the \"label\" field\n",
    "tesla_df = combined[combined['label'] == 'tesla']\n",
    "toyota_df = combined[combined['label'] == 'toyota']\n",
    "\n",
    "# Combine all the lists in the \"tokens\" field into one giant list for each DataFrame\n",
    "tesla_tokens = [item for sublist in tesla_df['tokens'] for item in sublist]\n",
    "toyota_tokens = [item for sublist in toyota_df['tokens'] for item in sublist]"
   ]
  },
  {
   "cell_type": "code",
   "execution_count": 118,
   "metadata": {},
   "outputs": [
    {
     "data": {
      "text/plain": [
       "['full', 'self', 'driving', 'could', 'come']"
      ]
     },
     "execution_count": 118,
     "metadata": {},
     "output_type": "execute_result"
    }
   ],
   "source": [
    "tesla_tokens[:5]"
   ]
  },
  {
   "cell_type": "code",
   "execution_count": 119,
   "metadata": {},
   "outputs": [
    {
     "name": "stdout",
     "output_type": "stream",
     "text": [
      "There are 2828 tokens in the data.\n",
      "There are 1424 unique tokens in the data.\n",
      "There are 17430 characters in the data.\n",
      "The lexical diversity is 0.504 in the data.\n"
     ]
    },
    {
     "data": {
      "text/plain": [
       "[2828, 1424, 0.5035360678925035, 17430]"
      ]
     },
     "execution_count": 119,
     "metadata": {},
     "output_type": "execute_result"
    }
   ],
   "source": [
    "# apply descriptive stats to the tesla tokens\n",
    "descriptive_stats(tesla_tokens)"
   ]
  },
  {
   "cell_type": "code",
   "execution_count": 120,
   "metadata": {},
   "outputs": [
    {
     "name": "stdout",
     "output_type": "stream",
     "text": [
      "There are 2763 tokens in the data.\n",
      "There are 1248 unique tokens in the data.\n",
      "There are 17610 characters in the data.\n",
      "The lexical diversity is 0.452 in the data.\n"
     ]
    },
    {
     "data": {
      "text/plain": [
       "[2763, 1248, 0.4516829533116178, 17610]"
      ]
     },
     "execution_count": 120,
     "metadata": {},
     "output_type": "execute_result"
    }
   ],
   "source": [
    "# do the same for toyota\n",
    "descriptive_stats(toyota_tokens)"
   ]
  },
  {
   "cell_type": "markdown",
   "metadata": {},
   "source": [
    "## Part 2: Classification Models"
   ]
  },
  {
   "cell_type": "code",
   "execution_count": 121,
   "metadata": {},
   "outputs": [
    {
     "data": {
      "text/html": [
       "<div>\n",
       "<style scoped>\n",
       "    .dataframe tbody tr th:only-of-type {\n",
       "        vertical-align: middle;\n",
       "    }\n",
       "\n",
       "    .dataframe tbody tr th {\n",
       "        vertical-align: top;\n",
       "    }\n",
       "\n",
       "    .dataframe thead th {\n",
       "        text-align: right;\n",
       "    }\n",
       "</style>\n",
       "<table border=\"1\" class=\"dataframe\">\n",
       "  <thead>\n",
       "    <tr style=\"text-align: right;\">\n",
       "      <th></th>\n",
       "      <th>source</th>\n",
       "      <th>author</th>\n",
       "      <th>title</th>\n",
       "      <th>description</th>\n",
       "      <th>url</th>\n",
       "      <th>urlToImage</th>\n",
       "      <th>publishedAt</th>\n",
       "      <th>content</th>\n",
       "      <th>label</th>\n",
       "      <th>text</th>\n",
       "      <th>length</th>\n",
       "      <th>tokens</th>\n",
       "      <th>num_tokens</th>\n",
       "    </tr>\n",
       "  </thead>\n",
       "  <tbody>\n",
       "    <tr>\n",
       "      <th>0</th>\n",
       "      <td>{'id': None, 'name': 'CleanTechnica'}</td>\n",
       "      <td>Zachary Shahan</td>\n",
       "      <td>Tesla “Full Self Driving” Could Come To Other ...</td>\n",
       "      <td>Ever since Tesla started rolling out Full Self...</td>\n",
       "      <td>https://cleantechnica.com/2024/04/23/tesla-ful...</td>\n",
       "      <td>https://cleantechnica.com/wp-content/uploads/2...</td>\n",
       "      <td>2024-04-24T03:55:41Z</td>\n",
       "      <td>Sign up for daily news updates from CleanTechn...</td>\n",
       "      <td>tesla</td>\n",
       "      <td>Tesla “Full Self Driving” Could Come To Other ...</td>\n",
       "      <td>328.0</td>\n",
       "      <td>[full, self, driving, could, come, countries, ...</td>\n",
       "      <td>32</td>\n",
       "    </tr>\n",
       "    <tr>\n",
       "      <th>1</th>\n",
       "      <td>{'id': None, 'name': 'CleanTechnica'}</td>\n",
       "      <td>Zachary Shahan</td>\n",
       "      <td>More Than 3× As Many Tesla Model Y Sales As Te...</td>\n",
       "      <td>Tesla’s just had a tough quarter, including in...</td>\n",
       "      <td>https://cleantechnica.com/2024/04/19/more-than...</td>\n",
       "      <td>https://cleantechnica.com/wp-content/uploads/2...</td>\n",
       "      <td>2024-04-20T03:57:24Z</td>\n",
       "      <td>Sign up for daily news updates from CleanTechn...</td>\n",
       "      <td>tesla</td>\n",
       "      <td>More Than 3× As Many Tesla Model Y Sales As Te...</td>\n",
       "      <td>346.0</td>\n",
       "      <td>[many, model, sales, model, sales, usa, 1st, q...</td>\n",
       "      <td>31</td>\n",
       "    </tr>\n",
       "    <tr>\n",
       "      <th>2</th>\n",
       "      <td>{'id': None, 'name': 'CleanTechnica'}</td>\n",
       "      <td>Paul Fosse</td>\n",
       "      <td>Tesla Surprises Investors With A Tiny Y &amp; A Ti...</td>\n",
       "      <td>A lot has been written about the Tesla’s next-...</td>\n",
       "      <td>https://cleantechnica.com/2024/04/23/tesla-sur...</td>\n",
       "      <td>https://cleantechnica.com/wp-content/uploads/2...</td>\n",
       "      <td>2024-04-24T01:56:23Z</td>\n",
       "      <td>Sign up for daily news updates from CleanTechn...</td>\n",
       "      <td>tesla</td>\n",
       "      <td>Tesla Surprises Investors With A Tiny Y &amp; A Ti...</td>\n",
       "      <td>333.0</td>\n",
       "      <td>[surprises, investors, tiny, tiny, soon, year,...</td>\n",
       "      <td>29</td>\n",
       "    </tr>\n",
       "    <tr>\n",
       "      <th>3</th>\n",
       "      <td>{'id': None, 'name': 'CleanTechnica'}</td>\n",
       "      <td>Carolyn Fortuna</td>\n",
       "      <td>The Revisionist Language That Tesla Used In Th...</td>\n",
       "      <td>The Tesla, Inc. Q1 2024 earnings call was fasc...</td>\n",
       "      <td>https://cleantechnica.com/2024/04/26/the-revis...</td>\n",
       "      <td>https://cleantechnica.com/wp-content/uploads/2...</td>\n",
       "      <td>2024-04-26T19:24:10Z</td>\n",
       "      <td>Sign up for daily news updates from CleanTechn...</td>\n",
       "      <td>tesla</td>\n",
       "      <td>The Revisionist Language That Tesla Used In Th...</td>\n",
       "      <td>330.0</td>\n",
       "      <td>[revisionist, language, used, q1, earnings, ca...</td>\n",
       "      <td>30</td>\n",
       "    </tr>\n",
       "    <tr>\n",
       "      <th>4</th>\n",
       "      <td>{'id': 'techcrunch', 'name': 'TechCrunch'}</td>\n",
       "      <td>Paul Sawers</td>\n",
       "      <td>French startup FlexAI exits stealth with $30M ...</td>\n",
       "      <td>A French startup has raised a hefty seed inves...</td>\n",
       "      <td>https://techcrunch.com/2024/04/23/french-start...</td>\n",
       "      <td>https://s.yimg.com/ny/api/res/1.2/V7FcJP2rJb.Y...</td>\n",
       "      <td>2024-04-24T05:37:28Z</td>\n",
       "      <td>A French startup has raised a hefty seed inves...</td>\n",
       "      <td>tesla</td>\n",
       "      <td>French startup FlexAI exits stealth with $30M ...</td>\n",
       "      <td>232.0</td>\n",
       "      <td>[french, startup, flexai, exits, stealth, 30m,...</td>\n",
       "      <td>25</td>\n",
       "    </tr>\n",
       "  </tbody>\n",
       "</table>\n",
       "</div>"
      ],
      "text/plain": [
       "                                       source           author  \\\n",
       "0       {'id': None, 'name': 'CleanTechnica'}   Zachary Shahan   \n",
       "1       {'id': None, 'name': 'CleanTechnica'}   Zachary Shahan   \n",
       "2       {'id': None, 'name': 'CleanTechnica'}       Paul Fosse   \n",
       "3       {'id': None, 'name': 'CleanTechnica'}  Carolyn Fortuna   \n",
       "4  {'id': 'techcrunch', 'name': 'TechCrunch'}      Paul Sawers   \n",
       "\n",
       "                                               title  \\\n",
       "0  Tesla “Full Self Driving” Could Come To Other ...   \n",
       "1  More Than 3× As Many Tesla Model Y Sales As Te...   \n",
       "2  Tesla Surprises Investors With A Tiny Y & A Ti...   \n",
       "3  The Revisionist Language That Tesla Used In Th...   \n",
       "4  French startup FlexAI exits stealth with $30M ...   \n",
       "\n",
       "                                         description  \\\n",
       "0  Ever since Tesla started rolling out Full Self...   \n",
       "1  Tesla’s just had a tough quarter, including in...   \n",
       "2  A lot has been written about the Tesla’s next-...   \n",
       "3  The Tesla, Inc. Q1 2024 earnings call was fasc...   \n",
       "4  A French startup has raised a hefty seed inves...   \n",
       "\n",
       "                                                 url  \\\n",
       "0  https://cleantechnica.com/2024/04/23/tesla-ful...   \n",
       "1  https://cleantechnica.com/2024/04/19/more-than...   \n",
       "2  https://cleantechnica.com/2024/04/23/tesla-sur...   \n",
       "3  https://cleantechnica.com/2024/04/26/the-revis...   \n",
       "4  https://techcrunch.com/2024/04/23/french-start...   \n",
       "\n",
       "                                          urlToImage           publishedAt  \\\n",
       "0  https://cleantechnica.com/wp-content/uploads/2...  2024-04-24T03:55:41Z   \n",
       "1  https://cleantechnica.com/wp-content/uploads/2...  2024-04-20T03:57:24Z   \n",
       "2  https://cleantechnica.com/wp-content/uploads/2...  2024-04-24T01:56:23Z   \n",
       "3  https://cleantechnica.com/wp-content/uploads/2...  2024-04-26T19:24:10Z   \n",
       "4  https://s.yimg.com/ny/api/res/1.2/V7FcJP2rJb.Y...  2024-04-24T05:37:28Z   \n",
       "\n",
       "                                             content  label  \\\n",
       "0  Sign up for daily news updates from CleanTechn...  tesla   \n",
       "1  Sign up for daily news updates from CleanTechn...  tesla   \n",
       "2  Sign up for daily news updates from CleanTechn...  tesla   \n",
       "3  Sign up for daily news updates from CleanTechn...  tesla   \n",
       "4  A French startup has raised a hefty seed inves...  tesla   \n",
       "\n",
       "                                                text  length  \\\n",
       "0  Tesla “Full Self Driving” Could Come To Other ...   328.0   \n",
       "1  More Than 3× As Many Tesla Model Y Sales As Te...   346.0   \n",
       "2  Tesla Surprises Investors With A Tiny Y & A Ti...   333.0   \n",
       "3  The Revisionist Language That Tesla Used In Th...   330.0   \n",
       "4  French startup FlexAI exits stealth with $30M ...   232.0   \n",
       "\n",
       "                                              tokens  num_tokens  \n",
       "0  [full, self, driving, could, come, countries, ...          32  \n",
       "1  [many, model, sales, model, sales, usa, 1st, q...          31  \n",
       "2  [surprises, investors, tiny, tiny, soon, year,...          29  \n",
       "3  [revisionist, language, used, q1, earnings, ca...          30  \n",
       "4  [french, startup, flexai, exits, stealth, 30m,...          25  "
      ]
     },
     "execution_count": 121,
     "metadata": {},
     "output_type": "execute_result"
    }
   ],
   "source": [
    "combined.head()"
   ]
  }
 ],
 "metadata": {
  "kernelspec": {
   "display_name": "Python 3.10.4 64-bit",
   "language": "python",
   "name": "python3"
  },
  "language_info": {
   "codemirror_mode": {
    "name": "ipython",
    "version": 3
   },
   "file_extension": ".py",
   "mimetype": "text/x-python",
   "name": "python",
   "nbconvert_exporter": "python",
   "pygments_lexer": "ipython3",
   "version": "3.9.13"
  },
  "orig_nbformat": 4,
  "vscode": {
   "interpreter": {
    "hash": "aee8b7b246df8f9039afb4144a1f6fd8d2ca17a180786b69acc140d282b71a49"
   }
  }
 },
 "nbformat": 4,
 "nbformat_minor": 2
}
