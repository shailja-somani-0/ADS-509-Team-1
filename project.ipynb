{
 "cells": [
  {
   "cell_type": "markdown",
   "metadata": {
    "id": "iuDVaQAI6MRD"
   },
   "source": [
    "# ADS 509 Team 1 Project - Tesla vs Toyota News Articles\n",
    "### By: Jesse Gutierrez, Roger Qiu, Shailja Somani\n",
    "ADS-509: Applied Text Mining\\\n",
    "University of San Diego\\\n",
    "Summer 2024 \n",
    "\n",
    "Project Title: Analyzing and Classifying News Articles as about Tesla or Toyota based on the Article Headline and Brief Description  \n",
    "\n",
    "Link for API we are Using: https://newsapi.org/ \\\n",
    "newsapi Key: d6995599193044b0a5f954c098da84d6"
   ]
  },
  {
   "cell_type": "markdown",
   "metadata": {
    "id": "U51SahMm6MRF"
   },
   "source": [
    "## Part 1. API retrival, Data Pre-processing (Tokenization) and EDA"
   ]
  },
  {
   "cell_type": "markdown",
   "metadata": {
    "id": "0m2ujUiO6MRF"
   },
   "source": [
    "### Install and add imports"
   ]
  },
  {
   "cell_type": "code",
   "execution_count": 125,
   "metadata": {
    "colab": {
     "base_uri": "https://localhost:8080/"
    },
    "id": "bqQoG4r66MRF",
    "outputId": "4d00de88-ac0b-4ba3-e6fb-57eed2e853df"
   },
   "outputs": [
    {
     "name": "stdout",
     "output_type": "stream",
     "text": [
      "Requirement already satisfied: newsapi-python in /Users/jesse/opt/anaconda3/lib/python3.9/site-packages (0.2.7)\n",
      "Requirement already satisfied: requests<3.0.0 in /Users/jesse/opt/anaconda3/lib/python3.9/site-packages (from newsapi-python) (2.27.1)\n",
      "Requirement already satisfied: charset-normalizer~=2.0.0 in /Users/jesse/opt/anaconda3/lib/python3.9/site-packages (from requests<3.0.0->newsapi-python) (2.0.4)\n",
      "Requirement already satisfied: certifi>=2017.4.17 in /Users/jesse/opt/anaconda3/lib/python3.9/site-packages (from requests<3.0.0->newsapi-python) (2021.10.8)\n",
      "Requirement already satisfied: idna<4,>=2.5 in /Users/jesse/opt/anaconda3/lib/python3.9/site-packages (from requests<3.0.0->newsapi-python) (3.3)\n",
      "Requirement already satisfied: urllib3<1.27,>=1.21.1 in /Users/jesse/opt/anaconda3/lib/python3.9/site-packages (from requests<3.0.0->newsapi-python) (1.26.9)\n",
      "Requirement already satisfied: textblob in /Users/jesse/opt/anaconda3/lib/python3.9/site-packages (0.18.0.post0)\n",
      "Requirement already satisfied: nltk>=3.8 in /Users/jesse/opt/anaconda3/lib/python3.9/site-packages (from textblob) (3.8.1)\n",
      "Requirement already satisfied: tqdm in /Users/jesse/opt/anaconda3/lib/python3.9/site-packages (from nltk>=3.8->textblob) (4.64.0)\n",
      "Requirement already satisfied: regex>=2021.8.3 in /Users/jesse/opt/anaconda3/lib/python3.9/site-packages (from nltk>=3.8->textblob) (2022.3.15)\n",
      "Requirement already satisfied: joblib in /Users/jesse/opt/anaconda3/lib/python3.9/site-packages (from nltk>=3.8->textblob) (1.4.2)\n",
      "Requirement already satisfied: click in /Users/jesse/opt/anaconda3/lib/python3.9/site-packages (from nltk>=3.8->textblob) (8.0.4)\n",
      "Requirement already satisfied: xgboost in /Users/jesse/opt/anaconda3/lib/python3.9/site-packages (2.0.3)\n",
      "Requirement already satisfied: scipy in /Users/jesse/.local/lib/python3.9/site-packages (from xgboost) (1.13.1)\n",
      "Requirement already satisfied: numpy in /Users/jesse/.local/lib/python3.9/site-packages (from xgboost) (2.0.0)\n",
      "Requirement already satisfied: imblearn in /Users/jesse/opt/anaconda3/lib/python3.9/site-packages (0.0)\n",
      "Requirement already satisfied: imbalanced-learn in /Users/jesse/opt/anaconda3/lib/python3.9/site-packages (from imblearn) (0.12.3)\n",
      "Requirement already satisfied: threadpoolctl>=2.0.0 in /Users/jesse/opt/anaconda3/lib/python3.9/site-packages (from imbalanced-learn->imblearn) (2.2.0)\n",
      "Requirement already satisfied: numpy>=1.17.3 in /Users/jesse/.local/lib/python3.9/site-packages (from imbalanced-learn->imblearn) (2.0.0)\n",
      "Requirement already satisfied: joblib>=1.1.1 in /Users/jesse/opt/anaconda3/lib/python3.9/site-packages (from imbalanced-learn->imblearn) (1.4.2)\n",
      "Requirement already satisfied: scikit-learn>=1.0.2 in /Users/jesse/opt/anaconda3/lib/python3.9/site-packages (from imbalanced-learn->imblearn) (1.0.2)\n",
      "Requirement already satisfied: scipy>=1.5.0 in /Users/jesse/.local/lib/python3.9/site-packages (from imbalanced-learn->imblearn) (1.13.1)\n",
      "Requirement already satisfied: pyLDAvis==3.4.1 in /Users/jesse/.local/lib/python3.9/site-packages (3.4.1)\n",
      "Requirement already satisfied: scipy in /Users/jesse/.local/lib/python3.9/site-packages (from pyLDAvis==3.4.1) (1.13.1)\n",
      "Requirement already satisfied: gensim in /Users/jesse/opt/anaconda3/lib/python3.9/site-packages (from pyLDAvis==3.4.1) (4.1.2)\n",
      "Requirement already satisfied: numpy>=1.24.2 in /Users/jesse/.local/lib/python3.9/site-packages (from pyLDAvis==3.4.1) (2.0.0)\n",
      "Requirement already satisfied: jinja2 in /Users/jesse/opt/anaconda3/lib/python3.9/site-packages (from pyLDAvis==3.4.1) (2.11.3)\n",
      "Requirement already satisfied: scikit-learn>=1.0.0 in /Users/jesse/opt/anaconda3/lib/python3.9/site-packages (from pyLDAvis==3.4.1) (1.0.2)\n",
      "Requirement already satisfied: pandas>=2.0.0 in /Users/jesse/.local/lib/python3.9/site-packages (from pyLDAvis==3.4.1) (2.2.2)\n",
      "Requirement already satisfied: setuptools in /Users/jesse/opt/anaconda3/lib/python3.9/site-packages (from pyLDAvis==3.4.1) (61.2.0)\n",
      "Requirement already satisfied: funcy in /Users/jesse/.local/lib/python3.9/site-packages (from pyLDAvis==3.4.1) (2.0)\n",
      "Requirement already satisfied: numexpr in /Users/jesse/opt/anaconda3/lib/python3.9/site-packages (from pyLDAvis==3.4.1) (2.8.1)\n",
      "Requirement already satisfied: joblib>=1.2.0 in /Users/jesse/opt/anaconda3/lib/python3.9/site-packages (from pyLDAvis==3.4.1) (1.4.2)\n",
      "Requirement already satisfied: tzdata>=2022.7 in /Users/jesse/opt/anaconda3/lib/python3.9/site-packages (from pandas>=2.0.0->pyLDAvis==3.4.1) (2022.7)\n",
      "Requirement already satisfied: pytz>=2020.1 in /Users/jesse/opt/anaconda3/lib/python3.9/site-packages (from pandas>=2.0.0->pyLDAvis==3.4.1) (2021.3)\n",
      "Requirement already satisfied: python-dateutil>=2.8.2 in /Users/jesse/opt/anaconda3/lib/python3.9/site-packages (from pandas>=2.0.0->pyLDAvis==3.4.1) (2.8.2)\n",
      "Requirement already satisfied: six>=1.5 in /Users/jesse/opt/anaconda3/lib/python3.9/site-packages (from python-dateutil>=2.8.2->pandas>=2.0.0->pyLDAvis==3.4.1) (1.16.0)\n",
      "Requirement already satisfied: threadpoolctl>=2.0.0 in /Users/jesse/opt/anaconda3/lib/python3.9/site-packages (from scikit-learn>=1.0.0->pyLDAvis==3.4.1) (2.2.0)\n",
      "Requirement already satisfied: smart-open>=1.8.1 in /Users/jesse/opt/anaconda3/lib/python3.9/site-packages (from gensim->pyLDAvis==3.4.1) (5.1.0)\n",
      "Requirement already satisfied: MarkupSafe>=0.23 in /Users/jesse/opt/anaconda3/lib/python3.9/site-packages (from jinja2->pyLDAvis==3.4.1) (2.0.1)\n",
      "Requirement already satisfied: packaging in /Users/jesse/opt/anaconda3/lib/python3.9/site-packages (from numexpr->pyLDAvis==3.4.1) (21.3)\n",
      "Requirement already satisfied: pyparsing!=3.0.5,>=2.0.2 in /Users/jesse/opt/anaconda3/lib/python3.9/site-packages (from packaging->numexpr->pyLDAvis==3.4.1) (3.0.4)\n",
      "Requirement already satisfied: contractions in /Users/jesse/opt/anaconda3/lib/python3.9/site-packages (0.1.73)\n",
      "Requirement already satisfied: textsearch>=0.0.21 in /Users/jesse/opt/anaconda3/lib/python3.9/site-packages (from contractions) (0.0.24)\n",
      "Requirement already satisfied: anyascii in /Users/jesse/opt/anaconda3/lib/python3.9/site-packages (from textsearch>=0.0.21->contractions) (0.3.2)\n",
      "Requirement already satisfied: pyahocorasick in /Users/jesse/opt/anaconda3/lib/python3.9/site-packages (from textsearch>=0.0.21->contractions) (2.1.0)\n"
     ]
    }
   ],
   "source": [
    "# Please install any below packages you may not have already installed and then restart the kernel\n",
    "!pip install newsapi-python\n",
    "!pip install textblob\n",
    "!pip install xgboost\n",
    "!pip install imblearn\n",
    "!pip install pyLDAvis==3.4.1 --user\n",
    "!pip install contractions"
   ]
  },
  {
   "cell_type": "code",
   "execution_count": 126,
   "metadata": {
    "colab": {
     "base_uri": "https://localhost:8080/",
     "height": 35
    },
    "id": "rmQDqnWoduD2",
    "outputId": "20df7d18-d9b2-4cc3-cd50-f18c5fac6cb4"
   },
   "outputs": [
    {
     "data": {
      "text/plain": [
       "'3.12.3 (v3.12.3:f6650f9ad7, Apr  9 2024, 08:18:48) [Clang 13.0.0 (clang-1300.0.29.30)]'"
      ]
     },
     "execution_count": 126,
     "metadata": {},
     "output_type": "execute_result"
    }
   ],
   "source": [
    "# Check Python version to ensure pyLDAvis package will work\n",
    "import sys\n",
    "sys.version"
   ]
  },
  {
   "cell_type": "code",
   "execution_count": 127,
   "metadata": {
    "colab": {
     "base_uri": "https://localhost:8080/"
    },
    "id": "7C6EfOj36MRH",
    "outputId": "16ebe444-ff95-45b9-8680-09a0714a745d"
   },
   "outputs": [
    {
     "name": "stderr",
     "output_type": "stream",
     "text": [
      "[nltk_data] Error loading stopwords: <urlopen error [SSL:\n",
      "[nltk_data]     CERTIFICATE_VERIFY_FAILED] certificate verify failed:\n",
      "[nltk_data]     unable to get local issuer certificate (_ssl.c:1000)>\n"
     ]
    }
   ],
   "source": [
    "from newsapi import NewsApiClient\n",
    "import pandas as pd\n",
    "import numpy as np\n",
    "import os\n",
    "import requests\n",
    "import matplotlib.pyplot as plt\n",
    "import regex as re\n",
    "from datetime import datetime, timedelta\n",
    "import nltk\n",
    "from string import punctuation\n",
    "from contractions import fix\n",
    "from textblob import TextBlob\n",
    "import itertools\n",
    "from sklearn.metrics import accuracy_score, classification_report, confusion_matrix, roc_curve, auc\n",
    "from sklearn.model_selection import train_test_split\n",
    "from sklearn.feature_extraction.text import TfidfVectorizer\n",
    "from sklearn.linear_model import LogisticRegression\n",
    "from sklearn.svm import SVC\n",
    "from sklearn.ensemble import RandomForestClassifier, GradientBoostingClassifier, AdaBoostClassifier\n",
    "from sklearn.naive_bayes import MultinomialNB\n",
    "from sklearn.neighbors import KNeighborsClassifier\n",
    "from sklearn.tree import DecisionTreeClassifier\n",
    "from sklearn.metrics import classification_report, accuracy_score\n",
    "import xgboost as xgb\n",
    "from xgboost import XGBClassifier\n",
    "from sklearn.pipeline import Pipeline\n",
    "from imblearn.under_sampling import RandomUnderSampler\n",
    "nltk.download('stopwords')\n",
    "from collections import Counter\n",
    "from sklearn.feature_extraction.text import TfidfVectorizer, CountVectorizer\n",
    "from collections import Counter, defaultdict\n",
    "from sklearn.decomposition import NMF, TruncatedSVD, LatentDirichletAllocation\n",
    "#from wordcloud import WordCloud\n",
    "#import seaborn as sns\n",
    "import pyLDAvis\n",
    "import pyLDAvis.lda_model\n",
    "import pyLDAvis.gensim_models\n",
    "from tqdm.auto import tqdm\n",
    "\n",
    "# Set display options to avoid truncation\n",
    "pd.set_option('display.max_colwidth', None)"
   ]
  },
  {
   "cell_type": "code",
   "execution_count": 128,
   "metadata": {
    "id": "xnAP2DmhJxAM"
   },
   "outputs": [],
   "source": [
    "# Hide warnings for cleanliness before knitting to PDF\n",
    "import warnings\n",
    "warnings.filterwarnings('ignore')"
   ]
  },
  {
   "cell_type": "markdown",
   "metadata": {
    "id": "FX9WmL2R6MRI"
   },
   "source": [
    "### Check the newsAPI data source"
   ]
  },
  {
   "cell_type": "code",
   "execution_count": 129,
   "metadata": {
    "id": "MfiTTCJo6MRI",
    "outputId": "2c37261b-dcd8-437b-fbce-8d4b0c25f84f"
   },
   "outputs": [
    {
     "data": {
      "text/plain": [
       "<newsapi.newsapi_client.NewsApiClient at 0x13127d220>"
      ]
     },
     "execution_count": 129,
     "metadata": {},
     "output_type": "execute_result"
    }
   ],
   "source": [
    "# use API key to initialize newsapi client\n",
    "newsapi = NewsApiClient(api_key='d6995599193044b0a5f954c098da84d6')\n",
    "newsapi"
   ]
  },
  {
   "cell_type": "code",
   "execution_count": 130,
   "metadata": {
    "id": "o3XtiXBh6MRI",
    "outputId": "ce2a7799-f86c-45bb-ab4e-e16dac12a915"
   },
   "outputs": [
    {
     "data": {
      "text/plain": [
       "{'status': 'ok',\n",
       " 'totalResults': 2,\n",
       " 'articles': [{'source': {'id': 'bloomberg', 'name': 'Bloomberg'},\n",
       "   'author': 'Todd Gillespie',\n",
       "   'title': 'Citigroup (C) Pitches Money-Moving Services Business as Central to Revamp - Bloomberg',\n",
       "   'description': 'Citigroup Inc. is putting one of its least glamorous businesses front and center in its upgrade project, aiming to show how a sprawling system of moving money around the world can boost profitability.',\n",
       "   'url': 'https://www.bloomberg.com/news/articles/2024-06-17/citi-pitches-money-moving-crown-jewel-as-central-to-revamp',\n",
       "   'urlToImage': 'https://assets.bwbx.io/images/users/iqjWHBFdfxIU/iDEd7WdV0Emw/v1/1200x801.jpg',\n",
       "   'publishedAt': '2024-06-17T20:29:59Z',\n",
       "   'content': 'Citigroup Inc. is putting one of its least glamorous businesses front and center in its upgrade project, aiming to show how a sprawling system of moving money around the world can boost profitability… [+413 chars]'},\n",
       "  {'source': {'id': None, 'name': 'Tipranks.com'},\n",
       "   'author': 'Marty Shtrubel',\n",
       "   'title': \"'Pull the Trigger,' Says Top Analyst About Microsoft Stock - TipRanks.com - TipRanks\",\n",
       "   'description': 'Over the years, Microsoft (NASDAQ:MSFT) has been in an ongoing tussle with its tech giant peer Apple (NASDAQ:AAPL), as both have vied for the title of the World’s M...',\n",
       "   'url': 'https://www.tipranks.com/news/pull-the-trigger-says-top-analyst-about-microsoft-stock',\n",
       "   'urlToImage': 'https://blog.tipranks.com/wp-content/uploads/2024/02/MSFT-0227-750x406.jpg',\n",
       "   'publishedAt': '2024-06-17T01:18:04Z',\n",
       "   'content': 'Over the years, Microsoft (NASDAQ:MSFT) has been in an ongoing tussle with its tech giant peer Apple (NASDAQ:AAPL), as both have vied for the title of the Worlds Most Valuable Company. Now, Microsoft… [+3013 chars]'}]}"
      ]
     },
     "execution_count": 130,
     "metadata": {},
     "output_type": "execute_result"
    }
   ],
   "source": [
    "# check what the top headlines data looks like\n",
    "top_headlines = newsapi.get_top_headlines(q='world',\n",
    "                                          category='business',\n",
    "                                          language='en',\n",
    "                                          country='us')\n",
    "\n",
    "top_headlines"
   ]
  },
  {
   "cell_type": "code",
   "execution_count": 131,
   "metadata": {
    "id": "-fsD9DoN6MRI",
    "outputId": "e5c210ec-8031-4da4-d024-1c6396207f84"
   },
   "outputs": [
    {
     "data": {
      "text/plain": [
       "[{'id': 'abc-news',\n",
       "  'name': 'ABC News',\n",
       "  'description': 'Your trusted source for breaking news, analysis, exclusive interviews, headlines, and videos at ABCNews.com.',\n",
       "  'url': 'https://abcnews.go.com',\n",
       "  'category': 'general',\n",
       "  'language': 'en',\n",
       "  'country': 'us'},\n",
       " {'id': 'abc-news-au',\n",
       "  'name': 'ABC News (AU)',\n",
       "  'description': \"Australia's most trusted source of local, national and world news. Comprehensive, independent, in-depth analysis, the latest business, sport, weather and more.\",\n",
       "  'url': 'https://www.abc.net.au/news',\n",
       "  'category': 'general',\n",
       "  'language': 'en',\n",
       "  'country': 'au'},\n",
       " {'id': 'aftenposten',\n",
       "  'name': 'Aftenposten',\n",
       "  'description': 'Norges ledende nettavis med alltid oppdaterte nyheter innenfor innenriks, utenriks, sport og kultur.',\n",
       "  'url': 'https://www.aftenposten.no',\n",
       "  'category': 'general',\n",
       "  'language': 'no',\n",
       "  'country': 'no'}]"
      ]
     },
     "execution_count": 131,
     "metadata": {},
     "output_type": "execute_result"
    }
   ],
   "source": [
    "# check all the available news sources\n",
    "sources = newsapi.get_sources()\n",
    "\n",
    "# check first 3\n",
    "sources['sources'][:3]"
   ]
  },
  {
   "cell_type": "markdown",
   "metadata": {
    "id": "1V9wAm3G6MRJ"
   },
   "source": [
    "### Retrieve and download Toyota and Tesla related articles"
   ]
  },
  {
   "cell_type": "code",
   "execution_count": 132,
   "metadata": {
    "id": "LeMaefZl6MRJ",
    "outputId": "e9324703-6392-458e-a80a-35a4201c9f8f"
   },
   "outputs": [
    {
     "name": "stdout",
     "output_type": "stream",
     "text": [
      "Toyota set to end massive Olympic sponsorship deal; unhappy over how IOC spent funds: report Vehicle manufacturer Toyota is set to end its massive sponsorship deal with the International Olympic Committee after this year's Paris Olympics, according to reports in Japan. Toyota has a contract through the 2024 Paris Games, which was reported to be value…\n",
      "2025 Rivian R1S and R1T, 2026 Toyota GR GT3: This Week's Top Photos U.S. EV startup Rivian introduced a major update to its debut R1S SUV and R1T pickup truck, and we've already tested it. While the electric SUV and pickup truck may look the same on the outside, big changes have taken place beneath the sheet metal, including …\n",
      "Flat 4-rotor hybrid? No, but Toyota, Subaru, and Mazda will develop a new engine together Toyota, Mazda, and Subaru on Tuesday announced plans for joint engine development aimed at reducing emissions. The goal of the project is to achieve carbon neutrality with internal-combustion engines, allowing these engines to stay in production in a future o…\n"
     ]
    }
   ],
   "source": [
    "# Please feel free to delete, but this elimates the need to update the date\n",
    "# This is helpful as we can only pull data from w/in 29 days\n",
    "\n",
    "# Get today's date\n",
    "today = datetime.today()\n",
    "\n",
    "# Calculate date 29 days ago\n",
    "twentynine_days_ago = today - timedelta(days=29)\n",
    "\n",
    "# Format dates in the required format (YYYY-MM-DD)\n",
    "from_date = twentynine_days_ago.strftime('%Y-%m-%d')\n",
    "to_date = today.strftime('%Y-%m-%d')\n",
    "\n",
    "# Get Toyota news text data\n",
    "toyota_raw = newsapi.get_everything(\n",
    "    q='toyota',\n",
    "    from_param=from_date,\n",
    "    to=to_date,\n",
    "    language='en',\n",
    "    sort_by='relevancy',\n",
    "    page=5\n",
    ")\n",
    "\n",
    "# Display the first 3 articles\n",
    "toyota_articles = toyota_raw['articles'][:3]\n",
    "for article in toyota_articles:\n",
    "    print(article['title'], article['description'])"
   ]
  },
  {
   "cell_type": "code",
   "execution_count": 133,
   "metadata": {
    "id": "Vfi4kJ006MRJ",
    "outputId": "7f696710-9173-4ee1-c5c8-09b4264444f0"
   },
   "outputs": [
    {
     "data": {
      "text/html": [
       "<div>\n",
       "<style scoped>\n",
       "    .dataframe tbody tr th:only-of-type {\n",
       "        vertical-align: middle;\n",
       "    }\n",
       "\n",
       "    .dataframe tbody tr th {\n",
       "        vertical-align: top;\n",
       "    }\n",
       "\n",
       "    .dataframe thead th {\n",
       "        text-align: right;\n",
       "    }\n",
       "</style>\n",
       "<table border=\"1\" class=\"dataframe\">\n",
       "  <thead>\n",
       "    <tr style=\"text-align: right;\">\n",
       "      <th></th>\n",
       "      <th>source</th>\n",
       "      <th>author</th>\n",
       "      <th>title</th>\n",
       "      <th>description</th>\n",
       "      <th>url</th>\n",
       "      <th>urlToImage</th>\n",
       "      <th>publishedAt</th>\n",
       "      <th>content</th>\n",
       "    </tr>\n",
       "  </thead>\n",
       "  <tbody>\n",
       "    <tr>\n",
       "      <th>0</th>\n",
       "      <td>{'id': None, 'name': 'Japan Today'}</td>\n",
       "      <td>None</td>\n",
       "      <td>Toyota set to end massive Olympic sponsorship deal; unhappy over how IOC spent funds: report</td>\n",
       "      <td>Vehicle manufacturer Toyota is set to end its massive sponsorship deal with the International Olympic Committee after this year's Paris Olympics, according to reports in Japan. Toyota has a contract through the 2024 Paris Games, which was reported to be value…</td>\n",
       "      <td>https://japantoday.com/category/sports/report-japanese-carmaker-toyota-set-to-end-massive-olympic-sponsorship-deal</td>\n",
       "      <td>None</td>\n",
       "      <td>2024-05-27T21:45:55Z</td>\n",
       "      <td>Vehicle manufacturer Toyota is set to end its massive sponsorship deal with the International Olympic Committee after this year's Paris Olympics, according to reports in Japan.\\r\\nToyota has a contract… [+3041 chars]</td>\n",
       "    </tr>\n",
       "    <tr>\n",
       "      <th>1</th>\n",
       "      <td>{'id': None, 'name': 'Motor Authority'}</td>\n",
       "      <td>news@motorauthority.com (Viknesh Vijayenthiran), Viknesh Vijayenthiran</td>\n",
       "      <td>2025 Rivian R1S and R1T, 2026 Toyota GR GT3: This Week's Top Photos</td>\n",
       "      <td>U.S. EV startup Rivian introduced a major update to its debut R1S SUV and R1T pickup truck, and we've already tested it. While the electric SUV and pickup truck may look the same on the outside, big changes have taken place beneath the sheet metal, including …</td>\n",
       "      <td>https://www.motorauthority.com/news/1143444_2025-rivian-r1-2026-toyota-gr-gt3-this-week-s-top-photos</td>\n",
       "      <td>https://images.hgmsites.net/hug/rivian_100932073_h.jpg</td>\n",
       "      <td>2024-06-08T14:00:00Z</td>\n",
       "      <td>U.S. EV startup Rivian introduced a major update to its debut R1S SUV and R1T pickup truck, and we've already tested it. While the electric SUV and pickup truck may look the same on the outside, big … [+2042 chars]</td>\n",
       "    </tr>\n",
       "    <tr>\n",
       "      <th>2</th>\n",
       "      <td>{'id': None, 'name': 'Motor Authority'}</td>\n",
       "      <td>news@motorauthority.com (Stephen Edelstein), Stephen Edelstein</td>\n",
       "      <td>Flat 4-rotor hybrid? No, but Toyota, Subaru, and Mazda will develop a new engine together</td>\n",
       "      <td>Toyota, Mazda, and Subaru on Tuesday announced plans for joint engine development aimed at reducing emissions. The goal of the project is to achieve carbon neutrality with internal-combustion engines, allowing these engines to stay in production in a future o…</td>\n",
       "      <td>https://www.motorauthority.com/news/1143295_flat-4-rotor-hybrid-no-but-toyota-subaru-and-mazda-will-develop-a-new-engine-together</td>\n",
       "      <td>https://images.hgmsites.net/hug/toyota-1-5-liter-inline-4_100930748_h.jpg</td>\n",
       "      <td>2024-05-28T15:07:00Z</td>\n",
       "      <td>Toyota, Mazda, and Subaru on Tuesday announced plans for joint engine development aimed at reducing emissions.\\r\\nThe goal of the project is to achieve carbon neutrality with internal-combustion engine… [+1672 chars]</td>\n",
       "    </tr>\n",
       "    <tr>\n",
       "      <th>3</th>\n",
       "      <td>{'id': None, 'name': 'IndieWire'}</td>\n",
       "      <td>Tony Maglio</td>\n",
       "      <td>Mid-Movie Ads Could Be Coming to a Streaming Service Near You</td>\n",
       "      <td>Ads on streaming have been around for a bit, but are they coming for at-home movie releases? IndieWire talks to advertising and AI experts.</td>\n",
       "      <td>https://www.indiewire.com/news/analysis/streaming-ads-movie-releases-netflix-warner-bros-1235006272/</td>\n",
       "      <td>https://www.indiewire.com/wp-content/uploads/2024/05/WBD_UPFRONT_24_25_0012.jpg?w=650</td>\n",
       "      <td>2024-05-23T13:00:00Z</td>\n",
       "      <td>Last week, Amazon made its first-ever pitch to advertisers at the annual upfronts in New York; for Netflix, it was the first it’s done in person. The streamers also pitched a whole new kind of TV sho… [+4448 chars]</td>\n",
       "    </tr>\n",
       "    <tr>\n",
       "      <th>4</th>\n",
       "      <td>{'id': None, 'name': 'The Boston Globe'}</td>\n",
       "      <td>YURI KAGEYAMA</td>\n",
       "      <td>Toyota apologizes for cheating on vehicle testing and halts production of three models</td>\n",
       "      <td>The wide-ranging fraudulent testing at Japan’s top automaker involved the use of inadequate or outdated data in collision tests, and incorrect testing of airbag inflation and rear-seat damage in crashes.</td>\n",
       "      <td>https://www.bostonglobe.com/2024/06/03/business/toyota-apologizes-cheating-vehicle-testing-halts-production-three-models/</td>\n",
       "      <td>https://bostonglobe-prod.cdn.arcpublishing.com/resizer/ABdGYDUxRco-u31KonPp-7G-fIQ=/506x0/cloudfront-us-east-1.images.arcpublishing.com/bostonglobe/ABBDJUDR3HWRIIP4YXPAB2LQUA.jpg</td>\n",
       "      <td>2024-06-03T22:06:30Z</td>\n",
       "      <td>TOKYO (AP) Toyota chairman Akio Toyoda apologized Monday for massive cheating on certification tests for seven vehicle models as the automaker suspended production of three of them.\\r\\nThe wide-ranging… [+2260 chars]</td>\n",
       "    </tr>\n",
       "  </tbody>\n",
       "</table>\n",
       "</div>"
      ],
      "text/plain": [
       "                                     source  \\\n",
       "0       {'id': None, 'name': 'Japan Today'}   \n",
       "1   {'id': None, 'name': 'Motor Authority'}   \n",
       "2   {'id': None, 'name': 'Motor Authority'}   \n",
       "3         {'id': None, 'name': 'IndieWire'}   \n",
       "4  {'id': None, 'name': 'The Boston Globe'}   \n",
       "\n",
       "                                                                   author  \\\n",
       "0                                                                    None   \n",
       "1  news@motorauthority.com (Viknesh Vijayenthiran), Viknesh Vijayenthiran   \n",
       "2          news@motorauthority.com (Stephen Edelstein), Stephen Edelstein   \n",
       "3                                                             Tony Maglio   \n",
       "4                                                           YURI KAGEYAMA   \n",
       "\n",
       "                                                                                          title  \\\n",
       "0  Toyota set to end massive Olympic sponsorship deal; unhappy over how IOC spent funds: report   \n",
       "1                           2025 Rivian R1S and R1T, 2026 Toyota GR GT3: This Week's Top Photos   \n",
       "2     Flat 4-rotor hybrid? No, but Toyota, Subaru, and Mazda will develop a new engine together   \n",
       "3                                 Mid-Movie Ads Could Be Coming to a Streaming Service Near You   \n",
       "4        Toyota apologizes for cheating on vehicle testing and halts production of three models   \n",
       "\n",
       "                                                                                                                                                                                                                                                            description  \\\n",
       "0  Vehicle manufacturer Toyota is set to end its massive sponsorship deal with the International Olympic Committee after this year's Paris Olympics, according to reports in Japan. Toyota has a contract through the 2024 Paris Games, which was reported to be value…   \n",
       "1  U.S. EV startup Rivian introduced a major update to its debut R1S SUV and R1T pickup truck, and we've already tested it. While the electric SUV and pickup truck may look the same on the outside, big changes have taken place beneath the sheet metal, including …   \n",
       "2  Toyota, Mazda, and Subaru on Tuesday announced plans for joint engine development aimed at reducing emissions. The goal of the project is to achieve carbon neutrality with internal-combustion engines, allowing these engines to stay in production in a future o…   \n",
       "3                                                                                                                           Ads on streaming have been around for a bit, but are they coming for at-home movie releases? IndieWire talks to advertising and AI experts.   \n",
       "4                                                           The wide-ranging fraudulent testing at Japan’s top automaker involved the use of inadequate or outdated data in collision tests, and incorrect testing of airbag inflation and rear-seat damage in crashes.   \n",
       "\n",
       "                                                                                                                                 url  \\\n",
       "0                 https://japantoday.com/category/sports/report-japanese-carmaker-toyota-set-to-end-massive-olympic-sponsorship-deal   \n",
       "1                               https://www.motorauthority.com/news/1143444_2025-rivian-r1-2026-toyota-gr-gt3-this-week-s-top-photos   \n",
       "2  https://www.motorauthority.com/news/1143295_flat-4-rotor-hybrid-no-but-toyota-subaru-and-mazda-will-develop-a-new-engine-together   \n",
       "3                               https://www.indiewire.com/news/analysis/streaming-ads-movie-releases-netflix-warner-bros-1235006272/   \n",
       "4          https://www.bostonglobe.com/2024/06/03/business/toyota-apologizes-cheating-vehicle-testing-halts-production-three-models/   \n",
       "\n",
       "                                                                                                                                                                           urlToImage  \\\n",
       "0                                                                                                                                                                                None   \n",
       "1                                                                                                                              https://images.hgmsites.net/hug/rivian_100932073_h.jpg   \n",
       "2                                                                                                           https://images.hgmsites.net/hug/toyota-1-5-liter-inline-4_100930748_h.jpg   \n",
       "3                                                                                               https://www.indiewire.com/wp-content/uploads/2024/05/WBD_UPFRONT_24_25_0012.jpg?w=650   \n",
       "4  https://bostonglobe-prod.cdn.arcpublishing.com/resizer/ABdGYDUxRco-u31KonPp-7G-fIQ=/506x0/cloudfront-us-east-1.images.arcpublishing.com/bostonglobe/ABBDJUDR3HWRIIP4YXPAB2LQUA.jpg   \n",
       "\n",
       "            publishedAt  \\\n",
       "0  2024-05-27T21:45:55Z   \n",
       "1  2024-06-08T14:00:00Z   \n",
       "2  2024-05-28T15:07:00Z   \n",
       "3  2024-05-23T13:00:00Z   \n",
       "4  2024-06-03T22:06:30Z   \n",
       "\n",
       "                                                                                                                                                                                                                    content  \n",
       "0  Vehicle manufacturer Toyota is set to end its massive sponsorship deal with the International Olympic Committee after this year's Paris Olympics, according to reports in Japan.\\r\\nToyota has a contract… [+3041 chars]  \n",
       "1    U.S. EV startup Rivian introduced a major update to its debut R1S SUV and R1T pickup truck, and we've already tested it. While the electric SUV and pickup truck may look the same on the outside, big … [+2042 chars]  \n",
       "2  Toyota, Mazda, and Subaru on Tuesday announced plans for joint engine development aimed at reducing emissions.\\r\\nThe goal of the project is to achieve carbon neutrality with internal-combustion engine… [+1672 chars]  \n",
       "3    Last week, Amazon made its first-ever pitch to advertisers at the annual upfronts in New York; for Netflix, it was the first it’s done in person. The streamers also pitched a whole new kind of TV sho… [+4448 chars]  \n",
       "4  TOKYO (AP) Toyota chairman Akio Toyoda apologized Monday for massive cheating on certification tests for seven vehicle models as the automaker suspended production of three of them.\\r\\nThe wide-ranging… [+2260 chars]  "
      ]
     },
     "execution_count": 133,
     "metadata": {},
     "output_type": "execute_result"
    }
   ],
   "source": [
    "# convert the json into a df\n",
    "df = pd.DataFrame(toyota_raw['articles'])\n",
    "df.head()"
   ]
  },
  {
   "cell_type": "code",
   "execution_count": 134,
   "metadata": {
    "id": "eoi5iWEP6MRJ"
   },
   "outputs": [],
   "source": [
    "# create a data folder to store the csv data\n",
    "if not os.path.exists('data/toyota'):\n",
    "    os.makedirs('data/toyota')"
   ]
  },
  {
   "cell_type": "code",
   "execution_count": 135,
   "metadata": {
    "id": "fLgX0fn-6MRJ"
   },
   "outputs": [],
   "source": [
    "# download the toyota text data to data folder\n",
    "df.to_csv('data/toyota/data.csv', index=False)"
   ]
  },
  {
   "cell_type": "code",
   "execution_count": 136,
   "metadata": {
    "id": "CRb5E0C16MRJ",
    "outputId": "45d8161b-520b-4208-b43d-00bc20d6c90e"
   },
   "outputs": [
    {
     "name": "stdout",
     "output_type": "stream",
     "text": [
      "Is It Time to Buy 3 of the S&P 500's Worst-Performing Stocks of 2024? The S&P 500 includes some of the best companies in the world. Among the worst performers in the index this year are industry-leading businesses that could be undervalued. While the index is up 11% year to date, shares of Intel (NASDAQ: INTC), Starbucks (NASDA…\n",
      "Shareholders show how much Elon Musk means to Tesla Shareholders show how much Elon Musk means to Tesla Axios\n",
      "Opinion | Tesla's shareholders approved $50 billion for Musk, picking hype over reality - The Washington Post The Washington Post\n",
      "It’s payday for Elon Musk: Jack Otter Fox Business\n",
      "Elon Musk wins Tesla…\n",
      "Elon Musk's pay package approval was a mistake and Tesla needs to keep him in check, some institutional shareholders say Elon Musk.\n",
      "Apu Gomes via Getty Images\n",
      "Tesla investors voted on Thursday to approve Elon Musk's multibillion-dollar pay package.\n",
      "However, some institutional shareholders told BI that Musk's award was a mistake.\n",
      "One investor questioned if Musk is the right pers…\n"
     ]
    }
   ],
   "source": [
    "# Please feel free to delete, but this elimates the need to update the date\n",
    "# This is helpful as we can only pull data from w/in 29 days\n",
    "\n",
    "# Get today's date\n",
    "today = datetime.today()\n",
    "\n",
    "# Format dates in the required format (YYYY-MM-DD)\n",
    "from_date = twentynine_days_ago.strftime('%Y-%m-%d')\n",
    "to_date = today.strftime('%Y-%m-%d')\n",
    "\n",
    "# Get Toyota news text data\n",
    "tesla_raw = newsapi.get_everything(\n",
    "    q='tesla',\n",
    "    from_param=from_date,\n",
    "    to=to_date,\n",
    "    language='en',\n",
    "    sort_by='relevancy',\n",
    "    page=5\n",
    ")\n",
    "\n",
    "# Display the first 3 articles\n",
    "tesla_articles = tesla_raw['articles'][:3]\n",
    "for article in tesla_articles:\n",
    "    print(article['title'], article['description'])"
   ]
  },
  {
   "cell_type": "markdown",
   "metadata": {
    "id": "PVOT2hhv6MRK"
   },
   "source": [
    "### Read in Tesla & Toyota CSVs just saved and do Initial Transformations\n",
    "We use CSVs from the initial API pull to make our project repeatable and easier to collaborate on."
   ]
  },
  {
   "cell_type": "code",
   "execution_count": 137,
   "metadata": {
    "colab": {
     "base_uri": "https://localhost:8080/",
     "height": 1000
    },
    "id": "0AOc8oVL6MRK",
    "outputId": "a3c78b16-1717-4e6d-edb5-08bf282824fb"
   },
   "outputs": [
    {
     "data": {
      "text/html": [
       "<div>\n",
       "<style scoped>\n",
       "    .dataframe tbody tr th:only-of-type {\n",
       "        vertical-align: middle;\n",
       "    }\n",
       "\n",
       "    .dataframe tbody tr th {\n",
       "        vertical-align: top;\n",
       "    }\n",
       "\n",
       "    .dataframe thead th {\n",
       "        text-align: right;\n",
       "    }\n",
       "</style>\n",
       "<table border=\"1\" class=\"dataframe\">\n",
       "  <thead>\n",
       "    <tr style=\"text-align: right;\">\n",
       "      <th></th>\n",
       "      <th>source</th>\n",
       "      <th>author</th>\n",
       "      <th>title</th>\n",
       "      <th>description</th>\n",
       "      <th>url</th>\n",
       "      <th>urlToImage</th>\n",
       "      <th>publishedAt</th>\n",
       "      <th>content</th>\n",
       "    </tr>\n",
       "  </thead>\n",
       "  <tbody>\n",
       "    <tr>\n",
       "      <th>0</th>\n",
       "      <td>{'id': None, 'name': 'CleanTechnica'}</td>\n",
       "      <td>Zachary Shahan</td>\n",
       "      <td>Tesla “Full Self Driving” Could Come To Other Countries Before Long</td>\n",
       "      <td>Ever since Tesla started rolling out Full Self Driving (FSD) to non-employee Tesla owners in the US, people in other countries have been asking when they’ll be able to install and use FSD. As far as I remember, it’s always been a vague “someday…” kind of resp…</td>\n",
       "      <td>https://cleantechnica.com/2024/04/23/tesla-full-self-driving-could-come-to-other-countries-before-long/</td>\n",
       "      <td>https://cleantechnica.com/wp-content/uploads/2024/03/Tesla-Model-3-Autostopping-Stop-Light-Autopilot-Full-Self-Driving-CleanTechnica-Stopping-New-FSD.jpeg</td>\n",
       "      <td>2024-04-24T03:55:41Z</td>\n",
       "      <td>Sign up for daily news updates from CleanTechnica on email. Or follow us on Google News!\\r\\nEver since Tesla started rolling out Full Self Driving (FSD) to non-employee Tesla owners in the US, people i… [+3965 chars]</td>\n",
       "    </tr>\n",
       "    <tr>\n",
       "      <th>1</th>\n",
       "      <td>{'id': None, 'name': 'CleanTechnica'}</td>\n",
       "      <td>Zachary Shahan</td>\n",
       "      <td>More Than 3× As Many Tesla Model Y Sales As Tesla Model 3 Sales In USA In 1st Quarter</td>\n",
       "      <td>Tesla’s just had a tough quarter, including in the United States, but a tough quarter for Tesla would be a stunning, fantabulous success for any other company trying to sell electric vehicles. In the USA, according to data from Cox Automotive and Kelley Blue …</td>\n",
       "      <td>https://cleantechnica.com/2024/04/19/more-than-3x-as-many-tesla-model-y-sales-as-tesla-model-3-sales-in-usa-in-1st-quarter/</td>\n",
       "      <td>https://cleantechnica.com/wp-content/uploads/2024/02/New-Tesla-Model-Y-Model-3-Model-S-Model-X-Supercharging-Florida-Station-CleanTechnica-Watermark-Sky-logo-800x445.png</td>\n",
       "      <td>2024-04-20T03:57:24Z</td>\n",
       "      <td>Sign up for daily news updates from CleanTechnica on email. Or follow us on Google News!\\r\\nTesla’s just had a tough quarter, including in the United States, but a tough quarter for Tesla would be a st… [+4173 chars]</td>\n",
       "    </tr>\n",
       "    <tr>\n",
       "      <th>2</th>\n",
       "      <td>{'id': None, 'name': 'CleanTechnica'}</td>\n",
       "      <td>Paul Fosse</td>\n",
       "      <td>Tesla Surprises Investors With A Tiny Y &amp; A Tiny 3 As Soon As This Year!</td>\n",
       "      <td>A lot has been written about the Tesla’s next-generation compact car that used to be widely called the Model 2, including Zach’s excellent article last week about it. Zach asked who might pick up the challenge in place of Tesla doing it. Today, Tesla announce…</td>\n",
       "      <td>https://cleantechnica.com/2024/04/23/tesla-surprises-investors-with-a-tiny-y-a-tiny-3-as-soon-as-this-year/</td>\n",
       "      <td>https://cleantechnica.com/wp-content/uploads/2023/12/Apple-Car-Tesla-Model-3-CleanTechnica-Front-Glass-Watermark-Logo-scaled.jpeg</td>\n",
       "      <td>2024-04-24T01:56:23Z</td>\n",
       "      <td>Sign up for daily news updates from CleanTechnica on email. Or follow us on Google News!\\r\\nA lot has been written about the Tesla’s next-generation compact car that used to be widely called the Model … [+6014 chars]</td>\n",
       "    </tr>\n",
       "    <tr>\n",
       "      <th>3</th>\n",
       "      <td>{'id': None, 'name': 'CleanTechnica'}</td>\n",
       "      <td>Carolyn Fortuna</td>\n",
       "      <td>The Revisionist Language That Tesla Used In The Q1 2024 Earnings Call</td>\n",
       "      <td>The Tesla, Inc. Q1 2024 earnings call was fascinating in how Tesla representatives drew on carefully phrased statements to appease and turn around what was then a largely disgruntled shareholder group. The revisionist language within the earnings call took co…</td>\n",
       "      <td>https://cleantechnica.com/2024/04/26/the-revisionist-language-that-tesla-used-in-the-q1-2024-earnings-call/</td>\n",
       "      <td>https://cleantechnica.com/wp-content/uploads/2023/06/Elon-Musk-CleanTechnica-shirt-Tesla-Model-Y-reveal-watermark.jpeg</td>\n",
       "      <td>2024-04-26T19:24:10Z</td>\n",
       "      <td>Sign up for daily news updates from CleanTechnica on email. Or follow us on Google News!\\r\\nThe Tesla, Inc. Q1 2024 earnings call was fascinating in how Tesla representatives drew on carefully phrased … [+9089 chars]</td>\n",
       "    </tr>\n",
       "    <tr>\n",
       "      <th>4</th>\n",
       "      <td>{'id': 'techcrunch', 'name': 'TechCrunch'}</td>\n",
       "      <td>Paul Sawers</td>\n",
       "      <td>French startup FlexAI exits stealth with $30M to ease access to AI compute</td>\n",
       "      <td>A French startup has raised a hefty seed investment to \"rearchitect compute infrastructure\" for developers wanting to build and train AI applications more...</td>\n",
       "      <td>https://techcrunch.com/2024/04/23/french-startup-flexai-exits-stealth-with-30m-to-ease-access-to-ai-compute/</td>\n",
       "      <td>https://s.yimg.com/ny/api/res/1.2/V7FcJP2rJb.YNXWOmWjLrw--/YXBwaWQ9aGlnaGxhbmRlcjt3PTEyMDA7aD02NzQ-/https://media.zenfs.com/en/techcrunch_350/128964a889f3f6262e9e1f768561ec69</td>\n",
       "      <td>2024-04-24T05:37:28Z</td>\n",
       "      <td>A French startup has raised a hefty seed investment to \"rearchitect compute infrastructure\" for developers wanting to build and train AI applications more efficiently.\\r\\nFlexAI, as the company is call… [+10420 chars]</td>\n",
       "    </tr>\n",
       "  </tbody>\n",
       "</table>\n",
       "</div>"
      ],
      "text/plain": [
       "                                       source           author  \\\n",
       "0       {'id': None, 'name': 'CleanTechnica'}   Zachary Shahan   \n",
       "1       {'id': None, 'name': 'CleanTechnica'}   Zachary Shahan   \n",
       "2       {'id': None, 'name': 'CleanTechnica'}       Paul Fosse   \n",
       "3       {'id': None, 'name': 'CleanTechnica'}  Carolyn Fortuna   \n",
       "4  {'id': 'techcrunch', 'name': 'TechCrunch'}      Paul Sawers   \n",
       "\n",
       "                                                                                   title  \\\n",
       "0                    Tesla “Full Self Driving” Could Come To Other Countries Before Long   \n",
       "1  More Than 3× As Many Tesla Model Y Sales As Tesla Model 3 Sales In USA In 1st Quarter   \n",
       "2               Tesla Surprises Investors With A Tiny Y & A Tiny 3 As Soon As This Year!   \n",
       "3                  The Revisionist Language That Tesla Used In The Q1 2024 Earnings Call   \n",
       "4             French startup FlexAI exits stealth with $30M to ease access to AI compute   \n",
       "\n",
       "                                                                                                                                                                                                                                                            description  \\\n",
       "0  Ever since Tesla started rolling out Full Self Driving (FSD) to non-employee Tesla owners in the US, people in other countries have been asking when they’ll be able to install and use FSD. As far as I remember, it’s always been a vague “someday…” kind of resp…   \n",
       "1  Tesla’s just had a tough quarter, including in the United States, but a tough quarter for Tesla would be a stunning, fantabulous success for any other company trying to sell electric vehicles. In the USA, according to data from Cox Automotive and Kelley Blue …   \n",
       "2  A lot has been written about the Tesla’s next-generation compact car that used to be widely called the Model 2, including Zach’s excellent article last week about it. Zach asked who might pick up the challenge in place of Tesla doing it. Today, Tesla announce…   \n",
       "3  The Tesla, Inc. Q1 2024 earnings call was fascinating in how Tesla representatives drew on carefully phrased statements to appease and turn around what was then a largely disgruntled shareholder group. The revisionist language within the earnings call took co…   \n",
       "4                                                                                                         A French startup has raised a hefty seed investment to \"rearchitect compute infrastructure\" for developers wanting to build and train AI applications more...   \n",
       "\n",
       "                                                                                                                           url  \\\n",
       "0                      https://cleantechnica.com/2024/04/23/tesla-full-self-driving-could-come-to-other-countries-before-long/   \n",
       "1  https://cleantechnica.com/2024/04/19/more-than-3x-as-many-tesla-model-y-sales-as-tesla-model-3-sales-in-usa-in-1st-quarter/   \n",
       "2                  https://cleantechnica.com/2024/04/23/tesla-surprises-investors-with-a-tiny-y-a-tiny-3-as-soon-as-this-year/   \n",
       "3                  https://cleantechnica.com/2024/04/26/the-revisionist-language-that-tesla-used-in-the-q1-2024-earnings-call/   \n",
       "4                 https://techcrunch.com/2024/04/23/french-startup-flexai-exits-stealth-with-30m-to-ease-access-to-ai-compute/   \n",
       "\n",
       "                                                                                                                                                                       urlToImage  \\\n",
       "0                      https://cleantechnica.com/wp-content/uploads/2024/03/Tesla-Model-3-Autostopping-Stop-Light-Autopilot-Full-Self-Driving-CleanTechnica-Stopping-New-FSD.jpeg   \n",
       "1       https://cleantechnica.com/wp-content/uploads/2024/02/New-Tesla-Model-Y-Model-3-Model-S-Model-X-Supercharging-Florida-Station-CleanTechnica-Watermark-Sky-logo-800x445.png   \n",
       "2                                               https://cleantechnica.com/wp-content/uploads/2023/12/Apple-Car-Tesla-Model-3-CleanTechnica-Front-Glass-Watermark-Logo-scaled.jpeg   \n",
       "3                                                          https://cleantechnica.com/wp-content/uploads/2023/06/Elon-Musk-CleanTechnica-shirt-Tesla-Model-Y-reveal-watermark.jpeg   \n",
       "4  https://s.yimg.com/ny/api/res/1.2/V7FcJP2rJb.YNXWOmWjLrw--/YXBwaWQ9aGlnaGxhbmRlcjt3PTEyMDA7aD02NzQ-/https://media.zenfs.com/en/techcrunch_350/128964a889f3f6262e9e1f768561ec69   \n",
       "\n",
       "            publishedAt  \\\n",
       "0  2024-04-24T03:55:41Z   \n",
       "1  2024-04-20T03:57:24Z   \n",
       "2  2024-04-24T01:56:23Z   \n",
       "3  2024-04-26T19:24:10Z   \n",
       "4  2024-04-24T05:37:28Z   \n",
       "\n",
       "                                                                                                                                                                                                                     content  \n",
       "0   Sign up for daily news updates from CleanTechnica on email. Or follow us on Google News!\\r\\nEver since Tesla started rolling out Full Self Driving (FSD) to non-employee Tesla owners in the US, people i… [+3965 chars]  \n",
       "1   Sign up for daily news updates from CleanTechnica on email. Or follow us on Google News!\\r\\nTesla’s just had a tough quarter, including in the United States, but a tough quarter for Tesla would be a st… [+4173 chars]  \n",
       "2   Sign up for daily news updates from CleanTechnica on email. Or follow us on Google News!\\r\\nA lot has been written about the Tesla’s next-generation compact car that used to be widely called the Model … [+6014 chars]  \n",
       "3   Sign up for daily news updates from CleanTechnica on email. Or follow us on Google News!\\r\\nThe Tesla, Inc. Q1 2024 earnings call was fascinating in how Tesla representatives drew on carefully phrased … [+9089 chars]  \n",
       "4  A French startup has raised a hefty seed investment to \"rearchitect compute infrastructure\" for developers wanting to build and train AI applications more efficiently.\\r\\nFlexAI, as the company is call… [+10420 chars]  "
      ]
     },
     "execution_count": 137,
     "metadata": {},
     "output_type": "execute_result"
    }
   ],
   "source": [
    "# For whatever reason, this did not work for me even though I can see the file in the directory\n",
    "\n",
    "# read in the data\n",
    "#raw_tesla = pd.read_csv('data/tesla/data.csv')\n",
    "#raw_tesla.head()\n",
    "\n",
    "# I had to use this approach\n",
    "raw_tesla = pd.read_csv('/Users/jesse/Desktop/School/University of San Diego/ADS 509- Applied Text Mining/Project 2.0/ADS-509-Team-1/data/tesla/data.csv')\n",
    "raw_tesla.head()"
   ]
  },
  {
   "cell_type": "code",
   "execution_count": 138,
   "metadata": {
    "colab": {
     "base_uri": "https://localhost:8080/"
    },
    "id": "0pEY5n8j6MRK",
    "outputId": "e8e4b745-3eae-4bec-c03d-7fc7fc10514c"
   },
   "outputs": [
    {
     "data": {
      "text/plain": [
       "(100, 8)"
      ]
     },
     "execution_count": 138,
     "metadata": {},
     "output_type": "execute_result"
    }
   ],
   "source": [
    "# 100 records with 8 fields\n",
    "raw_tesla.shape"
   ]
  },
  {
   "cell_type": "code",
   "execution_count": 139,
   "metadata": {
    "colab": {
     "base_uri": "https://localhost:8080/",
     "height": 1000
    },
    "id": "6-UTW6HG6MRK",
    "outputId": "8539726a-263c-4595-f5fe-f9a4599d9a39"
   },
   "outputs": [
    {
     "data": {
      "text/html": [
       "<div>\n",
       "<style scoped>\n",
       "    .dataframe tbody tr th:only-of-type {\n",
       "        vertical-align: middle;\n",
       "    }\n",
       "\n",
       "    .dataframe tbody tr th {\n",
       "        vertical-align: top;\n",
       "    }\n",
       "\n",
       "    .dataframe thead th {\n",
       "        text-align: right;\n",
       "    }\n",
       "</style>\n",
       "<table border=\"1\" class=\"dataframe\">\n",
       "  <thead>\n",
       "    <tr style=\"text-align: right;\">\n",
       "      <th></th>\n",
       "      <th>source</th>\n",
       "      <th>author</th>\n",
       "      <th>title</th>\n",
       "      <th>description</th>\n",
       "      <th>url</th>\n",
       "      <th>urlToImage</th>\n",
       "      <th>publishedAt</th>\n",
       "      <th>content</th>\n",
       "    </tr>\n",
       "  </thead>\n",
       "  <tbody>\n",
       "    <tr>\n",
       "      <th>0</th>\n",
       "      <td>{'id': None, 'name': 'Japan Today'}</td>\n",
       "      <td>NaN</td>\n",
       "      <td>Toyota set to end massive Olympic sponsorship deal; unhappy over how IOC spent funds: report</td>\n",
       "      <td>Vehicle manufacturer Toyota is set to end its massive sponsorship deal with the International Olympic Committee after this year's Paris Olympics, according to reports in Japan. Toyota has a contract through the 2024 Paris Games, which was reported to be value…</td>\n",
       "      <td>https://japantoday.com/category/sports/report-japanese-carmaker-toyota-set-to-end-massive-olympic-sponsorship-deal</td>\n",
       "      <td>NaN</td>\n",
       "      <td>2024-05-27T21:45:55Z</td>\n",
       "      <td>Vehicle manufacturer Toyota is set to end its massive sponsorship deal with the International Olympic Committee after this year's Paris Olympics, according to reports in Japan.\\r\\nToyota has a contract… [+3041 chars]</td>\n",
       "    </tr>\n",
       "    <tr>\n",
       "      <th>1</th>\n",
       "      <td>{'id': None, 'name': 'Motor Authority'}</td>\n",
       "      <td>news@motorauthority.com (Viknesh Vijayenthiran), Viknesh Vijayenthiran</td>\n",
       "      <td>2025 Rivian R1S and R1T, 2026 Toyota GR GT3: This Week's Top Photos</td>\n",
       "      <td>U.S. EV startup Rivian introduced a major update to its debut R1S SUV and R1T pickup truck, and we've already tested it. While the electric SUV and pickup truck may look the same on the outside, big changes have taken place beneath the sheet metal, including …</td>\n",
       "      <td>https://www.motorauthority.com/news/1143444_2025-rivian-r1-2026-toyota-gr-gt3-this-week-s-top-photos</td>\n",
       "      <td>https://images.hgmsites.net/hug/rivian_100932073_h.jpg</td>\n",
       "      <td>2024-06-08T14:00:00Z</td>\n",
       "      <td>U.S. EV startup Rivian introduced a major update to its debut R1S SUV and R1T pickup truck, and we've already tested it. While the electric SUV and pickup truck may look the same on the outside, big … [+2042 chars]</td>\n",
       "    </tr>\n",
       "    <tr>\n",
       "      <th>2</th>\n",
       "      <td>{'id': None, 'name': 'Motor Authority'}</td>\n",
       "      <td>news@motorauthority.com (Stephen Edelstein), Stephen Edelstein</td>\n",
       "      <td>Flat 4-rotor hybrid? No, but Toyota, Subaru, and Mazda will develop a new engine together</td>\n",
       "      <td>Toyota, Mazda, and Subaru on Tuesday announced plans for joint engine development aimed at reducing emissions. The goal of the project is to achieve carbon neutrality with internal-combustion engines, allowing these engines to stay in production in a future o…</td>\n",
       "      <td>https://www.motorauthority.com/news/1143295_flat-4-rotor-hybrid-no-but-toyota-subaru-and-mazda-will-develop-a-new-engine-together</td>\n",
       "      <td>https://images.hgmsites.net/hug/toyota-1-5-liter-inline-4_100930748_h.jpg</td>\n",
       "      <td>2024-05-28T15:07:00Z</td>\n",
       "      <td>Toyota, Mazda, and Subaru on Tuesday announced plans for joint engine development aimed at reducing emissions.\\r\\nThe goal of the project is to achieve carbon neutrality with internal-combustion engine… [+1672 chars]</td>\n",
       "    </tr>\n",
       "    <tr>\n",
       "      <th>3</th>\n",
       "      <td>{'id': None, 'name': 'IndieWire'}</td>\n",
       "      <td>Tony Maglio</td>\n",
       "      <td>Mid-Movie Ads Could Be Coming to a Streaming Service Near You</td>\n",
       "      <td>Ads on streaming have been around for a bit, but are they coming for at-home movie releases? IndieWire talks to advertising and AI experts.</td>\n",
       "      <td>https://www.indiewire.com/news/analysis/streaming-ads-movie-releases-netflix-warner-bros-1235006272/</td>\n",
       "      <td>https://www.indiewire.com/wp-content/uploads/2024/05/WBD_UPFRONT_24_25_0012.jpg?w=650</td>\n",
       "      <td>2024-05-23T13:00:00Z</td>\n",
       "      <td>Last week, Amazon made its first-ever pitch to advertisers at the annual upfronts in New York; for Netflix, it was the first it’s done in person. The streamers also pitched a whole new kind of TV sho… [+4448 chars]</td>\n",
       "    </tr>\n",
       "    <tr>\n",
       "      <th>4</th>\n",
       "      <td>{'id': None, 'name': 'The Boston Globe'}</td>\n",
       "      <td>YURI KAGEYAMA</td>\n",
       "      <td>Toyota apologizes for cheating on vehicle testing and halts production of three models</td>\n",
       "      <td>The wide-ranging fraudulent testing at Japan’s top automaker involved the use of inadequate or outdated data in collision tests, and incorrect testing of airbag inflation and rear-seat damage in crashes.</td>\n",
       "      <td>https://www.bostonglobe.com/2024/06/03/business/toyota-apologizes-cheating-vehicle-testing-halts-production-three-models/</td>\n",
       "      <td>https://bostonglobe-prod.cdn.arcpublishing.com/resizer/ABdGYDUxRco-u31KonPp-7G-fIQ=/506x0/cloudfront-us-east-1.images.arcpublishing.com/bostonglobe/ABBDJUDR3HWRIIP4YXPAB2LQUA.jpg</td>\n",
       "      <td>2024-06-03T22:06:30Z</td>\n",
       "      <td>TOKYO (AP) Toyota chairman Akio Toyoda apologized Monday for massive cheating on certification tests for seven vehicle models as the automaker suspended production of three of them.\\r\\nThe wide-ranging… [+2260 chars]</td>\n",
       "    </tr>\n",
       "  </tbody>\n",
       "</table>\n",
       "</div>"
      ],
      "text/plain": [
       "                                     source  \\\n",
       "0       {'id': None, 'name': 'Japan Today'}   \n",
       "1   {'id': None, 'name': 'Motor Authority'}   \n",
       "2   {'id': None, 'name': 'Motor Authority'}   \n",
       "3         {'id': None, 'name': 'IndieWire'}   \n",
       "4  {'id': None, 'name': 'The Boston Globe'}   \n",
       "\n",
       "                                                                   author  \\\n",
       "0                                                                     NaN   \n",
       "1  news@motorauthority.com (Viknesh Vijayenthiran), Viknesh Vijayenthiran   \n",
       "2          news@motorauthority.com (Stephen Edelstein), Stephen Edelstein   \n",
       "3                                                             Tony Maglio   \n",
       "4                                                           YURI KAGEYAMA   \n",
       "\n",
       "                                                                                          title  \\\n",
       "0  Toyota set to end massive Olympic sponsorship deal; unhappy over how IOC spent funds: report   \n",
       "1                           2025 Rivian R1S and R1T, 2026 Toyota GR GT3: This Week's Top Photos   \n",
       "2     Flat 4-rotor hybrid? No, but Toyota, Subaru, and Mazda will develop a new engine together   \n",
       "3                                 Mid-Movie Ads Could Be Coming to a Streaming Service Near You   \n",
       "4        Toyota apologizes for cheating on vehicle testing and halts production of three models   \n",
       "\n",
       "                                                                                                                                                                                                                                                            description  \\\n",
       "0  Vehicle manufacturer Toyota is set to end its massive sponsorship deal with the International Olympic Committee after this year's Paris Olympics, according to reports in Japan. Toyota has a contract through the 2024 Paris Games, which was reported to be value…   \n",
       "1  U.S. EV startup Rivian introduced a major update to its debut R1S SUV and R1T pickup truck, and we've already tested it. While the electric SUV and pickup truck may look the same on the outside, big changes have taken place beneath the sheet metal, including …   \n",
       "2  Toyota, Mazda, and Subaru on Tuesday announced plans for joint engine development aimed at reducing emissions. The goal of the project is to achieve carbon neutrality with internal-combustion engines, allowing these engines to stay in production in a future o…   \n",
       "3                                                                                                                           Ads on streaming have been around for a bit, but are they coming for at-home movie releases? IndieWire talks to advertising and AI experts.   \n",
       "4                                                           The wide-ranging fraudulent testing at Japan’s top automaker involved the use of inadequate or outdated data in collision tests, and incorrect testing of airbag inflation and rear-seat damage in crashes.   \n",
       "\n",
       "                                                                                                                                 url  \\\n",
       "0                 https://japantoday.com/category/sports/report-japanese-carmaker-toyota-set-to-end-massive-olympic-sponsorship-deal   \n",
       "1                               https://www.motorauthority.com/news/1143444_2025-rivian-r1-2026-toyota-gr-gt3-this-week-s-top-photos   \n",
       "2  https://www.motorauthority.com/news/1143295_flat-4-rotor-hybrid-no-but-toyota-subaru-and-mazda-will-develop-a-new-engine-together   \n",
       "3                               https://www.indiewire.com/news/analysis/streaming-ads-movie-releases-netflix-warner-bros-1235006272/   \n",
       "4          https://www.bostonglobe.com/2024/06/03/business/toyota-apologizes-cheating-vehicle-testing-halts-production-three-models/   \n",
       "\n",
       "                                                                                                                                                                           urlToImage  \\\n",
       "0                                                                                                                                                                                 NaN   \n",
       "1                                                                                                                              https://images.hgmsites.net/hug/rivian_100932073_h.jpg   \n",
       "2                                                                                                           https://images.hgmsites.net/hug/toyota-1-5-liter-inline-4_100930748_h.jpg   \n",
       "3                                                                                               https://www.indiewire.com/wp-content/uploads/2024/05/WBD_UPFRONT_24_25_0012.jpg?w=650   \n",
       "4  https://bostonglobe-prod.cdn.arcpublishing.com/resizer/ABdGYDUxRco-u31KonPp-7G-fIQ=/506x0/cloudfront-us-east-1.images.arcpublishing.com/bostonglobe/ABBDJUDR3HWRIIP4YXPAB2LQUA.jpg   \n",
       "\n",
       "            publishedAt  \\\n",
       "0  2024-05-27T21:45:55Z   \n",
       "1  2024-06-08T14:00:00Z   \n",
       "2  2024-05-28T15:07:00Z   \n",
       "3  2024-05-23T13:00:00Z   \n",
       "4  2024-06-03T22:06:30Z   \n",
       "\n",
       "                                                                                                                                                                                                                    content  \n",
       "0  Vehicle manufacturer Toyota is set to end its massive sponsorship deal with the International Olympic Committee after this year's Paris Olympics, according to reports in Japan.\\r\\nToyota has a contract… [+3041 chars]  \n",
       "1    U.S. EV startup Rivian introduced a major update to its debut R1S SUV and R1T pickup truck, and we've already tested it. While the electric SUV and pickup truck may look the same on the outside, big … [+2042 chars]  \n",
       "2  Toyota, Mazda, and Subaru on Tuesday announced plans for joint engine development aimed at reducing emissions.\\r\\nThe goal of the project is to achieve carbon neutrality with internal-combustion engine… [+1672 chars]  \n",
       "3    Last week, Amazon made its first-ever pitch to advertisers at the annual upfronts in New York; for Netflix, it was the first it’s done in person. The streamers also pitched a whole new kind of TV sho… [+4448 chars]  \n",
       "4  TOKYO (AP) Toyota chairman Akio Toyoda apologized Monday for massive cheating on certification tests for seven vehicle models as the automaker suspended production of three of them.\\r\\nThe wide-ranging… [+2260 chars]  "
      ]
     },
     "execution_count": 139,
     "metadata": {},
     "output_type": "execute_result"
    }
   ],
   "source": [
    "# read the CSV file again\n",
    "raw_toyota = pd.read_csv('data/toyota/data.csv')\n",
    "raw_toyota.head()"
   ]
  },
  {
   "cell_type": "code",
   "execution_count": 140,
   "metadata": {
    "colab": {
     "base_uri": "https://localhost:8080/"
    },
    "id": "dvL-q6gi6MRK",
    "outputId": "ea03761c-f211-4876-9aee-3bac0639d9f9"
   },
   "outputs": [
    {
     "data": {
      "text/plain": [
       "(100, 8)"
      ]
     },
     "execution_count": 140,
     "metadata": {},
     "output_type": "execute_result"
    }
   ],
   "source": [
    "# also 100 records and 8 fields\n",
    "raw_toyota.shape"
   ]
  },
  {
   "cell_type": "code",
   "execution_count": 141,
   "metadata": {
    "colab": {
     "base_uri": "https://localhost:8080/",
     "height": 35
    },
    "id": "10fMO13R6MRK",
    "outputId": "2c049555-38f2-43ca-fcec-e6327fa0eb1e"
   },
   "outputs": [
    {
     "data": {
      "text/plain": [
       "'Tesla “Full Self Driving” Could Come To Other Countries Before Long'"
      ]
     },
     "execution_count": 141,
     "metadata": {},
     "output_type": "execute_result"
    }
   ],
   "source": [
    "# check how the title looks\n",
    "raw_tesla['title'][0]"
   ]
  },
  {
   "cell_type": "code",
   "execution_count": 142,
   "metadata": {
    "colab": {
     "base_uri": "https://localhost:8080/",
     "height": 53
    },
    "id": "wsxlq2h36MRK",
    "outputId": "e28b420e-038b-4b73-e5aa-29afe9b0a634"
   },
   "outputs": [
    {
     "data": {
      "text/plain": [
       "'Sign up for daily news updates from CleanTechnica on email. Or follow us on Google News!\\r\\nEver since Tesla started rolling out Full Self Driving (FSD) to non-employee Tesla owners in the US, people i… [+3965 chars]'"
      ]
     },
     "execution_count": 142,
     "metadata": {},
     "output_type": "execute_result"
    }
   ],
   "source": [
    "# check how content looks\n",
    "raw_tesla['content'][0]"
   ]
  },
  {
   "cell_type": "code",
   "execution_count": 143,
   "metadata": {
    "colab": {
     "base_uri": "https://localhost:8080/",
     "height": 53
    },
    "id": "9NFrtzN96MRK",
    "outputId": "6e828154-f3ee-4202-9acb-61e3a7d5e3f8"
   },
   "outputs": [
    {
     "data": {
      "text/plain": [
       "'Ever since Tesla started rolling out Full Self Driving (FSD) to non-employee Tesla owners in the US, people in other countries have been asking when they’ll be able to install and use FSD. As far as I remember, it’s always been a vague “someday…” kind of resp…'"
      ]
     },
     "execution_count": 143,
     "metadata": {},
     "output_type": "execute_result"
    }
   ],
   "source": [
    "# check how the description looks\n",
    "raw_tesla['description'][0]\n",
    "\n",
    "# descriptions gives more information than content field.\n",
    "# so title and description are the 2 fields we can use to combine into a new \"text\" field."
   ]
  },
  {
   "cell_type": "code",
   "execution_count": 144,
   "metadata": {
    "colab": {
     "base_uri": "https://localhost:8080/",
     "height": 1000
    },
    "id": "y7P3ZZpJ6MRK",
    "outputId": "9ec6dbc1-1825-4fc6-c647-453cec779f09"
   },
   "outputs": [
    {
     "data": {
      "text/html": [
       "<div>\n",
       "<style scoped>\n",
       "    .dataframe tbody tr th:only-of-type {\n",
       "        vertical-align: middle;\n",
       "    }\n",
       "\n",
       "    .dataframe tbody tr th {\n",
       "        vertical-align: top;\n",
       "    }\n",
       "\n",
       "    .dataframe thead th {\n",
       "        text-align: right;\n",
       "    }\n",
       "</style>\n",
       "<table border=\"1\" class=\"dataframe\">\n",
       "  <thead>\n",
       "    <tr style=\"text-align: right;\">\n",
       "      <th></th>\n",
       "      <th>source</th>\n",
       "      <th>author</th>\n",
       "      <th>title</th>\n",
       "      <th>description</th>\n",
       "      <th>url</th>\n",
       "      <th>urlToImage</th>\n",
       "      <th>publishedAt</th>\n",
       "      <th>content</th>\n",
       "      <th>label</th>\n",
       "    </tr>\n",
       "  </thead>\n",
       "  <tbody>\n",
       "    <tr>\n",
       "      <th>0</th>\n",
       "      <td>{'id': None, 'name': 'CleanTechnica'}</td>\n",
       "      <td>Zachary Shahan</td>\n",
       "      <td>Tesla “Full Self Driving” Could Come To Other Countries Before Long</td>\n",
       "      <td>Ever since Tesla started rolling out Full Self Driving (FSD) to non-employee Tesla owners in the US, people in other countries have been asking when they’ll be able to install and use FSD. As far as I remember, it’s always been a vague “someday…” kind of resp…</td>\n",
       "      <td>https://cleantechnica.com/2024/04/23/tesla-full-self-driving-could-come-to-other-countries-before-long/</td>\n",
       "      <td>https://cleantechnica.com/wp-content/uploads/2024/03/Tesla-Model-3-Autostopping-Stop-Light-Autopilot-Full-Self-Driving-CleanTechnica-Stopping-New-FSD.jpeg</td>\n",
       "      <td>2024-04-24T03:55:41Z</td>\n",
       "      <td>Sign up for daily news updates from CleanTechnica on email. Or follow us on Google News!\\r\\nEver since Tesla started rolling out Full Self Driving (FSD) to non-employee Tesla owners in the US, people i… [+3965 chars]</td>\n",
       "      <td>tesla</td>\n",
       "    </tr>\n",
       "    <tr>\n",
       "      <th>1</th>\n",
       "      <td>{'id': None, 'name': 'CleanTechnica'}</td>\n",
       "      <td>Zachary Shahan</td>\n",
       "      <td>More Than 3× As Many Tesla Model Y Sales As Tesla Model 3 Sales In USA In 1st Quarter</td>\n",
       "      <td>Tesla’s just had a tough quarter, including in the United States, but a tough quarter for Tesla would be a stunning, fantabulous success for any other company trying to sell electric vehicles. In the USA, according to data from Cox Automotive and Kelley Blue …</td>\n",
       "      <td>https://cleantechnica.com/2024/04/19/more-than-3x-as-many-tesla-model-y-sales-as-tesla-model-3-sales-in-usa-in-1st-quarter/</td>\n",
       "      <td>https://cleantechnica.com/wp-content/uploads/2024/02/New-Tesla-Model-Y-Model-3-Model-S-Model-X-Supercharging-Florida-Station-CleanTechnica-Watermark-Sky-logo-800x445.png</td>\n",
       "      <td>2024-04-20T03:57:24Z</td>\n",
       "      <td>Sign up for daily news updates from CleanTechnica on email. Or follow us on Google News!\\r\\nTesla’s just had a tough quarter, including in the United States, but a tough quarter for Tesla would be a st… [+4173 chars]</td>\n",
       "      <td>tesla</td>\n",
       "    </tr>\n",
       "    <tr>\n",
       "      <th>2</th>\n",
       "      <td>{'id': None, 'name': 'CleanTechnica'}</td>\n",
       "      <td>Paul Fosse</td>\n",
       "      <td>Tesla Surprises Investors With A Tiny Y &amp; A Tiny 3 As Soon As This Year!</td>\n",
       "      <td>A lot has been written about the Tesla’s next-generation compact car that used to be widely called the Model 2, including Zach’s excellent article last week about it. Zach asked who might pick up the challenge in place of Tesla doing it. Today, Tesla announce…</td>\n",
       "      <td>https://cleantechnica.com/2024/04/23/tesla-surprises-investors-with-a-tiny-y-a-tiny-3-as-soon-as-this-year/</td>\n",
       "      <td>https://cleantechnica.com/wp-content/uploads/2023/12/Apple-Car-Tesla-Model-3-CleanTechnica-Front-Glass-Watermark-Logo-scaled.jpeg</td>\n",
       "      <td>2024-04-24T01:56:23Z</td>\n",
       "      <td>Sign up for daily news updates from CleanTechnica on email. Or follow us on Google News!\\r\\nA lot has been written about the Tesla’s next-generation compact car that used to be widely called the Model … [+6014 chars]</td>\n",
       "      <td>tesla</td>\n",
       "    </tr>\n",
       "    <tr>\n",
       "      <th>3</th>\n",
       "      <td>{'id': None, 'name': 'CleanTechnica'}</td>\n",
       "      <td>Carolyn Fortuna</td>\n",
       "      <td>The Revisionist Language That Tesla Used In The Q1 2024 Earnings Call</td>\n",
       "      <td>The Tesla, Inc. Q1 2024 earnings call was fascinating in how Tesla representatives drew on carefully phrased statements to appease and turn around what was then a largely disgruntled shareholder group. The revisionist language within the earnings call took co…</td>\n",
       "      <td>https://cleantechnica.com/2024/04/26/the-revisionist-language-that-tesla-used-in-the-q1-2024-earnings-call/</td>\n",
       "      <td>https://cleantechnica.com/wp-content/uploads/2023/06/Elon-Musk-CleanTechnica-shirt-Tesla-Model-Y-reveal-watermark.jpeg</td>\n",
       "      <td>2024-04-26T19:24:10Z</td>\n",
       "      <td>Sign up for daily news updates from CleanTechnica on email. Or follow us on Google News!\\r\\nThe Tesla, Inc. Q1 2024 earnings call was fascinating in how Tesla representatives drew on carefully phrased … [+9089 chars]</td>\n",
       "      <td>tesla</td>\n",
       "    </tr>\n",
       "    <tr>\n",
       "      <th>4</th>\n",
       "      <td>{'id': 'techcrunch', 'name': 'TechCrunch'}</td>\n",
       "      <td>Paul Sawers</td>\n",
       "      <td>French startup FlexAI exits stealth with $30M to ease access to AI compute</td>\n",
       "      <td>A French startup has raised a hefty seed investment to \"rearchitect compute infrastructure\" for developers wanting to build and train AI applications more...</td>\n",
       "      <td>https://techcrunch.com/2024/04/23/french-startup-flexai-exits-stealth-with-30m-to-ease-access-to-ai-compute/</td>\n",
       "      <td>https://s.yimg.com/ny/api/res/1.2/V7FcJP2rJb.YNXWOmWjLrw--/YXBwaWQ9aGlnaGxhbmRlcjt3PTEyMDA7aD02NzQ-/https://media.zenfs.com/en/techcrunch_350/128964a889f3f6262e9e1f768561ec69</td>\n",
       "      <td>2024-04-24T05:37:28Z</td>\n",
       "      <td>A French startup has raised a hefty seed investment to \"rearchitect compute infrastructure\" for developers wanting to build and train AI applications more efficiently.\\r\\nFlexAI, as the company is call… [+10420 chars]</td>\n",
       "      <td>tesla</td>\n",
       "    </tr>\n",
       "  </tbody>\n",
       "</table>\n",
       "</div>"
      ],
      "text/plain": [
       "                                       source           author  \\\n",
       "0       {'id': None, 'name': 'CleanTechnica'}   Zachary Shahan   \n",
       "1       {'id': None, 'name': 'CleanTechnica'}   Zachary Shahan   \n",
       "2       {'id': None, 'name': 'CleanTechnica'}       Paul Fosse   \n",
       "3       {'id': None, 'name': 'CleanTechnica'}  Carolyn Fortuna   \n",
       "4  {'id': 'techcrunch', 'name': 'TechCrunch'}      Paul Sawers   \n",
       "\n",
       "                                                                                   title  \\\n",
       "0                    Tesla “Full Self Driving” Could Come To Other Countries Before Long   \n",
       "1  More Than 3× As Many Tesla Model Y Sales As Tesla Model 3 Sales In USA In 1st Quarter   \n",
       "2               Tesla Surprises Investors With A Tiny Y & A Tiny 3 As Soon As This Year!   \n",
       "3                  The Revisionist Language That Tesla Used In The Q1 2024 Earnings Call   \n",
       "4             French startup FlexAI exits stealth with $30M to ease access to AI compute   \n",
       "\n",
       "                                                                                                                                                                                                                                                            description  \\\n",
       "0  Ever since Tesla started rolling out Full Self Driving (FSD) to non-employee Tesla owners in the US, people in other countries have been asking when they’ll be able to install and use FSD. As far as I remember, it’s always been a vague “someday…” kind of resp…   \n",
       "1  Tesla’s just had a tough quarter, including in the United States, but a tough quarter for Tesla would be a stunning, fantabulous success for any other company trying to sell electric vehicles. In the USA, according to data from Cox Automotive and Kelley Blue …   \n",
       "2  A lot has been written about the Tesla’s next-generation compact car that used to be widely called the Model 2, including Zach’s excellent article last week about it. Zach asked who might pick up the challenge in place of Tesla doing it. Today, Tesla announce…   \n",
       "3  The Tesla, Inc. Q1 2024 earnings call was fascinating in how Tesla representatives drew on carefully phrased statements to appease and turn around what was then a largely disgruntled shareholder group. The revisionist language within the earnings call took co…   \n",
       "4                                                                                                         A French startup has raised a hefty seed investment to \"rearchitect compute infrastructure\" for developers wanting to build and train AI applications more...   \n",
       "\n",
       "                                                                                                                           url  \\\n",
       "0                      https://cleantechnica.com/2024/04/23/tesla-full-self-driving-could-come-to-other-countries-before-long/   \n",
       "1  https://cleantechnica.com/2024/04/19/more-than-3x-as-many-tesla-model-y-sales-as-tesla-model-3-sales-in-usa-in-1st-quarter/   \n",
       "2                  https://cleantechnica.com/2024/04/23/tesla-surprises-investors-with-a-tiny-y-a-tiny-3-as-soon-as-this-year/   \n",
       "3                  https://cleantechnica.com/2024/04/26/the-revisionist-language-that-tesla-used-in-the-q1-2024-earnings-call/   \n",
       "4                 https://techcrunch.com/2024/04/23/french-startup-flexai-exits-stealth-with-30m-to-ease-access-to-ai-compute/   \n",
       "\n",
       "                                                                                                                                                                       urlToImage  \\\n",
       "0                      https://cleantechnica.com/wp-content/uploads/2024/03/Tesla-Model-3-Autostopping-Stop-Light-Autopilot-Full-Self-Driving-CleanTechnica-Stopping-New-FSD.jpeg   \n",
       "1       https://cleantechnica.com/wp-content/uploads/2024/02/New-Tesla-Model-Y-Model-3-Model-S-Model-X-Supercharging-Florida-Station-CleanTechnica-Watermark-Sky-logo-800x445.png   \n",
       "2                                               https://cleantechnica.com/wp-content/uploads/2023/12/Apple-Car-Tesla-Model-3-CleanTechnica-Front-Glass-Watermark-Logo-scaled.jpeg   \n",
       "3                                                          https://cleantechnica.com/wp-content/uploads/2023/06/Elon-Musk-CleanTechnica-shirt-Tesla-Model-Y-reveal-watermark.jpeg   \n",
       "4  https://s.yimg.com/ny/api/res/1.2/V7FcJP2rJb.YNXWOmWjLrw--/YXBwaWQ9aGlnaGxhbmRlcjt3PTEyMDA7aD02NzQ-/https://media.zenfs.com/en/techcrunch_350/128964a889f3f6262e9e1f768561ec69   \n",
       "\n",
       "            publishedAt  \\\n",
       "0  2024-04-24T03:55:41Z   \n",
       "1  2024-04-20T03:57:24Z   \n",
       "2  2024-04-24T01:56:23Z   \n",
       "3  2024-04-26T19:24:10Z   \n",
       "4  2024-04-24T05:37:28Z   \n",
       "\n",
       "                                                                                                                                                                                                                     content  \\\n",
       "0   Sign up for daily news updates from CleanTechnica on email. Or follow us on Google News!\\r\\nEver since Tesla started rolling out Full Self Driving (FSD) to non-employee Tesla owners in the US, people i… [+3965 chars]   \n",
       "1   Sign up for daily news updates from CleanTechnica on email. Or follow us on Google News!\\r\\nTesla’s just had a tough quarter, including in the United States, but a tough quarter for Tesla would be a st… [+4173 chars]   \n",
       "2   Sign up for daily news updates from CleanTechnica on email. Or follow us on Google News!\\r\\nA lot has been written about the Tesla’s next-generation compact car that used to be widely called the Model … [+6014 chars]   \n",
       "3   Sign up for daily news updates from CleanTechnica on email. Or follow us on Google News!\\r\\nThe Tesla, Inc. Q1 2024 earnings call was fascinating in how Tesla representatives drew on carefully phrased … [+9089 chars]   \n",
       "4  A French startup has raised a hefty seed investment to \"rearchitect compute infrastructure\" for developers wanting to build and train AI applications more efficiently.\\r\\nFlexAI, as the company is call… [+10420 chars]   \n",
       "\n",
       "   label  \n",
       "0  tesla  \n",
       "1  tesla  \n",
       "2  tesla  \n",
       "3  tesla  \n",
       "4  tesla  "
      ]
     },
     "execution_count": 144,
     "metadata": {},
     "output_type": "execute_result"
    }
   ],
   "source": [
    "# label both df's and then union into 1 df with 200 records\n",
    "raw_tesla['label'] = 'tesla'\n",
    "raw_toyota['label'] = 'toyota'\n",
    "\n",
    "raw_tesla.head()"
   ]
  },
  {
   "cell_type": "code",
   "execution_count": 145,
   "metadata": {
    "colab": {
     "base_uri": "https://localhost:8080/"
    },
    "id": "F1DImDqg6MRL",
    "outputId": "a2c186ae-053e-4f6c-c4f0-d1adf9b7a3d9"
   },
   "outputs": [
    {
     "data": {
      "text/plain": [
       "(200, 9)"
      ]
     },
     "execution_count": 145,
     "metadata": {},
     "output_type": "execute_result"
    }
   ],
   "source": [
    "# union so both Tesla & Toyota data is in combined df\n",
    "combined = pd.concat([raw_tesla, raw_toyota], axis=0, ignore_index=True)\n",
    "combined.shape"
   ]
  },
  {
   "cell_type": "code",
   "execution_count": 146,
   "metadata": {
    "colab": {
     "base_uri": "https://localhost:8080/",
     "height": 71
    },
    "id": "Ml0iAHqY6MRL",
    "outputId": "034667d3-a27a-4916-94ef-54e74f794dbe"
   },
   "outputs": [
    {
     "data": {
      "text/plain": [
       "'Tesla “Full Self Driving” Could Come To Other Countries Before Long Ever since Tesla started rolling out Full Self Driving (FSD) to non-employee Tesla owners in the US, people in other countries have been asking when they’ll be able to install and use FSD. As far as I remember, it’s always been a vague “someday…” kind of resp…'"
      ]
     },
     "execution_count": 146,
     "metadata": {},
     "output_type": "execute_result"
    }
   ],
   "source": [
    "# concat title with description to create text field\n",
    "combined['text'] = combined['title'] + ' ' + combined['description']\n",
    "combined['text'][0]"
   ]
  },
  {
   "cell_type": "code",
   "execution_count": 147,
   "metadata": {
    "colab": {
     "base_uri": "https://localhost:8080/",
     "height": 53
    },
    "id": "hlj1Fps06MRL",
    "outputId": "5a708188-3476-4400-c638-a1e2f606d924"
   },
   "outputs": [
    {
     "data": {
      "text/plain": [
       "\"Vin Diesel Teased The Return Of Paul Walker's Iconic Car In Fast 11, And Fans Are Here For The Nostalgia The orange Toyota Supra Paul Walker drove in The Fast and the Furious was a highlight, and now Vin Diesel is teasing it will be back in Fast 11.\""
      ]
     },
     "execution_count": 147,
     "metadata": {},
     "output_type": "execute_result"
    }
   ],
   "source": [
    "# check another example\n",
    "combined['text'][105]"
   ]
  },
  {
   "cell_type": "code",
   "execution_count": 148,
   "metadata": {
    "colab": {
     "base_uri": "https://localhost:8080/",
     "height": 1000
    },
    "id": "IIyPovN86MRL",
    "outputId": "585ed6bb-c3e1-4adb-b561-95b4959a0a80"
   },
   "outputs": [
    {
     "data": {
      "text/html": [
       "<div>\n",
       "<style scoped>\n",
       "    .dataframe tbody tr th:only-of-type {\n",
       "        vertical-align: middle;\n",
       "    }\n",
       "\n",
       "    .dataframe tbody tr th {\n",
       "        vertical-align: top;\n",
       "    }\n",
       "\n",
       "    .dataframe thead th {\n",
       "        text-align: right;\n",
       "    }\n",
       "</style>\n",
       "<table border=\"1\" class=\"dataframe\">\n",
       "  <thead>\n",
       "    <tr style=\"text-align: right;\">\n",
       "      <th></th>\n",
       "      <th>source</th>\n",
       "      <th>author</th>\n",
       "      <th>title</th>\n",
       "      <th>description</th>\n",
       "      <th>url</th>\n",
       "      <th>urlToImage</th>\n",
       "      <th>publishedAt</th>\n",
       "      <th>content</th>\n",
       "      <th>label</th>\n",
       "      <th>text</th>\n",
       "      <th>length</th>\n",
       "    </tr>\n",
       "  </thead>\n",
       "  <tbody>\n",
       "    <tr>\n",
       "      <th>0</th>\n",
       "      <td>{'id': None, 'name': 'CleanTechnica'}</td>\n",
       "      <td>Zachary Shahan</td>\n",
       "      <td>Tesla “Full Self Driving” Could Come To Other Countries Before Long</td>\n",
       "      <td>Ever since Tesla started rolling out Full Self Driving (FSD) to non-employee Tesla owners in the US, people in other countries have been asking when they’ll be able to install and use FSD. As far as I remember, it’s always been a vague “someday…” kind of resp…</td>\n",
       "      <td>https://cleantechnica.com/2024/04/23/tesla-full-self-driving-could-come-to-other-countries-before-long/</td>\n",
       "      <td>https://cleantechnica.com/wp-content/uploads/2024/03/Tesla-Model-3-Autostopping-Stop-Light-Autopilot-Full-Self-Driving-CleanTechnica-Stopping-New-FSD.jpeg</td>\n",
       "      <td>2024-04-24T03:55:41Z</td>\n",
       "      <td>Sign up for daily news updates from CleanTechnica on email. Or follow us on Google News!\\r\\nEver since Tesla started rolling out Full Self Driving (FSD) to non-employee Tesla owners in the US, people i… [+3965 chars]</td>\n",
       "      <td>tesla</td>\n",
       "      <td>Tesla “Full Self Driving” Could Come To Other Countries Before Long Ever since Tesla started rolling out Full Self Driving (FSD) to non-employee Tesla owners in the US, people in other countries have been asking when they’ll be able to install and use FSD. As far as I remember, it’s always been a vague “someday…” kind of resp…</td>\n",
       "      <td>328.0</td>\n",
       "    </tr>\n",
       "    <tr>\n",
       "      <th>1</th>\n",
       "      <td>{'id': None, 'name': 'CleanTechnica'}</td>\n",
       "      <td>Zachary Shahan</td>\n",
       "      <td>More Than 3× As Many Tesla Model Y Sales As Tesla Model 3 Sales In USA In 1st Quarter</td>\n",
       "      <td>Tesla’s just had a tough quarter, including in the United States, but a tough quarter for Tesla would be a stunning, fantabulous success for any other company trying to sell electric vehicles. In the USA, according to data from Cox Automotive and Kelley Blue …</td>\n",
       "      <td>https://cleantechnica.com/2024/04/19/more-than-3x-as-many-tesla-model-y-sales-as-tesla-model-3-sales-in-usa-in-1st-quarter/</td>\n",
       "      <td>https://cleantechnica.com/wp-content/uploads/2024/02/New-Tesla-Model-Y-Model-3-Model-S-Model-X-Supercharging-Florida-Station-CleanTechnica-Watermark-Sky-logo-800x445.png</td>\n",
       "      <td>2024-04-20T03:57:24Z</td>\n",
       "      <td>Sign up for daily news updates from CleanTechnica on email. Or follow us on Google News!\\r\\nTesla’s just had a tough quarter, including in the United States, but a tough quarter for Tesla would be a st… [+4173 chars]</td>\n",
       "      <td>tesla</td>\n",
       "      <td>More Than 3× As Many Tesla Model Y Sales As Tesla Model 3 Sales In USA In 1st Quarter Tesla’s just had a tough quarter, including in the United States, but a tough quarter for Tesla would be a stunning, fantabulous success for any other company trying to sell electric vehicles. In the USA, according to data from Cox Automotive and Kelley Blue …</td>\n",
       "      <td>346.0</td>\n",
       "    </tr>\n",
       "    <tr>\n",
       "      <th>2</th>\n",
       "      <td>{'id': None, 'name': 'CleanTechnica'}</td>\n",
       "      <td>Paul Fosse</td>\n",
       "      <td>Tesla Surprises Investors With A Tiny Y &amp; A Tiny 3 As Soon As This Year!</td>\n",
       "      <td>A lot has been written about the Tesla’s next-generation compact car that used to be widely called the Model 2, including Zach’s excellent article last week about it. Zach asked who might pick up the challenge in place of Tesla doing it. Today, Tesla announce…</td>\n",
       "      <td>https://cleantechnica.com/2024/04/23/tesla-surprises-investors-with-a-tiny-y-a-tiny-3-as-soon-as-this-year/</td>\n",
       "      <td>https://cleantechnica.com/wp-content/uploads/2023/12/Apple-Car-Tesla-Model-3-CleanTechnica-Front-Glass-Watermark-Logo-scaled.jpeg</td>\n",
       "      <td>2024-04-24T01:56:23Z</td>\n",
       "      <td>Sign up for daily news updates from CleanTechnica on email. Or follow us on Google News!\\r\\nA lot has been written about the Tesla’s next-generation compact car that used to be widely called the Model … [+6014 chars]</td>\n",
       "      <td>tesla</td>\n",
       "      <td>Tesla Surprises Investors With A Tiny Y &amp; A Tiny 3 As Soon As This Year! A lot has been written about the Tesla’s next-generation compact car that used to be widely called the Model 2, including Zach’s excellent article last week about it. Zach asked who might pick up the challenge in place of Tesla doing it. Today, Tesla announce…</td>\n",
       "      <td>333.0</td>\n",
       "    </tr>\n",
       "    <tr>\n",
       "      <th>3</th>\n",
       "      <td>{'id': None, 'name': 'CleanTechnica'}</td>\n",
       "      <td>Carolyn Fortuna</td>\n",
       "      <td>The Revisionist Language That Tesla Used In The Q1 2024 Earnings Call</td>\n",
       "      <td>The Tesla, Inc. Q1 2024 earnings call was fascinating in how Tesla representatives drew on carefully phrased statements to appease and turn around what was then a largely disgruntled shareholder group. The revisionist language within the earnings call took co…</td>\n",
       "      <td>https://cleantechnica.com/2024/04/26/the-revisionist-language-that-tesla-used-in-the-q1-2024-earnings-call/</td>\n",
       "      <td>https://cleantechnica.com/wp-content/uploads/2023/06/Elon-Musk-CleanTechnica-shirt-Tesla-Model-Y-reveal-watermark.jpeg</td>\n",
       "      <td>2024-04-26T19:24:10Z</td>\n",
       "      <td>Sign up for daily news updates from CleanTechnica on email. Or follow us on Google News!\\r\\nThe Tesla, Inc. Q1 2024 earnings call was fascinating in how Tesla representatives drew on carefully phrased … [+9089 chars]</td>\n",
       "      <td>tesla</td>\n",
       "      <td>The Revisionist Language That Tesla Used In The Q1 2024 Earnings Call The Tesla, Inc. Q1 2024 earnings call was fascinating in how Tesla representatives drew on carefully phrased statements to appease and turn around what was then a largely disgruntled shareholder group. The revisionist language within the earnings call took co…</td>\n",
       "      <td>330.0</td>\n",
       "    </tr>\n",
       "    <tr>\n",
       "      <th>4</th>\n",
       "      <td>{'id': 'techcrunch', 'name': 'TechCrunch'}</td>\n",
       "      <td>Paul Sawers</td>\n",
       "      <td>French startup FlexAI exits stealth with $30M to ease access to AI compute</td>\n",
       "      <td>A French startup has raised a hefty seed investment to \"rearchitect compute infrastructure\" for developers wanting to build and train AI applications more...</td>\n",
       "      <td>https://techcrunch.com/2024/04/23/french-startup-flexai-exits-stealth-with-30m-to-ease-access-to-ai-compute/</td>\n",
       "      <td>https://s.yimg.com/ny/api/res/1.2/V7FcJP2rJb.YNXWOmWjLrw--/YXBwaWQ9aGlnaGxhbmRlcjt3PTEyMDA7aD02NzQ-/https://media.zenfs.com/en/techcrunch_350/128964a889f3f6262e9e1f768561ec69</td>\n",
       "      <td>2024-04-24T05:37:28Z</td>\n",
       "      <td>A French startup has raised a hefty seed investment to \"rearchitect compute infrastructure\" for developers wanting to build and train AI applications more efficiently.\\r\\nFlexAI, as the company is call… [+10420 chars]</td>\n",
       "      <td>tesla</td>\n",
       "      <td>French startup FlexAI exits stealth with $30M to ease access to AI compute A French startup has raised a hefty seed investment to \"rearchitect compute infrastructure\" for developers wanting to build and train AI applications more...</td>\n",
       "      <td>232.0</td>\n",
       "    </tr>\n",
       "  </tbody>\n",
       "</table>\n",
       "</div>"
      ],
      "text/plain": [
       "                                       source           author  \\\n",
       "0       {'id': None, 'name': 'CleanTechnica'}   Zachary Shahan   \n",
       "1       {'id': None, 'name': 'CleanTechnica'}   Zachary Shahan   \n",
       "2       {'id': None, 'name': 'CleanTechnica'}       Paul Fosse   \n",
       "3       {'id': None, 'name': 'CleanTechnica'}  Carolyn Fortuna   \n",
       "4  {'id': 'techcrunch', 'name': 'TechCrunch'}      Paul Sawers   \n",
       "\n",
       "                                                                                   title  \\\n",
       "0                    Tesla “Full Self Driving” Could Come To Other Countries Before Long   \n",
       "1  More Than 3× As Many Tesla Model Y Sales As Tesla Model 3 Sales In USA In 1st Quarter   \n",
       "2               Tesla Surprises Investors With A Tiny Y & A Tiny 3 As Soon As This Year!   \n",
       "3                  The Revisionist Language That Tesla Used In The Q1 2024 Earnings Call   \n",
       "4             French startup FlexAI exits stealth with $30M to ease access to AI compute   \n",
       "\n",
       "                                                                                                                                                                                                                                                            description  \\\n",
       "0  Ever since Tesla started rolling out Full Self Driving (FSD) to non-employee Tesla owners in the US, people in other countries have been asking when they’ll be able to install and use FSD. As far as I remember, it’s always been a vague “someday…” kind of resp…   \n",
       "1  Tesla’s just had a tough quarter, including in the United States, but a tough quarter for Tesla would be a stunning, fantabulous success for any other company trying to sell electric vehicles. In the USA, according to data from Cox Automotive and Kelley Blue …   \n",
       "2  A lot has been written about the Tesla’s next-generation compact car that used to be widely called the Model 2, including Zach’s excellent article last week about it. Zach asked who might pick up the challenge in place of Tesla doing it. Today, Tesla announce…   \n",
       "3  The Tesla, Inc. Q1 2024 earnings call was fascinating in how Tesla representatives drew on carefully phrased statements to appease and turn around what was then a largely disgruntled shareholder group. The revisionist language within the earnings call took co…   \n",
       "4                                                                                                         A French startup has raised a hefty seed investment to \"rearchitect compute infrastructure\" for developers wanting to build and train AI applications more...   \n",
       "\n",
       "                                                                                                                           url  \\\n",
       "0                      https://cleantechnica.com/2024/04/23/tesla-full-self-driving-could-come-to-other-countries-before-long/   \n",
       "1  https://cleantechnica.com/2024/04/19/more-than-3x-as-many-tesla-model-y-sales-as-tesla-model-3-sales-in-usa-in-1st-quarter/   \n",
       "2                  https://cleantechnica.com/2024/04/23/tesla-surprises-investors-with-a-tiny-y-a-tiny-3-as-soon-as-this-year/   \n",
       "3                  https://cleantechnica.com/2024/04/26/the-revisionist-language-that-tesla-used-in-the-q1-2024-earnings-call/   \n",
       "4                 https://techcrunch.com/2024/04/23/french-startup-flexai-exits-stealth-with-30m-to-ease-access-to-ai-compute/   \n",
       "\n",
       "                                                                                                                                                                       urlToImage  \\\n",
       "0                      https://cleantechnica.com/wp-content/uploads/2024/03/Tesla-Model-3-Autostopping-Stop-Light-Autopilot-Full-Self-Driving-CleanTechnica-Stopping-New-FSD.jpeg   \n",
       "1       https://cleantechnica.com/wp-content/uploads/2024/02/New-Tesla-Model-Y-Model-3-Model-S-Model-X-Supercharging-Florida-Station-CleanTechnica-Watermark-Sky-logo-800x445.png   \n",
       "2                                               https://cleantechnica.com/wp-content/uploads/2023/12/Apple-Car-Tesla-Model-3-CleanTechnica-Front-Glass-Watermark-Logo-scaled.jpeg   \n",
       "3                                                          https://cleantechnica.com/wp-content/uploads/2023/06/Elon-Musk-CleanTechnica-shirt-Tesla-Model-Y-reveal-watermark.jpeg   \n",
       "4  https://s.yimg.com/ny/api/res/1.2/V7FcJP2rJb.YNXWOmWjLrw--/YXBwaWQ9aGlnaGxhbmRlcjt3PTEyMDA7aD02NzQ-/https://media.zenfs.com/en/techcrunch_350/128964a889f3f6262e9e1f768561ec69   \n",
       "\n",
       "            publishedAt  \\\n",
       "0  2024-04-24T03:55:41Z   \n",
       "1  2024-04-20T03:57:24Z   \n",
       "2  2024-04-24T01:56:23Z   \n",
       "3  2024-04-26T19:24:10Z   \n",
       "4  2024-04-24T05:37:28Z   \n",
       "\n",
       "                                                                                                                                                                                                                     content  \\\n",
       "0   Sign up for daily news updates from CleanTechnica on email. Or follow us on Google News!\\r\\nEver since Tesla started rolling out Full Self Driving (FSD) to non-employee Tesla owners in the US, people i… [+3965 chars]   \n",
       "1   Sign up for daily news updates from CleanTechnica on email. Or follow us on Google News!\\r\\nTesla’s just had a tough quarter, including in the United States, but a tough quarter for Tesla would be a st… [+4173 chars]   \n",
       "2   Sign up for daily news updates from CleanTechnica on email. Or follow us on Google News!\\r\\nA lot has been written about the Tesla’s next-generation compact car that used to be widely called the Model … [+6014 chars]   \n",
       "3   Sign up for daily news updates from CleanTechnica on email. Or follow us on Google News!\\r\\nThe Tesla, Inc. Q1 2024 earnings call was fascinating in how Tesla representatives drew on carefully phrased … [+9089 chars]   \n",
       "4  A French startup has raised a hefty seed investment to \"rearchitect compute infrastructure\" for developers wanting to build and train AI applications more efficiently.\\r\\nFlexAI, as the company is call… [+10420 chars]   \n",
       "\n",
       "   label  \\\n",
       "0  tesla   \n",
       "1  tesla   \n",
       "2  tesla   \n",
       "3  tesla   \n",
       "4  tesla   \n",
       "\n",
       "                                                                                                                                                                                                                                                                                                                                                         text  \\\n",
       "0                    Tesla “Full Self Driving” Could Come To Other Countries Before Long Ever since Tesla started rolling out Full Self Driving (FSD) to non-employee Tesla owners in the US, people in other countries have been asking when they’ll be able to install and use FSD. As far as I remember, it’s always been a vague “someday…” kind of resp…   \n",
       "1  More Than 3× As Many Tesla Model Y Sales As Tesla Model 3 Sales In USA In 1st Quarter Tesla’s just had a tough quarter, including in the United States, but a tough quarter for Tesla would be a stunning, fantabulous success for any other company trying to sell electric vehicles. In the USA, according to data from Cox Automotive and Kelley Blue …   \n",
       "2               Tesla Surprises Investors With A Tiny Y & A Tiny 3 As Soon As This Year! A lot has been written about the Tesla’s next-generation compact car that used to be widely called the Model 2, including Zach’s excellent article last week about it. Zach asked who might pick up the challenge in place of Tesla doing it. Today, Tesla announce…   \n",
       "3                  The Revisionist Language That Tesla Used In The Q1 2024 Earnings Call The Tesla, Inc. Q1 2024 earnings call was fascinating in how Tesla representatives drew on carefully phrased statements to appease and turn around what was then a largely disgruntled shareholder group. The revisionist language within the earnings call took co…   \n",
       "4                                                                                                                    French startup FlexAI exits stealth with $30M to ease access to AI compute A French startup has raised a hefty seed investment to \"rearchitect compute infrastructure\" for developers wanting to build and train AI applications more...   \n",
       "\n",
       "   length  \n",
       "0   328.0  \n",
       "1   346.0  \n",
       "2   333.0  \n",
       "3   330.0  \n",
       "4   232.0  "
      ]
     },
     "execution_count": 148,
     "metadata": {},
     "output_type": "execute_result"
    }
   ],
   "source": [
    "# add a length field to check text lengths\n",
    "combined['length'] = combined['text'].str.len()\n",
    "combined.head()"
   ]
  },
  {
   "cell_type": "markdown",
   "metadata": {
    "id": "opvCLRYj6MRL"
   },
   "source": [
    "###"
   ]
  },
  {
   "cell_type": "code",
   "execution_count": 149,
   "metadata": {
    "colab": {
     "base_uri": "https://localhost:8080/",
     "height": 510
    },
    "id": "C4r7YcCE6MRL",
    "outputId": "9df337ef-5ee3-41f8-d821-d8c756552dba"
   },
   "outputs": [
    {
     "data": {
      "text/plain": [
       "<Figure size 800x600 with 0 Axes>"
      ]
     },
     "metadata": {},
     "output_type": "display_data"
    },
    {
     "data": {
      "image/png": "[encoded data removed]",
      "text/plain": [
       "<Figure size 640x480 with 1 Axes>"
      ]
     },
     "metadata": {},
     "output_type": "display_data"
    }
   ],
   "source": [
    "# create boxplot to see distribution of counts by label\n",
    "plt.figure(figsize=(8, 6))\n",
    "combined.boxplot(column='length', by='label', vert=False)\n",
    "plt.xlabel('Character count')\n",
    "plt.ylabel('Label')\n",
    "plt.tight_layout()\n",
    "plt.show()"
   ]
  },
  {
   "cell_type": "markdown",
   "metadata": {
    "id": "BQDWP71J6MRL"
   },
   "source": [
    "### Clean and Tokenize text"
   ]
  },
  {
   "cell_type": "code",
   "execution_count": 150,
   "metadata": {
    "id": "9dzNqS-P6MRL"
   },
   "outputs": [],
   "source": [
    "# define function to tokenize text\n",
    "def tokenize(text):\n",
    "  return re.findall(r'[\\w-]*\\p{L}[\\w-]*', text)"
   ]
  },
  {
   "cell_type": "code",
   "execution_count": 151,
   "metadata": {
    "colab": {
     "base_uri": "https://localhost:8080/"
    },
    "id": "UdgdZMDW6MRL",
    "outputId": "1c0bbac4-0a4a-41e0-c4e6-645fff375bdf"
   },
   "outputs": [
    {
     "data": {
      "text/plain": [
       "['t', \"hadn't\", 'more', 'ma', 'didn']"
      ]
     },
     "execution_count": 151,
     "metadata": {},
     "output_type": "execute_result"
    }
   ],
   "source": [
    "# check stopwords\n",
    "stopwords = set(nltk.corpus.stopwords.words('english'))\n",
    "list(stopwords)[:5]"
   ]
  },
  {
   "cell_type": "code",
   "execution_count": 152,
   "metadata": {
    "id": "UxJsTR-x6MRL"
   },
   "outputs": [],
   "source": [
    "# add tesla and toyota as stopwords, we do not want to see these words in the features\n",
    "include_stopwords = {'tesla', 'toyota'}\n",
    "stopwords |= include_stopwords"
   ]
  },
  {
   "cell_type": "code",
   "execution_count": 153,
   "metadata": {
    "id": "GvV_PM7d6MRL"
   },
   "outputs": [],
   "source": [
    "# define function to remove stopwords\n",
    "def remove_stop(tokens):\n",
    "  return [t for t in tokens if t.lower() not in stopwords]"
   ]
  },
  {
   "cell_type": "code",
   "execution_count": 154,
   "metadata": {
    "id": "o0St3dfJO38Q"
   },
   "outputs": [],
   "source": [
    "# define function to remove punctuation\n",
    "def remove_punctuation(text):\n",
    "  punct_set=set(punctuation)\n",
    "  return(\"\".join([ch for ch in text if ch not in punct_set]))"
   ]
  },
  {
   "cell_type": "code",
   "execution_count": 155,
   "metadata": {
    "id": "N-mwlMwbPiY2"
   },
   "outputs": [],
   "source": [
    "# define function to expand out contractions using contractions package\n",
    "def expand_contractions(text):\n",
    "  return fix(text)"
   ]
  },
  {
   "cell_type": "code",
   "execution_count": 156,
   "metadata": {
    "id": "iXOBVYm36MRL"
   },
   "outputs": [],
   "source": [
    "# create pipeline to lowercase, remove punctuation, tokenize and remove stop words\n",
    "pipeline = [str.lower, expand_contractions, remove_punctuation, tokenize, remove_stop]\n",
    "\n",
    "# define function to feed text data through the pipeline and return cleaned tokens\n",
    "def prepare(text, pipeline):\n",
    "\n",
    "  # convert text to string if it's not already a string (for float types)\n",
    "  text = str(text)\n",
    "\n",
    "  tokens = text\n",
    "  for transform in pipeline:\n",
    "    tokens = transform(tokens)\n",
    "  return tokens"
   ]
  },
  {
   "cell_type": "code",
   "execution_count": 157,
   "metadata": {
    "colab": {
     "base_uri": "https://localhost:8080/",
     "height": 1000
    },
    "id": "FTdIDIQL6MRQ",
    "outputId": "4b6fec8f-f70e-4e08-873d-fce168a8c415"
   },
   "outputs": [
    {
     "data": {
      "text/html": [
       "<div>\n",
       "<style scoped>\n",
       "    .dataframe tbody tr th:only-of-type {\n",
       "        vertical-align: middle;\n",
       "    }\n",
       "\n",
       "    .dataframe tbody tr th {\n",
       "        vertical-align: top;\n",
       "    }\n",
       "\n",
       "    .dataframe thead th {\n",
       "        text-align: right;\n",
       "    }\n",
       "</style>\n",
       "<table border=\"1\" class=\"dataframe\">\n",
       "  <thead>\n",
       "    <tr style=\"text-align: right;\">\n",
       "      <th></th>\n",
       "      <th>source</th>\n",
       "      <th>author</th>\n",
       "      <th>title</th>\n",
       "      <th>description</th>\n",
       "      <th>url</th>\n",
       "      <th>urlToImage</th>\n",
       "      <th>publishedAt</th>\n",
       "      <th>content</th>\n",
       "      <th>label</th>\n",
       "      <th>text</th>\n",
       "      <th>length</th>\n",
       "      <th>tokens</th>\n",
       "    </tr>\n",
       "  </thead>\n",
       "  <tbody>\n",
       "    <tr>\n",
       "      <th>0</th>\n",
       "      <td>{'id': None, 'name': 'CleanTechnica'}</td>\n",
       "      <td>Zachary Shahan</td>\n",
       "      <td>Tesla “Full Self Driving” Could Come To Other Countries Before Long</td>\n",
       "      <td>Ever since Tesla started rolling out Full Self Driving (FSD) to non-employee Tesla owners in the US, people in other countries have been asking when they’ll be able to install and use FSD. As far as I remember, it’s always been a vague “someday…” kind of resp…</td>\n",
       "      <td>https://cleantechnica.com/2024/04/23/tesla-full-self-driving-could-come-to-other-countries-before-long/</td>\n",
       "      <td>https://cleantechnica.com/wp-content/uploads/2024/03/Tesla-Model-3-Autostopping-Stop-Light-Autopilot-Full-Self-Driving-CleanTechnica-Stopping-New-FSD.jpeg</td>\n",
       "      <td>2024-04-24T03:55:41Z</td>\n",
       "      <td>Sign up for daily news updates from CleanTechnica on email. Or follow us on Google News!\\r\\nEver since Tesla started rolling out Full Self Driving (FSD) to non-employee Tesla owners in the US, people i… [+3965 chars]</td>\n",
       "      <td>tesla</td>\n",
       "      <td>Tesla “Full Self Driving” Could Come To Other Countries Before Long Ever since Tesla started rolling out Full Self Driving (FSD) to non-employee Tesla owners in the US, people in other countries have been asking when they’ll be able to install and use FSD. As far as I remember, it’s always been a vague “someday…” kind of resp…</td>\n",
       "      <td>328.0</td>\n",
       "      <td>[full, self, driving, could, come, countries, long, ever, since, started, rolling, full, self, driving, fsd, nonemployee, owners, us, people, countries, asking, able, install, use, fsd, far, remember, always, vague, someday, kind, resp]</td>\n",
       "    </tr>\n",
       "    <tr>\n",
       "      <th>1</th>\n",
       "      <td>{'id': None, 'name': 'CleanTechnica'}</td>\n",
       "      <td>Zachary Shahan</td>\n",
       "      <td>More Than 3× As Many Tesla Model Y Sales As Tesla Model 3 Sales In USA In 1st Quarter</td>\n",
       "      <td>Tesla’s just had a tough quarter, including in the United States, but a tough quarter for Tesla would be a stunning, fantabulous success for any other company trying to sell electric vehicles. In the USA, according to data from Cox Automotive and Kelley Blue …</td>\n",
       "      <td>https://cleantechnica.com/2024/04/19/more-than-3x-as-many-tesla-model-y-sales-as-tesla-model-3-sales-in-usa-in-1st-quarter/</td>\n",
       "      <td>https://cleantechnica.com/wp-content/uploads/2024/02/New-Tesla-Model-Y-Model-3-Model-S-Model-X-Supercharging-Florida-Station-CleanTechnica-Watermark-Sky-logo-800x445.png</td>\n",
       "      <td>2024-04-20T03:57:24Z</td>\n",
       "      <td>Sign up for daily news updates from CleanTechnica on email. Or follow us on Google News!\\r\\nTesla’s just had a tough quarter, including in the United States, but a tough quarter for Tesla would be a st… [+4173 chars]</td>\n",
       "      <td>tesla</td>\n",
       "      <td>More Than 3× As Many Tesla Model Y Sales As Tesla Model 3 Sales In USA In 1st Quarter Tesla’s just had a tough quarter, including in the United States, but a tough quarter for Tesla would be a stunning, fantabulous success for any other company trying to sell electric vehicles. In the USA, according to data from Cox Automotive and Kelley Blue …</td>\n",
       "      <td>346.0</td>\n",
       "      <td>[many, model, sales, model, sales, usa, 1st, quarter, tough, quarter, including, united, states, tough, quarter, would, stunning, fantabulous, success, company, trying, sell, electric, vehicles, usa, according, data, cox, automotive, kelley, blue]</td>\n",
       "    </tr>\n",
       "    <tr>\n",
       "      <th>2</th>\n",
       "      <td>{'id': None, 'name': 'CleanTechnica'}</td>\n",
       "      <td>Paul Fosse</td>\n",
       "      <td>Tesla Surprises Investors With A Tiny Y &amp; A Tiny 3 As Soon As This Year!</td>\n",
       "      <td>A lot has been written about the Tesla’s next-generation compact car that used to be widely called the Model 2, including Zach’s excellent article last week about it. Zach asked who might pick up the challenge in place of Tesla doing it. Today, Tesla announce…</td>\n",
       "      <td>https://cleantechnica.com/2024/04/23/tesla-surprises-investors-with-a-tiny-y-a-tiny-3-as-soon-as-this-year/</td>\n",
       "      <td>https://cleantechnica.com/wp-content/uploads/2023/12/Apple-Car-Tesla-Model-3-CleanTechnica-Front-Glass-Watermark-Logo-scaled.jpeg</td>\n",
       "      <td>2024-04-24T01:56:23Z</td>\n",
       "      <td>Sign up for daily news updates from CleanTechnica on email. Or follow us on Google News!\\r\\nA lot has been written about the Tesla’s next-generation compact car that used to be widely called the Model … [+6014 chars]</td>\n",
       "      <td>tesla</td>\n",
       "      <td>Tesla Surprises Investors With A Tiny Y &amp; A Tiny 3 As Soon As This Year! A lot has been written about the Tesla’s next-generation compact car that used to be widely called the Model 2, including Zach’s excellent article last week about it. Zach asked who might pick up the challenge in place of Tesla doing it. Today, Tesla announce…</td>\n",
       "      <td>333.0</td>\n",
       "      <td>[surprises, investors, tiny, tiny, soon, year, lot, written, nextgeneration, compact, car, used, widely, called, model, including, zach, excellent, article, last, week, zach, asked, might, pick, challenge, place, today, announce]</td>\n",
       "    </tr>\n",
       "    <tr>\n",
       "      <th>3</th>\n",
       "      <td>{'id': None, 'name': 'CleanTechnica'}</td>\n",
       "      <td>Carolyn Fortuna</td>\n",
       "      <td>The Revisionist Language That Tesla Used In The Q1 2024 Earnings Call</td>\n",
       "      <td>The Tesla, Inc. Q1 2024 earnings call was fascinating in how Tesla representatives drew on carefully phrased statements to appease and turn around what was then a largely disgruntled shareholder group. The revisionist language within the earnings call took co…</td>\n",
       "      <td>https://cleantechnica.com/2024/04/26/the-revisionist-language-that-tesla-used-in-the-q1-2024-earnings-call/</td>\n",
       "      <td>https://cleantechnica.com/wp-content/uploads/2023/06/Elon-Musk-CleanTechnica-shirt-Tesla-Model-Y-reveal-watermark.jpeg</td>\n",
       "      <td>2024-04-26T19:24:10Z</td>\n",
       "      <td>Sign up for daily news updates from CleanTechnica on email. Or follow us on Google News!\\r\\nThe Tesla, Inc. Q1 2024 earnings call was fascinating in how Tesla representatives drew on carefully phrased … [+9089 chars]</td>\n",
       "      <td>tesla</td>\n",
       "      <td>The Revisionist Language That Tesla Used In The Q1 2024 Earnings Call The Tesla, Inc. Q1 2024 earnings call was fascinating in how Tesla representatives drew on carefully phrased statements to appease and turn around what was then a largely disgruntled shareholder group. The revisionist language within the earnings call took co…</td>\n",
       "      <td>330.0</td>\n",
       "      <td>[revisionist, language, used, q1, earnings, call, inc, q1, earnings, call, fascinating, representatives, drew, carefully, phrased, statements, appease, turn, around, largely, disgruntled, shareholder, group, revisionist, language, within, earnings, call, took, co]</td>\n",
       "    </tr>\n",
       "    <tr>\n",
       "      <th>4</th>\n",
       "      <td>{'id': 'techcrunch', 'name': 'TechCrunch'}</td>\n",
       "      <td>Paul Sawers</td>\n",
       "      <td>French startup FlexAI exits stealth with $30M to ease access to AI compute</td>\n",
       "      <td>A French startup has raised a hefty seed investment to \"rearchitect compute infrastructure\" for developers wanting to build and train AI applications more...</td>\n",
       "      <td>https://techcrunch.com/2024/04/23/french-startup-flexai-exits-stealth-with-30m-to-ease-access-to-ai-compute/</td>\n",
       "      <td>https://s.yimg.com/ny/api/res/1.2/V7FcJP2rJb.YNXWOmWjLrw--/YXBwaWQ9aGlnaGxhbmRlcjt3PTEyMDA7aD02NzQ-/https://media.zenfs.com/en/techcrunch_350/128964a889f3f6262e9e1f768561ec69</td>\n",
       "      <td>2024-04-24T05:37:28Z</td>\n",
       "      <td>A French startup has raised a hefty seed investment to \"rearchitect compute infrastructure\" for developers wanting to build and train AI applications more efficiently.\\r\\nFlexAI, as the company is call… [+10420 chars]</td>\n",
       "      <td>tesla</td>\n",
       "      <td>French startup FlexAI exits stealth with $30M to ease access to AI compute A French startup has raised a hefty seed investment to \"rearchitect compute infrastructure\" for developers wanting to build and train AI applications more...</td>\n",
       "      <td>232.0</td>\n",
       "      <td>[french, startup, flexai, exits, stealth, 30m, ease, access, ai, compute, french, startup, raised, hefty, seed, investment, rearchitect, compute, infrastructure, developers, wanting, build, train, ai, applications]</td>\n",
       "    </tr>\n",
       "  </tbody>\n",
       "</table>\n",
       "</div>"
      ],
      "text/plain": [
       "                                       source           author  \\\n",
       "0       {'id': None, 'name': 'CleanTechnica'}   Zachary Shahan   \n",
       "1       {'id': None, 'name': 'CleanTechnica'}   Zachary Shahan   \n",
       "2       {'id': None, 'name': 'CleanTechnica'}       Paul Fosse   \n",
       "3       {'id': None, 'name': 'CleanTechnica'}  Carolyn Fortuna   \n",
       "4  {'id': 'techcrunch', 'name': 'TechCrunch'}      Paul Sawers   \n",
       "\n",
       "                                                                                   title  \\\n",
       "0                    Tesla “Full Self Driving” Could Come To Other Countries Before Long   \n",
       "1  More Than 3× As Many Tesla Model Y Sales As Tesla Model 3 Sales In USA In 1st Quarter   \n",
       "2               Tesla Surprises Investors With A Tiny Y & A Tiny 3 As Soon As This Year!   \n",
       "3                  The Revisionist Language That Tesla Used In The Q1 2024 Earnings Call   \n",
       "4             French startup FlexAI exits stealth with $30M to ease access to AI compute   \n",
       "\n",
       "                                                                                                                                                                                                                                                            description  \\\n",
       "0  Ever since Tesla started rolling out Full Self Driving (FSD) to non-employee Tesla owners in the US, people in other countries have been asking when they’ll be able to install and use FSD. As far as I remember, it’s always been a vague “someday…” kind of resp…   \n",
       "1  Tesla’s just had a tough quarter, including in the United States, but a tough quarter for Tesla would be a stunning, fantabulous success for any other company trying to sell electric vehicles. In the USA, according to data from Cox Automotive and Kelley Blue …   \n",
       "2  A lot has been written about the Tesla’s next-generation compact car that used to be widely called the Model 2, including Zach’s excellent article last week about it. Zach asked who might pick up the challenge in place of Tesla doing it. Today, Tesla announce…   \n",
       "3  The Tesla, Inc. Q1 2024 earnings call was fascinating in how Tesla representatives drew on carefully phrased statements to appease and turn around what was then a largely disgruntled shareholder group. The revisionist language within the earnings call took co…   \n",
       "4                                                                                                         A French startup has raised a hefty seed investment to \"rearchitect compute infrastructure\" for developers wanting to build and train AI applications more...   \n",
       "\n",
       "                                                                                                                           url  \\\n",
       "0                      https://cleantechnica.com/2024/04/23/tesla-full-self-driving-could-come-to-other-countries-before-long/   \n",
       "1  https://cleantechnica.com/2024/04/19/more-than-3x-as-many-tesla-model-y-sales-as-tesla-model-3-sales-in-usa-in-1st-quarter/   \n",
       "2                  https://cleantechnica.com/2024/04/23/tesla-surprises-investors-with-a-tiny-y-a-tiny-3-as-soon-as-this-year/   \n",
       "3                  https://cleantechnica.com/2024/04/26/the-revisionist-language-that-tesla-used-in-the-q1-2024-earnings-call/   \n",
       "4                 https://techcrunch.com/2024/04/23/french-startup-flexai-exits-stealth-with-30m-to-ease-access-to-ai-compute/   \n",
       "\n",
       "                                                                                                                                                                       urlToImage  \\\n",
       "0                      https://cleantechnica.com/wp-content/uploads/2024/03/Tesla-Model-3-Autostopping-Stop-Light-Autopilot-Full-Self-Driving-CleanTechnica-Stopping-New-FSD.jpeg   \n",
       "1       https://cleantechnica.com/wp-content/uploads/2024/02/New-Tesla-Model-Y-Model-3-Model-S-Model-X-Supercharging-Florida-Station-CleanTechnica-Watermark-Sky-logo-800x445.png   \n",
       "2                                               https://cleantechnica.com/wp-content/uploads/2023/12/Apple-Car-Tesla-Model-3-CleanTechnica-Front-Glass-Watermark-Logo-scaled.jpeg   \n",
       "3                                                          https://cleantechnica.com/wp-content/uploads/2023/06/Elon-Musk-CleanTechnica-shirt-Tesla-Model-Y-reveal-watermark.jpeg   \n",
       "4  https://s.yimg.com/ny/api/res/1.2/V7FcJP2rJb.YNXWOmWjLrw--/YXBwaWQ9aGlnaGxhbmRlcjt3PTEyMDA7aD02NzQ-/https://media.zenfs.com/en/techcrunch_350/128964a889f3f6262e9e1f768561ec69   \n",
       "\n",
       "            publishedAt  \\\n",
       "0  2024-04-24T03:55:41Z   \n",
       "1  2024-04-20T03:57:24Z   \n",
       "2  2024-04-24T01:56:23Z   \n",
       "3  2024-04-26T19:24:10Z   \n",
       "4  2024-04-24T05:37:28Z   \n",
       "\n",
       "                                                                                                                                                                                                                     content  \\\n",
       "0   Sign up for daily news updates from CleanTechnica on email. Or follow us on Google News!\\r\\nEver since Tesla started rolling out Full Self Driving (FSD) to non-employee Tesla owners in the US, people i… [+3965 chars]   \n",
       "1   Sign up for daily news updates from CleanTechnica on email. Or follow us on Google News!\\r\\nTesla’s just had a tough quarter, including in the United States, but a tough quarter for Tesla would be a st… [+4173 chars]   \n",
       "2   Sign up for daily news updates from CleanTechnica on email. Or follow us on Google News!\\r\\nA lot has been written about the Tesla’s next-generation compact car that used to be widely called the Model … [+6014 chars]   \n",
       "3   Sign up for daily news updates from CleanTechnica on email. Or follow us on Google News!\\r\\nThe Tesla, Inc. Q1 2024 earnings call was fascinating in how Tesla representatives drew on carefully phrased … [+9089 chars]   \n",
       "4  A French startup has raised a hefty seed investment to \"rearchitect compute infrastructure\" for developers wanting to build and train AI applications more efficiently.\\r\\nFlexAI, as the company is call… [+10420 chars]   \n",
       "\n",
       "   label  \\\n",
       "0  tesla   \n",
       "1  tesla   \n",
       "2  tesla   \n",
       "3  tesla   \n",
       "4  tesla   \n",
       "\n",
       "                                                                                                                                                                                                                                                                                                                                                         text  \\\n",
       "0                    Tesla “Full Self Driving” Could Come To Other Countries Before Long Ever since Tesla started rolling out Full Self Driving (FSD) to non-employee Tesla owners in the US, people in other countries have been asking when they’ll be able to install and use FSD. As far as I remember, it’s always been a vague “someday…” kind of resp…   \n",
       "1  More Than 3× As Many Tesla Model Y Sales As Tesla Model 3 Sales In USA In 1st Quarter Tesla’s just had a tough quarter, including in the United States, but a tough quarter for Tesla would be a stunning, fantabulous success for any other company trying to sell electric vehicles. In the USA, according to data from Cox Automotive and Kelley Blue …   \n",
       "2               Tesla Surprises Investors With A Tiny Y & A Tiny 3 As Soon As This Year! A lot has been written about the Tesla’s next-generation compact car that used to be widely called the Model 2, including Zach’s excellent article last week about it. Zach asked who might pick up the challenge in place of Tesla doing it. Today, Tesla announce…   \n",
       "3                  The Revisionist Language That Tesla Used In The Q1 2024 Earnings Call The Tesla, Inc. Q1 2024 earnings call was fascinating in how Tesla representatives drew on carefully phrased statements to appease and turn around what was then a largely disgruntled shareholder group. The revisionist language within the earnings call took co…   \n",
       "4                                                                                                                    French startup FlexAI exits stealth with $30M to ease access to AI compute A French startup has raised a hefty seed investment to \"rearchitect compute infrastructure\" for developers wanting to build and train AI applications more...   \n",
       "\n",
       "   length  \\\n",
       "0   328.0   \n",
       "1   346.0   \n",
       "2   333.0   \n",
       "3   330.0   \n",
       "4   232.0   \n",
       "\n",
       "                                                                                                                                                                                                                                                                     tokens  \n",
       "0                              [full, self, driving, could, come, countries, long, ever, since, started, rolling, full, self, driving, fsd, nonemployee, owners, us, people, countries, asking, able, install, use, fsd, far, remember, always, vague, someday, kind, resp]  \n",
       "1                   [many, model, sales, model, sales, usa, 1st, quarter, tough, quarter, including, united, states, tough, quarter, would, stunning, fantabulous, success, company, trying, sell, electric, vehicles, usa, according, data, cox, automotive, kelley, blue]  \n",
       "2                                     [surprises, investors, tiny, tiny, soon, year, lot, written, nextgeneration, compact, car, used, widely, called, model, including, zach, excellent, article, last, week, zach, asked, might, pick, challenge, place, today, announce]  \n",
       "3  [revisionist, language, used, q1, earnings, call, inc, q1, earnings, call, fascinating, representatives, drew, carefully, phrased, statements, appease, turn, around, largely, disgruntled, shareholder, group, revisionist, language, within, earnings, call, took, co]  \n",
       "4                                                    [french, startup, flexai, exits, stealth, 30m, ease, access, ai, compute, french, startup, raised, hefty, seed, investment, rearchitect, compute, infrastructure, developers, wanting, build, train, ai, applications]  "
      ]
     },
     "execution_count": 157,
     "metadata": {},
     "output_type": "execute_result"
    }
   ],
   "source": [
    "combined['tokens'] = combined['text'].apply(prepare, pipeline=pipeline)\n",
    "combined.head()"
   ]
  },
  {
   "cell_type": "code",
   "execution_count": 158,
   "metadata": {
    "colab": {
     "base_uri": "https://localhost:8080/",
     "height": 674
    },
    "id": "lT2V7mX96MRQ",
    "outputId": "12b5b9d2-1e82-4b48-e356-ce177e272c01"
   },
   "outputs": [
    {
     "data": {
      "text/html": [
       "<div>\n",
       "<style scoped>\n",
       "    .dataframe tbody tr th:only-of-type {\n",
       "        vertical-align: middle;\n",
       "    }\n",
       "\n",
       "    .dataframe tbody tr th {\n",
       "        vertical-align: top;\n",
       "    }\n",
       "\n",
       "    .dataframe thead th {\n",
       "        text-align: right;\n",
       "    }\n",
       "</style>\n",
       "<table border=\"1\" class=\"dataframe\">\n",
       "  <thead>\n",
       "    <tr style=\"text-align: right;\">\n",
       "      <th></th>\n",
       "      <th>source</th>\n",
       "      <th>author</th>\n",
       "      <th>title</th>\n",
       "      <th>description</th>\n",
       "      <th>url</th>\n",
       "      <th>urlToImage</th>\n",
       "      <th>publishedAt</th>\n",
       "      <th>content</th>\n",
       "      <th>label</th>\n",
       "      <th>text</th>\n",
       "      <th>length</th>\n",
       "      <th>tokens</th>\n",
       "    </tr>\n",
       "  </thead>\n",
       "  <tbody>\n",
       "    <tr>\n",
       "      <th>0</th>\n",
       "      <td>{'id': None, 'name': 'CleanTechnica'}</td>\n",
       "      <td>Zachary Shahan</td>\n",
       "      <td>Tesla “Full Self Driving” Could Come To Other Countries Before Long</td>\n",
       "      <td>Ever since Tesla started rolling out Full Self Driving (FSD) to non-employee Tesla owners in the US, people in other countries have been asking when they’ll be able to install and use FSD. As far as I remember, it’s always been a vague “someday…” kind of resp…</td>\n",
       "      <td>https://cleantechnica.com/2024/04/23/tesla-full-self-driving-could-come-to-other-countries-before-long/</td>\n",
       "      <td>https://cleantechnica.com/wp-content/uploads/2024/03/Tesla-Model-3-Autostopping-Stop-Light-Autopilot-Full-Self-Driving-CleanTechnica-Stopping-New-FSD.jpeg</td>\n",
       "      <td>2024-04-24T03:55:41Z</td>\n",
       "      <td>Sign up for daily news updates from CleanTechnica on email. Or follow us on Google News!\\r\\nEver since Tesla started rolling out Full Self Driving (FSD) to non-employee Tesla owners in the US, people i… [+3965 chars]</td>\n",
       "      <td>tesla</td>\n",
       "      <td>Tesla “Full Self Driving” Could Come To Other Countries Before Long Ever since Tesla started rolling out Full Self Driving (FSD) to non-employee Tesla owners in the US, people in other countries have been asking when they’ll be able to install and use FSD. As far as I remember, it’s always been a vague “someday…” kind of resp…</td>\n",
       "      <td>328.0</td>\n",
       "      <td>[full, self, driving, could, come, countries, long, ever, since, started, rolling, full, self, driving, fsd, nonemployee, owners, us, people, countries, asking, able, install, use, fsd, far, remember, always, vague, someday, kind, resp]</td>\n",
       "    </tr>\n",
       "  </tbody>\n",
       "</table>\n",
       "</div>"
      ],
      "text/plain": [
       "                                  source          author  \\\n",
       "0  {'id': None, 'name': 'CleanTechnica'}  Zachary Shahan   \n",
       "\n",
       "                                                                 title  \\\n",
       "0  Tesla “Full Self Driving” Could Come To Other Countries Before Long   \n",
       "\n",
       "                                                                                                                                                                                                                                                            description  \\\n",
       "0  Ever since Tesla started rolling out Full Self Driving (FSD) to non-employee Tesla owners in the US, people in other countries have been asking when they’ll be able to install and use FSD. As far as I remember, it’s always been a vague “someday…” kind of resp…   \n",
       "\n",
       "                                                                                                       url  \\\n",
       "0  https://cleantechnica.com/2024/04/23/tesla-full-self-driving-could-come-to-other-countries-before-long/   \n",
       "\n",
       "                                                                                                                                                   urlToImage  \\\n",
       "0  https://cleantechnica.com/wp-content/uploads/2024/03/Tesla-Model-3-Autostopping-Stop-Light-Autopilot-Full-Self-Driving-CleanTechnica-Stopping-New-FSD.jpeg   \n",
       "\n",
       "            publishedAt  \\\n",
       "0  2024-04-24T03:55:41Z   \n",
       "\n",
       "                                                                                                                                                                                                                    content  \\\n",
       "0  Sign up for daily news updates from CleanTechnica on email. Or follow us on Google News!\\r\\nEver since Tesla started rolling out Full Self Driving (FSD) to non-employee Tesla owners in the US, people i… [+3965 chars]   \n",
       "\n",
       "   label  \\\n",
       "0  tesla   \n",
       "\n",
       "                                                                                                                                                                                                                                                                                                                                       text  \\\n",
       "0  Tesla “Full Self Driving” Could Come To Other Countries Before Long Ever since Tesla started rolling out Full Self Driving (FSD) to non-employee Tesla owners in the US, people in other countries have been asking when they’ll be able to install and use FSD. As far as I remember, it’s always been a vague “someday…” kind of resp…   \n",
       "\n",
       "   length  \\\n",
       "0   328.0   \n",
       "\n",
       "                                                                                                                                                                                                                                         tokens  \n",
       "0  [full, self, driving, could, come, countries, long, ever, since, started, rolling, full, self, driving, fsd, nonemployee, owners, us, people, countries, asking, able, install, use, fsd, far, remember, always, vague, someday, kind, resp]  "
      ]
     },
     "execution_count": 158,
     "metadata": {},
     "output_type": "execute_result"
    }
   ],
   "source": [
    "combined[:1]"
   ]
  },
  {
   "cell_type": "code",
   "execution_count": 159,
   "metadata": {
    "colab": {
     "base_uri": "https://localhost:8080/",
     "height": 674
    },
    "id": "M2-GhWk46MRR",
    "outputId": "3b2f3605-f19d-48b0-8358-974a98960cf1"
   },
   "outputs": [
    {
     "data": {
      "text/html": [
       "<div>\n",
       "<style scoped>\n",
       "    .dataframe tbody tr th:only-of-type {\n",
       "        vertical-align: middle;\n",
       "    }\n",
       "\n",
       "    .dataframe tbody tr th {\n",
       "        vertical-align: top;\n",
       "    }\n",
       "\n",
       "    .dataframe thead th {\n",
       "        text-align: right;\n",
       "    }\n",
       "</style>\n",
       "<table border=\"1\" class=\"dataframe\">\n",
       "  <thead>\n",
       "    <tr style=\"text-align: right;\">\n",
       "      <th></th>\n",
       "      <th>source</th>\n",
       "      <th>author</th>\n",
       "      <th>title</th>\n",
       "      <th>description</th>\n",
       "      <th>url</th>\n",
       "      <th>urlToImage</th>\n",
       "      <th>publishedAt</th>\n",
       "      <th>content</th>\n",
       "      <th>label</th>\n",
       "      <th>text</th>\n",
       "      <th>length</th>\n",
       "      <th>tokens</th>\n",
       "      <th>num_tokens</th>\n",
       "    </tr>\n",
       "  </thead>\n",
       "  <tbody>\n",
       "    <tr>\n",
       "      <th>0</th>\n",
       "      <td>{'id': None, 'name': 'CleanTechnica'}</td>\n",
       "      <td>Zachary Shahan</td>\n",
       "      <td>Tesla “Full Self Driving” Could Come To Other Countries Before Long</td>\n",
       "      <td>Ever since Tesla started rolling out Full Self Driving (FSD) to non-employee Tesla owners in the US, people in other countries have been asking when they’ll be able to install and use FSD. As far as I remember, it’s always been a vague “someday…” kind of resp…</td>\n",
       "      <td>https://cleantechnica.com/2024/04/23/tesla-full-self-driving-could-come-to-other-countries-before-long/</td>\n",
       "      <td>https://cleantechnica.com/wp-content/uploads/2024/03/Tesla-Model-3-Autostopping-Stop-Light-Autopilot-Full-Self-Driving-CleanTechnica-Stopping-New-FSD.jpeg</td>\n",
       "      <td>2024-04-24T03:55:41Z</td>\n",
       "      <td>Sign up for daily news updates from CleanTechnica on email. Or follow us on Google News!\\r\\nEver since Tesla started rolling out Full Self Driving (FSD) to non-employee Tesla owners in the US, people i… [+3965 chars]</td>\n",
       "      <td>tesla</td>\n",
       "      <td>Tesla “Full Self Driving” Could Come To Other Countries Before Long Ever since Tesla started rolling out Full Self Driving (FSD) to non-employee Tesla owners in the US, people in other countries have been asking when they’ll be able to install and use FSD. As far as I remember, it’s always been a vague “someday…” kind of resp…</td>\n",
       "      <td>328.0</td>\n",
       "      <td>[full, self, driving, could, come, countries, long, ever, since, started, rolling, full, self, driving, fsd, nonemployee, owners, us, people, countries, asking, able, install, use, fsd, far, remember, always, vague, someday, kind, resp]</td>\n",
       "      <td>32</td>\n",
       "    </tr>\n",
       "  </tbody>\n",
       "</table>\n",
       "</div>"
      ],
      "text/plain": [
       "                                  source          author  \\\n",
       "0  {'id': None, 'name': 'CleanTechnica'}  Zachary Shahan   \n",
       "\n",
       "                                                                 title  \\\n",
       "0  Tesla “Full Self Driving” Could Come To Other Countries Before Long   \n",
       "\n",
       "                                                                                                                                                                                                                                                            description  \\\n",
       "0  Ever since Tesla started rolling out Full Self Driving (FSD) to non-employee Tesla owners in the US, people in other countries have been asking when they’ll be able to install and use FSD. As far as I remember, it’s always been a vague “someday…” kind of resp…   \n",
       "\n",
       "                                                                                                       url  \\\n",
       "0  https://cleantechnica.com/2024/04/23/tesla-full-self-driving-could-come-to-other-countries-before-long/   \n",
       "\n",
       "                                                                                                                                                   urlToImage  \\\n",
       "0  https://cleantechnica.com/wp-content/uploads/2024/03/Tesla-Model-3-Autostopping-Stop-Light-Autopilot-Full-Self-Driving-CleanTechnica-Stopping-New-FSD.jpeg   \n",
       "\n",
       "            publishedAt  \\\n",
       "0  2024-04-24T03:55:41Z   \n",
       "\n",
       "                                                                                                                                                                                                                    content  \\\n",
       "0  Sign up for daily news updates from CleanTechnica on email. Or follow us on Google News!\\r\\nEver since Tesla started rolling out Full Self Driving (FSD) to non-employee Tesla owners in the US, people i… [+3965 chars]   \n",
       "\n",
       "   label  \\\n",
       "0  tesla   \n",
       "\n",
       "                                                                                                                                                                                                                                                                                                                                       text  \\\n",
       "0  Tesla “Full Self Driving” Could Come To Other Countries Before Long Ever since Tesla started rolling out Full Self Driving (FSD) to non-employee Tesla owners in the US, people in other countries have been asking when they’ll be able to install and use FSD. As far as I remember, it’s always been a vague “someday…” kind of resp…   \n",
       "\n",
       "   length  \\\n",
       "0   328.0   \n",
       "\n",
       "                                                                                                                                                                                                                                         tokens  \\\n",
       "0  [full, self, driving, could, come, countries, long, ever, since, started, rolling, full, self, driving, fsd, nonemployee, owners, us, people, countries, asking, able, install, use, fsd, far, remember, always, vague, someday, kind, resp]   \n",
       "\n",
       "   num_tokens  \n",
       "0          32  "
      ]
     },
     "execution_count": 159,
     "metadata": {},
     "output_type": "execute_result"
    }
   ],
   "source": [
    "# get the number of tokens as a field\n",
    "combined['num_tokens'] = combined['tokens'].map(len)\n",
    "combined[:1]"
   ]
  },
  {
   "cell_type": "code",
   "execution_count": 160,
   "metadata": {
    "id": "0xHRF5jQ6MRR"
   },
   "outputs": [],
   "source": [
    "# download the combined text data to data folder\n",
    "combined.to_csv('data/combined.csv', index=False)"
   ]
  },
  {
   "cell_type": "markdown",
   "metadata": {
    "id": "5SI6b21Q6MRR"
   },
   "source": [
    "### EDA and visualizations"
   ]
  },
  {
   "cell_type": "code",
   "execution_count": 161,
   "metadata": {
    "id": "6xxDwFKkdi_-"
   },
   "outputs": [],
   "source": [
    "# Read back in if pulling from saved file - again, done for ease of collaboration & reproducability\n",
    "combined = pd.read_csv('data/combined.csv')"
   ]
  },
  {
   "cell_type": "code",
   "execution_count": 162,
   "metadata": {
    "colab": {
     "base_uri": "https://localhost:8080/"
    },
    "id": "6LmZYdTk6MRR",
    "outputId": "cc8448a6-6c0a-4573-f5ba-6945262fddc0"
   },
   "outputs": [
    {
     "data": {
      "text/plain": [
       "0                            ['full', 'self', 'driving', 'could', 'come', 'countries', 'long', 'ever', 'since', 'started', 'rolling', 'full', 'self', 'driving', 'fsd', 'nonemployee', 'owners', 'us', 'people', 'countries', 'asking', 'able', 'install', 'use', 'fsd', 'far', 'remember', 'always', 'vague', 'someday', 'kind', 'resp']\n",
       "1                   ['many', 'model', 'sales', 'model', 'sales', 'usa', '1st', 'quarter', 'tough', 'quarter', 'including', 'united', 'states', 'tough', 'quarter', 'would', 'stunning', 'fantabulous', 'success', 'company', 'trying', 'sell', 'electric', 'vehicles', 'usa', 'according', 'data', 'cox', 'automotive', 'kelley', 'blue']\n",
       "2                                         ['surprises', 'investors', 'tiny', 'tiny', 'soon', 'year', 'lot', 'written', 'nextgeneration', 'compact', 'car', 'used', 'widely', 'called', 'model', 'including', 'zach', 'excellent', 'article', 'last', 'week', 'zach', 'asked', 'might', 'pick', 'challenge', 'place', 'today', 'announce']\n",
       "3    ['revisionist', 'language', 'used', 'q1', 'earnings', 'call', 'inc', 'q1', 'earnings', 'call', 'fascinating', 'representatives', 'drew', 'carefully', 'phrased', 'statements', 'appease', 'turn', 'around', 'largely', 'disgruntled', 'shareholder', 'group', 'revisionist', 'language', 'within', 'earnings', 'call', 'took', 'co']\n",
       "4                                                                ['french', 'startup', 'flexai', 'exits', 'stealth', '30m', 'ease', 'access', 'ai', 'compute', 'french', 'startup', 'raised', 'hefty', 'seed', 'investment', 'rearchitect', 'compute', 'infrastructure', 'developers', 'wanting', 'build', 'train', 'ai', 'applications']\n",
       "Name: tokens, dtype: object"
      ]
     },
     "execution_count": 162,
     "metadata": {},
     "output_type": "execute_result"
    }
   ],
   "source": [
    "# seperate records based on labels in 2 different series\n",
    "tesla_tokens = combined.loc[combined['label'] == 'tesla', 'tokens']\n",
    "toyota_tokens = combined.loc[combined['label'] == 'toyota', 'tokens']\n",
    "\n",
    "tesla_tokens[:5]"
   ]
  },
  {
   "cell_type": "code",
   "execution_count": 163,
   "metadata": {
    "colab": {
     "base_uri": "https://localhost:8080/"
    },
    "id": "5ny9wv126MRR",
    "outputId": "9dd11909-a05f-464f-a731-7d412843a75c"
   },
   "outputs": [
    {
     "data": {
      "text/plain": [
       "['[', \"'\", 'f', 'u', 'l']"
      ]
     },
     "execution_count": 163,
     "metadata": {},
     "output_type": "execute_result"
    }
   ],
   "source": [
    "# flatten each so we can get all tokens in each df into a single list\n",
    "tesla_flat_tokens = [word for sublist in tesla_tokens for word in sublist]\n",
    "toyota_flat_tokens = [word for sublist in toyota_tokens for word in sublist]\n",
    "\n",
    "tesla_flat_tokens[:5]"
   ]
  },
  {
   "cell_type": "code",
   "execution_count": 164,
   "metadata": {},
   "outputs": [
    {
     "name": "stdout",
     "output_type": "stream",
     "text": [
      "['full', 'self', 'driving', 'could', 'come']\n",
      "['set', 'end', 'massive', 'olympic', 'sponsorship']\n"
     ]
    }
   ],
   "source": [
    "# Had to adjust the previous codes to get it to run on my end\n",
    "import ast\n",
    "\n",
    "# Separate records based on labels into 2 different series\n",
    "tesla_tokens = combined.loc[combined['label'] == 'tesla', 'tokens']\n",
    "toyota_tokens = combined.loc[combined['label'] == 'toyota', 'tokens']\n",
    "\n",
    "# Ensure tokens are lists\n",
    "tesla_tokens = tesla_tokens.apply(ast.literal_eval)\n",
    "toyota_tokens = toyota_tokens.apply(ast.literal_eval)\n",
    "\n",
    "# Flatten each series so we can get all tokens into a single list\n",
    "tesla_flat_tokens = [word for sublist in tesla_tokens for word in sublist]\n",
    "toyota_flat_tokens = [word for sublist in toyota_tokens for word in sublist]\n",
    "\n",
    "# Print the first few tokens to ensure they are correctly extracted\n",
    "print(tesla_flat_tokens[:5])\n",
    "print(toyota_flat_tokens[:5])"
   ]
  },
  {
   "cell_type": "code",
   "execution_count": 165,
   "metadata": {
    "colab": {
     "base_uri": "https://localhost:8080/"
    },
    "id": "NX7eVo736MRR",
    "outputId": "bb6f7332-6e40-490c-b963-421abcc84f35"
   },
   "outputs": [
    {
     "data": {
      "text/plain": [
       "2824"
      ]
     },
     "execution_count": 165,
     "metadata": {},
     "output_type": "execute_result"
    }
   ],
   "source": [
    "# 2828 tokens\n",
    "len(tesla_flat_tokens)"
   ]
  },
  {
   "cell_type": "code",
   "execution_count": 166,
   "metadata": {
    "colab": {
     "base_uri": "https://localhost:8080/"
    },
    "id": "Abec2Wu_6MRR",
    "outputId": "6d4945ff-183b-4f1f-a7ac-7b7daea6bb93"
   },
   "outputs": [
    {
     "data": {
      "text/plain": [
       "{'full': 10, 'self': 3, 'driving': 3, 'could': 7, 'come': 3}"
      ]
     },
     "execution_count": 166,
     "metadata": {},
     "output_type": "execute_result"
    }
   ],
   "source": [
    "# get count of each word\n",
    "tesla_word_counts = Counter(tesla_flat_tokens)\n",
    "toyota_word_counts = Counter(toyota_flat_tokens)\n",
    "\n",
    "# check the first 5 records\n",
    "dict(list(tesla_word_counts.items())[:5])"
   ]
  },
  {
   "cell_type": "code",
   "execution_count": 167,
   "metadata": {
    "colab": {
     "base_uri": "https://localhost:8080/"
    },
    "id": "e9vyaAuT6MRR",
    "outputId": "e7b3e4a6-6c8d-499d-fe15-b40fb9625599"
   },
   "outputs": [
    {
     "name": "stdout",
     "output_type": "stream",
     "text": [
      "[('musk', 30), ('elon', 29), ('ev', 24), ('model', 22), ('earnings', 21), ('company', 20), ('china', 19), ('electric', 18), ('cybertruck', 18), ('fsd', 16)]\n"
     ]
    }
   ],
   "source": [
    "# get the 10 most common words for both each\n",
    "print(tesla_word_counts.most_common(10))"
   ]
  },
  {
   "cell_type": "code",
   "execution_count": 168,
   "metadata": {
    "colab": {
     "base_uri": "https://localhost:8080/"
    },
    "id": "rJ133sdR6MRR",
    "outputId": "c29e1d53-7434-4b79-a87b-1d7da09504eb"
   },
   "outputs": [
    {
     "name": "stdout",
     "output_type": "stream",
     "text": [
      "[('car', 29), ('new', 28), ('motor', 25), ('vehicle', 21), ('chairman', 18), ('hybrid', 16), ('shareholders', 16), ('toyoda', 16), ('electric', 14), ('engines', 13)]\n"
     ]
    }
   ],
   "source": [
    "print(toyota_word_counts.most_common(10))"
   ]
  },
  {
   "cell_type": "code",
   "execution_count": 169,
   "metadata": {
    "id": "ZQ5cA7uR6MRR"
   },
   "outputs": [],
   "source": [
    "# convert counter type to list so we can plot\n",
    "top_tesla_words = list(tesla_word_counts.most_common(10))\n",
    "top_toyota_words = list(toyota_word_counts.most_common(10))"
   ]
  },
  {
   "cell_type": "code",
   "execution_count": 170,
   "metadata": {
    "colab": {
     "base_uri": "https://localhost:8080/"
    },
    "id": "wjRL8gk16MRR",
    "outputId": "b0e47ab8-ef57-406d-f51b-cdac45bf8ede"
   },
   "outputs": [
    {
     "name": "stdout",
     "output_type": "stream",
     "text": [
      "('musk', 'elon', 'ev', 'model', 'earnings', 'company', 'china', 'electric', 'cybertruck', 'fsd')\n",
      "(30, 29, 24, 22, 21, 20, 19, 18, 18, 16)\n"
     ]
    }
   ],
   "source": [
    "# get words and their count from the list\n",
    "tesla_words, tesla_counts = zip(*top_tesla_words)\n",
    "toyota_words, toyota_counts = zip(*top_toyota_words)\n",
    "\n",
    "print(tesla_words)\n",
    "print(tesla_counts)"
   ]
  },
  {
   "cell_type": "code",
   "execution_count": 171,
   "metadata": {
    "colab": {
     "base_uri": "https://localhost:8080/",
     "height": 562
    },
    "id": "KbnVkhPT6MRR",
    "outputId": "017981a9-8d5d-46cf-df23-d396b38c41d3"
   },
   "outputs": [
    {
     "data": {
      "image/png": "[encoded data removed]",
      "text/plain": [
       "<Figure size 1400x600 with 2 Axes>"
      ]
     },
     "metadata": {},
     "output_type": "display_data"
    }
   ],
   "source": [
    "# create 2 subplots, next to eachother\n",
    "fig, ax = plt.subplots(1, 2, figsize=(14, 6))\n",
    "\n",
    "# plot tesla words, highest counts at the top\n",
    "ax[0].barh(tesla_words, tesla_counts, color='red')\n",
    "ax[0].invert_yaxis()\n",
    "ax[0].set_title('Top Tesla words')\n",
    "\n",
    "# do the same for toyota\n",
    "ax[1].barh(toyota_words, toyota_counts, color='blue')\n",
    "ax[1].invert_yaxis()  # Highest counts at the top\n",
    "ax[1].set_title('Top Toyota words')\n",
    "\n",
    "# show the plot, tight layout so fit is better\n",
    "plt.tight_layout()\n",
    "plt.show()"
   ]
  },
  {
   "cell_type": "code",
   "execution_count": 172,
   "metadata": {
    "id": "nunPpX9u6MRR"
   },
   "outputs": [],
   "source": [
    "# now to get the descriptive statistics, define the function created in earlier assignments\n",
    "def descriptive_stats(tokens, verbose=True) :\n",
    "    \"\"\"\n",
    "        Given a list of tokens, print number of tokens, number of unique tokens,\n",
    "        number of characters, lexical diversity (https://en.wikipedia.org/wiki/Lexical_diversity),\n",
    "        and num_tokens most common tokens. Return a list with the number of tokens, number\n",
    "        of unique tokens, lexical diversity, and number of characters.\n",
    "\n",
    "    \"\"\"\n",
    "\n",
    "    # length of num tokens list\n",
    "    num_tokens = len(tokens)\n",
    "\n",
    "    # length of unique tokens in list\n",
    "    num_unique_tokens = len(set(tokens))\n",
    "\n",
    "    # unique tokens divided by total tokens to see diversity\n",
    "    lexical_diversity = num_unique_tokens / num_tokens\n",
    "\n",
    "    # get sum of characters\n",
    "    sum = 0\n",
    "    for word in tokens:\n",
    "        for char in word:\n",
    "            sum += 1\n",
    "\n",
    "    num_characters = sum\n",
    "\n",
    "    if verbose :\n",
    "        print(f\"There are {num_tokens} tokens in the data.\")\n",
    "        print(f\"There are {num_unique_tokens} unique tokens in the data.\")\n",
    "        print(f\"There are {num_characters} characters in the data.\")\n",
    "        print(f\"The lexical diversity is {lexical_diversity:.3f} in the data.\")\n",
    "\n",
    "    return([num_tokens, num_unique_tokens,\n",
    "            lexical_diversity,\n",
    "            num_characters])"
   ]
  },
  {
   "cell_type": "code",
   "execution_count": 173,
   "metadata": {
    "id": "lNwWkcag6MRS"
   },
   "outputs": [],
   "source": [
    "# Split the DataFrame based on the \"label\" field\n",
    "tesla_df = combined[combined['label'] == 'tesla']\n",
    "toyota_df = combined[combined['label'] == 'toyota']\n",
    "\n",
    "# Combine all the lists in the \"tokens\" field into one giant list for each DataFrame\n",
    "tesla_tokens = [item for sublist in tesla_df['tokens'] for item in sublist]\n",
    "toyota_tokens = [item for sublist in toyota_df['tokens'] for item in sublist]"
   ]
  },
  {
   "cell_type": "code",
   "execution_count": 174,
   "metadata": {},
   "outputs": [],
   "source": [
    "# That previous code did not work as it splits the words into letters\n",
    "\n",
    "# Separate records based on labels into 2 different series\n",
    "tesla_tokens = combined.loc[combined['label'] == 'tesla', 'tokens']\n",
    "toyota_tokens = combined.loc[combined['label'] == 'toyota', 'tokens']\n",
    "\n",
    "# Ensure tokens are lists\n",
    "tesla_tokens = tesla_tokens.apply(ast.literal_eval)\n",
    "toyota_tokens = toyota_tokens.apply(ast.literal_eval)\n",
    "\n",
    "# Flatten each series so we can get all tokens into a single list\n",
    "tesla_flat_tokens = [word for sublist in tesla_tokens for word in sublist]\n",
    "toyota_flat_tokens = [word for sublist in toyota_tokens for word in sublist]"
   ]
  },
  {
   "cell_type": "code",
   "execution_count": 175,
   "metadata": {
    "colab": {
     "base_uri": "https://localhost:8080/"
    },
    "id": "tFjXROdq6MRS",
    "outputId": "cca51d74-6533-4cfe-e200-70b043f6f5ce"
   },
   "outputs": [
    {
     "data": {
      "text/plain": [
       "0                                [full, self, driving, could, come, countries, long, ever, since, started, rolling, full, self, driving, fsd, nonemployee, owners, us, people, countries, asking, able, install, use, fsd, far, remember, always, vague, someday, kind, resp]\n",
       "1                     [many, model, sales, model, sales, usa, 1st, quarter, tough, quarter, including, united, states, tough, quarter, would, stunning, fantabulous, success, company, trying, sell, electric, vehicles, usa, according, data, cox, automotive, kelley, blue]\n",
       "2                                       [surprises, investors, tiny, tiny, soon, year, lot, written, nextgeneration, compact, car, used, widely, called, model, including, zach, excellent, article, last, week, zach, asked, might, pick, challenge, place, today, announce]\n",
       "3    [revisionist, language, used, q1, earnings, call, inc, q1, earnings, call, fascinating, representatives, drew, carefully, phrased, statements, appease, turn, around, largely, disgruntled, shareholder, group, revisionist, language, within, earnings, call, took, co]\n",
       "4                                                      [french, startup, flexai, exits, stealth, 30m, ease, access, ai, compute, french, startup, raised, hefty, seed, investment, rearchitect, compute, infrastructure, developers, wanting, build, train, ai, applications]\n",
       "Name: tokens, dtype: object"
      ]
     },
     "execution_count": 175,
     "metadata": {},
     "output_type": "execute_result"
    }
   ],
   "source": [
    "tesla_tokens[:5]"
   ]
  },
  {
   "cell_type": "code",
   "execution_count": 176,
   "metadata": {},
   "outputs": [
    {
     "name": "stdout",
     "output_type": "stream",
     "text": [
      "['full', 'self', 'driving', 'could', 'come']\n",
      "['set', 'end', 'massive', 'olympic', 'sponsorship']\n"
     ]
    }
   ],
   "source": [
    "# I had to adjust the above code to tokenize the vectors into words and not letters\n",
    "\n",
    "import ast\n",
    "\n",
    "# Split the DataFrame based on the \"label\" field\n",
    "tesla_df = combined[combined['label'] == 'tesla']\n",
    "toyota_df = combined[combined['label'] == 'toyota']\n",
    "\n",
    "# Ensure tokens are lists\n",
    "tesla_df['tokens'] = tesla_df['tokens'].apply(ast.literal_eval)\n",
    "toyota_df['tokens'] = toyota_df['tokens'].apply(ast.literal_eval)\n",
    "\n",
    "# Combine all the lists in the \"tokens\" field into one giant list for each DataFrame\n",
    "tesla_tokens = [item for sublist in tesla_df['tokens'] for item in sublist]\n",
    "toyota_tokens = [item for sublist in toyota_df['tokens'] for item in sublist]\n",
    "\n",
    "# Print the first few tokens to ensure they are correctly extracted\n",
    "print(tesla_tokens[:5])\n",
    "print(toyota_tokens[:5])\n"
   ]
  },
  {
   "cell_type": "code",
   "execution_count": 177,
   "metadata": {
    "colab": {
     "base_uri": "https://localhost:8080/"
    },
    "id": "WBuVz3Vo6MRS",
    "outputId": "0c86c2c5-4721-40a3-f8ce-c624acd83637"
   },
   "outputs": [
    {
     "name": "stdout",
     "output_type": "stream",
     "text": [
      "There are 2824 tokens in the data.\n",
      "There are 1430 unique tokens in the data.\n",
      "There are 17429 characters in the data.\n",
      "The lexical diversity is 0.506 in the data.\n"
     ]
    },
    {
     "data": {
      "text/plain": [
       "[2824, 1430, 0.5063739376770539, 17429]"
      ]
     },
     "execution_count": 177,
     "metadata": {},
     "output_type": "execute_result"
    }
   ],
   "source": [
    "# apply descriptive stats to the tesla tokens\n",
    "descriptive_stats(tesla_tokens)"
   ]
  },
  {
   "cell_type": "code",
   "execution_count": 178,
   "metadata": {
    "colab": {
     "base_uri": "https://localhost:8080/"
    },
    "id": "7HXXuv4S6MRS",
    "outputId": "1b07cf9e-5043-4366-a9c7-c18d60a547a1"
   },
   "outputs": [
    {
     "name": "stdout",
     "output_type": "stream",
     "text": [
      "There are 2647 tokens in the data.\n",
      "There are 1389 unique tokens in the data.\n",
      "There are 16511 characters in the data.\n",
      "The lexical diversity is 0.525 in the data.\n"
     ]
    },
    {
     "data": {
      "text/plain": [
       "[2647, 1389, 0.5247449943332074, 16511]"
      ]
     },
     "execution_count": 178,
     "metadata": {},
     "output_type": "execute_result"
    }
   ],
   "source": [
    "# do the same for toyota\n",
    "descriptive_stats(toyota_tokens)"
   ]
  },
  {
   "cell_type": "markdown",
   "metadata": {
    "id": "55f8EGPD6MRS"
   },
   "source": [
    "## Part 2: Sentiment Analysis & Classification Models"
   ]
  },
  {
   "cell_type": "code",
   "execution_count": 179,
   "metadata": {
    "id": "eaC6kUth6MRS",
    "outputId": "e924aeaf-7b9c-4e8c-9997-e83778a7fae1"
   },
   "outputs": [
    {
     "data": {
      "text/html": [
       "<div>\n",
       "<style scoped>\n",
       "    .dataframe tbody tr th:only-of-type {\n",
       "        vertical-align: middle;\n",
       "    }\n",
       "\n",
       "    .dataframe tbody tr th {\n",
       "        vertical-align: top;\n",
       "    }\n",
       "\n",
       "    .dataframe thead th {\n",
       "        text-align: right;\n",
       "    }\n",
       "</style>\n",
       "<table border=\"1\" class=\"dataframe\">\n",
       "  <thead>\n",
       "    <tr style=\"text-align: right;\">\n",
       "      <th></th>\n",
       "      <th>source</th>\n",
       "      <th>author</th>\n",
       "      <th>title</th>\n",
       "      <th>description</th>\n",
       "      <th>url</th>\n",
       "      <th>urlToImage</th>\n",
       "      <th>publishedAt</th>\n",
       "      <th>content</th>\n",
       "      <th>label</th>\n",
       "      <th>text</th>\n",
       "      <th>length</th>\n",
       "      <th>tokens</th>\n",
       "      <th>num_tokens</th>\n",
       "    </tr>\n",
       "  </thead>\n",
       "  <tbody>\n",
       "    <tr>\n",
       "      <th>0</th>\n",
       "      <td>{'id': None, 'name': 'CleanTechnica'}</td>\n",
       "      <td>Zachary Shahan</td>\n",
       "      <td>Tesla “Full Self Driving” Could Come To Other Countries Before Long</td>\n",
       "      <td>Ever since Tesla started rolling out Full Self Driving (FSD) to non-employee Tesla owners in the US, people in other countries have been asking when they’ll be able to install and use FSD. As far as I remember, it’s always been a vague “someday…” kind of resp…</td>\n",
       "      <td>https://cleantechnica.com/2024/04/23/tesla-full-self-driving-could-come-to-other-countries-before-long/</td>\n",
       "      <td>https://cleantechnica.com/wp-content/uploads/2024/03/Tesla-Model-3-Autostopping-Stop-Light-Autopilot-Full-Self-Driving-CleanTechnica-Stopping-New-FSD.jpeg</td>\n",
       "      <td>2024-04-24T03:55:41Z</td>\n",
       "      <td>Sign up for daily news updates from CleanTechnica on email. Or follow us on Google News!\\r\\nEver since Tesla started rolling out Full Self Driving (FSD) to non-employee Tesla owners in the US, people i… [+3965 chars]</td>\n",
       "      <td>tesla</td>\n",
       "      <td>Tesla “Full Self Driving” Could Come To Other Countries Before Long Ever since Tesla started rolling out Full Self Driving (FSD) to non-employee Tesla owners in the US, people in other countries have been asking when they’ll be able to install and use FSD. As far as I remember, it’s always been a vague “someday…” kind of resp…</td>\n",
       "      <td>328.0</td>\n",
       "      <td>['full', 'self', 'driving', 'could', 'come', 'countries', 'long', 'ever', 'since', 'started', 'rolling', 'full', 'self', 'driving', 'fsd', 'nonemployee', 'owners', 'us', 'people', 'countries', 'asking', 'able', 'install', 'use', 'fsd', 'far', 'remember', 'always', 'vague', 'someday', 'kind', 'resp']</td>\n",
       "      <td>32</td>\n",
       "    </tr>\n",
       "    <tr>\n",
       "      <th>1</th>\n",
       "      <td>{'id': None, 'name': 'CleanTechnica'}</td>\n",
       "      <td>Zachary Shahan</td>\n",
       "      <td>More Than 3× As Many Tesla Model Y Sales As Tesla Model 3 Sales In USA In 1st Quarter</td>\n",
       "      <td>Tesla’s just had a tough quarter, including in the United States, but a tough quarter for Tesla would be a stunning, fantabulous success for any other company trying to sell electric vehicles. In the USA, according to data from Cox Automotive and Kelley Blue …</td>\n",
       "      <td>https://cleantechnica.com/2024/04/19/more-than-3x-as-many-tesla-model-y-sales-as-tesla-model-3-sales-in-usa-in-1st-quarter/</td>\n",
       "      <td>https://cleantechnica.com/wp-content/uploads/2024/02/New-Tesla-Model-Y-Model-3-Model-S-Model-X-Supercharging-Florida-Station-CleanTechnica-Watermark-Sky-logo-800x445.png</td>\n",
       "      <td>2024-04-20T03:57:24Z</td>\n",
       "      <td>Sign up for daily news updates from CleanTechnica on email. Or follow us on Google News!\\r\\nTesla’s just had a tough quarter, including in the United States, but a tough quarter for Tesla would be a st… [+4173 chars]</td>\n",
       "      <td>tesla</td>\n",
       "      <td>More Than 3× As Many Tesla Model Y Sales As Tesla Model 3 Sales In USA In 1st Quarter Tesla’s just had a tough quarter, including in the United States, but a tough quarter for Tesla would be a stunning, fantabulous success for any other company trying to sell electric vehicles. In the USA, according to data from Cox Automotive and Kelley Blue …</td>\n",
       "      <td>346.0</td>\n",
       "      <td>['many', 'model', 'sales', 'model', 'sales', 'usa', '1st', 'quarter', 'tough', 'quarter', 'including', 'united', 'states', 'tough', 'quarter', 'would', 'stunning', 'fantabulous', 'success', 'company', 'trying', 'sell', 'electric', 'vehicles', 'usa', 'according', 'data', 'cox', 'automotive', 'kelley', 'blue']</td>\n",
       "      <td>31</td>\n",
       "    </tr>\n",
       "    <tr>\n",
       "      <th>2</th>\n",
       "      <td>{'id': None, 'name': 'CleanTechnica'}</td>\n",
       "      <td>Paul Fosse</td>\n",
       "      <td>Tesla Surprises Investors With A Tiny Y &amp; A Tiny 3 As Soon As This Year!</td>\n",
       "      <td>A lot has been written about the Tesla’s next-generation compact car that used to be widely called the Model 2, including Zach’s excellent article last week about it. Zach asked who might pick up the challenge in place of Tesla doing it. Today, Tesla announce…</td>\n",
       "      <td>https://cleantechnica.com/2024/04/23/tesla-surprises-investors-with-a-tiny-y-a-tiny-3-as-soon-as-this-year/</td>\n",
       "      <td>https://cleantechnica.com/wp-content/uploads/2023/12/Apple-Car-Tesla-Model-3-CleanTechnica-Front-Glass-Watermark-Logo-scaled.jpeg</td>\n",
       "      <td>2024-04-24T01:56:23Z</td>\n",
       "      <td>Sign up for daily news updates from CleanTechnica on email. Or follow us on Google News!\\r\\nA lot has been written about the Tesla’s next-generation compact car that used to be widely called the Model … [+6014 chars]</td>\n",
       "      <td>tesla</td>\n",
       "      <td>Tesla Surprises Investors With A Tiny Y &amp; A Tiny 3 As Soon As This Year! A lot has been written about the Tesla’s next-generation compact car that used to be widely called the Model 2, including Zach’s excellent article last week about it. Zach asked who might pick up the challenge in place of Tesla doing it. Today, Tesla announce…</td>\n",
       "      <td>333.0</td>\n",
       "      <td>['surprises', 'investors', 'tiny', 'tiny', 'soon', 'year', 'lot', 'written', 'nextgeneration', 'compact', 'car', 'used', 'widely', 'called', 'model', 'including', 'zach', 'excellent', 'article', 'last', 'week', 'zach', 'asked', 'might', 'pick', 'challenge', 'place', 'today', 'announce']</td>\n",
       "      <td>29</td>\n",
       "    </tr>\n",
       "    <tr>\n",
       "      <th>3</th>\n",
       "      <td>{'id': None, 'name': 'CleanTechnica'}</td>\n",
       "      <td>Carolyn Fortuna</td>\n",
       "      <td>The Revisionist Language That Tesla Used In The Q1 2024 Earnings Call</td>\n",
       "      <td>The Tesla, Inc. Q1 2024 earnings call was fascinating in how Tesla representatives drew on carefully phrased statements to appease and turn around what was then a largely disgruntled shareholder group. The revisionist language within the earnings call took co…</td>\n",
       "      <td>https://cleantechnica.com/2024/04/26/the-revisionist-language-that-tesla-used-in-the-q1-2024-earnings-call/</td>\n",
       "      <td>https://cleantechnica.com/wp-content/uploads/2023/06/Elon-Musk-CleanTechnica-shirt-Tesla-Model-Y-reveal-watermark.jpeg</td>\n",
       "      <td>2024-04-26T19:24:10Z</td>\n",
       "      <td>Sign up for daily news updates from CleanTechnica on email. Or follow us on Google News!\\r\\nThe Tesla, Inc. Q1 2024 earnings call was fascinating in how Tesla representatives drew on carefully phrased … [+9089 chars]</td>\n",
       "      <td>tesla</td>\n",
       "      <td>The Revisionist Language That Tesla Used In The Q1 2024 Earnings Call The Tesla, Inc. Q1 2024 earnings call was fascinating in how Tesla representatives drew on carefully phrased statements to appease and turn around what was then a largely disgruntled shareholder group. The revisionist language within the earnings call took co…</td>\n",
       "      <td>330.0</td>\n",
       "      <td>['revisionist', 'language', 'used', 'q1', 'earnings', 'call', 'inc', 'q1', 'earnings', 'call', 'fascinating', 'representatives', 'drew', 'carefully', 'phrased', 'statements', 'appease', 'turn', 'around', 'largely', 'disgruntled', 'shareholder', 'group', 'revisionist', 'language', 'within', 'earnings', 'call', 'took', 'co']</td>\n",
       "      <td>30</td>\n",
       "    </tr>\n",
       "    <tr>\n",
       "      <th>4</th>\n",
       "      <td>{'id': 'techcrunch', 'name': 'TechCrunch'}</td>\n",
       "      <td>Paul Sawers</td>\n",
       "      <td>French startup FlexAI exits stealth with $30M to ease access to AI compute</td>\n",
       "      <td>A French startup has raised a hefty seed investment to \"rearchitect compute infrastructure\" for developers wanting to build and train AI applications more...</td>\n",
       "      <td>https://techcrunch.com/2024/04/23/french-startup-flexai-exits-stealth-with-30m-to-ease-access-to-ai-compute/</td>\n",
       "      <td>https://s.yimg.com/ny/api/res/1.2/V7FcJP2rJb.YNXWOmWjLrw--/YXBwaWQ9aGlnaGxhbmRlcjt3PTEyMDA7aD02NzQ-/https://media.zenfs.com/en/techcrunch_350/128964a889f3f6262e9e1f768561ec69</td>\n",
       "      <td>2024-04-24T05:37:28Z</td>\n",
       "      <td>A French startup has raised a hefty seed investment to \"rearchitect compute infrastructure\" for developers wanting to build and train AI applications more efficiently.\\r\\nFlexAI, as the company is call… [+10420 chars]</td>\n",
       "      <td>tesla</td>\n",
       "      <td>French startup FlexAI exits stealth with $30M to ease access to AI compute A French startup has raised a hefty seed investment to \"rearchitect compute infrastructure\" for developers wanting to build and train AI applications more...</td>\n",
       "      <td>232.0</td>\n",
       "      <td>['french', 'startup', 'flexai', 'exits', 'stealth', '30m', 'ease', 'access', 'ai', 'compute', 'french', 'startup', 'raised', 'hefty', 'seed', 'investment', 'rearchitect', 'compute', 'infrastructure', 'developers', 'wanting', 'build', 'train', 'ai', 'applications']</td>\n",
       "      <td>25</td>\n",
       "    </tr>\n",
       "  </tbody>\n",
       "</table>\n",
       "</div>"
      ],
      "text/plain": [
       "                                       source           author  \\\n",
       "0       {'id': None, 'name': 'CleanTechnica'}   Zachary Shahan   \n",
       "1       {'id': None, 'name': 'CleanTechnica'}   Zachary Shahan   \n",
       "2       {'id': None, 'name': 'CleanTechnica'}       Paul Fosse   \n",
       "3       {'id': None, 'name': 'CleanTechnica'}  Carolyn Fortuna   \n",
       "4  {'id': 'techcrunch', 'name': 'TechCrunch'}      Paul Sawers   \n",
       "\n",
       "                                                                                   title  \\\n",
       "0                    Tesla “Full Self Driving” Could Come To Other Countries Before Long   \n",
       "1  More Than 3× As Many Tesla Model Y Sales As Tesla Model 3 Sales In USA In 1st Quarter   \n",
       "2               Tesla Surprises Investors With A Tiny Y & A Tiny 3 As Soon As This Year!   \n",
       "3                  The Revisionist Language That Tesla Used In The Q1 2024 Earnings Call   \n",
       "4             French startup FlexAI exits stealth with $30M to ease access to AI compute   \n",
       "\n",
       "                                                                                                                                                                                                                                                            description  \\\n",
       "0  Ever since Tesla started rolling out Full Self Driving (FSD) to non-employee Tesla owners in the US, people in other countries have been asking when they’ll be able to install and use FSD. As far as I remember, it’s always been a vague “someday…” kind of resp…   \n",
       "1  Tesla’s just had a tough quarter, including in the United States, but a tough quarter for Tesla would be a stunning, fantabulous success for any other company trying to sell electric vehicles. In the USA, according to data from Cox Automotive and Kelley Blue …   \n",
       "2  A lot has been written about the Tesla’s next-generation compact car that used to be widely called the Model 2, including Zach’s excellent article last week about it. Zach asked who might pick up the challenge in place of Tesla doing it. Today, Tesla announce…   \n",
       "3  The Tesla, Inc. Q1 2024 earnings call was fascinating in how Tesla representatives drew on carefully phrased statements to appease and turn around what was then a largely disgruntled shareholder group. The revisionist language within the earnings call took co…   \n",
       "4                                                                                                         A French startup has raised a hefty seed investment to \"rearchitect compute infrastructure\" for developers wanting to build and train AI applications more...   \n",
       "\n",
       "                                                                                                                           url  \\\n",
       "0                      https://cleantechnica.com/2024/04/23/tesla-full-self-driving-could-come-to-other-countries-before-long/   \n",
       "1  https://cleantechnica.com/2024/04/19/more-than-3x-as-many-tesla-model-y-sales-as-tesla-model-3-sales-in-usa-in-1st-quarter/   \n",
       "2                  https://cleantechnica.com/2024/04/23/tesla-surprises-investors-with-a-tiny-y-a-tiny-3-as-soon-as-this-year/   \n",
       "3                  https://cleantechnica.com/2024/04/26/the-revisionist-language-that-tesla-used-in-the-q1-2024-earnings-call/   \n",
       "4                 https://techcrunch.com/2024/04/23/french-startup-flexai-exits-stealth-with-30m-to-ease-access-to-ai-compute/   \n",
       "\n",
       "                                                                                                                                                                       urlToImage  \\\n",
       "0                      https://cleantechnica.com/wp-content/uploads/2024/03/Tesla-Model-3-Autostopping-Stop-Light-Autopilot-Full-Self-Driving-CleanTechnica-Stopping-New-FSD.jpeg   \n",
       "1       https://cleantechnica.com/wp-content/uploads/2024/02/New-Tesla-Model-Y-Model-3-Model-S-Model-X-Supercharging-Florida-Station-CleanTechnica-Watermark-Sky-logo-800x445.png   \n",
       "2                                               https://cleantechnica.com/wp-content/uploads/2023/12/Apple-Car-Tesla-Model-3-CleanTechnica-Front-Glass-Watermark-Logo-scaled.jpeg   \n",
       "3                                                          https://cleantechnica.com/wp-content/uploads/2023/06/Elon-Musk-CleanTechnica-shirt-Tesla-Model-Y-reveal-watermark.jpeg   \n",
       "4  https://s.yimg.com/ny/api/res/1.2/V7FcJP2rJb.YNXWOmWjLrw--/YXBwaWQ9aGlnaGxhbmRlcjt3PTEyMDA7aD02NzQ-/https://media.zenfs.com/en/techcrunch_350/128964a889f3f6262e9e1f768561ec69   \n",
       "\n",
       "            publishedAt  \\\n",
       "0  2024-04-24T03:55:41Z   \n",
       "1  2024-04-20T03:57:24Z   \n",
       "2  2024-04-24T01:56:23Z   \n",
       "3  2024-04-26T19:24:10Z   \n",
       "4  2024-04-24T05:37:28Z   \n",
       "\n",
       "                                                                                                                                                                                                                     content  \\\n",
       "0   Sign up for daily news updates from CleanTechnica on email. Or follow us on Google News!\\r\\nEver since Tesla started rolling out Full Self Driving (FSD) to non-employee Tesla owners in the US, people i… [+3965 chars]   \n",
       "1   Sign up for daily news updates from CleanTechnica on email. Or follow us on Google News!\\r\\nTesla’s just had a tough quarter, including in the United States, but a tough quarter for Tesla would be a st… [+4173 chars]   \n",
       "2   Sign up for daily news updates from CleanTechnica on email. Or follow us on Google News!\\r\\nA lot has been written about the Tesla’s next-generation compact car that used to be widely called the Model … [+6014 chars]   \n",
       "3   Sign up for daily news updates from CleanTechnica on email. Or follow us on Google News!\\r\\nThe Tesla, Inc. Q1 2024 earnings call was fascinating in how Tesla representatives drew on carefully phrased … [+9089 chars]   \n",
       "4  A French startup has raised a hefty seed investment to \"rearchitect compute infrastructure\" for developers wanting to build and train AI applications more efficiently.\\r\\nFlexAI, as the company is call… [+10420 chars]   \n",
       "\n",
       "   label  \\\n",
       "0  tesla   \n",
       "1  tesla   \n",
       "2  tesla   \n",
       "3  tesla   \n",
       "4  tesla   \n",
       "\n",
       "                                                                                                                                                                                                                                                                                                                                                         text  \\\n",
       "0                    Tesla “Full Self Driving” Could Come To Other Countries Before Long Ever since Tesla started rolling out Full Self Driving (FSD) to non-employee Tesla owners in the US, people in other countries have been asking when they’ll be able to install and use FSD. As far as I remember, it’s always been a vague “someday…” kind of resp…   \n",
       "1  More Than 3× As Many Tesla Model Y Sales As Tesla Model 3 Sales In USA In 1st Quarter Tesla’s just had a tough quarter, including in the United States, but a tough quarter for Tesla would be a stunning, fantabulous success for any other company trying to sell electric vehicles. In the USA, according to data from Cox Automotive and Kelley Blue …   \n",
       "2               Tesla Surprises Investors With A Tiny Y & A Tiny 3 As Soon As This Year! A lot has been written about the Tesla’s next-generation compact car that used to be widely called the Model 2, including Zach’s excellent article last week about it. Zach asked who might pick up the challenge in place of Tesla doing it. Today, Tesla announce…   \n",
       "3                  The Revisionist Language That Tesla Used In The Q1 2024 Earnings Call The Tesla, Inc. Q1 2024 earnings call was fascinating in how Tesla representatives drew on carefully phrased statements to appease and turn around what was then a largely disgruntled shareholder group. The revisionist language within the earnings call took co…   \n",
       "4                                                                                                                    French startup FlexAI exits stealth with $30M to ease access to AI compute A French startup has raised a hefty seed investment to \"rearchitect compute infrastructure\" for developers wanting to build and train AI applications more...   \n",
       "\n",
       "   length  \\\n",
       "0   328.0   \n",
       "1   346.0   \n",
       "2   333.0   \n",
       "3   330.0   \n",
       "4   232.0   \n",
       "\n",
       "                                                                                                                                                                                                                                                                                                                                 tokens  \\\n",
       "0                          ['full', 'self', 'driving', 'could', 'come', 'countries', 'long', 'ever', 'since', 'started', 'rolling', 'full', 'self', 'driving', 'fsd', 'nonemployee', 'owners', 'us', 'people', 'countries', 'asking', 'able', 'install', 'use', 'fsd', 'far', 'remember', 'always', 'vague', 'someday', 'kind', 'resp']   \n",
       "1                 ['many', 'model', 'sales', 'model', 'sales', 'usa', '1st', 'quarter', 'tough', 'quarter', 'including', 'united', 'states', 'tough', 'quarter', 'would', 'stunning', 'fantabulous', 'success', 'company', 'trying', 'sell', 'electric', 'vehicles', 'usa', 'according', 'data', 'cox', 'automotive', 'kelley', 'blue']   \n",
       "2                                       ['surprises', 'investors', 'tiny', 'tiny', 'soon', 'year', 'lot', 'written', 'nextgeneration', 'compact', 'car', 'used', 'widely', 'called', 'model', 'including', 'zach', 'excellent', 'article', 'last', 'week', 'zach', 'asked', 'might', 'pick', 'challenge', 'place', 'today', 'announce']   \n",
       "3  ['revisionist', 'language', 'used', 'q1', 'earnings', 'call', 'inc', 'q1', 'earnings', 'call', 'fascinating', 'representatives', 'drew', 'carefully', 'phrased', 'statements', 'appease', 'turn', 'around', 'largely', 'disgruntled', 'shareholder', 'group', 'revisionist', 'language', 'within', 'earnings', 'call', 'took', 'co']   \n",
       "4                                                              ['french', 'startup', 'flexai', 'exits', 'stealth', '30m', 'ease', 'access', 'ai', 'compute', 'french', 'startup', 'raised', 'hefty', 'seed', 'investment', 'rearchitect', 'compute', 'infrastructure', 'developers', 'wanting', 'build', 'train', 'ai', 'applications']   \n",
       "\n",
       "   num_tokens  \n",
       "0          32  \n",
       "1          31  \n",
       "2          29  \n",
       "3          30  \n",
       "4          25  "
      ]
     },
     "execution_count": 179,
     "metadata": {},
     "output_type": "execute_result"
    }
   ],
   "source": [
    "# read in the data if starting from this cell\n",
    "combined = pd.read_csv('data/combined.csv')\n",
    "combined.head()"
   ]
  },
  {
   "cell_type": "code",
   "execution_count": 180,
   "metadata": {
    "colab": {
     "base_uri": "https://localhost:8080/",
     "height": 1000
    },
    "id": "ioFdk5_nT6SK",
    "outputId": "32e5cdca-e569-4372-ae87-b1da2c13f47b"
   },
   "outputs": [
    {
     "data": {
      "text/html": [
       "<div>\n",
       "<style scoped>\n",
       "    .dataframe tbody tr th:only-of-type {\n",
       "        vertical-align: middle;\n",
       "    }\n",
       "\n",
       "    .dataframe tbody tr th {\n",
       "        vertical-align: top;\n",
       "    }\n",
       "\n",
       "    .dataframe thead th {\n",
       "        text-align: right;\n",
       "    }\n",
       "</style>\n",
       "<table border=\"1\" class=\"dataframe\">\n",
       "  <thead>\n",
       "    <tr style=\"text-align: right;\">\n",
       "      <th></th>\n",
       "      <th>source</th>\n",
       "      <th>author</th>\n",
       "      <th>title</th>\n",
       "      <th>description</th>\n",
       "      <th>url</th>\n",
       "      <th>urlToImage</th>\n",
       "      <th>publishedAt</th>\n",
       "      <th>content</th>\n",
       "      <th>label</th>\n",
       "      <th>text</th>\n",
       "      <th>length</th>\n",
       "      <th>tokens</th>\n",
       "      <th>num_tokens</th>\n",
       "      <th>clean_tokens_str</th>\n",
       "    </tr>\n",
       "  </thead>\n",
       "  <tbody>\n",
       "    <tr>\n",
       "      <th>0</th>\n",
       "      <td>{'id': None, 'name': 'CleanTechnica'}</td>\n",
       "      <td>Zachary Shahan</td>\n",
       "      <td>Tesla “Full Self Driving” Could Come To Other Countries Before Long</td>\n",
       "      <td>Ever since Tesla started rolling out Full Self Driving (FSD) to non-employee Tesla owners in the US, people in other countries have been asking when they’ll be able to install and use FSD. As far as I remember, it’s always been a vague “someday…” kind of resp…</td>\n",
       "      <td>https://cleantechnica.com/2024/04/23/tesla-full-self-driving-could-come-to-other-countries-before-long/</td>\n",
       "      <td>https://cleantechnica.com/wp-content/uploads/2024/03/Tesla-Model-3-Autostopping-Stop-Light-Autopilot-Full-Self-Driving-CleanTechnica-Stopping-New-FSD.jpeg</td>\n",
       "      <td>2024-04-24T03:55:41Z</td>\n",
       "      <td>Sign up for daily news updates from CleanTechnica on email. Or follow us on Google News!\\r\\nEver since Tesla started rolling out Full Self Driving (FSD) to non-employee Tesla owners in the US, people i… [+3965 chars]</td>\n",
       "      <td>tesla</td>\n",
       "      <td>Tesla “Full Self Driving” Could Come To Other Countries Before Long Ever since Tesla started rolling out Full Self Driving (FSD) to non-employee Tesla owners in the US, people in other countries have been asking when they’ll be able to install and use FSD. As far as I remember, it’s always been a vague “someday…” kind of resp…</td>\n",
       "      <td>328.0</td>\n",
       "      <td>['full', 'self', 'driving', 'could', 'come', 'countries', 'long', 'ever', 'since', 'started', 'rolling', 'full', 'self', 'driving', 'fsd', 'nonemployee', 'owners', 'us', 'people', 'countries', 'asking', 'able', 'install', 'use', 'fsd', 'far', 'remember', 'always', 'vague', 'someday', 'kind', 'resp']</td>\n",
       "      <td>32</td>\n",
       "      <td>[ ' f u l l ' ,   ' s e l f ' ,   ' d r i v i n g ' ,   ' c o u l d ' ,   ' c o m e ' ,   ' c o u n t r i e s ' ,   ' l o n g ' ,   ' e v e r ' ,   ' s i n c e ' ,   ' s t a r t e d ' ,   ' r o l l i n g ' ,   ' f u l l ' ,   ' s e l f ' ,   ' d r i v i n g ' ,   ' f s d ' ,   ' n o n e m p l o y e e ' ,   ' o w n e r s ' ,   ' u s ' ,   ' p e o p l e ' ,   ' c o u n t r i e s ' ,   ' a s k i n g ' ,   ' a b l e ' ,   ' i n s t a l l ' ,   ' u s e ' ,   ' f s d ' ,   ' f a r ' ,   ' r e m e m b e r ' ,   ' a l w a y s ' ,   ' v a g u e ' ,   ' s o m e d a y ' ,   ' k i n d ' ,   ' r e s p ' ]</td>\n",
       "    </tr>\n",
       "    <tr>\n",
       "      <th>1</th>\n",
       "      <td>{'id': None, 'name': 'CleanTechnica'}</td>\n",
       "      <td>Zachary Shahan</td>\n",
       "      <td>More Than 3× As Many Tesla Model Y Sales As Tesla Model 3 Sales In USA In 1st Quarter</td>\n",
       "      <td>Tesla’s just had a tough quarter, including in the United States, but a tough quarter for Tesla would be a stunning, fantabulous success for any other company trying to sell electric vehicles. In the USA, according to data from Cox Automotive and Kelley Blue …</td>\n",
       "      <td>https://cleantechnica.com/2024/04/19/more-than-3x-as-many-tesla-model-y-sales-as-tesla-model-3-sales-in-usa-in-1st-quarter/</td>\n",
       "      <td>https://cleantechnica.com/wp-content/uploads/2024/02/New-Tesla-Model-Y-Model-3-Model-S-Model-X-Supercharging-Florida-Station-CleanTechnica-Watermark-Sky-logo-800x445.png</td>\n",
       "      <td>2024-04-20T03:57:24Z</td>\n",
       "      <td>Sign up for daily news updates from CleanTechnica on email. Or follow us on Google News!\\r\\nTesla’s just had a tough quarter, including in the United States, but a tough quarter for Tesla would be a st… [+4173 chars]</td>\n",
       "      <td>tesla</td>\n",
       "      <td>More Than 3× As Many Tesla Model Y Sales As Tesla Model 3 Sales In USA In 1st Quarter Tesla’s just had a tough quarter, including in the United States, but a tough quarter for Tesla would be a stunning, fantabulous success for any other company trying to sell electric vehicles. In the USA, according to data from Cox Automotive and Kelley Blue …</td>\n",
       "      <td>346.0</td>\n",
       "      <td>['many', 'model', 'sales', 'model', 'sales', 'usa', '1st', 'quarter', 'tough', 'quarter', 'including', 'united', 'states', 'tough', 'quarter', 'would', 'stunning', 'fantabulous', 'success', 'company', 'trying', 'sell', 'electric', 'vehicles', 'usa', 'according', 'data', 'cox', 'automotive', 'kelley', 'blue']</td>\n",
       "      <td>31</td>\n",
       "      <td>[ ' m a n y ' ,   ' m o d e l ' ,   ' s a l e s ' ,   ' m o d e l ' ,   ' s a l e s ' ,   ' u s a ' ,   ' 1 s t ' ,   ' q u a r t e r ' ,   ' t o u g h ' ,   ' q u a r t e r ' ,   ' i n c l u d i n g ' ,   ' u n i t e d ' ,   ' s t a t e s ' ,   ' t o u g h ' ,   ' q u a r t e r ' ,   ' w o u l d ' ,   ' s t u n n i n g ' ,   ' f a n t a b u l o u s ' ,   ' s u c c e s s ' ,   ' c o m p a n y ' ,   ' t r y i n g ' ,   ' s e l l ' ,   ' e l e c t r i c ' ,   ' v e h i c l e s ' ,   ' u s a ' ,   ' a c c o r d i n g ' ,   ' d a t a ' ,   ' c o x ' ,   ' a u t o m o t i v e ' ,   ' k e l l e y ' ,   ' b l u e ' ]</td>\n",
       "    </tr>\n",
       "    <tr>\n",
       "      <th>2</th>\n",
       "      <td>{'id': None, 'name': 'CleanTechnica'}</td>\n",
       "      <td>Paul Fosse</td>\n",
       "      <td>Tesla Surprises Investors With A Tiny Y &amp; A Tiny 3 As Soon As This Year!</td>\n",
       "      <td>A lot has been written about the Tesla’s next-generation compact car that used to be widely called the Model 2, including Zach’s excellent article last week about it. Zach asked who might pick up the challenge in place of Tesla doing it. Today, Tesla announce…</td>\n",
       "      <td>https://cleantechnica.com/2024/04/23/tesla-surprises-investors-with-a-tiny-y-a-tiny-3-as-soon-as-this-year/</td>\n",
       "      <td>https://cleantechnica.com/wp-content/uploads/2023/12/Apple-Car-Tesla-Model-3-CleanTechnica-Front-Glass-Watermark-Logo-scaled.jpeg</td>\n",
       "      <td>2024-04-24T01:56:23Z</td>\n",
       "      <td>Sign up for daily news updates from CleanTechnica on email. Or follow us on Google News!\\r\\nA lot has been written about the Tesla’s next-generation compact car that used to be widely called the Model … [+6014 chars]</td>\n",
       "      <td>tesla</td>\n",
       "      <td>Tesla Surprises Investors With A Tiny Y &amp; A Tiny 3 As Soon As This Year! A lot has been written about the Tesla’s next-generation compact car that used to be widely called the Model 2, including Zach’s excellent article last week about it. Zach asked who might pick up the challenge in place of Tesla doing it. Today, Tesla announce…</td>\n",
       "      <td>333.0</td>\n",
       "      <td>['surprises', 'investors', 'tiny', 'tiny', 'soon', 'year', 'lot', 'written', 'nextgeneration', 'compact', 'car', 'used', 'widely', 'called', 'model', 'including', 'zach', 'excellent', 'article', 'last', 'week', 'zach', 'asked', 'might', 'pick', 'challenge', 'place', 'today', 'announce']</td>\n",
       "      <td>29</td>\n",
       "      <td>[ ' s u r p r i s e s ' ,   ' i n v e s t o r s ' ,   ' t i n y ' ,   ' t i n y ' ,   ' s o o n ' ,   ' y e a r ' ,   ' l o t ' ,   ' w r i t t e n ' ,   ' n e x t g e n e r a t i o n ' ,   ' c o m p a c t ' ,   ' c a r ' ,   ' u s e d ' ,   ' w i d e l y ' ,   ' c a l l e d ' ,   ' m o d e l ' ,   ' i n c l u d i n g ' ,   ' z a c h ' ,   ' e x c e l l e n t ' ,   ' a r t i c l e ' ,   ' l a s t ' ,   ' w e e k ' ,   ' z a c h ' ,   ' a s k e d ' ,   ' m i g h t ' ,   ' p i c k ' ,   ' c h a l l e n g e ' ,   ' p l a c e ' ,   ' t o d a y ' ,   ' a n n o u n c e ' ]</td>\n",
       "    </tr>\n",
       "    <tr>\n",
       "      <th>3</th>\n",
       "      <td>{'id': None, 'name': 'CleanTechnica'}</td>\n",
       "      <td>Carolyn Fortuna</td>\n",
       "      <td>The Revisionist Language That Tesla Used In The Q1 2024 Earnings Call</td>\n",
       "      <td>The Tesla, Inc. Q1 2024 earnings call was fascinating in how Tesla representatives drew on carefully phrased statements to appease and turn around what was then a largely disgruntled shareholder group. The revisionist language within the earnings call took co…</td>\n",
       "      <td>https://cleantechnica.com/2024/04/26/the-revisionist-language-that-tesla-used-in-the-q1-2024-earnings-call/</td>\n",
       "      <td>https://cleantechnica.com/wp-content/uploads/2023/06/Elon-Musk-CleanTechnica-shirt-Tesla-Model-Y-reveal-watermark.jpeg</td>\n",
       "      <td>2024-04-26T19:24:10Z</td>\n",
       "      <td>Sign up for daily news updates from CleanTechnica on email. Or follow us on Google News!\\r\\nThe Tesla, Inc. Q1 2024 earnings call was fascinating in how Tesla representatives drew on carefully phrased … [+9089 chars]</td>\n",
       "      <td>tesla</td>\n",
       "      <td>The Revisionist Language That Tesla Used In The Q1 2024 Earnings Call The Tesla, Inc. Q1 2024 earnings call was fascinating in how Tesla representatives drew on carefully phrased statements to appease and turn around what was then a largely disgruntled shareholder group. The revisionist language within the earnings call took co…</td>\n",
       "      <td>330.0</td>\n",
       "      <td>['revisionist', 'language', 'used', 'q1', 'earnings', 'call', 'inc', 'q1', 'earnings', 'call', 'fascinating', 'representatives', 'drew', 'carefully', 'phrased', 'statements', 'appease', 'turn', 'around', 'largely', 'disgruntled', 'shareholder', 'group', 'revisionist', 'language', 'within', 'earnings', 'call', 'took', 'co']</td>\n",
       "      <td>30</td>\n",
       "      <td>[ ' r e v i s i o n i s t ' ,   ' l a n g u a g e ' ,   ' u s e d ' ,   ' q 1 ' ,   ' e a r n i n g s ' ,   ' c a l l ' ,   ' i n c ' ,   ' q 1 ' ,   ' e a r n i n g s ' ,   ' c a l l ' ,   ' f a s c i n a t i n g ' ,   ' r e p r e s e n t a t i v e s ' ,   ' d r e w ' ,   ' c a r e f u l l y ' ,   ' p h r a s e d ' ,   ' s t a t e m e n t s ' ,   ' a p p e a s e ' ,   ' t u r n ' ,   ' a r o u n d ' ,   ' l a r g e l y ' ,   ' d i s g r u n t l e d ' ,   ' s h a r e h o l d e r ' ,   ' g r o u p ' ,   ' r e v i s i o n i s t ' ,   ' l a n g u a g e ' ,   ' w i t h i n ' ,   ' e a r n i n g s ' ,   ' c a l l ' ,   ' t o o k ' ,   ' c o ' ]</td>\n",
       "    </tr>\n",
       "    <tr>\n",
       "      <th>4</th>\n",
       "      <td>{'id': 'techcrunch', 'name': 'TechCrunch'}</td>\n",
       "      <td>Paul Sawers</td>\n",
       "      <td>French startup FlexAI exits stealth with $30M to ease access to AI compute</td>\n",
       "      <td>A French startup has raised a hefty seed investment to \"rearchitect compute infrastructure\" for developers wanting to build and train AI applications more...</td>\n",
       "      <td>https://techcrunch.com/2024/04/23/french-startup-flexai-exits-stealth-with-30m-to-ease-access-to-ai-compute/</td>\n",
       "      <td>https://s.yimg.com/ny/api/res/1.2/V7FcJP2rJb.YNXWOmWjLrw--/YXBwaWQ9aGlnaGxhbmRlcjt3PTEyMDA7aD02NzQ-/https://media.zenfs.com/en/techcrunch_350/128964a889f3f6262e9e1f768561ec69</td>\n",
       "      <td>2024-04-24T05:37:28Z</td>\n",
       "      <td>A French startup has raised a hefty seed investment to \"rearchitect compute infrastructure\" for developers wanting to build and train AI applications more efficiently.\\r\\nFlexAI, as the company is call… [+10420 chars]</td>\n",
       "      <td>tesla</td>\n",
       "      <td>French startup FlexAI exits stealth with $30M to ease access to AI compute A French startup has raised a hefty seed investment to \"rearchitect compute infrastructure\" for developers wanting to build and train AI applications more...</td>\n",
       "      <td>232.0</td>\n",
       "      <td>['french', 'startup', 'flexai', 'exits', 'stealth', '30m', 'ease', 'access', 'ai', 'compute', 'french', 'startup', 'raised', 'hefty', 'seed', 'investment', 'rearchitect', 'compute', 'infrastructure', 'developers', 'wanting', 'build', 'train', 'ai', 'applications']</td>\n",
       "      <td>25</td>\n",
       "      <td>[ ' f r e n c h ' ,   ' s t a r t u p ' ,   ' f l e x a i ' ,   ' e x i t s ' ,   ' s t e a l t h ' ,   ' 3 0 m ' ,   ' e a s e ' ,   ' a c c e s s ' ,   ' a i ' ,   ' c o m p u t e ' ,   ' f r e n c h ' ,   ' s t a r t u p ' ,   ' r a i s e d ' ,   ' h e f t y ' ,   ' s e e d ' ,   ' i n v e s t m e n t ' ,   ' r e a r c h i t e c t ' ,   ' c o m p u t e ' ,   ' i n f r a s t r u c t u r e ' ,   ' d e v e l o p e r s ' ,   ' w a n t i n g ' ,   ' b u i l d ' ,   ' t r a i n ' ,   ' a i ' ,   ' a p p l i c a t i o n s ' ]</td>\n",
       "    </tr>\n",
       "  </tbody>\n",
       "</table>\n",
       "</div>"
      ],
      "text/plain": [
       "                                       source           author  \\\n",
       "0       {'id': None, 'name': 'CleanTechnica'}   Zachary Shahan   \n",
       "1       {'id': None, 'name': 'CleanTechnica'}   Zachary Shahan   \n",
       "2       {'id': None, 'name': 'CleanTechnica'}       Paul Fosse   \n",
       "3       {'id': None, 'name': 'CleanTechnica'}  Carolyn Fortuna   \n",
       "4  {'id': 'techcrunch', 'name': 'TechCrunch'}      Paul Sawers   \n",
       "\n",
       "                                                                                   title  \\\n",
       "0                    Tesla “Full Self Driving” Could Come To Other Countries Before Long   \n",
       "1  More Than 3× As Many Tesla Model Y Sales As Tesla Model 3 Sales In USA In 1st Quarter   \n",
       "2               Tesla Surprises Investors With A Tiny Y & A Tiny 3 As Soon As This Year!   \n",
       "3                  The Revisionist Language That Tesla Used In The Q1 2024 Earnings Call   \n",
       "4             French startup FlexAI exits stealth with $30M to ease access to AI compute   \n",
       "\n",
       "                                                                                                                                                                                                                                                            description  \\\n",
       "0  Ever since Tesla started rolling out Full Self Driving (FSD) to non-employee Tesla owners in the US, people in other countries have been asking when they’ll be able to install and use FSD. As far as I remember, it’s always been a vague “someday…” kind of resp…   \n",
       "1  Tesla’s just had a tough quarter, including in the United States, but a tough quarter for Tesla would be a stunning, fantabulous success for any other company trying to sell electric vehicles. In the USA, according to data from Cox Automotive and Kelley Blue …   \n",
       "2  A lot has been written about the Tesla’s next-generation compact car that used to be widely called the Model 2, including Zach’s excellent article last week about it. Zach asked who might pick up the challenge in place of Tesla doing it. Today, Tesla announce…   \n",
       "3  The Tesla, Inc. Q1 2024 earnings call was fascinating in how Tesla representatives drew on carefully phrased statements to appease and turn around what was then a largely disgruntled shareholder group. The revisionist language within the earnings call took co…   \n",
       "4                                                                                                         A French startup has raised a hefty seed investment to \"rearchitect compute infrastructure\" for developers wanting to build and train AI applications more...   \n",
       "\n",
       "                                                                                                                           url  \\\n",
       "0                      https://cleantechnica.com/2024/04/23/tesla-full-self-driving-could-come-to-other-countries-before-long/   \n",
       "1  https://cleantechnica.com/2024/04/19/more-than-3x-as-many-tesla-model-y-sales-as-tesla-model-3-sales-in-usa-in-1st-quarter/   \n",
       "2                  https://cleantechnica.com/2024/04/23/tesla-surprises-investors-with-a-tiny-y-a-tiny-3-as-soon-as-this-year/   \n",
       "3                  https://cleantechnica.com/2024/04/26/the-revisionist-language-that-tesla-used-in-the-q1-2024-earnings-call/   \n",
       "4                 https://techcrunch.com/2024/04/23/french-startup-flexai-exits-stealth-with-30m-to-ease-access-to-ai-compute/   \n",
       "\n",
       "                                                                                                                                                                       urlToImage  \\\n",
       "0                      https://cleantechnica.com/wp-content/uploads/2024/03/Tesla-Model-3-Autostopping-Stop-Light-Autopilot-Full-Self-Driving-CleanTechnica-Stopping-New-FSD.jpeg   \n",
       "1       https://cleantechnica.com/wp-content/uploads/2024/02/New-Tesla-Model-Y-Model-3-Model-S-Model-X-Supercharging-Florida-Station-CleanTechnica-Watermark-Sky-logo-800x445.png   \n",
       "2                                               https://cleantechnica.com/wp-content/uploads/2023/12/Apple-Car-Tesla-Model-3-CleanTechnica-Front-Glass-Watermark-Logo-scaled.jpeg   \n",
       "3                                                          https://cleantechnica.com/wp-content/uploads/2023/06/Elon-Musk-CleanTechnica-shirt-Tesla-Model-Y-reveal-watermark.jpeg   \n",
       "4  https://s.yimg.com/ny/api/res/1.2/V7FcJP2rJb.YNXWOmWjLrw--/YXBwaWQ9aGlnaGxhbmRlcjt3PTEyMDA7aD02NzQ-/https://media.zenfs.com/en/techcrunch_350/128964a889f3f6262e9e1f768561ec69   \n",
       "\n",
       "            publishedAt  \\\n",
       "0  2024-04-24T03:55:41Z   \n",
       "1  2024-04-20T03:57:24Z   \n",
       "2  2024-04-24T01:56:23Z   \n",
       "3  2024-04-26T19:24:10Z   \n",
       "4  2024-04-24T05:37:28Z   \n",
       "\n",
       "                                                                                                                                                                                                                     content  \\\n",
       "0   Sign up for daily news updates from CleanTechnica on email. Or follow us on Google News!\\r\\nEver since Tesla started rolling out Full Self Driving (FSD) to non-employee Tesla owners in the US, people i… [+3965 chars]   \n",
       "1   Sign up for daily news updates from CleanTechnica on email. Or follow us on Google News!\\r\\nTesla’s just had a tough quarter, including in the United States, but a tough quarter for Tesla would be a st… [+4173 chars]   \n",
       "2   Sign up for daily news updates from CleanTechnica on email. Or follow us on Google News!\\r\\nA lot has been written about the Tesla’s next-generation compact car that used to be widely called the Model … [+6014 chars]   \n",
       "3   Sign up for daily news updates from CleanTechnica on email. Or follow us on Google News!\\r\\nThe Tesla, Inc. Q1 2024 earnings call was fascinating in how Tesla representatives drew on carefully phrased … [+9089 chars]   \n",
       "4  A French startup has raised a hefty seed investment to \"rearchitect compute infrastructure\" for developers wanting to build and train AI applications more efficiently.\\r\\nFlexAI, as the company is call… [+10420 chars]   \n",
       "\n",
       "   label  \\\n",
       "0  tesla   \n",
       "1  tesla   \n",
       "2  tesla   \n",
       "3  tesla   \n",
       "4  tesla   \n",
       "\n",
       "                                                                                                                                                                                                                                                                                                                                                         text  \\\n",
       "0                    Tesla “Full Self Driving” Could Come To Other Countries Before Long Ever since Tesla started rolling out Full Self Driving (FSD) to non-employee Tesla owners in the US, people in other countries have been asking when they’ll be able to install and use FSD. As far as I remember, it’s always been a vague “someday…” kind of resp…   \n",
       "1  More Than 3× As Many Tesla Model Y Sales As Tesla Model 3 Sales In USA In 1st Quarter Tesla’s just had a tough quarter, including in the United States, but a tough quarter for Tesla would be a stunning, fantabulous success for any other company trying to sell electric vehicles. In the USA, according to data from Cox Automotive and Kelley Blue …   \n",
       "2               Tesla Surprises Investors With A Tiny Y & A Tiny 3 As Soon As This Year! A lot has been written about the Tesla’s next-generation compact car that used to be widely called the Model 2, including Zach’s excellent article last week about it. Zach asked who might pick up the challenge in place of Tesla doing it. Today, Tesla announce…   \n",
       "3                  The Revisionist Language That Tesla Used In The Q1 2024 Earnings Call The Tesla, Inc. Q1 2024 earnings call was fascinating in how Tesla representatives drew on carefully phrased statements to appease and turn around what was then a largely disgruntled shareholder group. The revisionist language within the earnings call took co…   \n",
       "4                                                                                                                    French startup FlexAI exits stealth with $30M to ease access to AI compute A French startup has raised a hefty seed investment to \"rearchitect compute infrastructure\" for developers wanting to build and train AI applications more...   \n",
       "\n",
       "   length  \\\n",
       "0   328.0   \n",
       "1   346.0   \n",
       "2   333.0   \n",
       "3   330.0   \n",
       "4   232.0   \n",
       "\n",
       "                                                                                                                                                                                                                                                                                                                                 tokens  \\\n",
       "0                          ['full', 'self', 'driving', 'could', 'come', 'countries', 'long', 'ever', 'since', 'started', 'rolling', 'full', 'self', 'driving', 'fsd', 'nonemployee', 'owners', 'us', 'people', 'countries', 'asking', 'able', 'install', 'use', 'fsd', 'far', 'remember', 'always', 'vague', 'someday', 'kind', 'resp']   \n",
       "1                 ['many', 'model', 'sales', 'model', 'sales', 'usa', '1st', 'quarter', 'tough', 'quarter', 'including', 'united', 'states', 'tough', 'quarter', 'would', 'stunning', 'fantabulous', 'success', 'company', 'trying', 'sell', 'electric', 'vehicles', 'usa', 'according', 'data', 'cox', 'automotive', 'kelley', 'blue']   \n",
       "2                                       ['surprises', 'investors', 'tiny', 'tiny', 'soon', 'year', 'lot', 'written', 'nextgeneration', 'compact', 'car', 'used', 'widely', 'called', 'model', 'including', 'zach', 'excellent', 'article', 'last', 'week', 'zach', 'asked', 'might', 'pick', 'challenge', 'place', 'today', 'announce']   \n",
       "3  ['revisionist', 'language', 'used', 'q1', 'earnings', 'call', 'inc', 'q1', 'earnings', 'call', 'fascinating', 'representatives', 'drew', 'carefully', 'phrased', 'statements', 'appease', 'turn', 'around', 'largely', 'disgruntled', 'shareholder', 'group', 'revisionist', 'language', 'within', 'earnings', 'call', 'took', 'co']   \n",
       "4                                                              ['french', 'startup', 'flexai', 'exits', 'stealth', '30m', 'ease', 'access', 'ai', 'compute', 'french', 'startup', 'raised', 'hefty', 'seed', 'investment', 'rearchitect', 'compute', 'infrastructure', 'developers', 'wanting', 'build', 'train', 'ai', 'applications']   \n",
       "\n",
       "   num_tokens  \\\n",
       "0          32   \n",
       "1          31   \n",
       "2          29   \n",
       "3          30   \n",
       "4          25   \n",
       "\n",
       "                                                                                                                                                                                                                                                                                                                                                                                                                                                                                                                                                                                                                                                          clean_tokens_str  \n",
       "0                                                  [ ' f u l l ' ,   ' s e l f ' ,   ' d r i v i n g ' ,   ' c o u l d ' ,   ' c o m e ' ,   ' c o u n t r i e s ' ,   ' l o n g ' ,   ' e v e r ' ,   ' s i n c e ' ,   ' s t a r t e d ' ,   ' r o l l i n g ' ,   ' f u l l ' ,   ' s e l f ' ,   ' d r i v i n g ' ,   ' f s d ' ,   ' n o n e m p l o y e e ' ,   ' o w n e r s ' ,   ' u s ' ,   ' p e o p l e ' ,   ' c o u n t r i e s ' ,   ' a s k i n g ' ,   ' a b l e ' ,   ' i n s t a l l ' ,   ' u s e ' ,   ' f s d ' ,   ' f a r ' ,   ' r e m e m b e r ' ,   ' a l w a y s ' ,   ' v a g u e ' ,   ' s o m e d a y ' ,   ' k i n d ' ,   ' r e s p ' ]  \n",
       "1                                [ ' m a n y ' ,   ' m o d e l ' ,   ' s a l e s ' ,   ' m o d e l ' ,   ' s a l e s ' ,   ' u s a ' ,   ' 1 s t ' ,   ' q u a r t e r ' ,   ' t o u g h ' ,   ' q u a r t e r ' ,   ' i n c l u d i n g ' ,   ' u n i t e d ' ,   ' s t a t e s ' ,   ' t o u g h ' ,   ' q u a r t e r ' ,   ' w o u l d ' ,   ' s t u n n i n g ' ,   ' f a n t a b u l o u s ' ,   ' s u c c e s s ' ,   ' c o m p a n y ' ,   ' t r y i n g ' ,   ' s e l l ' ,   ' e l e c t r i c ' ,   ' v e h i c l e s ' ,   ' u s a ' ,   ' a c c o r d i n g ' ,   ' d a t a ' ,   ' c o x ' ,   ' a u t o m o t i v e ' ,   ' k e l l e y ' ,   ' b l u e ' ]  \n",
       "2                                                                            [ ' s u r p r i s e s ' ,   ' i n v e s t o r s ' ,   ' t i n y ' ,   ' t i n y ' ,   ' s o o n ' ,   ' y e a r ' ,   ' l o t ' ,   ' w r i t t e n ' ,   ' n e x t g e n e r a t i o n ' ,   ' c o m p a c t ' ,   ' c a r ' ,   ' u s e d ' ,   ' w i d e l y ' ,   ' c a l l e d ' ,   ' m o d e l ' ,   ' i n c l u d i n g ' ,   ' z a c h ' ,   ' e x c e l l e n t ' ,   ' a r t i c l e ' ,   ' l a s t ' ,   ' w e e k ' ,   ' z a c h ' ,   ' a s k e d ' ,   ' m i g h t ' ,   ' p i c k ' ,   ' c h a l l e n g e ' ,   ' p l a c e ' ,   ' t o d a y ' ,   ' a n n o u n c e ' ]  \n",
       "3  [ ' r e v i s i o n i s t ' ,   ' l a n g u a g e ' ,   ' u s e d ' ,   ' q 1 ' ,   ' e a r n i n g s ' ,   ' c a l l ' ,   ' i n c ' ,   ' q 1 ' ,   ' e a r n i n g s ' ,   ' c a l l ' ,   ' f a s c i n a t i n g ' ,   ' r e p r e s e n t a t i v e s ' ,   ' d r e w ' ,   ' c a r e f u l l y ' ,   ' p h r a s e d ' ,   ' s t a t e m e n t s ' ,   ' a p p e a s e ' ,   ' t u r n ' ,   ' a r o u n d ' ,   ' l a r g e l y ' ,   ' d i s g r u n t l e d ' ,   ' s h a r e h o l d e r ' ,   ' g r o u p ' ,   ' r e v i s i o n i s t ' ,   ' l a n g u a g e ' ,   ' w i t h i n ' ,   ' e a r n i n g s ' ,   ' c a l l ' ,   ' t o o k ' ,   ' c o ' ]  \n",
       "4                                                                                                                          [ ' f r e n c h ' ,   ' s t a r t u p ' ,   ' f l e x a i ' ,   ' e x i t s ' ,   ' s t e a l t h ' ,   ' 3 0 m ' ,   ' e a s e ' ,   ' a c c e s s ' ,   ' a i ' ,   ' c o m p u t e ' ,   ' f r e n c h ' ,   ' s t a r t u p ' ,   ' r a i s e d ' ,   ' h e f t y ' ,   ' s e e d ' ,   ' i n v e s t m e n t ' ,   ' r e a r c h i t e c t ' ,   ' c o m p u t e ' ,   ' i n f r a s t r u c t u r e ' ,   ' d e v e l o p e r s ' ,   ' w a n t i n g ' ,   ' b u i l d ' ,   ' t r a i n ' ,   ' a i ' ,   ' a p p l i c a t i o n s ' ]  "
      ]
     },
     "execution_count": 180,
     "metadata": {},
     "output_type": "execute_result"
    }
   ],
   "source": [
    "# Sentiment analysis and certain vectorizers require a string column\n",
    "# Thus, let's convert our cleaned tokens back to a string\n",
    "# Map all items to str in case some #s are within the tokens\n",
    "combined['clean_tokens_str'] = combined['tokens'].apply(lambda x: ' '.join(map(str, x)))\n",
    "combined.head()"
   ]
  },
  {
   "cell_type": "code",
   "execution_count": 181,
   "metadata": {},
   "outputs": [
    {
     "data": {
      "text/html": [
       "<div>\n",
       "<style scoped>\n",
       "    .dataframe tbody tr th:only-of-type {\n",
       "        vertical-align: middle;\n",
       "    }\n",
       "\n",
       "    .dataframe tbody tr th {\n",
       "        vertical-align: top;\n",
       "    }\n",
       "\n",
       "    .dataframe thead th {\n",
       "        text-align: right;\n",
       "    }\n",
       "</style>\n",
       "<table border=\"1\" class=\"dataframe\">\n",
       "  <thead>\n",
       "    <tr style=\"text-align: right;\">\n",
       "      <th></th>\n",
       "      <th>source</th>\n",
       "      <th>author</th>\n",
       "      <th>title</th>\n",
       "      <th>description</th>\n",
       "      <th>url</th>\n",
       "      <th>urlToImage</th>\n",
       "      <th>publishedAt</th>\n",
       "      <th>content</th>\n",
       "      <th>label</th>\n",
       "      <th>text</th>\n",
       "      <th>length</th>\n",
       "      <th>tokens</th>\n",
       "      <th>num_tokens</th>\n",
       "    </tr>\n",
       "  </thead>\n",
       "  <tbody>\n",
       "    <tr>\n",
       "      <th>0</th>\n",
       "      <td>{'id': None, 'name': 'CleanTechnica'}</td>\n",
       "      <td>Zachary Shahan</td>\n",
       "      <td>Tesla “Full Self Driving” Could Come To Other Countries Before Long</td>\n",
       "      <td>Ever since Tesla started rolling out Full Self Driving (FSD) to non-employee Tesla owners in the US, people in other countries have been asking when they’ll be able to install and use FSD. As far as I remember, it’s always been a vague “someday…” kind of resp…</td>\n",
       "      <td>https://cleantechnica.com/2024/04/23/tesla-full-self-driving-could-come-to-other-countries-before-long/</td>\n",
       "      <td>https://cleantechnica.com/wp-content/uploads/2024/03/Tesla-Model-3-Autostopping-Stop-Light-Autopilot-Full-Self-Driving-CleanTechnica-Stopping-New-FSD.jpeg</td>\n",
       "      <td>2024-04-24T03:55:41Z</td>\n",
       "      <td>Sign up for daily news updates from CleanTechnica on email. Or follow us on Google News!\\r\\nEver since Tesla started rolling out Full Self Driving (FSD) to non-employee Tesla owners in the US, people i… [+3965 chars]</td>\n",
       "      <td>tesla</td>\n",
       "      <td>Tesla “Full Self Driving” Could Come To Other Countries Before Long Ever since Tesla started rolling out Full Self Driving (FSD) to non-employee Tesla owners in the US, people in other countries have been asking when they’ll be able to install and use FSD. As far as I remember, it’s always been a vague “someday…” kind of resp…</td>\n",
       "      <td>328.0</td>\n",
       "      <td>[full, self, driving, could, come, countries, long, ever, since, started, rolling, full, self, driving, fsd, nonemployee, owners, us, people, countries, asking, able, install, use, fsd, far, remember, always, vague, someday, kind, resp]</td>\n",
       "      <td>32</td>\n",
       "    </tr>\n",
       "    <tr>\n",
       "      <th>1</th>\n",
       "      <td>{'id': None, 'name': 'CleanTechnica'}</td>\n",
       "      <td>Zachary Shahan</td>\n",
       "      <td>More Than 3× As Many Tesla Model Y Sales As Tesla Model 3 Sales In USA In 1st Quarter</td>\n",
       "      <td>Tesla’s just had a tough quarter, including in the United States, but a tough quarter for Tesla would be a stunning, fantabulous success for any other company trying to sell electric vehicles. In the USA, according to data from Cox Automotive and Kelley Blue …</td>\n",
       "      <td>https://cleantechnica.com/2024/04/19/more-than-3x-as-many-tesla-model-y-sales-as-tesla-model-3-sales-in-usa-in-1st-quarter/</td>\n",
       "      <td>https://cleantechnica.com/wp-content/uploads/2024/02/New-Tesla-Model-Y-Model-3-Model-S-Model-X-Supercharging-Florida-Station-CleanTechnica-Watermark-Sky-logo-800x445.png</td>\n",
       "      <td>2024-04-20T03:57:24Z</td>\n",
       "      <td>Sign up for daily news updates from CleanTechnica on email. Or follow us on Google News!\\r\\nTesla’s just had a tough quarter, including in the United States, but a tough quarter for Tesla would be a st… [+4173 chars]</td>\n",
       "      <td>tesla</td>\n",
       "      <td>More Than 3× As Many Tesla Model Y Sales As Tesla Model 3 Sales In USA In 1st Quarter Tesla’s just had a tough quarter, including in the United States, but a tough quarter for Tesla would be a stunning, fantabulous success for any other company trying to sell electric vehicles. In the USA, according to data from Cox Automotive and Kelley Blue …</td>\n",
       "      <td>346.0</td>\n",
       "      <td>[many, model, sales, model, sales, usa, 1st, quarter, tough, quarter, including, united, states, tough, quarter, would, stunning, fantabulous, success, company, trying, sell, electric, vehicles, usa, according, data, cox, automotive, kelley, blue]</td>\n",
       "      <td>31</td>\n",
       "    </tr>\n",
       "    <tr>\n",
       "      <th>2</th>\n",
       "      <td>{'id': None, 'name': 'CleanTechnica'}</td>\n",
       "      <td>Paul Fosse</td>\n",
       "      <td>Tesla Surprises Investors With A Tiny Y &amp; A Tiny 3 As Soon As This Year!</td>\n",
       "      <td>A lot has been written about the Tesla’s next-generation compact car that used to be widely called the Model 2, including Zach’s excellent article last week about it. Zach asked who might pick up the challenge in place of Tesla doing it. Today, Tesla announce…</td>\n",
       "      <td>https://cleantechnica.com/2024/04/23/tesla-surprises-investors-with-a-tiny-y-a-tiny-3-as-soon-as-this-year/</td>\n",
       "      <td>https://cleantechnica.com/wp-content/uploads/2023/12/Apple-Car-Tesla-Model-3-CleanTechnica-Front-Glass-Watermark-Logo-scaled.jpeg</td>\n",
       "      <td>2024-04-24T01:56:23Z</td>\n",
       "      <td>Sign up for daily news updates from CleanTechnica on email. Or follow us on Google News!\\r\\nA lot has been written about the Tesla’s next-generation compact car that used to be widely called the Model … [+6014 chars]</td>\n",
       "      <td>tesla</td>\n",
       "      <td>Tesla Surprises Investors With A Tiny Y &amp; A Tiny 3 As Soon As This Year! A lot has been written about the Tesla’s next-generation compact car that used to be widely called the Model 2, including Zach’s excellent article last week about it. Zach asked who might pick up the challenge in place of Tesla doing it. Today, Tesla announce…</td>\n",
       "      <td>333.0</td>\n",
       "      <td>[surprises, investors, tiny, tiny, soon, year, lot, written, nextgeneration, compact, car, used, widely, called, model, including, zach, excellent, article, last, week, zach, asked, might, pick, challenge, place, today, announce]</td>\n",
       "      <td>29</td>\n",
       "    </tr>\n",
       "    <tr>\n",
       "      <th>3</th>\n",
       "      <td>{'id': None, 'name': 'CleanTechnica'}</td>\n",
       "      <td>Carolyn Fortuna</td>\n",
       "      <td>The Revisionist Language That Tesla Used In The Q1 2024 Earnings Call</td>\n",
       "      <td>The Tesla, Inc. Q1 2024 earnings call was fascinating in how Tesla representatives drew on carefully phrased statements to appease and turn around what was then a largely disgruntled shareholder group. The revisionist language within the earnings call took co…</td>\n",
       "      <td>https://cleantechnica.com/2024/04/26/the-revisionist-language-that-tesla-used-in-the-q1-2024-earnings-call/</td>\n",
       "      <td>https://cleantechnica.com/wp-content/uploads/2023/06/Elon-Musk-CleanTechnica-shirt-Tesla-Model-Y-reveal-watermark.jpeg</td>\n",
       "      <td>2024-04-26T19:24:10Z</td>\n",
       "      <td>Sign up for daily news updates from CleanTechnica on email. Or follow us on Google News!\\r\\nThe Tesla, Inc. Q1 2024 earnings call was fascinating in how Tesla representatives drew on carefully phrased … [+9089 chars]</td>\n",
       "      <td>tesla</td>\n",
       "      <td>The Revisionist Language That Tesla Used In The Q1 2024 Earnings Call The Tesla, Inc. Q1 2024 earnings call was fascinating in how Tesla representatives drew on carefully phrased statements to appease and turn around what was then a largely disgruntled shareholder group. The revisionist language within the earnings call took co…</td>\n",
       "      <td>330.0</td>\n",
       "      <td>[revisionist, language, used, q1, earnings, call, inc, q1, earnings, call, fascinating, representatives, drew, carefully, phrased, statements, appease, turn, around, largely, disgruntled, shareholder, group, revisionist, language, within, earnings, call, took, co]</td>\n",
       "      <td>30</td>\n",
       "    </tr>\n",
       "    <tr>\n",
       "      <th>4</th>\n",
       "      <td>{'id': 'techcrunch', 'name': 'TechCrunch'}</td>\n",
       "      <td>Paul Sawers</td>\n",
       "      <td>French startup FlexAI exits stealth with $30M to ease access to AI compute</td>\n",
       "      <td>A French startup has raised a hefty seed investment to \"rearchitect compute infrastructure\" for developers wanting to build and train AI applications more...</td>\n",
       "      <td>https://techcrunch.com/2024/04/23/french-startup-flexai-exits-stealth-with-30m-to-ease-access-to-ai-compute/</td>\n",
       "      <td>https://s.yimg.com/ny/api/res/1.2/V7FcJP2rJb.YNXWOmWjLrw--/YXBwaWQ9aGlnaGxhbmRlcjt3PTEyMDA7aD02NzQ-/https://media.zenfs.com/en/techcrunch_350/128964a889f3f6262e9e1f768561ec69</td>\n",
       "      <td>2024-04-24T05:37:28Z</td>\n",
       "      <td>A French startup has raised a hefty seed investment to \"rearchitect compute infrastructure\" for developers wanting to build and train AI applications more efficiently.\\r\\nFlexAI, as the company is call… [+10420 chars]</td>\n",
       "      <td>tesla</td>\n",
       "      <td>French startup FlexAI exits stealth with $30M to ease access to AI compute A French startup has raised a hefty seed investment to \"rearchitect compute infrastructure\" for developers wanting to build and train AI applications more...</td>\n",
       "      <td>232.0</td>\n",
       "      <td>[french, startup, flexai, exits, stealth, 30m, ease, access, ai, compute, french, startup, raised, hefty, seed, investment, rearchitect, compute, infrastructure, developers, wanting, build, train, ai, applications]</td>\n",
       "      <td>25</td>\n",
       "    </tr>\n",
       "  </tbody>\n",
       "</table>\n",
       "</div>"
      ],
      "text/plain": [
       "                                       source           author  \\\n",
       "0       {'id': None, 'name': 'CleanTechnica'}   Zachary Shahan   \n",
       "1       {'id': None, 'name': 'CleanTechnica'}   Zachary Shahan   \n",
       "2       {'id': None, 'name': 'CleanTechnica'}       Paul Fosse   \n",
       "3       {'id': None, 'name': 'CleanTechnica'}  Carolyn Fortuna   \n",
       "4  {'id': 'techcrunch', 'name': 'TechCrunch'}      Paul Sawers   \n",
       "\n",
       "                                                                                   title  \\\n",
       "0                    Tesla “Full Self Driving” Could Come To Other Countries Before Long   \n",
       "1  More Than 3× As Many Tesla Model Y Sales As Tesla Model 3 Sales In USA In 1st Quarter   \n",
       "2               Tesla Surprises Investors With A Tiny Y & A Tiny 3 As Soon As This Year!   \n",
       "3                  The Revisionist Language That Tesla Used In The Q1 2024 Earnings Call   \n",
       "4             French startup FlexAI exits stealth with $30M to ease access to AI compute   \n",
       "\n",
       "                                                                                                                                                                                                                                                            description  \\\n",
       "0  Ever since Tesla started rolling out Full Self Driving (FSD) to non-employee Tesla owners in the US, people in other countries have been asking when they’ll be able to install and use FSD. As far as I remember, it’s always been a vague “someday…” kind of resp…   \n",
       "1  Tesla’s just had a tough quarter, including in the United States, but a tough quarter for Tesla would be a stunning, fantabulous success for any other company trying to sell electric vehicles. In the USA, according to data from Cox Automotive and Kelley Blue …   \n",
       "2  A lot has been written about the Tesla’s next-generation compact car that used to be widely called the Model 2, including Zach’s excellent article last week about it. Zach asked who might pick up the challenge in place of Tesla doing it. Today, Tesla announce…   \n",
       "3  The Tesla, Inc. Q1 2024 earnings call was fascinating in how Tesla representatives drew on carefully phrased statements to appease and turn around what was then a largely disgruntled shareholder group. The revisionist language within the earnings call took co…   \n",
       "4                                                                                                         A French startup has raised a hefty seed investment to \"rearchitect compute infrastructure\" for developers wanting to build and train AI applications more...   \n",
       "\n",
       "                                                                                                                           url  \\\n",
       "0                      https://cleantechnica.com/2024/04/23/tesla-full-self-driving-could-come-to-other-countries-before-long/   \n",
       "1  https://cleantechnica.com/2024/04/19/more-than-3x-as-many-tesla-model-y-sales-as-tesla-model-3-sales-in-usa-in-1st-quarter/   \n",
       "2                  https://cleantechnica.com/2024/04/23/tesla-surprises-investors-with-a-tiny-y-a-tiny-3-as-soon-as-this-year/   \n",
       "3                  https://cleantechnica.com/2024/04/26/the-revisionist-language-that-tesla-used-in-the-q1-2024-earnings-call/   \n",
       "4                 https://techcrunch.com/2024/04/23/french-startup-flexai-exits-stealth-with-30m-to-ease-access-to-ai-compute/   \n",
       "\n",
       "                                                                                                                                                                       urlToImage  \\\n",
       "0                      https://cleantechnica.com/wp-content/uploads/2024/03/Tesla-Model-3-Autostopping-Stop-Light-Autopilot-Full-Self-Driving-CleanTechnica-Stopping-New-FSD.jpeg   \n",
       "1       https://cleantechnica.com/wp-content/uploads/2024/02/New-Tesla-Model-Y-Model-3-Model-S-Model-X-Supercharging-Florida-Station-CleanTechnica-Watermark-Sky-logo-800x445.png   \n",
       "2                                               https://cleantechnica.com/wp-content/uploads/2023/12/Apple-Car-Tesla-Model-3-CleanTechnica-Front-Glass-Watermark-Logo-scaled.jpeg   \n",
       "3                                                          https://cleantechnica.com/wp-content/uploads/2023/06/Elon-Musk-CleanTechnica-shirt-Tesla-Model-Y-reveal-watermark.jpeg   \n",
       "4  https://s.yimg.com/ny/api/res/1.2/V7FcJP2rJb.YNXWOmWjLrw--/YXBwaWQ9aGlnaGxhbmRlcjt3PTEyMDA7aD02NzQ-/https://media.zenfs.com/en/techcrunch_350/128964a889f3f6262e9e1f768561ec69   \n",
       "\n",
       "            publishedAt  \\\n",
       "0  2024-04-24T03:55:41Z   \n",
       "1  2024-04-20T03:57:24Z   \n",
       "2  2024-04-24T01:56:23Z   \n",
       "3  2024-04-26T19:24:10Z   \n",
       "4  2024-04-24T05:37:28Z   \n",
       "\n",
       "                                                                                                                                                                                                                     content  \\\n",
       "0   Sign up for daily news updates from CleanTechnica on email. Or follow us on Google News!\\r\\nEver since Tesla started rolling out Full Self Driving (FSD) to non-employee Tesla owners in the US, people i… [+3965 chars]   \n",
       "1   Sign up for daily news updates from CleanTechnica on email. Or follow us on Google News!\\r\\nTesla’s just had a tough quarter, including in the United States, but a tough quarter for Tesla would be a st… [+4173 chars]   \n",
       "2   Sign up for daily news updates from CleanTechnica on email. Or follow us on Google News!\\r\\nA lot has been written about the Tesla’s next-generation compact car that used to be widely called the Model … [+6014 chars]   \n",
       "3   Sign up for daily news updates from CleanTechnica on email. Or follow us on Google News!\\r\\nThe Tesla, Inc. Q1 2024 earnings call was fascinating in how Tesla representatives drew on carefully phrased … [+9089 chars]   \n",
       "4  A French startup has raised a hefty seed investment to \"rearchitect compute infrastructure\" for developers wanting to build and train AI applications more efficiently.\\r\\nFlexAI, as the company is call… [+10420 chars]   \n",
       "\n",
       "   label  \\\n",
       "0  tesla   \n",
       "1  tesla   \n",
       "2  tesla   \n",
       "3  tesla   \n",
       "4  tesla   \n",
       "\n",
       "                                                                                                                                                                                                                                                                                                                                                         text  \\\n",
       "0                    Tesla “Full Self Driving” Could Come To Other Countries Before Long Ever since Tesla started rolling out Full Self Driving (FSD) to non-employee Tesla owners in the US, people in other countries have been asking when they’ll be able to install and use FSD. As far as I remember, it’s always been a vague “someday…” kind of resp…   \n",
       "1  More Than 3× As Many Tesla Model Y Sales As Tesla Model 3 Sales In USA In 1st Quarter Tesla’s just had a tough quarter, including in the United States, but a tough quarter for Tesla would be a stunning, fantabulous success for any other company trying to sell electric vehicles. In the USA, according to data from Cox Automotive and Kelley Blue …   \n",
       "2               Tesla Surprises Investors With A Tiny Y & A Tiny 3 As Soon As This Year! A lot has been written about the Tesla’s next-generation compact car that used to be widely called the Model 2, including Zach’s excellent article last week about it. Zach asked who might pick up the challenge in place of Tesla doing it. Today, Tesla announce…   \n",
       "3                  The Revisionist Language That Tesla Used In The Q1 2024 Earnings Call The Tesla, Inc. Q1 2024 earnings call was fascinating in how Tesla representatives drew on carefully phrased statements to appease and turn around what was then a largely disgruntled shareholder group. The revisionist language within the earnings call took co…   \n",
       "4                                                                                                                    French startup FlexAI exits stealth with $30M to ease access to AI compute A French startup has raised a hefty seed investment to \"rearchitect compute infrastructure\" for developers wanting to build and train AI applications more...   \n",
       "\n",
       "   length  \\\n",
       "0   328.0   \n",
       "1   346.0   \n",
       "2   333.0   \n",
       "3   330.0   \n",
       "4   232.0   \n",
       "\n",
       "                                                                                                                                                                                                                                                                     tokens  \\\n",
       "0                              [full, self, driving, could, come, countries, long, ever, since, started, rolling, full, self, driving, fsd, nonemployee, owners, us, people, countries, asking, able, install, use, fsd, far, remember, always, vague, someday, kind, resp]   \n",
       "1                   [many, model, sales, model, sales, usa, 1st, quarter, tough, quarter, including, united, states, tough, quarter, would, stunning, fantabulous, success, company, trying, sell, electric, vehicles, usa, according, data, cox, automotive, kelley, blue]   \n",
       "2                                     [surprises, investors, tiny, tiny, soon, year, lot, written, nextgeneration, compact, car, used, widely, called, model, including, zach, excellent, article, last, week, zach, asked, might, pick, challenge, place, today, announce]   \n",
       "3  [revisionist, language, used, q1, earnings, call, inc, q1, earnings, call, fascinating, representatives, drew, carefully, phrased, statements, appease, turn, around, largely, disgruntled, shareholder, group, revisionist, language, within, earnings, call, took, co]   \n",
       "4                                                    [french, startup, flexai, exits, stealth, 30m, ease, access, ai, compute, french, startup, raised, hefty, seed, investment, rearchitect, compute, infrastructure, developers, wanting, build, train, ai, applications]   \n",
       "\n",
       "   num_tokens  \n",
       "0          32  \n",
       "1          31  \n",
       "2          29  \n",
       "3          30  \n",
       "4          25  "
      ]
     },
     "execution_count": 181,
     "metadata": {},
     "output_type": "execute_result"
    }
   ],
   "source": [
    "# As you can see above the clean_token_str came out odd on my end so I had to adjust the following code to get it to work\n",
    "# Read in the data\n",
    "combined = pd.read_csv('data/combined.csv')\n",
    "\n",
    "# Ensure tokens are lists\n",
    "combined['tokens'] = combined['tokens'].apply(ast.literal_eval)\n",
    "\n",
    "# Display the first few rows to verify\n",
    "combined.head()"
   ]
  },
  {
   "cell_type": "code",
   "execution_count": 182,
   "metadata": {},
   "outputs": [
    {
     "name": "stdout",
     "output_type": "stream",
     "text": [
      "                                                                                                                                                                                                                                                                     tokens  \\\n",
      "0                              [full, self, driving, could, come, countries, long, ever, since, started, rolling, full, self, driving, fsd, nonemployee, owners, us, people, countries, asking, able, install, use, fsd, far, remember, always, vague, someday, kind, resp]   \n",
      "1                   [many, model, sales, model, sales, usa, 1st, quarter, tough, quarter, including, united, states, tough, quarter, would, stunning, fantabulous, success, company, trying, sell, electric, vehicles, usa, according, data, cox, automotive, kelley, blue]   \n",
      "2                                     [surprises, investors, tiny, tiny, soon, year, lot, written, nextgeneration, compact, car, used, widely, called, model, including, zach, excellent, article, last, week, zach, asked, might, pick, challenge, place, today, announce]   \n",
      "3  [revisionist, language, used, q1, earnings, call, inc, q1, earnings, call, fascinating, representatives, drew, carefully, phrased, statements, appease, turn, around, largely, disgruntled, shareholder, group, revisionist, language, within, earnings, call, took, co]   \n",
      "4                                                    [french, startup, flexai, exits, stealth, 30m, ease, access, ai, compute, french, startup, raised, hefty, seed, investment, rearchitect, compute, infrastructure, developers, wanting, build, train, ai, applications]   \n",
      "\n",
      "                                                                                                                                                                                                                            clean_tokens_str  \n",
      "0                                full self driving could come countries long ever since started rolling full self driving fsd nonemployee owners us people countries asking able install use fsd far remember always vague someday kind resp  \n",
      "1                    many model sales model sales usa 1st quarter tough quarter including united states tough quarter would stunning fantabulous success company trying sell electric vehicles usa according data cox automotive kelley blue  \n",
      "2                                    surprises investors tiny tiny soon year lot written nextgeneration compact car used widely called model including zach excellent article last week zach asked might pick challenge place today announce  \n",
      "3  revisionist language used q1 earnings call inc q1 earnings call fascinating representatives drew carefully phrased statements appease turn around largely disgruntled shareholder group revisionist language within earnings call took co  \n",
      "4                                               french startup flexai exits stealth 30m ease access ai compute french startup raised hefty seed investment rearchitect compute infrastructure developers wanting build train ai applications  \n"
     ]
    }
   ],
   "source": [
    "# Convert the list of tokens back to a single string\n",
    "combined['clean_tokens_str'] = combined['tokens'].apply(lambda x: ' '.join(map(str, x)))\n",
    "\n",
    "# Display the first few rows to verify\n",
    "print(combined[['tokens', 'clean_tokens_str']].head())"
   ]
  },
  {
   "cell_type": "code",
   "execution_count": 183,
   "metadata": {
    "id": "-DqyPegx6MRS"
   },
   "outputs": [],
   "source": [
    "# First want to create a sentiment analyzes between the two automanufacturers\n",
    "\n",
    "# Define a function to handle sentiment analysis, with a check for non-string values\n",
    "# use textblob and sentiment attribute to return the polarity score which ranges from -1 to 1 for negative or positive sentiment\n",
    "def analyze_sentiment(text):\n",
    "    if isinstance(text, str):\n",
    "        analysis = TextBlob(text)\n",
    "        return analysis.sentiment.polarity\n",
    "    else:\n",
    "        return None\n",
    "\n",
    "# Apply the sentiment analysis function, handling non-string values\n",
    "combined['sentiment'] = combined['clean_tokens_str'].apply(analyze_sentiment)"
   ]
  },
  {
   "cell_type": "code",
   "execution_count": 184,
   "metadata": {
    "colab": {
     "base_uri": "https://localhost:8080/",
     "height": 1000
    },
    "id": "xAKC9bhm6MRS",
    "outputId": "bf5f39ea-70de-4d9f-9f66-a2ef8a8c0e45"
   },
   "outputs": [
    {
     "data": {
      "text/html": [
       "<div>\n",
       "<style scoped>\n",
       "    .dataframe tbody tr th:only-of-type {\n",
       "        vertical-align: middle;\n",
       "    }\n",
       "\n",
       "    .dataframe tbody tr th {\n",
       "        vertical-align: top;\n",
       "    }\n",
       "\n",
       "    .dataframe thead th {\n",
       "        text-align: right;\n",
       "    }\n",
       "</style>\n",
       "<table border=\"1\" class=\"dataframe\">\n",
       "  <thead>\n",
       "    <tr style=\"text-align: right;\">\n",
       "      <th></th>\n",
       "      <th>source</th>\n",
       "      <th>author</th>\n",
       "      <th>title</th>\n",
       "      <th>description</th>\n",
       "      <th>url</th>\n",
       "      <th>urlToImage</th>\n",
       "      <th>publishedAt</th>\n",
       "      <th>content</th>\n",
       "      <th>label</th>\n",
       "      <th>text</th>\n",
       "      <th>length</th>\n",
       "      <th>tokens</th>\n",
       "      <th>num_tokens</th>\n",
       "      <th>clean_tokens_str</th>\n",
       "      <th>sentiment</th>\n",
       "    </tr>\n",
       "  </thead>\n",
       "  <tbody>\n",
       "    <tr>\n",
       "      <th>0</th>\n",
       "      <td>{'id': None, 'name': 'CleanTechnica'}</td>\n",
       "      <td>Zachary Shahan</td>\n",
       "      <td>Tesla “Full Self Driving” Could Come To Other Countries Before Long</td>\n",
       "      <td>Ever since Tesla started rolling out Full Self Driving (FSD) to non-employee Tesla owners in the US, people in other countries have been asking when they’ll be able to install and use FSD. As far as I remember, it’s always been a vague “someday…” kind of resp…</td>\n",
       "      <td>https://cleantechnica.com/2024/04/23/tesla-full-self-driving-could-come-to-other-countries-before-long/</td>\n",
       "      <td>https://cleantechnica.com/wp-content/uploads/2024/03/Tesla-Model-3-Autostopping-Stop-Light-Autopilot-Full-Self-Driving-CleanTechnica-Stopping-New-FSD.jpeg</td>\n",
       "      <td>2024-04-24T03:55:41Z</td>\n",
       "      <td>Sign up for daily news updates from CleanTechnica on email. Or follow us on Google News!\\r\\nEver since Tesla started rolling out Full Self Driving (FSD) to non-employee Tesla owners in the US, people i… [+3965 chars]</td>\n",
       "      <td>tesla</td>\n",
       "      <td>Tesla “Full Self Driving” Could Come To Other Countries Before Long Ever since Tesla started rolling out Full Self Driving (FSD) to non-employee Tesla owners in the US, people in other countries have been asking when they’ll be able to install and use FSD. As far as I remember, it’s always been a vague “someday…” kind of resp…</td>\n",
       "      <td>328.0</td>\n",
       "      <td>[full, self, driving, could, come, countries, long, ever, since, started, rolling, full, self, driving, fsd, nonemployee, owners, us, people, countries, asking, able, install, use, fsd, far, remember, always, vague, someday, kind, resp]</td>\n",
       "      <td>32</td>\n",
       "      <td>full self driving could come countries long ever since started rolling full self driving fsd nonemployee owners us people countries asking able install use fsd far remember always vague someday kind resp</td>\n",
       "      <td>0.192857</td>\n",
       "    </tr>\n",
       "    <tr>\n",
       "      <th>1</th>\n",
       "      <td>{'id': None, 'name': 'CleanTechnica'}</td>\n",
       "      <td>Zachary Shahan</td>\n",
       "      <td>More Than 3× As Many Tesla Model Y Sales As Tesla Model 3 Sales In USA In 1st Quarter</td>\n",
       "      <td>Tesla’s just had a tough quarter, including in the United States, but a tough quarter for Tesla would be a stunning, fantabulous success for any other company trying to sell electric vehicles. In the USA, according to data from Cox Automotive and Kelley Blue …</td>\n",
       "      <td>https://cleantechnica.com/2024/04/19/more-than-3x-as-many-tesla-model-y-sales-as-tesla-model-3-sales-in-usa-in-1st-quarter/</td>\n",
       "      <td>https://cleantechnica.com/wp-content/uploads/2024/02/New-Tesla-Model-Y-Model-3-Model-S-Model-X-Supercharging-Florida-Station-CleanTechnica-Watermark-Sky-logo-800x445.png</td>\n",
       "      <td>2024-04-20T03:57:24Z</td>\n",
       "      <td>Sign up for daily news updates from CleanTechnica on email. Or follow us on Google News!\\r\\nTesla’s just had a tough quarter, including in the United States, but a tough quarter for Tesla would be a st… [+4173 chars]</td>\n",
       "      <td>tesla</td>\n",
       "      <td>More Than 3× As Many Tesla Model Y Sales As Tesla Model 3 Sales In USA In 1st Quarter Tesla’s just had a tough quarter, including in the United States, but a tough quarter for Tesla would be a stunning, fantabulous success for any other company trying to sell electric vehicles. In the USA, according to data from Cox Automotive and Kelley Blue …</td>\n",
       "      <td>346.0</td>\n",
       "      <td>[many, model, sales, model, sales, usa, 1st, quarter, tough, quarter, including, united, states, tough, quarter, would, stunning, fantabulous, success, company, trying, sell, electric, vehicles, usa, according, data, cox, automotive, kelley, blue]</td>\n",
       "      <td>31</td>\n",
       "      <td>many model sales model sales usa 1st quarter tough quarter including united states tough quarter would stunning fantabulous success company trying sell electric vehicles usa according data cox automotive kelley blue</td>\n",
       "      <td>0.087037</td>\n",
       "    </tr>\n",
       "    <tr>\n",
       "      <th>2</th>\n",
       "      <td>{'id': None, 'name': 'CleanTechnica'}</td>\n",
       "      <td>Paul Fosse</td>\n",
       "      <td>Tesla Surprises Investors With A Tiny Y &amp; A Tiny 3 As Soon As This Year!</td>\n",
       "      <td>A lot has been written about the Tesla’s next-generation compact car that used to be widely called the Model 2, including Zach’s excellent article last week about it. Zach asked who might pick up the challenge in place of Tesla doing it. Today, Tesla announce…</td>\n",
       "      <td>https://cleantechnica.com/2024/04/23/tesla-surprises-investors-with-a-tiny-y-a-tiny-3-as-soon-as-this-year/</td>\n",
       "      <td>https://cleantechnica.com/wp-content/uploads/2023/12/Apple-Car-Tesla-Model-3-CleanTechnica-Front-Glass-Watermark-Logo-scaled.jpeg</td>\n",
       "      <td>2024-04-24T01:56:23Z</td>\n",
       "      <td>Sign up for daily news updates from CleanTechnica on email. Or follow us on Google News!\\r\\nA lot has been written about the Tesla’s next-generation compact car that used to be widely called the Model … [+6014 chars]</td>\n",
       "      <td>tesla</td>\n",
       "      <td>Tesla Surprises Investors With A Tiny Y &amp; A Tiny 3 As Soon As This Year! A lot has been written about the Tesla’s next-generation compact car that used to be widely called the Model 2, including Zach’s excellent article last week about it. Zach asked who might pick up the challenge in place of Tesla doing it. Today, Tesla announce…</td>\n",
       "      <td>333.0</td>\n",
       "      <td>[surprises, investors, tiny, tiny, soon, year, lot, written, nextgeneration, compact, car, used, widely, called, model, including, zach, excellent, article, last, week, zach, asked, might, pick, challenge, place, today, announce]</td>\n",
       "      <td>29</td>\n",
       "      <td>surprises investors tiny tiny soon year lot written nextgeneration compact car used widely called model including zach excellent article last week zach asked might pick challenge place today announce</td>\n",
       "      <td>0.180000</td>\n",
       "    </tr>\n",
       "    <tr>\n",
       "      <th>3</th>\n",
       "      <td>{'id': None, 'name': 'CleanTechnica'}</td>\n",
       "      <td>Carolyn Fortuna</td>\n",
       "      <td>The Revisionist Language That Tesla Used In The Q1 2024 Earnings Call</td>\n",
       "      <td>The Tesla, Inc. Q1 2024 earnings call was fascinating in how Tesla representatives drew on carefully phrased statements to appease and turn around what was then a largely disgruntled shareholder group. The revisionist language within the earnings call took co…</td>\n",
       "      <td>https://cleantechnica.com/2024/04/26/the-revisionist-language-that-tesla-used-in-the-q1-2024-earnings-call/</td>\n",
       "      <td>https://cleantechnica.com/wp-content/uploads/2023/06/Elon-Musk-CleanTechnica-shirt-Tesla-Model-Y-reveal-watermark.jpeg</td>\n",
       "      <td>2024-04-26T19:24:10Z</td>\n",
       "      <td>Sign up for daily news updates from CleanTechnica on email. Or follow us on Google News!\\r\\nThe Tesla, Inc. Q1 2024 earnings call was fascinating in how Tesla representatives drew on carefully phrased … [+9089 chars]</td>\n",
       "      <td>tesla</td>\n",
       "      <td>The Revisionist Language That Tesla Used In The Q1 2024 Earnings Call The Tesla, Inc. Q1 2024 earnings call was fascinating in how Tesla representatives drew on carefully phrased statements to appease and turn around what was then a largely disgruntled shareholder group. The revisionist language within the earnings call took co…</td>\n",
       "      <td>330.0</td>\n",
       "      <td>[revisionist, language, used, q1, earnings, call, inc, q1, earnings, call, fascinating, representatives, drew, carefully, phrased, statements, appease, turn, around, largely, disgruntled, shareholder, group, revisionist, language, within, earnings, call, took, co]</td>\n",
       "      <td>30</td>\n",
       "      <td>revisionist language used q1 earnings call inc q1 earnings call fascinating representatives drew carefully phrased statements appease turn around largely disgruntled shareholder group revisionist language within earnings call took co</td>\n",
       "      <td>0.271429</td>\n",
       "    </tr>\n",
       "    <tr>\n",
       "      <th>4</th>\n",
       "      <td>{'id': 'techcrunch', 'name': 'TechCrunch'}</td>\n",
       "      <td>Paul Sawers</td>\n",
       "      <td>French startup FlexAI exits stealth with $30M to ease access to AI compute</td>\n",
       "      <td>A French startup has raised a hefty seed investment to \"rearchitect compute infrastructure\" for developers wanting to build and train AI applications more...</td>\n",
       "      <td>https://techcrunch.com/2024/04/23/french-startup-flexai-exits-stealth-with-30m-to-ease-access-to-ai-compute/</td>\n",
       "      <td>https://s.yimg.com/ny/api/res/1.2/V7FcJP2rJb.YNXWOmWjLrw--/YXBwaWQ9aGlnaGxhbmRlcjt3PTEyMDA7aD02NzQ-/https://media.zenfs.com/en/techcrunch_350/128964a889f3f6262e9e1f768561ec69</td>\n",
       "      <td>2024-04-24T05:37:28Z</td>\n",
       "      <td>A French startup has raised a hefty seed investment to \"rearchitect compute infrastructure\" for developers wanting to build and train AI applications more efficiently.\\r\\nFlexAI, as the company is call… [+10420 chars]</td>\n",
       "      <td>tesla</td>\n",
       "      <td>French startup FlexAI exits stealth with $30M to ease access to AI compute A French startup has raised a hefty seed investment to \"rearchitect compute infrastructure\" for developers wanting to build and train AI applications more...</td>\n",
       "      <td>232.0</td>\n",
       "      <td>[french, startup, flexai, exits, stealth, 30m, ease, access, ai, compute, french, startup, raised, hefty, seed, investment, rearchitect, compute, infrastructure, developers, wanting, build, train, ai, applications]</td>\n",
       "      <td>25</td>\n",
       "      <td>french startup flexai exits stealth 30m ease access ai compute french startup raised hefty seed investment rearchitect compute infrastructure developers wanting build train ai applications</td>\n",
       "      <td>0.000000</td>\n",
       "    </tr>\n",
       "  </tbody>\n",
       "</table>\n",
       "</div>"
      ],
      "text/plain": [
       "                                       source           author  \\\n",
       "0       {'id': None, 'name': 'CleanTechnica'}   Zachary Shahan   \n",
       "1       {'id': None, 'name': 'CleanTechnica'}   Zachary Shahan   \n",
       "2       {'id': None, 'name': 'CleanTechnica'}       Paul Fosse   \n",
       "3       {'id': None, 'name': 'CleanTechnica'}  Carolyn Fortuna   \n",
       "4  {'id': 'techcrunch', 'name': 'TechCrunch'}      Paul Sawers   \n",
       "\n",
       "                                                                                   title  \\\n",
       "0                    Tesla “Full Self Driving” Could Come To Other Countries Before Long   \n",
       "1  More Than 3× As Many Tesla Model Y Sales As Tesla Model 3 Sales In USA In 1st Quarter   \n",
       "2               Tesla Surprises Investors With A Tiny Y & A Tiny 3 As Soon As This Year!   \n",
       "3                  The Revisionist Language That Tesla Used In The Q1 2024 Earnings Call   \n",
       "4             French startup FlexAI exits stealth with $30M to ease access to AI compute   \n",
       "\n",
       "                                                                                                                                                                                                                                                            description  \\\n",
       "0  Ever since Tesla started rolling out Full Self Driving (FSD) to non-employee Tesla owners in the US, people in other countries have been asking when they’ll be able to install and use FSD. As far as I remember, it’s always been a vague “someday…” kind of resp…   \n",
       "1  Tesla’s just had a tough quarter, including in the United States, but a tough quarter for Tesla would be a stunning, fantabulous success for any other company trying to sell electric vehicles. In the USA, according to data from Cox Automotive and Kelley Blue …   \n",
       "2  A lot has been written about the Tesla’s next-generation compact car that used to be widely called the Model 2, including Zach’s excellent article last week about it. Zach asked who might pick up the challenge in place of Tesla doing it. Today, Tesla announce…   \n",
       "3  The Tesla, Inc. Q1 2024 earnings call was fascinating in how Tesla representatives drew on carefully phrased statements to appease and turn around what was then a largely disgruntled shareholder group. The revisionist language within the earnings call took co…   \n",
       "4                                                                                                         A French startup has raised a hefty seed investment to \"rearchitect compute infrastructure\" for developers wanting to build and train AI applications more...   \n",
       "\n",
       "                                                                                                                           url  \\\n",
       "0                      https://cleantechnica.com/2024/04/23/tesla-full-self-driving-could-come-to-other-countries-before-long/   \n",
       "1  https://cleantechnica.com/2024/04/19/more-than-3x-as-many-tesla-model-y-sales-as-tesla-model-3-sales-in-usa-in-1st-quarter/   \n",
       "2                  https://cleantechnica.com/2024/04/23/tesla-surprises-investors-with-a-tiny-y-a-tiny-3-as-soon-as-this-year/   \n",
       "3                  https://cleantechnica.com/2024/04/26/the-revisionist-language-that-tesla-used-in-the-q1-2024-earnings-call/   \n",
       "4                 https://techcrunch.com/2024/04/23/french-startup-flexai-exits-stealth-with-30m-to-ease-access-to-ai-compute/   \n",
       "\n",
       "                                                                                                                                                                       urlToImage  \\\n",
       "0                      https://cleantechnica.com/wp-content/uploads/2024/03/Tesla-Model-3-Autostopping-Stop-Light-Autopilot-Full-Self-Driving-CleanTechnica-Stopping-New-FSD.jpeg   \n",
       "1       https://cleantechnica.com/wp-content/uploads/2024/02/New-Tesla-Model-Y-Model-3-Model-S-Model-X-Supercharging-Florida-Station-CleanTechnica-Watermark-Sky-logo-800x445.png   \n",
       "2                                               https://cleantechnica.com/wp-content/uploads/2023/12/Apple-Car-Tesla-Model-3-CleanTechnica-Front-Glass-Watermark-Logo-scaled.jpeg   \n",
       "3                                                          https://cleantechnica.com/wp-content/uploads/2023/06/Elon-Musk-CleanTechnica-shirt-Tesla-Model-Y-reveal-watermark.jpeg   \n",
       "4  https://s.yimg.com/ny/api/res/1.2/V7FcJP2rJb.YNXWOmWjLrw--/YXBwaWQ9aGlnaGxhbmRlcjt3PTEyMDA7aD02NzQ-/https://media.zenfs.com/en/techcrunch_350/128964a889f3f6262e9e1f768561ec69   \n",
       "\n",
       "            publishedAt  \\\n",
       "0  2024-04-24T03:55:41Z   \n",
       "1  2024-04-20T03:57:24Z   \n",
       "2  2024-04-24T01:56:23Z   \n",
       "3  2024-04-26T19:24:10Z   \n",
       "4  2024-04-24T05:37:28Z   \n",
       "\n",
       "                                                                                                                                                                                                                     content  \\\n",
       "0   Sign up for daily news updates from CleanTechnica on email. Or follow us on Google News!\\r\\nEver since Tesla started rolling out Full Self Driving (FSD) to non-employee Tesla owners in the US, people i… [+3965 chars]   \n",
       "1   Sign up for daily news updates from CleanTechnica on email. Or follow us on Google News!\\r\\nTesla’s just had a tough quarter, including in the United States, but a tough quarter for Tesla would be a st… [+4173 chars]   \n",
       "2   Sign up for daily news updates from CleanTechnica on email. Or follow us on Google News!\\r\\nA lot has been written about the Tesla’s next-generation compact car that used to be widely called the Model … [+6014 chars]   \n",
       "3   Sign up for daily news updates from CleanTechnica on email. Or follow us on Google News!\\r\\nThe Tesla, Inc. Q1 2024 earnings call was fascinating in how Tesla representatives drew on carefully phrased … [+9089 chars]   \n",
       "4  A French startup has raised a hefty seed investment to \"rearchitect compute infrastructure\" for developers wanting to build and train AI applications more efficiently.\\r\\nFlexAI, as the company is call… [+10420 chars]   \n",
       "\n",
       "   label  \\\n",
       "0  tesla   \n",
       "1  tesla   \n",
       "2  tesla   \n",
       "3  tesla   \n",
       "4  tesla   \n",
       "\n",
       "                                                                                                                                                                                                                                                                                                                                                         text  \\\n",
       "0                    Tesla “Full Self Driving” Could Come To Other Countries Before Long Ever since Tesla started rolling out Full Self Driving (FSD) to non-employee Tesla owners in the US, people in other countries have been asking when they’ll be able to install and use FSD. As far as I remember, it’s always been a vague “someday…” kind of resp…   \n",
       "1  More Than 3× As Many Tesla Model Y Sales As Tesla Model 3 Sales In USA In 1st Quarter Tesla’s just had a tough quarter, including in the United States, but a tough quarter for Tesla would be a stunning, fantabulous success for any other company trying to sell electric vehicles. In the USA, according to data from Cox Automotive and Kelley Blue …   \n",
       "2               Tesla Surprises Investors With A Tiny Y & A Tiny 3 As Soon As This Year! A lot has been written about the Tesla’s next-generation compact car that used to be widely called the Model 2, including Zach’s excellent article last week about it. Zach asked who might pick up the challenge in place of Tesla doing it. Today, Tesla announce…   \n",
       "3                  The Revisionist Language That Tesla Used In The Q1 2024 Earnings Call The Tesla, Inc. Q1 2024 earnings call was fascinating in how Tesla representatives drew on carefully phrased statements to appease and turn around what was then a largely disgruntled shareholder group. The revisionist language within the earnings call took co…   \n",
       "4                                                                                                                    French startup FlexAI exits stealth with $30M to ease access to AI compute A French startup has raised a hefty seed investment to \"rearchitect compute infrastructure\" for developers wanting to build and train AI applications more...   \n",
       "\n",
       "   length  \\\n",
       "0   328.0   \n",
       "1   346.0   \n",
       "2   333.0   \n",
       "3   330.0   \n",
       "4   232.0   \n",
       "\n",
       "                                                                                                                                                                                                                                                                     tokens  \\\n",
       "0                              [full, self, driving, could, come, countries, long, ever, since, started, rolling, full, self, driving, fsd, nonemployee, owners, us, people, countries, asking, able, install, use, fsd, far, remember, always, vague, someday, kind, resp]   \n",
       "1                   [many, model, sales, model, sales, usa, 1st, quarter, tough, quarter, including, united, states, tough, quarter, would, stunning, fantabulous, success, company, trying, sell, electric, vehicles, usa, according, data, cox, automotive, kelley, blue]   \n",
       "2                                     [surprises, investors, tiny, tiny, soon, year, lot, written, nextgeneration, compact, car, used, widely, called, model, including, zach, excellent, article, last, week, zach, asked, might, pick, challenge, place, today, announce]   \n",
       "3  [revisionist, language, used, q1, earnings, call, inc, q1, earnings, call, fascinating, representatives, drew, carefully, phrased, statements, appease, turn, around, largely, disgruntled, shareholder, group, revisionist, language, within, earnings, call, took, co]   \n",
       "4                                                    [french, startup, flexai, exits, stealth, 30m, ease, access, ai, compute, french, startup, raised, hefty, seed, investment, rearchitect, compute, infrastructure, developers, wanting, build, train, ai, applications]   \n",
       "\n",
       "   num_tokens  \\\n",
       "0          32   \n",
       "1          31   \n",
       "2          29   \n",
       "3          30   \n",
       "4          25   \n",
       "\n",
       "                                                                                                                                                                                                                            clean_tokens_str  \\\n",
       "0                                full self driving could come countries long ever since started rolling full self driving fsd nonemployee owners us people countries asking able install use fsd far remember always vague someday kind resp   \n",
       "1                    many model sales model sales usa 1st quarter tough quarter including united states tough quarter would stunning fantabulous success company trying sell electric vehicles usa according data cox automotive kelley blue   \n",
       "2                                    surprises investors tiny tiny soon year lot written nextgeneration compact car used widely called model including zach excellent article last week zach asked might pick challenge place today announce   \n",
       "3  revisionist language used q1 earnings call inc q1 earnings call fascinating representatives drew carefully phrased statements appease turn around largely disgruntled shareholder group revisionist language within earnings call took co   \n",
       "4                                               french startup flexai exits stealth 30m ease access ai compute french startup raised hefty seed investment rearchitect compute infrastructure developers wanting build train ai applications   \n",
       "\n",
       "   sentiment  \n",
       "0   0.192857  \n",
       "1   0.087037  \n",
       "2   0.180000  \n",
       "3   0.271429  \n",
       "4   0.000000  "
      ]
     },
     "execution_count": 184,
     "metadata": {},
     "output_type": "execute_result"
    }
   ],
   "source": [
    "combined.head()"
   ]
  },
  {
   "cell_type": "code",
   "execution_count": 185,
   "metadata": {
    "colab": {
     "base_uri": "https://localhost:8080/"
    },
    "id": "Q0sptRz46MRS",
    "outputId": "caab5b48-e829-456c-d5b4-ab0999f0af62"
   },
   "outputs": [
    {
     "data": {
      "text/plain": [
       "tokens       [unlock, best, ux, design, avoid, blunders, could, tank, drive, tale, two, ux, designs, one, cars, model, needs, work, continue, reading]\n",
       "sentiment                                                                                                                                          1.0\n",
       "Name: 113, dtype: object"
      ]
     },
     "execution_count": 185,
     "metadata": {},
     "output_type": "execute_result"
    }
   ],
   "source": [
    "# Find the record with the highest sentiment value and select specific columns\n",
    "highest_sentiment_record = combined.loc[combined['sentiment'].idxmax(), ['tokens', 'sentiment']]\n",
    "\n",
    "# Find the record with the lowest sentiment value and select specific columns\n",
    "lowest_sentiment_record = combined.loc[combined['sentiment'].idxmin(), ['tokens', 'sentiment']]\n",
    "\n",
    "# check the most positive\n",
    "highest_sentiment_record"
   ]
  },
  {
   "cell_type": "code",
   "execution_count": 186,
   "metadata": {
    "colab": {
     "base_uri": "https://localhost:8080/"
    },
    "id": "wCUrcvgW6MRS",
    "outputId": "f3dfeca7-55d2-494f-b777-4837c117715d"
   },
   "outputs": [
    {
     "data": {
      "text/plain": [
       "tokens       [cowards, hated, supra, bmw, components, dying, report, a90, supra, finally, hit, scene, production, vehicle, detractors, immediately, crawled, woodwork, hate, sharing, bmw, platform, never, mind, laid, specs, chassis, never, mind, engineers, japan]\n",
       "sentiment                                                                                                                                                                                                                                                    -0.566667\n",
       "Name: 150, dtype: object"
      ]
     },
     "execution_count": 186,
     "metadata": {},
     "output_type": "execute_result"
    }
   ],
   "source": [
    "# check the most negative\n",
    "lowest_sentiment_record"
   ]
  },
  {
   "cell_type": "code",
   "execution_count": 187,
   "metadata": {
    "id": "QwJdUHQi6MRS"
   },
   "outputs": [],
   "source": [
    "# filter on either tesla or toyota to split dataset\n",
    "tesla_df = combined[combined[\"label\"] == \"tesla\"]\n",
    "toyota_df = combined[combined[\"label\"] == \"toyota\"]"
   ]
  },
  {
   "cell_type": "code",
   "execution_count": 188,
   "metadata": {
    "colab": {
     "base_uri": "https://localhost:8080/"
    },
    "id": "ZsLBg2x66MRS",
    "outputId": "f7c55318-8195-4c01-eaf2-e73ece99cb77"
   },
   "outputs": [
    {
     "name": "stdout",
     "output_type": "stream",
     "text": [
      "(100, 15)\n",
      "(100, 15)\n"
     ]
    }
   ],
   "source": [
    "print(tesla_df.shape)\n",
    "print(toyota_df.shape)"
   ]
  },
  {
   "cell_type": "code",
   "execution_count": 189,
   "metadata": {
    "colab": {
     "base_uri": "https://localhost:8080/"
    },
    "id": "hD5X3umn6MRS",
    "outputId": "95370ac6-68e5-47b4-c126-fd3553334c66"
   },
   "outputs": [
    {
     "name": "stdout",
     "output_type": "stream",
     "text": [
      "Tesla DataFrame:\n",
      " Sentiment Median: 0.061541125541125535, Range: 1.2000000000000002,  Min: -0.4, Max: 0.8,  Mean: 0.10911777837902839\n",
      "\n",
      "Toyota DataFrame:\n",
      " Sentiment Median: 0.06534090909090909, Range: 1.5666666666666669,  Min: -0.5666666666666668, Max: 1.0,  Mean: 0.10445652056277055\n"
     ]
    }
   ],
   "source": [
    "# Function to calculate statistics for the sentiment\n",
    "def calculate_stats(df):\n",
    "    valid_sentiments = df['sentiment'].dropna()\n",
    "    sentiment_range = valid_sentiments.max() - valid_sentiments.min()\n",
    "    sentiment_min = valid_sentiments.min()\n",
    "    sentiment_max = valid_sentiments.max()\n",
    "    sentiment_median = valid_sentiments.median()\n",
    "    sentiment_mean = valid_sentiments.mean()\n",
    "    return sentiment_range, sentiment_min, sentiment_max, sentiment_median, sentiment_mean\n",
    "\n",
    "# Calculate stats for Tesla\n",
    "tesla_range, tesla_min, tesla_max, tesla_median, tesla_mean = calculate_stats(tesla_df)\n",
    "# Calculate stats for Toyota\n",
    "toyota_range, toyota_min, toyota_max, toyota_median, toyota_mean = calculate_stats(toyota_df)\n",
    "\n",
    "# Display the results\n",
    "print(\"Tesla DataFrame:\")\n",
    "tesla_df\n",
    "print(f\" Sentiment Median: {tesla_median}, Range: {tesla_range},  Min: {tesla_min}, Max: {tesla_max},  Mean: {tesla_mean}\")\n",
    "\n",
    "print(\"\\nToyota DataFrame:\")\n",
    "toyota_df\n",
    "print(f\" Sentiment Median: {toyota_median}, Range: {toyota_range},  Min: {toyota_min}, Max: {toyota_max},  Mean: {toyota_mean}\")"
   ]
  },
  {
   "cell_type": "code",
   "execution_count": 190,
   "metadata": {
    "id": "Ba-asBc46MRT"
   },
   "outputs": [],
   "source": [
    "def train_and_evaluate(model, X_train, X_test, y_train, y_test):\n",
    "    # Train the model\n",
    "    model.fit(X_train, y_train)\n",
    "    # Predict probabilities on the test data\n",
    "    y_pred_proba = model.predict_proba(X_test)\n",
    "    # Predict on the test data\n",
    "    y_pred = model.predict(X_test)\n",
    "    # Print the accuracy and classification report\n",
    "    print(f'Accuracy: {accuracy_score(y_test, y_pred)}')\n",
    "    print(classification_report(y_test, y_pred, target_names=['Tesla', 'Toyota']))\n",
    "    # Plot confusion matrix\n",
    "    plot_confusion_matrix(confusion_matrix(y_test, y_pred), classes=['Tesla', 'Toyota'])\n",
    "    plt.show()\n",
    "    # Plot AUC-ROC curve\n",
    "    plot_auc_roc_curve(y_test, y_pred_proba)"
   ]
  },
  {
   "cell_type": "code",
   "execution_count": 191,
   "metadata": {
    "id": "SODBqu6N6MRT"
   },
   "outputs": [],
   "source": [
    "def plot_confusion_matrix(cm, classes,\n",
    "                          normalize=False,\n",
    "                          title='Confusion matrix',\n",
    "                          cmap=plt.cm.Blues):\n",
    "    \"\"\"\n",
    "    This function prints and plots the confusion matrix.\n",
    "    Normalization can be applied by setting `normalize=True`.\n",
    "    \"\"\"\n",
    "    if normalize:\n",
    "        cm = cm.astype('float') / cm.sum(axis=1)[:, np.newaxis]\n",
    "        print(\"Normalized confusion matrix\")\n",
    "    else:\n",
    "        print('Confusion matrix, without normalization')\n",
    "\n",
    "    print(cm)\n",
    "\n",
    "    plt.imshow(cm, interpolation='nearest', cmap=cmap)\n",
    "    plt.title(title)\n",
    "    plt.colorbar()\n",
    "    tick_marks = np.arange(len(classes))\n",
    "    plt.xticks(tick_marks, classes, rotation=45)\n",
    "    plt.yticks(tick_marks, classes)\n",
    "\n",
    "    fmt = '.2f' if normalize else 'd'\n",
    "    thresh = cm.max() / 2.\n",
    "    for i, j in itertools.product(range(cm.shape[0]), range(cm.shape[1])):\n",
    "        plt.text(j, i, format(cm[i, j], fmt),\n",
    "                 horizontalalignment=\"center\",\n",
    "                 color=\"white\" if cm[i, j] > thresh else \"black\")\n",
    "\n",
    "    plt.ylabel('True label')\n",
    "    plt.xlabel('Predicted label')\n",
    "    plt.tight_layout()"
   ]
  },
  {
   "cell_type": "code",
   "execution_count": 192,
   "metadata": {
    "id": "fYdCtIQ16MRT"
   },
   "outputs": [],
   "source": [
    "def plot_auc_roc_curve(y_true, y_pred_proba):\n",
    "    fpr, tpr, thresholds = roc_curve(y_true, y_pred_proba[:, 1])\n",
    "    roc_auc = auc(fpr, tpr)\n",
    "    plt.figure()\n",
    "    plt.plot(fpr, tpr, color='darkorange', lw=2, label='ROC curve (area = %0.2f)' % roc_auc)\n",
    "    plt.plot([0, 1], [0, 1], color='navy', lw=2, linestyle='--')\n",
    "    plt.xlim([0.0, 1.0])\n",
    "    plt.ylim([0.0, 1.05])\n",
    "    plt.xlabel('False Positive Rate')\n",
    "    plt.ylabel('True Positive Rate')\n",
    "    plt.title('Receiver Operating Characteristic (ROC) Curve')\n",
    "    plt.legend(loc=\"lower right\")\n",
    "    plt.show()\n"
   ]
  },
  {
   "cell_type": "code",
   "execution_count": 193,
   "metadata": {},
   "outputs": [],
   "source": [
    "# Define a function to train and evaluate the model\n",
    "def train_and_evaluate(model, X_train, X_test, y_train, y_test):\n",
    "    model.fit(X_train, y_train)\n",
    "    y_pred = model.predict(X_test)\n",
    "    accuracy = accuracy_score(y_test, y_pred)\n",
    "    return accuracy, model\n",
    "\n",
    "# Define functions for each classifier\n",
    "def logistic_regression(X_train, X_test, y_train, y_test):\n",
    "    model = LogisticRegression()\n",
    "    return train_and_evaluate(model, X_train, X_test, y_train, y_test)\n",
    "\n",
    "def svm_classifier(X_train, X_test, y_train, y_test):\n",
    "    model = SVC(kernel='linear', probability=True)\n",
    "    return train_and_evaluate(model, X_train, X_test, y_train, y_test)\n",
    "\n",
    "def random_forest(X_train, X_test, y_train, y_test):\n",
    "    model = RandomForestClassifier(random_state=42)\n",
    "    return train_and_evaluate(model, X_train, X_test, y_train, y_test)\n",
    "\n",
    "def naive_bayes(X_train, X_test, y_train, y_test):\n",
    "    model = MultinomialNB()\n",
    "    return train_and_evaluate(model, X_train, X_test, y_train, y_test)\n",
    "\n",
    "def knn_classifier(X_train, X_test, y_train, y_test):\n",
    "    model = KNeighborsClassifier()\n",
    "    return train_and_evaluate(model, X_train, X_test, y_train, y_test)\n",
    "\n",
    "def gradient_boosting(X_train, X_test, y_train, y_test):\n",
    "    model = GradientBoostingClassifier(random_state=42)\n",
    "    return train_and_evaluate(model, X_train, X_test, y_train, y_test)\n",
    "\n",
    "def adaboost(X_train, X_test, y_train, y_test):\n",
    "    model = AdaBoostClassifier(random_state=42)\n",
    "    return train_and_evaluate(model, X_train, X_test, y_train, y_test)\n",
    "\n",
    "def decision_tree(X_train, X_test, y_train, y_test):\n",
    "    model = DecisionTreeClassifier(random_state=42)\n",
    "    return train_and_evaluate(model, X_train, X_test, y_train, y_test)\n",
    "\n",
    "def xgboost(X_train, X_test, y_train, y_test):\n",
    "    model = xgb.XGBClassifier(use_label_encoder=False, eval_metric='mlogloss')\n",
    "    return train_and_evaluate(model, X_train, X_test, y_train, y_test)"
   ]
  },
  {
   "cell_type": "code",
   "execution_count": 195,
   "metadata": {
    "colab": {
     "base_uri": "https://localhost:8080/",
     "height": 674
    },
    "id": "fnBq5Qu_6MRT",
    "outputId": "7f9bc610-3cd2-4b7c-d440-ffab941d7665"
   },
   "outputs": [
    {
     "data": {
      "text/html": [
       "<div>\n",
       "<style scoped>\n",
       "    .dataframe tbody tr th:only-of-type {\n",
       "        vertical-align: middle;\n",
       "    }\n",
       "\n",
       "    .dataframe tbody tr th {\n",
       "        vertical-align: top;\n",
       "    }\n",
       "\n",
       "    .dataframe thead th {\n",
       "        text-align: right;\n",
       "    }\n",
       "</style>\n",
       "<table border=\"1\" class=\"dataframe\">\n",
       "  <thead>\n",
       "    <tr style=\"text-align: right;\">\n",
       "      <th></th>\n",
       "      <th>source</th>\n",
       "      <th>author</th>\n",
       "      <th>title</th>\n",
       "      <th>description</th>\n",
       "      <th>url</th>\n",
       "      <th>urlToImage</th>\n",
       "      <th>publishedAt</th>\n",
       "      <th>content</th>\n",
       "      <th>label</th>\n",
       "      <th>text</th>\n",
       "      <th>length</th>\n",
       "      <th>tokens</th>\n",
       "      <th>num_tokens</th>\n",
       "      <th>clean_tokens_str</th>\n",
       "      <th>sentiment</th>\n",
       "    </tr>\n",
       "  </thead>\n",
       "  <tbody>\n",
       "    <tr>\n",
       "      <th>0</th>\n",
       "      <td>{'id': None, 'name': 'CleanTechnica'}</td>\n",
       "      <td>Zachary Shahan</td>\n",
       "      <td>Tesla “Full Self Driving” Could Come To Other Countries Before Long</td>\n",
       "      <td>Ever since Tesla started rolling out Full Self Driving (FSD) to non-employee Tesla owners in the US, people in other countries have been asking when they’ll be able to install and use FSD. As far as I remember, it’s always been a vague “someday…” kind of resp…</td>\n",
       "      <td>https://cleantechnica.com/2024/04/23/tesla-full-self-driving-could-come-to-other-countries-before-long/</td>\n",
       "      <td>https://cleantechnica.com/wp-content/uploads/2024/03/Tesla-Model-3-Autostopping-Stop-Light-Autopilot-Full-Self-Driving-CleanTechnica-Stopping-New-FSD.jpeg</td>\n",
       "      <td>2024-04-24T03:55:41Z</td>\n",
       "      <td>Sign up for daily news updates from CleanTechnica on email. Or follow us on Google News!\\r\\nEver since Tesla started rolling out Full Self Driving (FSD) to non-employee Tesla owners in the US, people i… [+3965 chars]</td>\n",
       "      <td>tesla</td>\n",
       "      <td>Tesla “Full Self Driving” Could Come To Other Countries Before Long Ever since Tesla started rolling out Full Self Driving (FSD) to non-employee Tesla owners in the US, people in other countries have been asking when they’ll be able to install and use FSD. As far as I remember, it’s always been a vague “someday…” kind of resp…</td>\n",
       "      <td>328.0</td>\n",
       "      <td>[full, self, driving, could, come, countries, long, ever, since, started, rolling, full, self, driving, fsd, nonemployee, owners, us, people, countries, asking, able, install, use, fsd, far, remember, always, vague, someday, kind, resp]</td>\n",
       "      <td>32</td>\n",
       "      <td>full self driving could come countries long ever since started rolling full self driving fsd nonemployee owners us people countries asking able install use fsd far remember always vague someday kind resp</td>\n",
       "      <td>0.192857</td>\n",
       "    </tr>\n",
       "  </tbody>\n",
       "</table>\n",
       "</div>"
      ],
      "text/plain": [
       "                                  source          author  \\\n",
       "0  {'id': None, 'name': 'CleanTechnica'}  Zachary Shahan   \n",
       "\n",
       "                                                                 title  \\\n",
       "0  Tesla “Full Self Driving” Could Come To Other Countries Before Long   \n",
       "\n",
       "                                                                                                                                                                                                                                                            description  \\\n",
       "0  Ever since Tesla started rolling out Full Self Driving (FSD) to non-employee Tesla owners in the US, people in other countries have been asking when they’ll be able to install and use FSD. As far as I remember, it’s always been a vague “someday…” kind of resp…   \n",
       "\n",
       "                                                                                                       url  \\\n",
       "0  https://cleantechnica.com/2024/04/23/tesla-full-self-driving-could-come-to-other-countries-before-long/   \n",
       "\n",
       "                                                                                                                                                   urlToImage  \\\n",
       "0  https://cleantechnica.com/wp-content/uploads/2024/03/Tesla-Model-3-Autostopping-Stop-Light-Autopilot-Full-Self-Driving-CleanTechnica-Stopping-New-FSD.jpeg   \n",
       "\n",
       "            publishedAt  \\\n",
       "0  2024-04-24T03:55:41Z   \n",
       "\n",
       "                                                                                                                                                                                                                    content  \\\n",
       "0  Sign up for daily news updates from CleanTechnica on email. Or follow us on Google News!\\r\\nEver since Tesla started rolling out Full Self Driving (FSD) to non-employee Tesla owners in the US, people i… [+3965 chars]   \n",
       "\n",
       "   label  \\\n",
       "0  tesla   \n",
       "\n",
       "                                                                                                                                                                                                                                                                                                                                       text  \\\n",
       "0  Tesla “Full Self Driving” Could Come To Other Countries Before Long Ever since Tesla started rolling out Full Self Driving (FSD) to non-employee Tesla owners in the US, people in other countries have been asking when they’ll be able to install and use FSD. As far as I remember, it’s always been a vague “someday…” kind of resp…   \n",
       "\n",
       "   length  \\\n",
       "0   328.0   \n",
       "\n",
       "                                                                                                                                                                                                                                         tokens  \\\n",
       "0  [full, self, driving, could, come, countries, long, ever, since, started, rolling, full, self, driving, fsd, nonemployee, owners, us, people, countries, asking, able, install, use, fsd, far, remember, always, vague, someday, kind, resp]   \n",
       "\n",
       "   num_tokens  \\\n",
       "0          32   \n",
       "\n",
       "                                                                                                                                                                                              clean_tokens_str  \\\n",
       "0  full self driving could come countries long ever since started rolling full self driving fsd nonemployee owners us people countries asking able install use fsd far remember always vague someday kind resp   \n",
       "\n",
       "   sentiment  \n",
       "0   0.192857  "
      ]
     },
     "execution_count": 195,
     "metadata": {},
     "output_type": "execute_result"
    }
   ],
   "source": [
    "combined[:1]"
   ]
  },
  {
   "cell_type": "code",
   "execution_count": 196,
   "metadata": {
    "id": "fjEvY3Of6MRT"
   },
   "outputs": [],
   "source": [
    "# Fill nulls with an empty string & make sure all rows are strings prior to vectorizing so no issues\n",
    "combined['clean_tokens_str'] = combined['clean_tokens_str'].fillna('')\n",
    "combined['clean_tokens_str'] = combined['clean_tokens_str'].astype(str)\n",
    "\n",
    "# Initialize the TF-IDF Vectorizer\n",
    "tfidf_vectorizer = TfidfVectorizer(stop_words='english')\n",
    "\n",
    "# Vectorize the description column\n",
    "X = tfidf_vectorizer.fit_transform(combined['clean_tokens_str'])\n",
    "#X[:1]"
   ]
  },
  {
   "cell_type": "code",
   "execution_count": 197,
   "metadata": {
    "colab": {
     "base_uri": "https://localhost:8080/",
     "height": 130
    },
    "id": "kW19QBFM6MRT",
    "outputId": "d6b73984-4e7b-489e-fc1a-aadb5df93fc0"
   },
   "outputs": [
    {
     "data": {
      "text/html": [
       "<div>\n",
       "<style scoped>\n",
       "    .dataframe tbody tr th:only-of-type {\n",
       "        vertical-align: middle;\n",
       "    }\n",
       "\n",
       "    .dataframe tbody tr th {\n",
       "        vertical-align: top;\n",
       "    }\n",
       "\n",
       "    .dataframe thead th {\n",
       "        text-align: right;\n",
       "    }\n",
       "</style>\n",
       "<table border=\"1\" class=\"dataframe\">\n",
       "  <thead>\n",
       "    <tr style=\"text-align: right;\">\n",
       "      <th></th>\n",
       "      <th>1100pm</th>\n",
       "      <th>19th</th>\n",
       "      <th>1of50</th>\n",
       "      <th>1st</th>\n",
       "      <th>2019date</th>\n",
       "      <th>2024read</th>\n",
       "      <th>24h</th>\n",
       "      <th>24hour</th>\n",
       "      <th>26year</th>\n",
       "      <th>29th</th>\n",
       "      <th>...</th>\n",
       "      <th>yesterday</th>\n",
       "      <th>york</th>\n",
       "      <th>yous</th>\n",
       "      <th>yousa</th>\n",
       "      <th>youtube</th>\n",
       "      <th>youtuber</th>\n",
       "      <th>zach</th>\n",
       "      <th>zero</th>\n",
       "      <th>zip</th>\n",
       "      <th>zuckerberg</th>\n",
       "    </tr>\n",
       "  </thead>\n",
       "  <tbody>\n",
       "    <tr>\n",
       "      <th>0</th>\n",
       "      <td>0.0</td>\n",
       "      <td>0.0</td>\n",
       "      <td>0.0</td>\n",
       "      <td>0.0</td>\n",
       "      <td>0.0</td>\n",
       "      <td>0.0</td>\n",
       "      <td>0.0</td>\n",
       "      <td>0.0</td>\n",
       "      <td>0.0</td>\n",
       "      <td>0.0</td>\n",
       "      <td>...</td>\n",
       "      <td>0.0</td>\n",
       "      <td>0.0</td>\n",
       "      <td>0.0</td>\n",
       "      <td>0.0</td>\n",
       "      <td>0.0</td>\n",
       "      <td>0.0</td>\n",
       "      <td>0.0</td>\n",
       "      <td>0.0</td>\n",
       "      <td>0.0</td>\n",
       "      <td>0.0</td>\n",
       "    </tr>\n",
       "  </tbody>\n",
       "</table>\n",
       "<p>1 rows × 2309 columns</p>\n",
       "</div>"
      ],
      "text/plain": [
       "   1100pm  19th  1of50  1st  2019date  2024read  24h  24hour  26year  29th  \\\n",
       "0     0.0   0.0    0.0  0.0       0.0       0.0  0.0     0.0     0.0   0.0   \n",
       "\n",
       "   ...  yesterday  york  yous  yousa  youtube  youtuber  zach  zero  zip  \\\n",
       "0  ...        0.0   0.0   0.0    0.0      0.0       0.0   0.0   0.0  0.0   \n",
       "\n",
       "   zuckerberg  \n",
       "0         0.0  \n",
       "\n",
       "[1 rows x 2309 columns]"
      ]
     },
     "execution_count": 197,
     "metadata": {},
     "output_type": "execute_result"
    }
   ],
   "source": [
    "# take a look at how the first record looks\n",
    "check_x = pd.DataFrame(X[0].todense(), columns=tfidf_vectorizer.get_feature_names_out())\n",
    "check_x"
   ]
  },
  {
   "cell_type": "code",
   "execution_count": 198,
   "metadata": {
    "colab": {
     "base_uri": "https://localhost:8080/"
    },
    "id": "vI0vtm3n6MRT",
    "outputId": "6971f236-3695-4112-c9fd-afe05c27b702"
   },
   "outputs": [
    {
     "data": {
      "text/plain": [
       "0    0\n",
       "1    0\n",
       "2    0\n",
       "3    0\n",
       "4    0\n",
       "Name: label, dtype: int64"
      ]
     },
     "execution_count": 198,
     "metadata": {},
     "output_type": "execute_result"
    }
   ],
   "source": [
    "# Encode the labels (Tesla=0, Toyota=1)\n",
    "y = combined['label'].apply(lambda x: 0 if x == 'tesla' else 1)\n",
    "y[:5]"
   ]
  },
  {
   "cell_type": "code",
   "execution_count": 199,
   "metadata": {
    "colab": {
     "base_uri": "https://localhost:8080/"
    },
    "id": "JOzy-Rtt6MRT",
    "outputId": "69510ed9-d9f9-4e3f-ce23-361e6f2329bb"
   },
   "outputs": [
    {
     "name": "stdout",
     "output_type": "stream",
     "text": [
      "(160, 2309)\n",
      "(40, 2309)\n",
      "(160,)\n",
      "(40,)\n"
     ]
    }
   ],
   "source": [
    "# Split the data into training and testing sets\n",
    "X_train, X_test, y_train, y_test = train_test_split(X, y, test_size=0.2, random_state=42)\n",
    "\n",
    "print(X_train.shape)\n",
    "print(X_test.shape)\n",
    "print(y_train.shape)\n",
    "print(y_test.shape)"
   ]
  },
  {
   "cell_type": "code",
   "execution_count": 200,
   "metadata": {
    "colab": {
     "base_uri": "https://localhost:8080/",
     "height": 1000
    },
    "id": "6V4d0AiF6MRU",
    "outputId": "6013f01b-7288-4159-d75a-517bd6de9b7b"
   },
   "outputs": [
    {
     "name": "stdout",
     "output_type": "stream",
     "text": [
      "Logistic Regression:\n"
     ]
    },
    {
     "data": {
      "text/plain": [
       "(0.825, LogisticRegression())"
      ]
     },
     "execution_count": 200,
     "metadata": {},
     "output_type": "execute_result"
    }
   ],
   "source": [
    "# Train & evaluate using different models\n",
    "print(\"Logistic Regression:\")\n",
    "logistic_regression(X_train, X_test, y_train, y_test)"
   ]
  },
  {
   "cell_type": "code",
   "execution_count": 201,
   "metadata": {
    "colab": {
     "base_uri": "https://localhost:8080/",
     "height": 1000
    },
    "id": "p1QpVbsZ6MRU",
    "outputId": "1bd4560c-99d7-4d5d-844b-852bc6afcdb2"
   },
   "outputs": [
    {
     "name": "stdout",
     "output_type": "stream",
     "text": [
      "\n",
      "Support Vector Machine:\n"
     ]
    },
    {
     "data": {
      "text/plain": [
       "(0.8, SVC(kernel='linear', probability=True))"
      ]
     },
     "execution_count": 201,
     "metadata": {},
     "output_type": "execute_result"
    }
   ],
   "source": [
    "print(\"\\nSupport Vector Machine:\")\n",
    "svm_classifier(X_train, X_test, y_train, y_test)"
   ]
  },
  {
   "cell_type": "code",
   "execution_count": 202,
   "metadata": {
    "colab": {
     "base_uri": "https://localhost:8080/",
     "height": 1000
    },
    "id": "C5XVrqm86MRU",
    "outputId": "1df9c713-9db9-43b3-961a-d7efed4691f3"
   },
   "outputs": [
    {
     "name": "stdout",
     "output_type": "stream",
     "text": [
      "\n",
      "Random Forest:\n"
     ]
    },
    {
     "data": {
      "text/plain": [
       "(0.775, RandomForestClassifier(random_state=42))"
      ]
     },
     "execution_count": 202,
     "metadata": {},
     "output_type": "execute_result"
    }
   ],
   "source": [
    "print(\"\\nRandom Forest:\")\n",
    "random_forest(X_train, X_test, y_train, y_test)"
   ]
  },
  {
   "cell_type": "code",
   "execution_count": 203,
   "metadata": {
    "colab": {
     "base_uri": "https://localhost:8080/",
     "height": 1000
    },
    "id": "3ZAsg_r46MRU",
    "outputId": "1b7f712c-2946-4e90-bc1f-5111349a1b37"
   },
   "outputs": [
    {
     "name": "stdout",
     "output_type": "stream",
     "text": [
      "\n",
      "Naive Bayes:\n"
     ]
    },
    {
     "data": {
      "text/plain": [
       "(0.825, MultinomialNB())"
      ]
     },
     "execution_count": 203,
     "metadata": {},
     "output_type": "execute_result"
    }
   ],
   "source": [
    "print(\"\\nNaive Bayes:\")\n",
    "naive_bayes(X_train, X_test, y_train, y_test)"
   ]
  },
  {
   "cell_type": "code",
   "execution_count": 204,
   "metadata": {
    "colab": {
     "base_uri": "https://localhost:8080/",
     "height": 1000
    },
    "id": "CmUMR0nQ6MRU",
    "outputId": "588daa5b-d7bf-44c6-a992-3c12b4e373dd"
   },
   "outputs": [
    {
     "name": "stdout",
     "output_type": "stream",
     "text": [
      "\n",
      "K-Nearest Neighbors:\n"
     ]
    },
    {
     "data": {
      "text/plain": [
       "(0.8, KNeighborsClassifier())"
      ]
     },
     "execution_count": 204,
     "metadata": {},
     "output_type": "execute_result"
    }
   ],
   "source": [
    "print(\"\\nK-Nearest Neighbors:\")\n",
    "knn_classifier(X_train, X_test, y_train, y_test)"
   ]
  },
  {
   "cell_type": "code",
   "execution_count": 205,
   "metadata": {
    "colab": {
     "base_uri": "https://localhost:8080/",
     "height": 1000
    },
    "id": "4Hr7ehp86MRU",
    "outputId": "b53f839e-ca0d-4d46-d98e-dd07b8ce0bba"
   },
   "outputs": [
    {
     "name": "stdout",
     "output_type": "stream",
     "text": [
      "\n",
      "Gradient Boosting:\n"
     ]
    },
    {
     "data": {
      "text/plain": [
       "(0.75, GradientBoostingClassifier(random_state=42))"
      ]
     },
     "execution_count": 205,
     "metadata": {},
     "output_type": "execute_result"
    }
   ],
   "source": [
    "print(\"\\nGradient Boosting:\")\n",
    "gradient_boosting(X_train, X_test, y_train, y_test)"
   ]
  },
  {
   "cell_type": "code",
   "execution_count": 206,
   "metadata": {
    "colab": {
     "base_uri": "https://localhost:8080/",
     "height": 1000
    },
    "id": "2pL9uaBA6MRU",
    "outputId": "19e73b01-a9aa-4394-e68c-5d931439ca64"
   },
   "outputs": [
    {
     "name": "stdout",
     "output_type": "stream",
     "text": [
      "\n",
      "AdaBoost:\n"
     ]
    },
    {
     "data": {
      "text/plain": [
       "(0.8, AdaBoostClassifier(random_state=42))"
      ]
     },
     "execution_count": 206,
     "metadata": {},
     "output_type": "execute_result"
    }
   ],
   "source": [
    "print(\"\\nAdaBoost:\")\n",
    "adaboost(X_train, X_test, y_train, y_test)"
   ]
  },
  {
   "cell_type": "code",
   "execution_count": 207,
   "metadata": {
    "colab": {
     "base_uri": "https://localhost:8080/",
     "height": 1000
    },
    "id": "50WYrYZB6MRU",
    "outputId": "56a004a9-60c6-4815-9d58-045c148e6172"
   },
   "outputs": [
    {
     "name": "stdout",
     "output_type": "stream",
     "text": [
      "\n",
      "Decision Tree:\n"
     ]
    },
    {
     "data": {
      "text/plain": [
       "(0.75, DecisionTreeClassifier(random_state=42))"
      ]
     },
     "execution_count": 207,
     "metadata": {},
     "output_type": "execute_result"
    }
   ],
   "source": [
    "print(\"\\nDecision Tree:\")\n",
    "decision_tree(X_train, X_test, y_train, y_test)"
   ]
  },
  {
   "cell_type": "code",
   "execution_count": 208,
   "metadata": {
    "colab": {
     "base_uri": "https://localhost:8080/",
     "height": 1000
    },
    "id": "wYotZ3wg6MRU",
    "outputId": "9d9e70f8-d045-46f9-83ee-6f701c1acf3e"
   },
   "outputs": [
    {
     "name": "stdout",
     "output_type": "stream",
     "text": [
      "\n",
      "XGBoost:\n"
     ]
    },
    {
     "data": {
      "text/plain": [
       "(0.775,\n",
       " XGBClassifier(base_score=None, booster=None, callbacks=None,\n",
       "               colsample_bylevel=None, colsample_bynode=None,\n",
       "               colsample_bytree=None, device=None, early_stopping_rounds=None,\n",
       "               enable_categorical=False, eval_metric='mlogloss',\n",
       "               feature_types=None, gamma=None, grow_policy=None,\n",
       "               importance_type=None, interaction_constraints=None,\n",
       "               learning_rate=None, max_bin=None, max_cat_threshold=None,\n",
       "               max_cat_to_onehot=None, max_delta_step=None, max_depth=None,\n",
       "               max_leaves=None, min_child_weight=None, missing=nan,\n",
       "               monotone_constraints=None, multi_strategy=None, n_estimators=None,\n",
       "               n_jobs=None, num_parallel_tree=None, random_state=None, ...))"
      ]
     },
     "execution_count": 208,
     "metadata": {},
     "output_type": "execute_result"
    }
   ],
   "source": [
    "print(\"\\nXGBoost:\")\n",
    "xgboost(X_train, X_test, y_train, y_test)"
   ]
  },
  {
   "cell_type": "code",
   "execution_count": 209,
   "metadata": {},
   "outputs": [],
   "source": [
    "# Had to define the different models to use in the later loop\n",
    "\n",
    "# Store the classifier functions in a dictionary\n",
    "classifiers = {\n",
    "    \"Logistic Regression\": logistic_regression,\n",
    "    \"Support Vector Machine\": svm_classifier,\n",
    "    \"Random Forest\": random_forest,\n",
    "    \"Naive Bayes\": naive_bayes,\n",
    "    \"K-Nearest Neighbors\": knn_classifier,\n",
    "    \"Gradient Boosting\": gradient_boosting,\n",
    "    \"AdaBoost\": adaboost,\n",
    "    \"Decision Tree\": decision_tree,\n",
    "    \"XGBoost\": xgboost\n",
    "}"
   ]
  },
  {
   "cell_type": "code",
   "execution_count": 210,
   "metadata": {
    "colab": {
     "base_uri": "https://localhost:8080/",
     "height": 216
    },
    "id": "XHowPuUi6MRU",
    "outputId": "81a8b2e4-005f-4951-8bc7-2a61027b0ec3"
   },
   "outputs": [
    {
     "name": "stdout",
     "output_type": "stream",
     "text": [
      "Exception occurred during training of Logistic Regression: 'function' object has no attribute 'fit'\n",
      "Exception occurred during training of Support Vector Machine: 'function' object has no attribute 'fit'\n",
      "Exception occurred during training of Random Forest: 'function' object has no attribute 'fit'\n",
      "Exception occurred during training of Naive Bayes: 'function' object has no attribute 'fit'\n",
      "Exception occurred during training of K-Nearest Neighbors: 'function' object has no attribute 'fit'\n",
      "Exception occurred during training of Gradient Boosting: 'function' object has no attribute 'fit'\n",
      "Exception occurred during training of AdaBoost: 'function' object has no attribute 'fit'\n",
      "Exception occurred during training of Decision Tree: 'function' object has no attribute 'fit'\n",
      "Exception occurred during training of XGBoost: 'function' object has no attribute 'fit'\n"
     ]
    }
   ],
   "source": [
    "# This was the original code that did not fit to the corresponding data\n",
    "\n",
    "best_classifier = None\n",
    "best_accuracy = 0.0\n",
    "\n",
    "# Iterate through the classifiers\n",
    "for name, clf in classifiers.items():\n",
    "    try:\n",
    "        # Train the classifier\n",
    "        clf.fit(X_train, y_train)\n",
    "\n",
    "        # Predict on the test set\n",
    "        y_pred = clf.predict(X_test)\n",
    "\n",
    "        # Calculate accuracy\n",
    "        accuracy = accuracy_score(y_test, y_pred)\n",
    "        print(f\"{name} Accuracy: {accuracy}\")\n",
    "\n",
    "        # Check if current classifier has better accuracy than previous best\n",
    "        if accuracy > best_accuracy:\n",
    "            best_accuracy = accuracy\n",
    "            best_classifier = clf\n",
    "    except Exception as e:\n",
    "        print(f\"Exception occurred during training of {name}: {e}\")"
   ]
  },
  {
   "cell_type": "markdown",
   "metadata": {
    "id": "_E23VT-a6MRU"
   },
   "source": [
    "### Try to classify new text"
   ]
  },
  {
   "cell_type": "code",
   "execution_count": 211,
   "metadata": {},
   "outputs": [
    {
     "name": "stdout",
     "output_type": "stream",
     "text": [
      "Logistic Regression Accuracy: 0.825\n",
      "Support Vector Machine Accuracy: 0.8\n",
      "Random Forest Accuracy: 0.775\n",
      "Naive Bayes Accuracy: 0.825\n",
      "K-Nearest Neighbors Accuracy: 0.8\n",
      "Gradient Boosting Accuracy: 0.75\n",
      "AdaBoost Accuracy: 0.8\n",
      "Decision Tree Accuracy: 0.75\n",
      "XGBoost Accuracy: 0.775\n",
      "Best Classifier: Logistic Regression with Accuracy: 0.825\n",
      "The description is related to: toyota\n"
     ]
    }
   ],
   "source": [
    "# Initialize variables to store the best model\n",
    "best_classifier_name = None\n",
    "best_classifier_accuracy = 0.0\n",
    "best_classifier_model = None\n",
    "\n",
    "# Iterate through the classifiers\n",
    "for name, clf_func in classifiers.items():\n",
    "    try:\n",
    "        accuracy, model = clf_func(X_train, X_test, y_train, y_test)\n",
    "        print(f\"{name} Accuracy: {accuracy}\")\n",
    "\n",
    "        # Check if the current classifier has better accuracy than the previous best\n",
    "        if accuracy > best_classifier_accuracy:\n",
    "            best_classifier_accuracy = accuracy\n",
    "            best_classifier_name = name\n",
    "            best_classifier_model = model\n",
    "    except Exception as e:\n",
    "        print(f\"Exception occurred during training of {name}: {e}\")\n",
    "\n",
    "print(f\"Best Classifier: {best_classifier_name} with Accuracy: {best_classifier_accuracy}\")\n",
    "\n",
    "# Prepare the best classifier model for application to new data\n",
    "model = best_classifier_model\n",
    "\n",
    "# Function to classify a new text description\n",
    "def classify_text(description, model, vectorizer):\n",
    "    # Transform the description using the TF-IDF vectorizer\n",
    "    description_vector = vectorizer.transform([description])\n",
    "    # Predict the class\n",
    "    prediction = model.predict(description_vector)\n",
    "    # Return the prediction label\n",
    "    return 'tesla' if prediction[0] == 0 else 'toyota'\n",
    "\n",
    "# Function to interactively get user input and classify\n",
    "def get_user_input():\n",
    "    description = input(\"Enter description: \")\n",
    "    prediction = classify_text(description, model, tfidf_vectorizer)\n",
    "    print(f\"The description is related to: {prediction}\")\n",
    "\n",
    "# Get user input & classify\n",
    "get_user_input()"
   ]
  },
  {
   "cell_type": "markdown",
   "metadata": {
    "id": "lyIdIfFBeHJ_"
   },
   "source": [
    "## Part 3: Compare Topic Modeling Results to Original Categories"
   ]
  },
  {
   "cell_type": "markdown",
   "metadata": {
    "id": "nG6wt0Z7d9v5"
   },
   "source": [
    "### Vectorization & Methods"
   ]
  },
  {
   "cell_type": "code",
   "execution_count": 212,
   "metadata": {
    "colab": {
     "base_uri": "https://localhost:8080/"
    },
    "id": "auhGIgCYeMA8",
    "outputId": "f9dac0d3-c93b-4446-ccf0-00b11556a914"
   },
   "outputs": [
    {
     "name": "stdout",
     "output_type": "stream",
     "text": [
      "(200, 793)\n",
      "(200, 793)\n"
     ]
    }
   ],
   "source": [
    "# Use the cleaned, tokenized field converted back to string\n",
    "# Vectorization - stopwords include tesla & toyota (but those should already be filtered out)\n",
    "# Keep only words/tokens that appear in >=2 news docs and < 75% of all news docs so they're actually informative\n",
    "count_text_vectorizer = CountVectorizer(stop_words=list(stopwords), min_df=2, max_df=0.75)\n",
    "count_text_vectors = count_text_vectorizer.fit_transform(combined['clean_tokens_str'])\n",
    "print(count_text_vectors.shape)\n",
    "\n",
    "tfidf_text_vectorizer = TfidfVectorizer(stop_words=list(stopwords), min_df=2, max_df=0.75)\n",
    "tfidf_text_vectors = tfidf_text_vectorizer.fit_transform(combined['clean_tokens_str'])\n",
    "print(tfidf_text_vectors.shape)"
   ]
  },
  {
   "cell_type": "code",
   "execution_count": 213,
   "metadata": {
    "id": "Hy2z8zt1d-7x"
   },
   "outputs": [],
   "source": [
    "# Grab display_topics function from BTAP repo\n",
    "def display_topics(model, features, no_top_words=5):\n",
    "    for topic, words in enumerate(model.components_):\n",
    "        total = words.sum()\n",
    "        largest = words.argsort()[::-1] # invert sort order\n",
    "        print(\"\\nTopic %02d\" % topic)\n",
    "        for i in range(0, no_top_words):\n",
    "            print(\"  %s (%2.2f)\" % (features[largest[i]], abs(words[largest[i]]*100.0/total)))"
   ]
  },
  {
   "cell_type": "code",
   "execution_count": 214,
   "metadata": {
    "id": "nXK1elofiz9Z"
   },
   "outputs": [],
   "source": [
    "# Adapt wordcloud_topics_gensim function from BTAP repo to work for text models from sklearn\n",
    "# Put all wordclouds as subplots on same plots\n",
    "def wordcloud_topics(model, feature_names, no_top_words=30):\n",
    "  fig, axes = plt.subplots(1, model.n_components, figsize=(20, 10))\n",
    "\n",
    "  # Loop through number of components = number of topics\n",
    "  for topic_idx, topic in enumerate(model.components_):\n",
    "      size = {feature_names[i]: topic[i] for i in topic.argsort()[:-no_top_words - 1:-1]}\n",
    "      wc = WordCloud(background_color=\"white\", max_words=80, width=960, height=540)\n",
    "      wc.generate_from_frequencies(size)\n",
    "\n",
    "      # Plot in subplot\n",
    "      axes[topic_idx].imshow(wc, interpolation='bilinear')\n",
    "      axes[topic_idx].axis(\"off\")\n",
    "      axes[topic_idx].set_title(f\"Topic {topic_idx}\", fontsize=20)\n",
    "\n",
    "  plt.tight_layout()\n",
    "  plt.show()"
   ]
  },
  {
   "cell_type": "code",
   "execution_count": 215,
   "metadata": {
    "id": "BH4xxrBnf0Ms"
   },
   "outputs": [],
   "source": [
    "# Create function to compare topics modeled vs. original categories for each topic\n",
    "# Prints out list of topics created by topic model & how many news articles of each original topic are within each topic\n",
    "def compare_to_og_categories(model_W_text_matrix, model_name, original_df=combined):\n",
    "  # Obtain dominant topic for each document & add to original df\n",
    "  col_name = model_name + '_dominant_topic'\n",
    "  original_df[col_name] = model_W_text_matrix.argmax(axis=1)\n",
    "\n",
    "  # Create dict to count original categories for each topic\n",
    "  categories_counter = defaultdict(Counter)\n",
    "\n",
    "  # Loop through all rows in original df to get topic & category for each\n",
    "  for idx, row in original_df.iterrows():\n",
    "      topic = row[col_name]\n",
    "      category = row['label']\n",
    "      categories_counter[topic][category] += 1\n",
    "\n",
    "  # Print the count of original categories within each topic from model\n",
    "  for topic, category_counter in categories_counter.items():\n",
    "      print(\"\\nTopic \" + str(topic) + \":\")\n",
    "      for category, count in category_counter.items():\n",
    "          print(category + \": \" + str(count))\n",
    "\n",
    "  return categories_counter"
   ]
  },
  {
   "cell_type": "code",
   "execution_count": 216,
   "metadata": {
    "id": "pN83Tu5NqsoN"
   },
   "outputs": [],
   "source": [
    "# Assuming we have only 2 topics modeled, create a confusion matrix of original topics to modeled ones\n",
    "# Assume the topic with the higher % of tesla news is the tesla topic\n",
    "# Takes in categories_counter obj from compare_to_og_categories() function\n",
    "def category_confusion_matrix(categories_counter, model_name, original_df=combined):\n",
    "   # Identify majority label for each topic\n",
    "    topic_labels = {}\n",
    "    for topic, counter in categories_counter.items():\n",
    "        majority_label = counter.most_common(1)[0][0]\n",
    "        topic_labels[topic] = majority_label\n",
    "\n",
    "    # Build confusion matrix\n",
    "    col_name = model_name + '_dominant_topic'\n",
    "    pred_col_name = model_name + '_predicted_topic'\n",
    "    original_df[pred_col_name] = original_df[col_name].map(topic_labels)\n",
    "    confusion = confusion_matrix(original_df['label'], original_df[pred_col_name], labels=['tesla', 'toyota'])\n",
    "    confusion_df = pd.DataFrame(confusion, index=['tesla', 'toyota'], columns=['predicted_tesla', 'predicted_toyota'])\n",
    "\n",
    "    # Plot confusion matrix\n",
    "    plt.figure(figsize=(6,4))\n",
    "    sns.heatmap(confusion_df, annot=True, fmt='d', cmap='Blues')\n",
    "    plt.title((model_name + ' Confusion Matrix'))\n",
    "    plt.ylabel('Actual Label')\n",
    "    plt.xlabel('Predicted/Majority Topic')\n",
    "    plt.show()"
   ]
  },
  {
   "cell_type": "markdown",
   "metadata": {
    "id": "4QC58HPTidTq"
   },
   "source": [
    "### Try Various Topic Modeling Methods to Identify 2 Topics"
   ]
  },
  {
   "cell_type": "markdown",
   "metadata": {
    "id": "2MEOJSUzjh9J"
   },
   "source": [
    "#### NMF"
   ]
  },
  {
   "cell_type": "code",
   "execution_count": 217,
   "metadata": {
    "id": "qXr81QpU6MRU"
   },
   "outputs": [],
   "source": [
    "# Build NMF Model\n",
    "nmf_text_model = NMF(n_components=2, random_state=42)\n",
    "nmf_W_text_matrix = nmf_text_model.fit_transform(tfidf_text_vectors)\n",
    "nmf_H_text_matrix = nmf_text_model.components_"
   ]
  },
  {
   "cell_type": "code",
   "execution_count": 218,
   "metadata": {
    "colab": {
     "base_uri": "https://localhost:8080/"
    },
    "id": "jTDM1AVujlQX",
    "outputId": "45a1b1a3-e337-4109-b446-9a7244e377db"
   },
   "outputs": [
    {
     "name": "stdout",
     "output_type": "stream",
     "text": [
      "\n",
      "Topic 00\n",
      "  electric (1.20)\n",
      "  ev (0.98)\n",
      "  musk (0.97)\n",
      "  new (0.96)\n",
      "  model (0.87)\n",
      "\n",
      "Topic 01\n",
      "  shareholders (4.80)\n",
      "  chairman (4.58)\n",
      "  toyoda (3.83)\n",
      "  vote (3.29)\n",
      "  motor (3.01)\n"
     ]
    }
   ],
   "source": [
    "# Display top words for each topic\n",
    "display_topics(nmf_text_model, tfidf_text_vectorizer.get_feature_names_out())"
   ]
  },
  {
   "cell_type": "code",
   "execution_count": 219,
   "metadata": {
    "colab": {
     "base_uri": "https://localhost:8080/",
     "height": 404
    },
    "id": "DeIvndEajpFD",
    "outputId": "c1bdd6fb-59d5-4798-8b54-21994c74d1df"
   },
   "outputs": [
    {
     "ename": "NameError",
     "evalue": "name 'WordCloud' is not defined",
     "output_type": "error",
     "traceback": [
      "\u001b[0;31m---------------------------------------------------------------------------\u001b[0m",
      "\u001b[0;31mNameError\u001b[0m                                 Traceback (most recent call last)",
      "Cell \u001b[0;32mIn[219], line 2\u001b[0m\n\u001b[1;32m      1\u001b[0m \u001b[39m# Display wordcloud for each topic\u001b[39;00m\n\u001b[0;32m----> 2\u001b[0m wordcloud_topics(nmf_text_model, tfidf_text_vectorizer\u001b[39m.\u001b[39;49mget_feature_names_out(), no_top_words\u001b[39m=\u001b[39;49m\u001b[39m30\u001b[39;49m)\n",
      "Cell \u001b[0;32mIn[214], line 9\u001b[0m, in \u001b[0;36mwordcloud_topics\u001b[0;34m(model, feature_names, no_top_words)\u001b[0m\n\u001b[1;32m      7\u001b[0m \u001b[39mfor\u001b[39;00m topic_idx, topic \u001b[39min\u001b[39;00m \u001b[39menumerate\u001b[39m(model\u001b[39m.\u001b[39mcomponents_):\n\u001b[1;32m      8\u001b[0m     size \u001b[39m=\u001b[39m {feature_names[i]: topic[i] \u001b[39mfor\u001b[39;00m i \u001b[39min\u001b[39;00m topic\u001b[39m.\u001b[39margsort()[:\u001b[39m-\u001b[39mno_top_words \u001b[39m-\u001b[39m \u001b[39m1\u001b[39m:\u001b[39m-\u001b[39m\u001b[39m1\u001b[39m]}\n\u001b[0;32m----> 9\u001b[0m     wc \u001b[39m=\u001b[39m WordCloud(background_color\u001b[39m=\u001b[39m\u001b[39m\"\u001b[39m\u001b[39mwhite\u001b[39m\u001b[39m\"\u001b[39m, max_words\u001b[39m=\u001b[39m\u001b[39m80\u001b[39m, width\u001b[39m=\u001b[39m\u001b[39m960\u001b[39m, height\u001b[39m=\u001b[39m\u001b[39m540\u001b[39m)\n\u001b[1;32m     10\u001b[0m     wc\u001b[39m.\u001b[39mgenerate_from_frequencies(size)\n\u001b[1;32m     12\u001b[0m     \u001b[39m# Plot in subplot\u001b[39;00m\n",
      "\u001b[0;31mNameError\u001b[0m: name 'WordCloud' is not defined"
     ]
    },
    {
     "data": {
      "image/png": "[encoded data removed]",
      "text/plain": [
       "<Figure size 2000x1000 with 2 Axes>"
      ]
     },
     "metadata": {},
     "output_type": "display_data"
    }
   ],
   "source": [
    "# Display wordcloud for each topic\n",
    "wordcloud_topics(nmf_text_model, tfidf_text_vectorizer.get_feature_names_out(), no_top_words=30)"
   ]
  },
  {
   "cell_type": "code",
   "execution_count": 220,
   "metadata": {
    "colab": {
     "base_uri": "https://localhost:8080/"
    },
    "id": "HuflBzlyoeOP",
    "outputId": "7022e772-2bd9-4f88-cccf-30390c71804f"
   },
   "outputs": [
    {
     "name": "stdout",
     "output_type": "stream",
     "text": [
      "\n",
      "Topic 0:\n",
      "tesla: 97\n",
      "toyota: 79\n",
      "\n",
      "Topic 1:\n",
      "tesla: 3\n",
      "toyota: 21\n"
     ]
    }
   ],
   "source": [
    "# Compare to original categories/labels\n",
    "nmf_categories_counter = compare_to_og_categories(nmf_W_text_matrix, 'NMF', combined)"
   ]
  },
  {
   "cell_type": "code",
   "execution_count": 221,
   "metadata": {
    "colab": {
     "base_uri": "https://localhost:8080/",
     "height": 410
    },
    "id": "W3v29sSxqpby",
    "outputId": "32ebd70e-ede6-416b-fef5-34dfd874ae5d"
   },
   "outputs": [
    {
     "ename": "NameError",
     "evalue": "name 'sns' is not defined",
     "output_type": "error",
     "traceback": [
      "\u001b[0;31m---------------------------------------------------------------------------\u001b[0m",
      "\u001b[0;31mNameError\u001b[0m                                 Traceback (most recent call last)",
      "Cell \u001b[0;32mIn[221], line 2\u001b[0m\n\u001b[1;32m      1\u001b[0m \u001b[39m# Create confusion matrix by assuming majority category of each topic is \"true label\"\u001b[39;00m\n\u001b[0;32m----> 2\u001b[0m category_confusion_matrix(nmf_categories_counter, \u001b[39m'\u001b[39;49m\u001b[39mNMF\u001b[39;49m\u001b[39m'\u001b[39;49m, combined)\n",
      "Cell \u001b[0;32mIn[216], line 20\u001b[0m, in \u001b[0;36mcategory_confusion_matrix\u001b[0;34m(categories_counter, model_name, original_df)\u001b[0m\n\u001b[1;32m     18\u001b[0m \u001b[39m# Plot confusion matrix\u001b[39;00m\n\u001b[1;32m     19\u001b[0m plt\u001b[39m.\u001b[39mfigure(figsize\u001b[39m=\u001b[39m(\u001b[39m6\u001b[39m,\u001b[39m4\u001b[39m))\n\u001b[0;32m---> 20\u001b[0m sns\u001b[39m.\u001b[39mheatmap(confusion_df, annot\u001b[39m=\u001b[39m\u001b[39mTrue\u001b[39;00m, fmt\u001b[39m=\u001b[39m\u001b[39m'\u001b[39m\u001b[39md\u001b[39m\u001b[39m'\u001b[39m, cmap\u001b[39m=\u001b[39m\u001b[39m'\u001b[39m\u001b[39mBlues\u001b[39m\u001b[39m'\u001b[39m)\n\u001b[1;32m     21\u001b[0m plt\u001b[39m.\u001b[39mtitle((model_name \u001b[39m+\u001b[39m \u001b[39m'\u001b[39m\u001b[39m Confusion Matrix\u001b[39m\u001b[39m'\u001b[39m))\n\u001b[1;32m     22\u001b[0m plt\u001b[39m.\u001b[39mylabel(\u001b[39m'\u001b[39m\u001b[39mActual Label\u001b[39m\u001b[39m'\u001b[39m)\n",
      "\u001b[0;31mNameError\u001b[0m: name 'sns' is not defined"
     ]
    },
    {
     "data": {
      "text/plain": [
       "<Figure size 600x400 with 0 Axes>"
      ]
     },
     "metadata": {},
     "output_type": "display_data"
    }
   ],
   "source": [
    "# Create confusion matrix by assuming majority category of each topic is \"true label\"\n",
    "category_confusion_matrix(nmf_categories_counter, 'NMF', combined)"
   ]
  },
  {
   "cell_type": "markdown",
   "metadata": {
    "id": "hbceYm8xsvPj"
   },
   "source": [
    "#### LSA/Truncated SVD"
   ]
  },
  {
   "cell_type": "code",
   "execution_count": 222,
   "metadata": {
    "id": "8qN_m5_qssZI"
   },
   "outputs": [],
   "source": [
    "# Fit LSA/TruncatedSVD model\n",
    "svd_text_model = TruncatedSVD(n_components = 2, random_state=42)\n",
    "svd_W_text_matrix = svd_text_model.fit_transform(tfidf_text_vectors)\n",
    "svd_H_text_matrix = svd_text_model.components_"
   ]
  },
  {
   "cell_type": "code",
   "execution_count": 223,
   "metadata": {
    "colab": {
     "base_uri": "https://localhost:8080/"
    },
    "id": "HCbic8DatMAN",
    "outputId": "f85672c8-4b46-4b2e-ea33-405f11656aae"
   },
   "outputs": [
    {
     "name": "stdout",
     "output_type": "stream",
     "text": [
      "\n",
      "Topic 00\n",
      "  electric (0.97)\n",
      "  new (0.84)\n",
      "  chairman (0.83)\n",
      "  shareholders (0.80)\n",
      "  vehicle (0.79)\n",
      "\n",
      "Topic 01\n",
      "  shareholders (7.15)\n",
      "  chairman (6.63)\n",
      "  toyoda (5.56)\n",
      "  vote (4.87)\n",
      "  akio (4.32)\n"
     ]
    }
   ],
   "source": [
    "# Display top words for each topic\n",
    "display_topics(svd_text_model, tfidf_text_vectorizer.get_feature_names_out())"
   ]
  },
  {
   "cell_type": "code",
   "execution_count": 224,
   "metadata": {
    "colab": {
     "base_uri": "https://localhost:8080/",
     "height": 404
    },
    "id": "AgzjunyctPAZ",
    "outputId": "a50708a3-25f2-4e3f-d65e-eb0cbe325de9"
   },
   "outputs": [
    {
     "ename": "NameError",
     "evalue": "name 'WordCloud' is not defined",
     "output_type": "error",
     "traceback": [
      "\u001b[0;31m---------------------------------------------------------------------------\u001b[0m",
      "\u001b[0;31mNameError\u001b[0m                                 Traceback (most recent call last)",
      "Cell \u001b[0;32mIn[224], line 2\u001b[0m\n\u001b[1;32m      1\u001b[0m \u001b[39m# Display wordcloud for each topic\u001b[39;00m\n\u001b[0;32m----> 2\u001b[0m wordcloud_topics(svd_text_model, tfidf_text_vectorizer\u001b[39m.\u001b[39;49mget_feature_names_out(), no_top_words\u001b[39m=\u001b[39;49m\u001b[39m30\u001b[39;49m)\n",
      "Cell \u001b[0;32mIn[214], line 9\u001b[0m, in \u001b[0;36mwordcloud_topics\u001b[0;34m(model, feature_names, no_top_words)\u001b[0m\n\u001b[1;32m      7\u001b[0m \u001b[39mfor\u001b[39;00m topic_idx, topic \u001b[39min\u001b[39;00m \u001b[39menumerate\u001b[39m(model\u001b[39m.\u001b[39mcomponents_):\n\u001b[1;32m      8\u001b[0m     size \u001b[39m=\u001b[39m {feature_names[i]: topic[i] \u001b[39mfor\u001b[39;00m i \u001b[39min\u001b[39;00m topic\u001b[39m.\u001b[39margsort()[:\u001b[39m-\u001b[39mno_top_words \u001b[39m-\u001b[39m \u001b[39m1\u001b[39m:\u001b[39m-\u001b[39m\u001b[39m1\u001b[39m]}\n\u001b[0;32m----> 9\u001b[0m     wc \u001b[39m=\u001b[39m WordCloud(background_color\u001b[39m=\u001b[39m\u001b[39m\"\u001b[39m\u001b[39mwhite\u001b[39m\u001b[39m\"\u001b[39m, max_words\u001b[39m=\u001b[39m\u001b[39m80\u001b[39m, width\u001b[39m=\u001b[39m\u001b[39m960\u001b[39m, height\u001b[39m=\u001b[39m\u001b[39m540\u001b[39m)\n\u001b[1;32m     10\u001b[0m     wc\u001b[39m.\u001b[39mgenerate_from_frequencies(size)\n\u001b[1;32m     12\u001b[0m     \u001b[39m# Plot in subplot\u001b[39;00m\n",
      "\u001b[0;31mNameError\u001b[0m: name 'WordCloud' is not defined"
     ]
    },
    {
     "data": {
      "image/png": "[encoded data removed]",
      "text/plain": [
       "<Figure size 2000x1000 with 2 Axes>"
      ]
     },
     "metadata": {},
     "output_type": "display_data"
    }
   ],
   "source": [
    "# Display wordcloud for each topic\n",
    "wordcloud_topics(svd_text_model, tfidf_text_vectorizer.get_feature_names_out(), no_top_words=30)"
   ]
  },
  {
   "cell_type": "code",
   "execution_count": 225,
   "metadata": {
    "colab": {
     "base_uri": "https://localhost:8080/"
    },
    "id": "L3Nr7fGVtWjv",
    "outputId": "8d9f4975-13af-4679-a67f-441288473ae8"
   },
   "outputs": [
    {
     "name": "stdout",
     "output_type": "stream",
     "text": [
      "\n",
      "Topic 0:\n",
      "tesla: 98\n",
      "toyota: 89\n",
      "\n",
      "Topic 1:\n",
      "tesla: 2\n",
      "toyota: 11\n"
     ]
    }
   ],
   "source": [
    "# Compare to original categories/labels\n",
    "svd_categories_counter = compare_to_og_categories(svd_W_text_matrix, 'LSA/TruncSVD', combined)"
   ]
  },
  {
   "cell_type": "code",
   "execution_count": 226,
   "metadata": {
    "colab": {
     "base_uri": "https://localhost:8080/",
     "height": 410
    },
    "id": "b-eIU2extcqO",
    "outputId": "bf5954cd-ddf9-43eb-d39c-833f198f2a87"
   },
   "outputs": [
    {
     "ename": "NameError",
     "evalue": "name 'sns' is not defined",
     "output_type": "error",
     "traceback": [
      "\u001b[0;31m---------------------------------------------------------------------------\u001b[0m",
      "\u001b[0;31mNameError\u001b[0m                                 Traceback (most recent call last)",
      "Cell \u001b[0;32mIn[226], line 2\u001b[0m\n\u001b[1;32m      1\u001b[0m \u001b[39m# Create confusion matrix by assuming majority category of each topic is \"true label\"\u001b[39;00m\n\u001b[0;32m----> 2\u001b[0m category_confusion_matrix(svd_categories_counter, \u001b[39m'\u001b[39;49m\u001b[39mLSA/TruncSVD\u001b[39;49m\u001b[39m'\u001b[39;49m, combined)\n",
      "Cell \u001b[0;32mIn[216], line 20\u001b[0m, in \u001b[0;36mcategory_confusion_matrix\u001b[0;34m(categories_counter, model_name, original_df)\u001b[0m\n\u001b[1;32m     18\u001b[0m \u001b[39m# Plot confusion matrix\u001b[39;00m\n\u001b[1;32m     19\u001b[0m plt\u001b[39m.\u001b[39mfigure(figsize\u001b[39m=\u001b[39m(\u001b[39m6\u001b[39m,\u001b[39m4\u001b[39m))\n\u001b[0;32m---> 20\u001b[0m sns\u001b[39m.\u001b[39mheatmap(confusion_df, annot\u001b[39m=\u001b[39m\u001b[39mTrue\u001b[39;00m, fmt\u001b[39m=\u001b[39m\u001b[39m'\u001b[39m\u001b[39md\u001b[39m\u001b[39m'\u001b[39m, cmap\u001b[39m=\u001b[39m\u001b[39m'\u001b[39m\u001b[39mBlues\u001b[39m\u001b[39m'\u001b[39m)\n\u001b[1;32m     21\u001b[0m plt\u001b[39m.\u001b[39mtitle((model_name \u001b[39m+\u001b[39m \u001b[39m'\u001b[39m\u001b[39m Confusion Matrix\u001b[39m\u001b[39m'\u001b[39m))\n\u001b[1;32m     22\u001b[0m plt\u001b[39m.\u001b[39mylabel(\u001b[39m'\u001b[39m\u001b[39mActual Label\u001b[39m\u001b[39m'\u001b[39m)\n",
      "\u001b[0;31mNameError\u001b[0m: name 'sns' is not defined"
     ]
    },
    {
     "data": {
      "text/plain": [
       "<Figure size 600x400 with 0 Axes>"
      ]
     },
     "metadata": {},
     "output_type": "display_data"
    }
   ],
   "source": [
    "# Create confusion matrix by assuming majority category of each topic is \"true label\"\n",
    "category_confusion_matrix(svd_categories_counter, 'LSA/TruncSVD', combined)"
   ]
  },
  {
   "cell_type": "markdown",
   "metadata": {
    "id": "E8nElhlCtjeR"
   },
   "source": [
    "#### LDA"
   ]
  },
  {
   "cell_type": "code",
   "execution_count": 227,
   "metadata": {
    "id": "-tuMkUSCtliN"
   },
   "outputs": [],
   "source": [
    "# Fit your LDA model here\n",
    "lda_text_model = LatentDirichletAllocation(n_components = 2, random_state=42)\n",
    "lda_W_text_matrix = lda_text_model.fit_transform(count_text_vectors)\n",
    "lda_H_text_matrix = lda_text_model.components_"
   ]
  },
  {
   "cell_type": "code",
   "execution_count": 228,
   "metadata": {
    "colab": {
     "base_uri": "https://localhost:8080/"
    },
    "id": "_yzFVQm_eOiF",
    "outputId": "80a0ec9b-57fb-40f8-87f4-6a06fa771059"
   },
   "outputs": [
    {
     "name": "stdout",
     "output_type": "stream",
     "text": [
      "\n",
      "Topic 00\n",
      "  new (1.38)\n",
      "  model (1.36)\n",
      "  china (0.95)\n",
      "  motor (0.86)\n",
      "  vehicle (0.78)\n",
      "\n",
      "Topic 01\n",
      "  car (1.27)\n",
      "  electric (1.22)\n",
      "  elon (1.12)\n",
      "  ev (1.05)\n",
      "  musk (0.99)\n"
     ]
    }
   ],
   "source": [
    "# Display top words for each topic\n",
    "display_topics(lda_text_model, count_text_vectorizer.get_feature_names_out())"
   ]
  },
  {
   "cell_type": "code",
   "execution_count": 229,
   "metadata": {
    "colab": {
     "base_uri": "https://localhost:8080/",
     "height": 637
    },
    "id": "8VBFr0WGt_6z",
    "outputId": "50f776f1-38fa-41dc-c9f3-592a35ee9555"
   },
   "outputs": [
    {
     "ename": "NameError",
     "evalue": "name 'WordCloud' is not defined",
     "output_type": "error",
     "traceback": [
      "\u001b[0;31m---------------------------------------------------------------------------\u001b[0m",
      "\u001b[0;31mNameError\u001b[0m                                 Traceback (most recent call last)",
      "Cell \u001b[0;32mIn[229], line 2\u001b[0m\n\u001b[1;32m      1\u001b[0m \u001b[39m# Display wordcloud for each topic\u001b[39;00m\n\u001b[0;32m----> 2\u001b[0m wordcloud_topics(lda_text_model, count_text_vectorizer\u001b[39m.\u001b[39;49mget_feature_names_out(), no_top_words\u001b[39m=\u001b[39;49m\u001b[39m30\u001b[39;49m)\n",
      "Cell \u001b[0;32mIn[214], line 9\u001b[0m, in \u001b[0;36mwordcloud_topics\u001b[0;34m(model, feature_names, no_top_words)\u001b[0m\n\u001b[1;32m      7\u001b[0m \u001b[39mfor\u001b[39;00m topic_idx, topic \u001b[39min\u001b[39;00m \u001b[39menumerate\u001b[39m(model\u001b[39m.\u001b[39mcomponents_):\n\u001b[1;32m      8\u001b[0m     size \u001b[39m=\u001b[39m {feature_names[i]: topic[i] \u001b[39mfor\u001b[39;00m i \u001b[39min\u001b[39;00m topic\u001b[39m.\u001b[39margsort()[:\u001b[39m-\u001b[39mno_top_words \u001b[39m-\u001b[39m \u001b[39m1\u001b[39m:\u001b[39m-\u001b[39m\u001b[39m1\u001b[39m]}\n\u001b[0;32m----> 9\u001b[0m     wc \u001b[39m=\u001b[39m WordCloud(background_color\u001b[39m=\u001b[39m\u001b[39m\"\u001b[39m\u001b[39mwhite\u001b[39m\u001b[39m\"\u001b[39m, max_words\u001b[39m=\u001b[39m\u001b[39m80\u001b[39m, width\u001b[39m=\u001b[39m\u001b[39m960\u001b[39m, height\u001b[39m=\u001b[39m\u001b[39m540\u001b[39m)\n\u001b[1;32m     10\u001b[0m     wc\u001b[39m.\u001b[39mgenerate_from_frequencies(size)\n\u001b[1;32m     12\u001b[0m     \u001b[39m# Plot in subplot\u001b[39;00m\n",
      "\u001b[0;31mNameError\u001b[0m: name 'WordCloud' is not defined"
     ]
    },
    {
     "data": {
      "image/png": "[encoded data removed]",
      "text/plain": [
       "<Figure size 2000x1000 with 2 Axes>"
      ]
     },
     "metadata": {},
     "output_type": "display_data"
    }
   ],
   "source": [
    "# Display wordcloud for each topic\n",
    "wordcloud_topics(lda_text_model, count_text_vectorizer.get_feature_names_out(), no_top_words=30)"
   ]
  },
  {
   "cell_type": "code",
   "execution_count": 230,
   "metadata": {
    "colab": {
     "base_uri": "https://localhost:8080/"
    },
    "id": "n-hH5-rvuJ5W",
    "outputId": "e1dd2280-7941-481e-becb-4e5c8a2d5dac"
   },
   "outputs": [
    {
     "name": "stdout",
     "output_type": "stream",
     "text": [
      "\n",
      "Topic 0:\n",
      "tesla: 48\n",
      "toyota: 53\n",
      "\n",
      "Topic 1:\n",
      "tesla: 52\n",
      "toyota: 47\n"
     ]
    }
   ],
   "source": [
    "# Compare to original categories/labels\n",
    "lda_categories_counter = compare_to_og_categories(lda_W_text_matrix, 'LDA', combined)"
   ]
  },
  {
   "cell_type": "code",
   "execution_count": 231,
   "metadata": {
    "colab": {
     "base_uri": "https://localhost:8080/",
     "height": 410
    },
    "id": "BiF0CbpcuSHF",
    "outputId": "f78ca844-231b-4884-91bd-ffa627307a60"
   },
   "outputs": [
    {
     "ename": "NameError",
     "evalue": "name 'sns' is not defined",
     "output_type": "error",
     "traceback": [
      "\u001b[0;31m---------------------------------------------------------------------------\u001b[0m",
      "\u001b[0;31mNameError\u001b[0m                                 Traceback (most recent call last)",
      "Cell \u001b[0;32mIn[231], line 2\u001b[0m\n\u001b[1;32m      1\u001b[0m \u001b[39m# Create confusion matrix by assuming majority category of each topic is \"true label\"\u001b[39;00m\n\u001b[0;32m----> 2\u001b[0m category_confusion_matrix(lda_categories_counter, \u001b[39m'\u001b[39;49m\u001b[39mLDA\u001b[39;49m\u001b[39m'\u001b[39;49m, combined)\n",
      "Cell \u001b[0;32mIn[216], line 20\u001b[0m, in \u001b[0;36mcategory_confusion_matrix\u001b[0;34m(categories_counter, model_name, original_df)\u001b[0m\n\u001b[1;32m     18\u001b[0m \u001b[39m# Plot confusion matrix\u001b[39;00m\n\u001b[1;32m     19\u001b[0m plt\u001b[39m.\u001b[39mfigure(figsize\u001b[39m=\u001b[39m(\u001b[39m6\u001b[39m,\u001b[39m4\u001b[39m))\n\u001b[0;32m---> 20\u001b[0m sns\u001b[39m.\u001b[39mheatmap(confusion_df, annot\u001b[39m=\u001b[39m\u001b[39mTrue\u001b[39;00m, fmt\u001b[39m=\u001b[39m\u001b[39m'\u001b[39m\u001b[39md\u001b[39m\u001b[39m'\u001b[39m, cmap\u001b[39m=\u001b[39m\u001b[39m'\u001b[39m\u001b[39mBlues\u001b[39m\u001b[39m'\u001b[39m)\n\u001b[1;32m     21\u001b[0m plt\u001b[39m.\u001b[39mtitle((model_name \u001b[39m+\u001b[39m \u001b[39m'\u001b[39m\u001b[39m Confusion Matrix\u001b[39m\u001b[39m'\u001b[39m))\n\u001b[1;32m     22\u001b[0m plt\u001b[39m.\u001b[39mylabel(\u001b[39m'\u001b[39m\u001b[39mActual Label\u001b[39m\u001b[39m'\u001b[39m)\n",
      "\u001b[0;31mNameError\u001b[0m: name 'sns' is not defined"
     ]
    },
    {
     "data": {
      "text/plain": [
       "<Figure size 600x400 with 0 Axes>"
      ]
     },
     "metadata": {},
     "output_type": "display_data"
    }
   ],
   "source": [
    "# Create confusion matrix by assuming majority category of each topic is \"true label\"\n",
    "category_confusion_matrix(lda_categories_counter, 'LDA', combined)"
   ]
  },
  {
   "cell_type": "code",
   "execution_count": 232,
   "metadata": {
    "colab": {
     "base_uri": "https://localhost:8080/",
     "height": 917
    },
    "id": "MjlqCQs-hXu6",
    "outputId": "41154b3e-aaf7-40b9-a5c7-53098d8905ae"
   },
   "outputs": [
    {
     "data": {
      "text/html": [
       "\n",
       "<link rel=\"stylesheet\" type=\"text/css\" href=\"https://cdn.jsdelivr.net/gh/bmabey/pyLDAvis@3.4.0/pyLDAvis/js/ldavis.v1.0.0.css\">\n",
       "\n",
       "\n",
       "<div id=\"ldavis_el6972245325559841970368141\" style=\"background-color:white;\"></div>\n",
       "<script type=\"text/javascript\">\n",
       "\n",
       "var ldavis_el6972245325559841970368141_data = {\"mdsDat\": {\"x\": [0.10206753285887955, -0.10206753285887955], \"y\": [0.0, 0.0], \"topics\": [1, 2], \"cluster\": [1, 1], \"Freq\": [48.29887980183463, 51.70112019816536]}, \"tinfo\": {\"Term\": [\"model\", \"china\", \"shareholders\", \"series\", \"engines\", \"nascar\", \"sales\", \"electric\", \"mazda\", \"full\", \"vote\", \"elon\", \"sonoma\", \"quarter\", \"world\", \"transport\", \"ministry\", \"monday\", \"revealed\", \"awd\", \"features\", \"corp\", \"call\", \"team\", \"certification\", \"honda\", \"q1\", \"mart\", \"toyotasave\", \"stocks\", \"model\", \"china\", \"series\", \"engines\", \"nascar\", \"mazda\", \"full\", \"sonoma\", \"ministry\", \"transport\", \"monday\", \"revealed\", \"awd\", \"features\", \"corp\", \"certification\", \"honda\", \"mart\", \"toyotasave\", \"three\", \"prediction\", \"subaru\", \"mechanic\", \"japans\", \"dogecoin\", \"world\", \"foundation\", \"selfdriving\", \"reveals\", \"cryptocurrency\", \"picks\", \"crash\", \"new\", \"stock\", \"fsd\", \"motor\", \"going\", \"performance\", \"vehicle\", \"cybertruck\", \"market\", \"including\", \"could\", \"ai\", \"car\", \"musk\", \"last\", \"shareholders\", \"sales\", \"vote\", \"q1\", \"call\", \"stocks\", \"quarter\", \"team\", \"hertz\", \"board\", \"recall\", \"get\", \"firstquarter\", \"proxy\", \"teslas\", \"grandson\", \"per\", \"founder\", \"profit\", \"fast\", \"robotaxi\", \"growth\", \"inc\", \"reported\", \"reelection\", \"members\", \"cuts\", \"power\", \"drove\", \"supercharger\", \"actually\", \"elon\", \"electric\", \"bmw\", \"demand\", \"concerns\", \"ev\", \"vehicles\", \"first\", \"earnings\", \"company\", \"toyoda\", \"car\", \"musk\", \"despite\", \"year\", \"us\", \"week\", \"chairman\", \"evs\", \"akio\", \"vehicle\", \"new\", \"future\", \"cars\", \"price\", \"said\"], \"Freq\": [24.0, 17.0, 14.0, 12.0, 11.0, 10.0, 11.0, 27.0, 9.0, 9.0, 10.0, 24.0, 8.0, 9.0, 8.0, 8.0, 8.0, 8.0, 8.0, 8.0, 8.0, 8.0, 9.0, 9.0, 7.0, 7.0, 8.0, 7.0, 7.0, 8.0, 23.668213656080813, 16.513610040752585, 11.714946153166988, 10.89601762423406, 10.100022121566921, 9.305712772508667, 9.302110520737143, 8.480238093009877, 7.687196996680492, 7.687196996680492, 7.686248500609021, 7.686094665806642, 7.675286665763088, 7.671125873344434, 7.652875011064704, 6.8775432573534, 6.8767577561099555, 6.8682970513224895, 6.868297051304016, 6.8566642587497695, 6.0686395408640506, 6.068501330195291, 6.068399792833277, 6.0681034361376796, 6.067809806442443, 8.324235024547866, 5.259832492104715, 5.2596313229902325, 5.2590975333144625, 5.257171084341199, 7.796114118706192, 5.904494343133077, 23.870043313606132, 9.303506493796359, 10.68578013653773, 14.885561684215178, 7.56040447166148, 8.41045525667763, 13.5275165658152, 9.621650435440293, 9.79418686353293, 7.840588858827169, 7.741535591918923, 7.7414778232175845, 10.194083171522326, 8.772850877711019, 7.67159932070039, 13.673365666930483, 11.172408603043987, 10.357812575040718, 7.8580577361109665, 8.63605894517059, 7.850592266833022, 9.41236395116578, 8.621777362516363, 7.0435816123773645, 7.043420011081535, 7.0393997523537255, 7.015483982265847, 6.214685384500443, 6.214515878645458, 6.2144130349431235, 6.214406305717041, 6.214381019675829, 5.385749773072084, 5.385670696133535, 5.3854961689275855, 5.384865506586808, 5.374061880285309, 5.369170090124544, 5.332159912258172, 4.5573040528136515, 4.556849175320438, 4.556778599462397, 4.556718628580839, 4.55662295277441, 4.556538542418215, 5.278546810758233, 20.732335159923718, 22.63011999108978, 7.3753358873442965, 10.708178085542718, 5.9227496037127585, 19.570273266015672, 10.393947232088024, 12.137682022497167, 14.181880848271808, 16.7731942187714, 11.381767434834813, 23.539616560714904, 18.365014200284236, 7.11978119701162, 10.706943560562614, 14.107769846090344, 11.928267957877422, 11.354117134319313, 9.283590908746257, 8.844133127292594, 15.153561680838918, 11.192432212602007, 7.647390904952351, 7.938790746865337, 8.182853527594334, 8.016723877521795], \"Total\": [24.0, 17.0, 14.0, 12.0, 11.0, 10.0, 11.0, 27.0, 9.0, 9.0, 10.0, 24.0, 8.0, 9.0, 8.0, 8.0, 8.0, 8.0, 8.0, 8.0, 8.0, 8.0, 9.0, 9.0, 7.0, 7.0, 8.0, 7.0, 7.0, 8.0, 24.293582974549103, 17.006809410850696, 12.149655701925967, 11.340590413396086, 10.530973893431025, 9.721316844106134, 9.721403429905617, 8.912408902623655, 8.102721368845309, 8.102721368845309, 8.102744167443479, 8.10274786510544, 8.103007652422923, 8.103107663627275, 8.103546351870646, 7.29343314612758, 7.293452026888133, 7.293655393264138, 7.293655393264582, 7.2939350057701615, 6.484126895428698, 6.484130217539982, 6.484132658150529, 6.484139781550848, 6.484146839403415, 8.916158682278962, 5.674818321168555, 5.674823156585319, 5.6748359870615745, 5.674882292299271, 8.928852900718837, 6.488072383995211, 35.06247552620814, 11.37886892866435, 13.83189238256448, 21.189689752295312, 8.934518553630708, 11.400334822850176, 28.681078246654117, 15.514969470472199, 17.16832133862879, 10.585282933407301, 11.416413361399474, 11.416414749961275, 33.73369973223723, 27.137865077995254, 11.41809438991754, 14.078992081701132, 11.592398258805224, 10.76398094852501, 8.277415344710874, 9.104973687472219, 8.277240112374486, 9.932492216309706, 9.104638464728309, 7.449000848869321, 7.448997055702195, 7.448902690659147, 7.4483413306008535, 6.6202478788547445, 6.620243900148797, 6.620241486162271, 6.620241328211318, 6.620240734687734, 5.791493984414459, 5.791492128290458, 5.791488031721447, 5.7914732285749455, 5.79121964174633, 5.7911048197857635, 5.79023610280414, 4.962751588886174, 4.962740911828517, 4.962739255245117, 4.962737847585757, 4.962735601846808, 4.962733620534803, 5.788977675679689, 24.765541329812002, 27.237977264484435, 8.266084713744664, 12.390798465667256, 6.613395451092396, 24.738264970738847, 12.383422719473662, 14.852242732955585, 18.137412154899714, 22.244720459940858, 14.025202815778105, 33.73369973223723, 27.137865077995254, 8.260086236784963, 14.009363092952452, 20.56356300003678, 16.465920890849915, 15.643147401925663, 12.357360013232837, 11.537748090659212, 28.681078246654117, 35.06247552620814, 9.891064097191823, 13.135091154243437, 15.568710295515022, 13.94621723261152], \"Category\": [\"Default\", \"Default\", \"Default\", \"Default\", \"Default\", \"Default\", \"Default\", \"Default\", \"Default\", \"Default\", \"Default\", \"Default\", \"Default\", \"Default\", \"Default\", \"Default\", \"Default\", \"Default\", \"Default\", \"Default\", \"Default\", \"Default\", \"Default\", \"Default\", \"Default\", \"Default\", \"Default\", \"Default\", \"Default\", \"Default\", \"Topic1\", \"Topic1\", \"Topic1\", \"Topic1\", \"Topic1\", \"Topic1\", \"Topic1\", \"Topic1\", \"Topic1\", \"Topic1\", \"Topic1\", \"Topic1\", \"Topic1\", \"Topic1\", \"Topic1\", \"Topic1\", \"Topic1\", \"Topic1\", \"Topic1\", \"Topic1\", \"Topic1\", \"Topic1\", \"Topic1\", \"Topic1\", \"Topic1\", \"Topic1\", \"Topic1\", \"Topic1\", \"Topic1\", \"Topic1\", \"Topic1\", \"Topic1\", \"Topic1\", \"Topic1\", \"Topic1\", \"Topic1\", \"Topic1\", \"Topic1\", \"Topic1\", \"Topic1\", \"Topic1\", \"Topic1\", \"Topic1\", \"Topic1\", \"Topic1\", \"Topic1\", \"Topic1\", \"Topic2\", \"Topic2\", \"Topic2\", \"Topic2\", \"Topic2\", \"Topic2\", \"Topic2\", \"Topic2\", \"Topic2\", \"Topic2\", \"Topic2\", \"Topic2\", \"Topic2\", \"Topic2\", \"Topic2\", \"Topic2\", \"Topic2\", \"Topic2\", \"Topic2\", \"Topic2\", \"Topic2\", \"Topic2\", \"Topic2\", \"Topic2\", \"Topic2\", \"Topic2\", \"Topic2\", \"Topic2\", \"Topic2\", \"Topic2\", \"Topic2\", \"Topic2\", \"Topic2\", \"Topic2\", \"Topic2\", \"Topic2\", \"Topic2\", \"Topic2\", \"Topic2\", \"Topic2\", \"Topic2\", \"Topic2\", \"Topic2\", \"Topic2\", \"Topic2\", \"Topic2\", \"Topic2\", \"Topic2\", \"Topic2\", \"Topic2\", \"Topic2\", \"Topic2\", \"Topic2\", \"Topic2\", \"Topic2\", \"Topic2\", \"Topic2\"], \"logprob\": [30.0, 29.0, 28.0, 27.0, 26.0, 25.0, 24.0, 23.0, 22.0, 21.0, 20.0, 19.0, 18.0, 17.0, 16.0, 15.0, 14.0, 13.0, 12.0, 11.0, 10.0, 9.0, 8.0, 7.0, 6.0, 5.0, 4.0, 3.0, 2.0, 1.0, -4.2951, -4.6551, -4.9984, -5.0709, -5.1467, -5.2286, -5.229, -5.3215, -5.4197, -5.4197, -5.4198, -5.4198, -5.4213, -5.4218, -5.4242, -5.531, -5.5311, -5.5323, -5.5323, -5.534, -5.6561, -5.6561, -5.6562, -5.6562, -5.6563, -5.3401, -5.7992, -5.7992, -5.7993, -5.7997, -5.4056, -5.6835, -4.2866, -5.2289, -5.0903, -4.7589, -5.4363, -5.3298, -4.8545, -5.1952, -5.1775, -5.3999, -5.4127, -5.4127, -5.1375, -5.2876, -5.4217, -4.9119, -5.1139, -5.1896, -5.4658, -5.3714, -5.4667, -5.2853, -5.373, -5.5752, -5.5752, -5.5758, -5.5792, -5.7004, -5.7004, -5.7005, -5.7005, -5.7005, -5.8436, -5.8436, -5.8436, -5.8437, -5.8457, -5.8467, -5.8536, -6.0106, -6.0107, -6.0107, -6.0107, -6.0107, -6.0108, -5.8637, -4.4956, -4.408, -5.5292, -5.1563, -5.7485, -4.5533, -5.1861, -5.031, -4.8754, -4.7075, -5.0953, -4.3686, -4.6169, -5.5645, -5.1564, -4.8806, -5.0484, -5.0977, -5.2991, -5.3476, -4.8091, -5.1121, -5.493, -5.4556, -5.4253, -5.4458], \"loglift\": [30.0, 29.0, 28.0, 27.0, 26.0, 25.0, 24.0, 23.0, 22.0, 21.0, 20.0, 19.0, 18.0, 17.0, 16.0, 15.0, 14.0, 13.0, 12.0, 11.0, 10.0, 9.0, 8.0, 7.0, 6.0, 5.0, 4.0, 3.0, 2.0, 1.0, 0.7017, 0.6983, 0.6913, 0.6878, 0.686, 0.6841, 0.6837, 0.6781, 0.6751, 0.6751, 0.675, 0.675, 0.6735, 0.673, 0.6705, 0.669, 0.6689, 0.6677, 0.6677, 0.6659, 0.6615, 0.6615, 0.6615, 0.6614, 0.6614, 0.6591, 0.6518, 0.6518, 0.6517, 0.6513, 0.5921, 0.6335, 0.3433, 0.5264, 0.4697, 0.3746, 0.5608, 0.4236, -0.0237, 0.25, 0.1665, 0.4276, 0.3393, 0.3393, -0.4689, -0.4015, 0.3301, 0.6305, 0.6228, 0.6212, 0.6077, 0.6068, 0.6068, 0.6059, 0.6052, 0.6037, 0.6037, 0.6031, 0.5998, 0.5965, 0.5964, 0.5964, 0.5964, 0.5964, 0.5871, 0.587, 0.587, 0.5869, 0.5849, 0.584, 0.5773, 0.5745, 0.5744, 0.5743, 0.5743, 0.5743, 0.5743, 0.5674, 0.4819, 0.4744, 0.5457, 0.5137, 0.5494, 0.4254, 0.4846, 0.4579, 0.4137, 0.3774, 0.4508, 0.2999, 0.2692, 0.5111, 0.3909, 0.2829, 0.3373, 0.3392, 0.3737, 0.3938, 0.0217, -0.4822, 0.4024, 0.1562, 0.0165, 0.106]}, \"token.table\": {\"Topic\": [1, 2, 1, 2, 1, 2, 1, 1, 2, 2, 2, 1, 2, 1, 2, 1, 1, 2, 1, 1, 2, 1, 2, 1, 1, 2, 1, 2, 1, 2, 1, 2, 1, 2, 1, 2, 1, 2, 1, 2, 1, 2, 1, 2, 1, 1, 2, 1, 2, 2, 1, 1, 2, 2, 1, 2, 1, 2, 1, 1, 2, 2, 1, 2, 2, 2, 2, 1, 2, 1, 2, 1, 1, 2, 1, 2, 1, 1, 1, 2, 1, 1, 2, 1, 1, 2, 1, 2, 1, 1, 2, 2, 1, 2, 1, 2, 2, 1, 1, 2, 2, 2, 2, 1, 2, 2, 2, 2, 1, 1, 2, 1, 2, 2, 1, 1, 2, 1, 1, 2, 2, 1, 2, 2, 2, 1, 1, 2, 1, 1, 1, 2, 1, 2, 1, 2, 2, 1, 2, 1, 2, 1, 2], \"Freq\": [0.17274207226625538, 0.863710361331277, 0.7007453894426126, 0.3503726947213063, 0.2600160773512428, 0.7800482320537285, 0.9872877261331325, 0.12097625836536878, 0.8468338085575815, 0.9397238242484619, 0.9884707313743636, 0.29643946793193315, 0.7114547230366396, 0.3806597107919342, 0.6090555372670947, 0.9597674866899443, 0.2557030178918855, 0.7031832992026851, 0.9995996067994769, 0.22477243573387182, 0.7642262814951641, 0.15120825714948297, 0.9072495428968979, 0.9872220942073413, 0.7007454746732581, 0.35037273733662905, 0.9247738996871877, 0.15412898328119795, 0.8810755435024483, 1.0075081004337478, 0.6445388125984917, 0.386723287559095, 0.16141009843244983, 0.887755541378474, 0.12106411135838524, 0.8474487795086967, 0.9253337638097104, 1.0075088421271776, 0.2205386284348963, 0.7718851995221371, 0.18356722863263028, 0.8444092517100993, 0.1615147412580448, 0.8479523916047351, 0.9699671356621995, 0.20211603384126364, 0.8084641353650546, 0.24277030019255408, 0.7283109005776622, 0.863335980772771, 0.9872755407051916, 0.20198969636708883, 0.8079587854683553, 0.9063104750449249, 0.8810854756968507, 0.8633350934069075, 0.7952635616125696, 0.21689006225797355, 0.9257922546773042, 0.2022027135146987, 0.8088108540587948, 0.9398065541439565, 0.8954035913607288, 0.1119254489200911, 0.9063113718274531, 0.8633759914677076, 0.939723345723947, 0.9597650021133629, 0.8633931098807102, 0.7557662889436699, 0.28341235835387624, 0.9253347710164488, 0.7006423074470464, 0.3503211537235232, 0.5824681285234312, 0.40772768996640185, 0.9597382413302203, 0.9258005005213408, 0.9253357875795498, 1.0075077641233854, 0.9873226087669423, 0.9879152048153345, 0.04116313353397227, 0.9873198307486615, 0.7078914403819985, 0.2831565761527994, 0.3316399419826747, 0.6632798839653494, 0.9495797920682119, 0.6844924563886177, 0.31372570917811643, 0.906311453080869, 0.7017337757453631, 0.2631501659045112, 0.8959717545974962, 0.11199646932468703, 1.0075083862091103, 0.925336609965174, 0.4496197737083293, 0.5138511699523763, 0.8633353700984668, 0.9063110197292193, 0.9664852694762819, 0.10067966611219129, 0.9061169950097215, 0.9397357289655472, 1.0075055965318194, 0.8635226459208739, 0.9873193801885499, 0.8810827328577995, 0.8633381874805461, 0.4302241891062571, 0.5736322521416761, 0.9488976960953479, 0.8810847249394506, 0.987682309227722, 0.9943893652867523, 0.8976248831721514, 0.7909397723466368, 0.1757643938548082, 0.9665057303387863, 0.9253361358736475, 1.0075092443630251, 0.9885071257761984, 0.9063113502039601, 0.959701449829532, 0.2139006500943468, 0.7843023836792716, 0.9597382413301618, 0.9873226087669423, 0.29177822928785585, 0.6808158683383303, 0.48812669731596353, 0.5229928899813895, 0.16150623662833394, 0.8075311831416697, 0.9290243124566568, 0.30365747735242016, 0.7287779456458083, 0.8972473780553227, 0.11215592225691534, 0.21414249742082705, 0.7851891572096992], \"Term\": [\"actually\", \"actually\", \"ai\", \"ai\", \"akio\", \"akio\", \"awd\", \"bmw\", \"bmw\", \"board\", \"call\", \"car\", \"car\", \"cars\", \"cars\", \"certification\", \"chairman\", \"chairman\", \"china\", \"company\", \"company\", \"concerns\", \"concerns\", \"corp\", \"could\", \"could\", \"crash\", \"crash\", \"cryptocurrency\", \"cuts\", \"cybertruck\", \"cybertruck\", \"demand\", \"demand\", \"despite\", \"despite\", \"dogecoin\", \"drove\", \"earnings\", \"earnings\", \"electric\", \"electric\", \"elon\", \"elon\", \"engines\", \"ev\", \"ev\", \"evs\", \"evs\", \"fast\", \"features\", \"first\", \"first\", \"firstquarter\", \"foundation\", \"founder\", \"fsd\", \"fsd\", \"full\", \"future\", \"future\", \"get\", \"going\", \"going\", \"grandson\", \"growth\", \"hertz\", \"honda\", \"inc\", \"including\", \"including\", \"japans\", \"last\", \"last\", \"market\", \"market\", \"mart\", \"mazda\", \"mechanic\", \"members\", \"ministry\", \"model\", \"model\", \"monday\", \"motor\", \"motor\", \"musk\", \"musk\", \"nascar\", \"new\", \"new\", \"per\", \"performance\", \"performance\", \"picks\", \"picks\", \"power\", \"prediction\", \"price\", \"price\", \"profit\", \"proxy\", \"q1\", \"quarter\", \"quarter\", \"recall\", \"reelection\", \"reported\", \"revealed\", \"reveals\", \"robotaxi\", \"said\", \"said\", \"sales\", \"selfdriving\", \"series\", \"shareholders\", \"sonoma\", \"stock\", \"stock\", \"stocks\", \"subaru\", \"supercharger\", \"team\", \"teslas\", \"three\", \"toyoda\", \"toyoda\", \"toyotasave\", \"transport\", \"us\", \"us\", \"vehicle\", \"vehicle\", \"vehicles\", \"vehicles\", \"vote\", \"week\", \"week\", \"world\", \"world\", \"year\", \"year\"]}, \"R\": 30, \"lambda.step\": 0.01, \"plot.opts\": {\"xlab\": \"PC1\", \"ylab\": \"PC2\"}, \"topic.order\": [1, 2]};\n",
       "\n",
       "function LDAvis_load_lib(url, callback){\n",
       "  var s = document.createElement('script');\n",
       "  s.src = url;\n",
       "  s.async = true;\n",
       "  s.onreadystatechange = s.onload = callback;\n",
       "  s.onerror = function(){console.warn(\"failed to load library \" + url);};\n",
       "  document.getElementsByTagName(\"head\")[0].appendChild(s);\n",
       "}\n",
       "\n",
       "if(typeof(LDAvis) !== \"undefined\"){\n",
       "   // already loaded: just create the visualization\n",
       "   !function(LDAvis){\n",
       "       new LDAvis(\"#\" + \"ldavis_el6972245325559841970368141\", ldavis_el6972245325559841970368141_data);\n",
       "   }(LDAvis);\n",
       "}else if(typeof define === \"function\" && define.amd){\n",
       "   // require.js is available: use it to load d3/LDAvis\n",
       "   require.config({paths: {d3: \"https://d3js.org/d3.v5\"}});\n",
       "   require([\"d3\"], function(d3){\n",
       "      window.d3 = d3;\n",
       "      LDAvis_load_lib(\"https://cdn.jsdelivr.net/gh/bmabey/pyLDAvis@3.4.0/pyLDAvis/js/ldavis.v3.0.0.js\", function(){\n",
       "        new LDAvis(\"#\" + \"ldavis_el6972245325559841970368141\", ldavis_el6972245325559841970368141_data);\n",
       "      });\n",
       "    });\n",
       "}else{\n",
       "    // require.js not available: dynamically load d3 & LDAvis\n",
       "    LDAvis_load_lib(\"https://d3js.org/d3.v5.js\", function(){\n",
       "         LDAvis_load_lib(\"https://cdn.jsdelivr.net/gh/bmabey/pyLDAvis@3.4.0/pyLDAvis/js/ldavis.v3.0.0.js\", function(){\n",
       "                 new LDAvis(\"#\" + \"ldavis_el6972245325559841970368141\", ldavis_el6972245325559841970368141_data);\n",
       "            })\n",
       "         });\n",
       "}\n",
       "</script>"
      ],
      "text/plain": [
       "<IPython.core.display.HTML object>"
      ]
     },
     "execution_count": 232,
     "metadata": {},
     "output_type": "execute_result"
    }
   ],
   "source": [
    "# pyLDAvis display visual\n",
    "lda_display = pyLDAvis.lda_model.prepare(lda_text_model, count_text_vectors, count_text_vectorizer, sort_topics=False)\n",
    "pyLDAvis.display(lda_display)"
   ]
  },
  {
   "cell_type": "markdown",
   "metadata": {
    "id": "oxMxNtDIikP4"
   },
   "source": [
    "### Try LDA with Identifying the Optimal Num of Topics\n"
   ]
  },
  {
   "cell_type": "code",
   "execution_count": 233,
   "metadata": {
    "colab": {
     "base_uri": "https://localhost:8080/",
     "height": 105,
     "referenced_widgets": [
      "e1cb4b400f1243019f57b5d2212e1a0b",
      "18b535c52037426fa4799d5fee4709d3",
      "93ebf6dda279465690711b2a330e7a02",
      "19692e114c2c43339182448738f17154",
      "be4e16462ae04310bdb164f7e3f7e02d",
      "41457e69e879423ab6ed56d4e4db7b68",
      "b33ec8155c8e407790a04679c420c858",
      "00d922b7db914b71bd261a7ffcb4e63b",
      "fc4867028def40c485edb9f81ba96d94",
      "0a67a27fbd904be5be0669ed23c68fb7",
      "df868fe190004e0d9fd9d022fb58aebd"
     ]
    },
    "id": "rpZ7MSJGjL7r",
    "outputId": "295a8138-b563-4a14-859d-b56635e19781"
   },
   "outputs": [
    {
     "data": {
      "application/vnd.jupyter.widget-view+json": {
       "model_id": "7dc2a22f9b9d4100ab43db59e47d66d4",
       "version_major": 2,
       "version_minor": 0
      },
      "text/plain": [
       "  0%|          | 0/13 [00:00<?, ?it/s]"
      ]
     },
     "metadata": {},
     "output_type": "display_data"
    }
   ],
   "source": [
    "lda_text_model_n = []\n",
    "perplexities = []\n",
    "for n in tqdm(range(2, 15)):\n",
    "    lda_model = LatentDirichletAllocation(n_components=n, random_state=42)\n",
    "    lda_model.fit_transform(count_text_vectors)\n",
    "    lda_perplexity = lda_model.perplexity(tfidf_text_vectors)\n",
    "    lda_text_model_n.append((n, lda_model, lda_perplexity))\n",
    "    perplexities.append(lda_perplexity)"
   ]
  },
  {
   "cell_type": "code",
   "execution_count": 234,
   "metadata": {
    "colab": {
     "base_uri": "https://localhost:8080/",
     "height": 620
    },
    "id": "kYiiRTx_jnT4",
    "outputId": "479c6b3d-7bb5-4a6b-800f-b69fa0df1648"
   },
   "outputs": [
    {
     "data": {
      "image/png": "[encoded data removed]",
      "text/plain": [
       "<Figure size 1000x600 with 1 Axes>"
      ]
     },
     "metadata": {},
     "output_type": "display_data"
    }
   ],
   "source": [
    "# Plotting the perplexity\n",
    "plt.figure(figsize=(10, 6))\n",
    "plt.plot(range(2, 15), perplexities, marker='o')\n",
    "plt.title('LDA Perplexity Scores for Different Number of Topics')\n",
    "plt.xlabel('Number of Topics')\n",
    "plt.ylabel('Perplexity')\n",
    "plt.xticks(range(2, 15))\n",
    "plt.grid(True)\n",
    "plt.show()"
   ]
  },
  {
   "cell_type": "code",
   "execution_count": 235,
   "metadata": {
    "colab": {
     "base_uri": "https://localhost:8080/"
    },
    "id": "ECfafjowj_Df",
    "outputId": "c4938ae7-c728-4c08-fb52-8499a6f04e77"
   },
   "outputs": [
    {
     "name": "stdout",
     "output_type": "stream",
     "text": [
      "Optimal number of topics: 2, Perplexity: 3283.3449938469553\n"
     ]
    }
   ],
   "source": [
    "# Find the model with the lowest perplexity\n",
    "best_n, best_lda_model, best_perplexity = min(lda_text_model_n, key=lambda x: x[2])\n",
    "print(f'Optimal number of topics: {best_n}, Perplexity: {best_perplexity}')"
   ]
  },
  {
   "cell_type": "markdown",
   "metadata": {
    "id": "rbXtn3EvkC0b"
   },
   "source": [
    "Result: Based on this simple LDA analysis, it does seem like 2 components is optimal as it results in the lowest perplexity for LDA topic modeling. Thus, we will not try going back and changing the number of components in the 3 aforementioned topic models."
   ]
  }
 ],
 "metadata": {
  "colab": {
   "collapsed_sections": [
    "FX9WmL2R6MRI",
    "1V9wAm3G6MRJ",
    "PVOT2hhv6MRK",
    "BQDWP71J6MRL",
    "5SI6b21Q6MRR",
    "_E23VT-a6MRU"
   ],
   "provenance": [],
   "toc_visible": true
  },
  "kernelspec": {
   "display_name": "Python 3 (ipykernel)",
   "language": "python",
   "name": "python3"
  },
  "language_info": {
   "codemirror_mode": {
    "name": "ipython",
    "version": 3
   },
   "file_extension": ".py",
   "mimetype": "text/x-python",
   "name": "python",
   "nbconvert_exporter": "python",
   "pygments_lexer": "ipython3",
   "version": "3.12.3"
  },
  "vscode": {
   "interpreter": {
    "hash": "aee8b7b246df8f9039afb4144a1f6fd8d2ca17a180786b69acc140d282b71a49"
   }
  },
  "widgets": {
   "application/vnd.jupyter.widget-state+json": {
    "00d922b7db914b71bd261a7ffcb4e63b": {
     "model_module": "@jupyter-widgets/base",
     "model_module_version": "1.2.0",
     "model_name": "LayoutModel",
     "state": {
      "_model_module": "@jupyter-widgets/base",
      "_model_module_version": "1.2.0",
      "_model_name": "LayoutModel",
      "_view_count": null,
      "_view_module": "@jupyter-widgets/base",
      "_view_module_version": "1.2.0",
      "_view_name": "LayoutView",
      "align_content": null,
      "align_items": null,
      "align_self": null,
      "border": null,
      "bottom": null,
      "display": null,
      "flex": null,
      "flex_flow": null,
      "grid_area": null,
      "grid_auto_columns": null,
      "grid_auto_flow": null,
      "grid_auto_rows": null,
      "grid_column": null,
      "grid_gap": null,
      "grid_row": null,
      "grid_template_areas": null,
      "grid_template_columns": null,
      "grid_template_rows": null,
      "height": null,
      "justify_content": null,
      "justify_items": null,
      "left": null,
      "margin": null,
      "max_height": null,
      "max_width": null,
      "min_height": null,
      "min_width": null,
      "object_fit": null,
      "object_position": null,
      "order": null,
      "overflow": null,
      "overflow_x": null,
      "overflow_y": null,
      "padding": null,
      "right": null,
      "top": null,
      "visibility": null,
      "width": null
     }
    },
    "0a67a27fbd904be5be0669ed23c68fb7": {
     "model_module": "@jupyter-widgets/base",
     "model_module_version": "1.2.0",
     "model_name": "LayoutModel",
     "state": {
      "_model_module": "@jupyter-widgets/base",
      "_model_module_version": "1.2.0",
      "_model_name": "LayoutModel",
      "_view_count": null,
      "_view_module": "@jupyter-widgets/base",
      "_view_module_version": "1.2.0",
      "_view_name": "LayoutView",
      "align_content": null,
      "align_items": null,
      "align_self": null,
      "border": null,
      "bottom": null,
      "display": null,
      "flex": null,
      "flex_flow": null,
      "grid_area": null,
      "grid_auto_columns": null,
      "grid_auto_flow": null,
      "grid_auto_rows": null,
      "grid_column": null,
      "grid_gap": null,
      "grid_row": null,
      "grid_template_areas": null,
      "grid_template_columns": null,
      "grid_template_rows": null,
      "height": null,
      "justify_content": null,
      "justify_items": null,
      "left": null,
      "margin": null,
      "max_height": null,
      "max_width": null,
      "min_height": null,
      "min_width": null,
      "object_fit": null,
      "object_position": null,
      "order": null,
      "overflow": null,
      "overflow_x": null,
      "overflow_y": null,
      "padding": null,
      "right": null,
      "top": null,
      "visibility": null,
      "width": null
     }
    },
    "18b535c52037426fa4799d5fee4709d3": {
     "model_module": "@jupyter-widgets/controls",
     "model_module_version": "1.5.0",
     "model_name": "HTMLModel",
     "state": {
      "_dom_classes": [],
      "_model_module": "@jupyter-widgets/controls",
      "_model_module_version": "1.5.0",
      "_model_name": "HTMLModel",
      "_view_count": null,
      "_view_module": "@jupyter-widgets/controls",
      "_view_module_version": "1.5.0",
      "_view_name": "HTMLView",
      "description": "",
      "description_tooltip": null,
      "layout": "IPY_MODEL_41457e69e879423ab6ed56d4e4db7b68",
      "placeholder": "​",
      "style": "IPY_MODEL_b33ec8155c8e407790a04679c420c858",
      "value": "100%"
     }
    },
    "19692e114c2c43339182448738f17154": {
     "model_module": "@jupyter-widgets/controls",
     "model_module_version": "1.5.0",
     "model_name": "HTMLModel",
     "state": {
      "_dom_classes": [],
      "_model_module": "@jupyter-widgets/controls",
      "_model_module_version": "1.5.0",
      "_model_name": "HTMLModel",
      "_view_count": null,
      "_view_module": "@jupyter-widgets/controls",
      "_view_module_version": "1.5.0",
      "_view_name": "HTMLView",
      "description": "",
      "description_tooltip": null,
      "layout": "IPY_MODEL_0a67a27fbd904be5be0669ed23c68fb7",
      "placeholder": "​",
      "style": "IPY_MODEL_df868fe190004e0d9fd9d022fb58aebd",
      "value": " 13/13 [00:12&lt;00:00,  1.01it/s]"
     }
    },
    "41457e69e879423ab6ed56d4e4db7b68": {
     "model_module": "@jupyter-widgets/base",
     "model_module_version": "1.2.0",
     "model_name": "LayoutModel",
     "state": {
      "_model_module": "@jupyter-widgets/base",
      "_model_module_version": "1.2.0",
      "_model_name": "LayoutModel",
      "_view_count": null,
      "_view_module": "@jupyter-widgets/base",
      "_view_module_version": "1.2.0",
      "_view_name": "LayoutView",
      "align_content": null,
      "align_items": null,
      "align_self": null,
      "border": null,
      "bottom": null,
      "display": null,
      "flex": null,
      "flex_flow": null,
      "grid_area": null,
      "grid_auto_columns": null,
      "grid_auto_flow": null,
      "grid_auto_rows": null,
      "grid_column": null,
      "grid_gap": null,
      "grid_row": null,
      "grid_template_areas": null,
      "grid_template_columns": null,
      "grid_template_rows": null,
      "height": null,
      "justify_content": null,
      "justify_items": null,
      "left": null,
      "margin": null,
      "max_height": null,
      "max_width": null,
      "min_height": null,
      "min_width": null,
      "object_fit": null,
      "object_position": null,
      "order": null,
      "overflow": null,
      "overflow_x": null,
      "overflow_y": null,
      "padding": null,
      "right": null,
      "top": null,
      "visibility": null,
      "width": null
     }
    },
    "93ebf6dda279465690711b2a330e7a02": {
     "model_module": "@jupyter-widgets/controls",
     "model_module_version": "1.5.0",
     "model_name": "FloatProgressModel",
     "state": {
      "_dom_classes": [],
      "_model_module": "@jupyter-widgets/controls",
      "_model_module_version": "1.5.0",
      "_model_name": "FloatProgressModel",
      "_view_count": null,
      "_view_module": "@jupyter-widgets/controls",
      "_view_module_version": "1.5.0",
      "_view_name": "ProgressView",
      "bar_style": "success",
      "description": "",
      "description_tooltip": null,
      "layout": "IPY_MODEL_00d922b7db914b71bd261a7ffcb4e63b",
      "max": 13,
      "min": 0,
      "orientation": "horizontal",
      "style": "IPY_MODEL_fc4867028def40c485edb9f81ba96d94",
      "value": 13
     }
    },
    "b33ec8155c8e407790a04679c420c858": {
     "model_module": "@jupyter-widgets/controls",
     "model_module_version": "1.5.0",
     "model_name": "DescriptionStyleModel",
     "state": {
      "_model_module": "@jupyter-widgets/controls",
      "_model_module_version": "1.5.0",
      "_model_name": "DescriptionStyleModel",
      "_view_count": null,
      "_view_module": "@jupyter-widgets/base",
      "_view_module_version": "1.2.0",
      "_view_name": "StyleView",
      "description_width": ""
     }
    },
    "be4e16462ae04310bdb164f7e3f7e02d": {
     "model_module": "@jupyter-widgets/base",
     "model_module_version": "1.2.0",
     "model_name": "LayoutModel",
     "state": {
      "_model_module": "@jupyter-widgets/base",
      "_model_module_version": "1.2.0",
      "_model_name": "LayoutModel",
      "_view_count": null,
      "_view_module": "@jupyter-widgets/base",
      "_view_module_version": "1.2.0",
      "_view_name": "LayoutView",
      "align_content": null,
      "align_items": null,
      "align_self": null,
      "border": null,
      "bottom": null,
      "display": null,
      "flex": null,
      "flex_flow": null,
      "grid_area": null,
      "grid_auto_columns": null,
      "grid_auto_flow": null,
      "grid_auto_rows": null,
      "grid_column": null,
      "grid_gap": null,
      "grid_row": null,
      "grid_template_areas": null,
      "grid_template_columns": null,
      "grid_template_rows": null,
      "height": null,
      "justify_content": null,
      "justify_items": null,
      "left": null,
      "margin": null,
      "max_height": null,
      "max_width": null,
      "min_height": null,
      "min_width": null,
      "object_fit": null,
      "object_position": null,
      "order": null,
      "overflow": null,
      "overflow_x": null,
      "overflow_y": null,
      "padding": null,
      "right": null,
      "top": null,
      "visibility": null,
      "width": null
     }
    },
    "df868fe190004e0d9fd9d022fb58aebd": {
     "model_module": "@jupyter-widgets/controls",
     "model_module_version": "1.5.0",
     "model_name": "DescriptionStyleModel",
     "state": {
      "_model_module": "@jupyter-widgets/controls",
      "_model_module_version": "1.5.0",
      "_model_name": "DescriptionStyleModel",
      "_view_count": null,
      "_view_module": "@jupyter-widgets/base",
      "_view_module_version": "1.2.0",
      "_view_name": "StyleView",
      "description_width": ""
     }
    },
    "e1cb4b400f1243019f57b5d2212e1a0b": {
     "model_module": "@jupyter-widgets/controls",
     "model_module_version": "1.5.0",
     "model_name": "HBoxModel",
     "state": {
      "_dom_classes": [],
      "_model_module": "@jupyter-widgets/controls",
      "_model_module_version": "1.5.0",
      "_model_name": "HBoxModel",
      "_view_count": null,
      "_view_module": "@jupyter-widgets/controls",
      "_view_module_version": "1.5.0",
      "_view_name": "HBoxView",
      "box_style": "",
      "children": [
       "IPY_MODEL_18b535c52037426fa4799d5fee4709d3",
       "IPY_MODEL_93ebf6dda279465690711b2a330e7a02",
       "IPY_MODEL_19692e114c2c43339182448738f17154"
      ],
      "layout": "IPY_MODEL_be4e16462ae04310bdb164f7e3f7e02d"
     }
    },
    "fc4867028def40c485edb9f81ba96d94": {
     "model_module": "@jupyter-widgets/controls",
     "model_module_version": "1.5.0",
     "model_name": "ProgressStyleModel",
     "state": {
      "_model_module": "@jupyter-widgets/controls",
      "_model_module_version": "1.5.0",
      "_model_name": "ProgressStyleModel",
      "_view_count": null,
      "_view_module": "@jupyter-widgets/base",
      "_view_module_version": "1.2.0",
      "_view_name": "StyleView",
      "bar_color": null,
      "description_width": ""
     }
    }
   }
  }
 },
 "nbformat": 4,
 "nbformat_minor": 1
}
